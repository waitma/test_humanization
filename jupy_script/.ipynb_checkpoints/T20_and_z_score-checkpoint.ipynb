{
 "cells": [
  {
   "cell_type": "code",
   "execution_count": 2,
   "id": "013bde2d-f039-48ba-8e02-87a25d035c9e",
   "metadata": {},
   "outputs": [],
   "source": [
    "import requests\n",
    "from bs4 import BeautifulSoup\n",
    "import json\n",
    "import pandas as pd\n",
    "import time\n",
    "from tqdm import tqdm"
   ]
  },
  {
   "cell_type": "code",
   "execution_count": 3,
   "id": "14b388ca-a72b-4b02-8684-5291c3c28b97",
   "metadata": {},
   "outputs": [],
   "source": [
    "# Define Sample Path, Define Humanized Path\n",
    "sample_fpath = '/data/home/waitma/antibody_proj/antidiff/checkpoints/batch_one_sample_2023_11_16__22_44_23/sample_humanization_result.csv'\n",
    "humanized_fpath = '/data/home/waitma/antibody_proj/antidiff/data/lab_data/humanization_pair_data.xlsx'"
   ]
  },
  {
   "cell_type": "code",
   "execution_count": 4,
   "id": "793ffd24-fd21-4a90-9b72-87306ff37e1d",
   "metadata": {},
   "outputs": [],
   "source": [
    "# Get DataFrame from the fpath.\n",
    "sample_df = pd.read_csv(sample_fpath)\n",
    "humanized_df = pd.read_excel(humanized_fpath)"
   ]
  },
  {
   "cell_type": "code",
   "execution_count": 5,
   "id": "d1195bc3-fabd-4b7b-8906-1be2b61cb1ae",
   "metadata": {},
   "outputs": [],
   "source": [
    "# Define deal out-of-order table.\n",
    "def regular_order_table(out_of_order_table):\n",
    "    all_table_data = []\n",
    "    for table in out_of_order_table:\n",
    "        table_data = []\n",
    "        for row in table.find_all('tr'):\n",
    "            row_data = []\n",
    "            for cell in row.find_all(['th', 'td']):\n",
    "                row_data.append(cell.text)\n",
    "            table_data.append(row_data)\n",
    "        all_table_data.append(table_data)\n",
    "    return all_table_data[:2]  # only the first two will be used, all is three.\n",
    "\n",
    "# Define extract data. Only want to know wther the sequence can be viewed as human.\n",
    "def extract_human_data(regular_table):\n",
    "    extracted_data = []\n",
    "    for table_data in regular_table:\n",
    "        table_header = table_data[0]\n",
    "        human_row = [None, None, None, None]\n",
    "        for row in table_data:\n",
    "            if row[-1] == 'HUMAN':\n",
    "                human_row = row\n",
    "        extracted_data.extend(human_row)\n",
    "    return extracted_data\n",
    "\n",
    "# Define request process.\n",
    "def get_predict_result(job_name, h_seq, l_seq):\n",
    "    # Url path\n",
    "    humab_url = 'https://opig.stats.ox.ac.uk/webapps/sabdab-sabpred/sabpred/humab'\n",
    "\n",
    "    data = {\n",
    "        'h_sequence_score': h_seq,\n",
    "        'l_sequence_score': l_seq,\n",
    "        'jobname_score': job_name\n",
    "    }\n",
    "    reponse = requests.post(humab_url, data=data)\n",
    "    result_url = reponse.url\n",
    "    print(result_url)\n",
    "\n",
    "    # Need to wait a moment.\n",
    "    time.sleep(15)\n",
    "\n",
    "    # Get the result page.\n",
    "    result_response = requests.get(result_url)\n",
    "\n",
    "    if result_response.status_code == 200:\n",
    "        soup = BeautifulSoup(result_response.text, 'html.parser')\n",
    "        tables = soup.find_all('table', {'class': 'table table-results'})\n",
    "        # print(tables)\n",
    "        \n",
    "        predict_table = regular_order_table(tables)\n",
    "        print(predict_table)\n",
    "        extract_data = extract_human_data(predict_table)\n",
    "        print(extract_data)\n",
    "    else:\n",
    "        print('May be url has problem or need larger sleep time.')\n",
    "\n",
    "    sequence_list = [h_seq, l_seq]\n",
    "    return extract_data + sequence_list\n",
    "    "
   ]
  },
  {
   "cell_type": "code",
   "execution_count": 6,
   "id": "d7e89acd-fcf0-47f3-8b4c-f02ee8b18b7d",
   "metadata": {},
   "outputs": [
    {
     "data": {
      "text/html": [
       "<div>\n",
       "<style scoped>\n",
       "    .dataframe tbody tr th:only-of-type {\n",
       "        vertical-align: middle;\n",
       "    }\n",
       "\n",
       "    .dataframe tbody tr th {\n",
       "        vertical-align: top;\n",
       "    }\n",
       "\n",
       "    .dataframe thead th {\n",
       "        text-align: right;\n",
       "    }\n",
       "</style>\n",
       "<table border=\"1\" class=\"dataframe\">\n",
       "  <thead>\n",
       "    <tr style=\"text-align: right;\">\n",
       "      <th></th>\n",
       "      <th>Specific</th>\n",
       "      <th>name</th>\n",
       "      <th>hseq</th>\n",
       "      <th>lseq</th>\n",
       "      <th>Unnamed: 4</th>\n",
       "    </tr>\n",
       "  </thead>\n",
       "  <tbody>\n",
       "    <tr>\n",
       "      <th>0</th>\n",
       "      <td>humanization</td>\n",
       "      <td>3A3human_0</td>\n",
       "      <td>EVQLVESGGGLVQPGGSLRLSCVASGFTFSNFWMNWVRQAPGKGLE...</td>\n",
       "      <td>DIQMTQSPSPLSASVGDRANITCRASQDVSTDLGWYQQKPGKAPKV...</td>\n",
       "      <td>NaN</td>\n",
       "    </tr>\n",
       "    <tr>\n",
       "      <th>1</th>\n",
       "      <td>humanization</td>\n",
       "      <td>MAK195human_0</td>\n",
       "      <td>QVQLVESGGGVVQPGGSLRLSCAASGFSLTDYGVAWVRQPPGKGLE...</td>\n",
       "      <td>DIQMAQSPSSLSASVGDRVTITCRASQAVSSALTWYQQIPGKSPKL...</td>\n",
       "      <td>NaN</td>\n",
       "    </tr>\n",
       "    <tr>\n",
       "      <th>2</th>\n",
       "      <td>humanization</td>\n",
       "      <td>31#human_0</td>\n",
       "      <td>EVQLVQSGAEVKKPGESLKISCKASGYTFTDYWIGWVRQMPGKGLE...</td>\n",
       "      <td>DIVMTQSPDSLAVSLGERATISCKSSQSLLNTNSQKNYIAWYQQKP...</td>\n",
       "      <td>NaN</td>\n",
       "    </tr>\n",
       "    <tr>\n",
       "      <th>3</th>\n",
       "      <td>humanization</td>\n",
       "      <td>56#human_0</td>\n",
       "      <td>QVQLQESGPRLVEPSETLSLTCTVSGYSITSDYDWGWIRQPPGRGL...</td>\n",
       "      <td>DTLLTQSPDHLSVTLGERATISCRASQNIGTSLNWYQQKPGQSPKR...</td>\n",
       "      <td>NaN</td>\n",
       "    </tr>\n",
       "    <tr>\n",
       "      <th>4</th>\n",
       "      <td>humanization</td>\n",
       "      <td>74#human_0</td>\n",
       "      <td>EVQLVQSGAEVKKPGESLKISCQVSGYTFINYWIGWVRQMPGKGLE...</td>\n",
       "      <td>DIVMTQSPDSLTVSVGERATINCRSSQTLLNSNTQKNYVTWYQQKA...</td>\n",
       "      <td>NaN</td>\n",
       "    </tr>\n",
       "  </tbody>\n",
       "</table>\n",
       "</div>"
      ],
      "text/plain": [
       "       Specific           name  \\\n",
       "0  humanization     3A3human_0   \n",
       "1  humanization  MAK195human_0   \n",
       "2  humanization     31#human_0   \n",
       "3  humanization     56#human_0   \n",
       "4  humanization     74#human_0   \n",
       "\n",
       "                                                hseq  \\\n",
       "0  EVQLVESGGGLVQPGGSLRLSCVASGFTFSNFWMNWVRQAPGKGLE...   \n",
       "1  QVQLVESGGGVVQPGGSLRLSCAASGFSLTDYGVAWVRQPPGKGLE...   \n",
       "2  EVQLVQSGAEVKKPGESLKISCKASGYTFTDYWIGWVRQMPGKGLE...   \n",
       "3  QVQLQESGPRLVEPSETLSLTCTVSGYSITSDYDWGWIRQPPGRGL...   \n",
       "4  EVQLVQSGAEVKKPGESLKISCQVSGYTFINYWIGWVRQMPGKGLE...   \n",
       "\n",
       "                                                lseq  Unnamed: 4  \n",
       "0  DIQMTQSPSPLSASVGDRANITCRASQDVSTDLGWYQQKPGKAPKV...         NaN  \n",
       "1  DIQMAQSPSSLSASVGDRVTITCRASQAVSSALTWYQQIPGKSPKL...         NaN  \n",
       "2  DIVMTQSPDSLAVSLGERATISCKSSQSLLNTNSQKNYIAWYQQKP...         NaN  \n",
       "3  DTLLTQSPDHLSVTLGERATISCRASQNIGTSLNWYQQKPGQSPKR...         NaN  \n",
       "4  DIVMTQSPDSLTVSVGERATINCRSSQTLLNSNTQKNYVTWYQQKA...         NaN  "
      ]
     },
     "execution_count": 6,
     "metadata": {},
     "output_type": "execute_result"
    }
   ],
   "source": [
    "# Get the sample sequence from data.\n",
    "# Correct dataframe name\n",
    "new_columns_name = {\n",
    "    'Specific': 'Specific',\n",
    "    'name': 'name',\n",
    "    'HSEQ': 'hseq',\n",
    "    'LSEQ': 'lseq'\n",
    "}\n",
    "\n",
    "sample_df = sample_df.rename(columns=new_columns_name)\n",
    "sample_human_df = sample_df[sample_df['Specific'] == 'humanization'].reset_index(drop=True)\n",
    "sample_human_df.head()"
   ]
  },
  {
   "cell_type": "code",
   "execution_count": null,
   "id": "9bece559-382f-419e-afd4-cac5b26a76a3",
   "metadata": {},
   "outputs": [
    {
     "name": "stderr",
     "output_type": "stream",
     "text": [
      "0it [00:00, ?it/s]"
     ]
    },
    {
     "name": "stdout",
     "output_type": "stream",
     "text": [
      "https://opig.stats.ox.ac.uk/webapps/sabdab-sabpred/sabpred/humab_results/20231124_0157360\n"
     ]
    },
    {
     "name": "stderr",
     "output_type": "stream",
     "text": [
      "1it [00:17, 17.85s/it]"
     ]
    },
    {
     "name": "stdout",
     "output_type": "stream",
     "text": [
      "[[['V-gene', 'Score', 'Threshold', 'Classification'], ['HV1', '0.005', '0.725', 'NOT HUMAN'], ['HV2', '0.000', '0.835', 'NOT HUMAN'], ['HV3', '0.735', '0.575', 'HUMAN'], ['HV4', '0.000', '0.565', 'NOT HUMAN'], ['HV5', '0.000', '0.520', 'NOT HUMAN'], ['HV6', '0.000', '0.930', 'NOT HUMAN'], ['HV7', '0.000', '0.720', 'NOT HUMAN']], [['V-gene', 'Score', 'Threshold', 'Classification'], ['KV1', '0.900', '0.720', 'HUMAN'], ['KV2', '0.005', '0.720', 'NOT HUMAN'], ['KV3', '0.085', '0.720', 'NOT HUMAN'], ['KV4', '0.020', '0.655', 'NOT HUMAN'], ['KV5', '0.000', '0.815', 'NOT HUMAN'], ['KV6', '0.000', '0.475', 'NOT HUMAN']]]\n",
      "['HV3', '0.735', '0.575', 'HUMAN', 'KV1', '0.900', '0.720', 'HUMAN']\n",
      "https://opig.stats.ox.ac.uk/webapps/sabdab-sabpred/sabpred/humab_results/20231124_0545913\n"
     ]
    },
    {
     "name": "stderr",
     "output_type": "stream",
     "text": [
      "2it [00:35, 18.00s/it]"
     ]
    },
    {
     "name": "stdout",
     "output_type": "stream",
     "text": [
      "[[['V-gene', 'Score', 'Threshold', 'Classification'], ['HV1', '0.140', '0.725', 'NOT HUMAN'], ['HV2', '0.000', '0.835', 'NOT HUMAN'], ['HV3', '0.975', '0.575', 'HUMAN'], ['HV4', '0.020', '0.565', 'NOT HUMAN'], ['HV5', '0.015', '0.520', 'NOT HUMAN'], ['HV6', '0.000', '0.930', 'NOT HUMAN'], ['HV7', '0.010', '0.720', 'NOT HUMAN']], [['V-gene', 'Score', 'Threshold', 'Classification'], ['KV1', '0.730', '0.720', 'HUMAN'], ['KV2', '0.000', '0.720', 'NOT HUMAN'], ['KV3', '0.010', '0.720', 'NOT HUMAN'], ['KV4', '0.030', '0.655', 'NOT HUMAN'], ['KV5', '0.000', '0.815', 'NOT HUMAN'], ['KV6', '0.000', '0.475', 'NOT HUMAN']]]\n",
      "['HV3', '0.975', '0.575', 'HUMAN', 'KV1', '0.730', '0.720', 'HUMAN']\n",
      "https://opig.stats.ox.ac.uk/webapps/sabdab-sabpred/sabpred/humab_results/20231124_0372907\n"
     ]
    },
    {
     "name": "stderr",
     "output_type": "stream",
     "text": [
      "3it [00:55, 18.72s/it]"
     ]
    },
    {
     "name": "stdout",
     "output_type": "stream",
     "text": [
      "[]\n",
      "[]\n",
      "https://opig.stats.ox.ac.uk/webapps/sabdab-sabpred/sabpred/humab_results/20231124_0002942\n"
     ]
    },
    {
     "name": "stderr",
     "output_type": "stream",
     "text": [
      "4it [01:13, 18.33s/it]"
     ]
    },
    {
     "name": "stdout",
     "output_type": "stream",
     "text": [
      "[]\n",
      "[]\n",
      "https://opig.stats.ox.ac.uk/webapps/sabdab-sabpred/sabpred/humab_results/20231124_0241915\n"
     ]
    },
    {
     "name": "stderr",
     "output_type": "stream",
     "text": [
      "5it [01:31, 18.31s/it]"
     ]
    },
    {
     "name": "stdout",
     "output_type": "stream",
     "text": [
      "[[['V-gene', 'Score', 'Threshold', 'Classification'], ['HV1', '0.540', '0.725', 'NOT HUMAN'], ['HV2', '0.000', '0.835', 'NOT HUMAN'], ['HV3', '0.240', '0.575', 'NOT HUMAN'], ['HV4', '0.120', '0.565', 'NOT HUMAN'], ['HV5', '1.000', '0.520', 'HUMAN'], ['HV6', '0.000', '0.930', 'NOT HUMAN'], ['HV7', '0.070', '0.720', 'NOT HUMAN']], [['V-gene', 'Score', 'Threshold', 'Classification'], ['KV1', '0.175', '0.720', 'NOT HUMAN'], ['KV2', '0.180', '0.720', 'NOT HUMAN'], ['KV3', '0.125', '0.720', 'NOT HUMAN'], ['KV4', '0.950', '0.655', 'HUMAN'], ['KV5', '0.000', '0.815', 'NOT HUMAN'], ['KV6', '0.005', '0.475', 'NOT HUMAN']]]\n",
      "['HV5', '1.000', '0.520', 'HUMAN', 'KV4', '0.950', '0.655', 'HUMAN']\n",
      "https://opig.stats.ox.ac.uk/webapps/sabdab-sabpred/sabpred/humab_results/20231124_0247371\n"
     ]
    },
    {
     "name": "stderr",
     "output_type": "stream",
     "text": [
      "6it [01:50, 18.70s/it]"
     ]
    },
    {
     "name": "stdout",
     "output_type": "stream",
     "text": [
      "[[['V-gene', 'Score', 'Threshold', 'Classification'], ['HV1', '0.385', '0.725', 'NOT HUMAN'], ['HV2', '0.000', '0.835', 'NOT HUMAN'], ['HV3', '0.210', '0.575', 'NOT HUMAN'], ['HV4', '0.010', '0.565', 'NOT HUMAN'], ['HV5', '0.055', '0.520', 'NOT HUMAN'], ['HV6', '0.005', '0.930', 'NOT HUMAN'], ['HV7', '0.770', '0.720', 'HUMAN']], [['V-gene', 'Score', 'Threshold', 'Classification'], ['KV1', '0.940', '0.720', 'HUMAN'], ['KV2', '0.000', '0.720', 'NOT HUMAN'], ['KV3', '0.075', '0.720', 'NOT HUMAN'], ['KV4', '0.000', '0.655', 'NOT HUMAN'], ['KV5', '0.000', '0.815', 'NOT HUMAN'], ['KV6', '0.015', '0.475', 'NOT HUMAN']]]\n",
      "['HV7', '0.770', '0.720', 'HUMAN', 'KV1', '0.940', '0.720', 'HUMAN']\n",
      "https://opig.stats.ox.ac.uk/webapps/sabdab-sabpred/sabpred/humab_results/20231124_0138072\n"
     ]
    },
    {
     "name": "stderr",
     "output_type": "stream",
     "text": [
      "7it [02:08, 18.35s/it]"
     ]
    },
    {
     "name": "stdout",
     "output_type": "stream",
     "text": [
      "[]\n",
      "[]\n",
      "https://opig.stats.ox.ac.uk/webapps/sabdab-sabpred/sabpred/humab_results/20231124_0356989\n"
     ]
    },
    {
     "name": "stderr",
     "output_type": "stream",
     "text": [
      "8it [02:28, 18.83s/it]"
     ]
    },
    {
     "name": "stdout",
     "output_type": "stream",
     "text": [
      "[]\n",
      "[]\n",
      "https://opig.stats.ox.ac.uk/webapps/sabdab-sabpred/sabpred/humab_results/20231124_0621748\n"
     ]
    },
    {
     "name": "stderr",
     "output_type": "stream",
     "text": [
      "9it [02:46, 18.47s/it]"
     ]
    },
    {
     "name": "stdout",
     "output_type": "stream",
     "text": [
      "[[['V-gene', 'Score', 'Threshold', 'Classification'], ['HV1', '0.995', '0.725', 'HUMAN'], ['HV2', '0.000', '0.835', 'NOT HUMAN'], ['HV3', '0.135', '0.575', 'NOT HUMAN'], ['HV4', '0.010', '0.565', 'NOT HUMAN'], ['HV5', '0.170', '0.520', 'NOT HUMAN'], ['HV6', '0.000', '0.930', 'NOT HUMAN'], ['HV7', '0.230', '0.720', 'NOT HUMAN']], [['V-gene', 'Score', 'Threshold', 'Classification'], ['KV1', '0.025', '0.720', 'NOT HUMAN'], ['KV2', '0.145', '0.720', 'NOT HUMAN'], ['KV3', '0.050', '0.720', 'NOT HUMAN'], ['KV4', '0.985', '0.655', 'HUMAN'], ['KV5', '0.000', '0.815', 'NOT HUMAN'], ['KV6', '0.000', '0.475', 'NOT HUMAN']]]\n",
      "['HV1', '0.995', '0.725', 'HUMAN', 'KV4', '0.985', '0.655', 'HUMAN']\n",
      "https://opig.stats.ox.ac.uk/webapps/sabdab-sabpred/sabpred/humab_results/20231124_0848287\n"
     ]
    },
    {
     "name": "stderr",
     "output_type": "stream",
     "text": [
      "10it [03:03, 18.26s/it]"
     ]
    },
    {
     "name": "stdout",
     "output_type": "stream",
     "text": [
      "[[['V-gene', 'Score', 'Threshold', 'Classification'], ['HV1', '0.645', '0.725', 'NOT HUMAN'], ['HV2', '0.005', '0.835', 'NOT HUMAN'], ['HV3', '0.265', '0.575', 'NOT HUMAN'], ['HV4', '0.050', '0.565', 'NOT HUMAN'], ['HV5', '1.000', '0.520', 'HUMAN'], ['HV6', '0.000', '0.930', 'NOT HUMAN'], ['HV7', '0.090', '0.720', 'NOT HUMAN']], [['V-gene', 'Score', 'Threshold', 'Classification'], ['KV1', '0.035', '0.720', 'NOT HUMAN'], ['KV2', '0.090', '0.720', 'NOT HUMAN'], ['KV3', '0.080', '0.720', 'NOT HUMAN'], ['KV4', '0.940', '0.655', 'HUMAN'], ['KV5', '0.000', '0.815', 'NOT HUMAN'], ['KV6', '0.000', '0.475', 'NOT HUMAN']]]\n",
      "['HV5', '1.000', '0.520', 'HUMAN', 'KV4', '0.940', '0.655', 'HUMAN']\n",
      "https://opig.stats.ox.ac.uk/webapps/sabdab-sabpred/sabpred/humab_results/20231124_0324433\n"
     ]
    },
    {
     "name": "stderr",
     "output_type": "stream",
     "text": [
      "11it [03:21, 18.17s/it]"
     ]
    },
    {
     "name": "stdout",
     "output_type": "stream",
     "text": [
      "[]\n",
      "[]\n",
      "https://opig.stats.ox.ac.uk/webapps/sabdab-sabpred/sabpred/humab_results/20231124_0665829\n"
     ]
    },
    {
     "name": "stderr",
     "output_type": "stream",
     "text": [
      "12it [03:39, 18.11s/it]"
     ]
    },
    {
     "name": "stdout",
     "output_type": "stream",
     "text": [
      "[]\n",
      "[]\n",
      "https://opig.stats.ox.ac.uk/webapps/sabdab-sabpred/sabpred/humab_results/20231124_0678024\n"
     ]
    },
    {
     "name": "stderr",
     "output_type": "stream",
     "text": [
      "13it [03:57, 17.96s/it]"
     ]
    },
    {
     "name": "stdout",
     "output_type": "stream",
     "text": [
      "[[['V-gene', 'Score', 'Threshold', 'Classification'], ['HV1', '0.995', '0.725', 'HUMAN'], ['HV2', '0.000', '0.835', 'NOT HUMAN'], ['HV3', '0.075', '0.575', 'NOT HUMAN'], ['HV4', '0.005', '0.565', 'NOT HUMAN'], ['HV5', '0.080', '0.520', 'NOT HUMAN'], ['HV6', '0.000', '0.930', 'NOT HUMAN'], ['HV7', '0.275', '0.720', 'NOT HUMAN']], [['V-gene', 'Score', 'Threshold', 'Classification'], ['KV1', '1.000', '0.720', 'HUMAN'], ['KV2', '0.000', '0.720', 'NOT HUMAN'], ['KV3', '0.005', '0.720', 'NOT HUMAN'], ['KV4', '0.000', '0.655', 'NOT HUMAN'], ['KV5', '0.000', '0.815', 'NOT HUMAN'], ['KV6', '0.000', '0.475', 'NOT HUMAN']]]\n",
      "['HV1', '0.995', '0.725', 'HUMAN', 'KV1', '1.000', '0.720', 'HUMAN']\n",
      "https://opig.stats.ox.ac.uk/webapps/sabdab-sabpred/sabpred/humab_results/20231124_0564221\n"
     ]
    },
    {
     "name": "stderr",
     "output_type": "stream",
     "text": [
      "14it [04:15, 17.99s/it]"
     ]
    },
    {
     "name": "stdout",
     "output_type": "stream",
     "text": [
      "[[['V-gene', 'Score', 'Threshold', 'Classification'], ['HV1', '0.000', '0.725', 'NOT HUMAN'], ['HV2', '0.000', '0.835', 'NOT HUMAN'], ['HV3', '1.000', '0.575', 'HUMAN'], ['HV4', '0.000', '0.565', 'NOT HUMAN'], ['HV5', '0.000', '0.520', 'NOT HUMAN'], ['HV6', '0.000', '0.930', 'NOT HUMAN'], ['HV7', '0.000', '0.720', 'NOT HUMAN']], [['V-gene', 'Score', 'Threshold', 'Classification'], ['KV1', '0.025', '0.720', 'NOT HUMAN'], ['KV2', '0.070', '0.720', 'NOT HUMAN'], ['KV3', '0.030', '0.720', 'NOT HUMAN'], ['KV4', '1.000', '0.655', 'HUMAN'], ['KV5', '0.000', '0.815', 'NOT HUMAN'], ['KV6', '0.005', '0.475', 'NOT HUMAN']]]\n",
      "['HV3', '1.000', '0.575', 'HUMAN', 'KV4', '1.000', '0.655', 'HUMAN']\n",
      "https://opig.stats.ox.ac.uk/webapps/sabdab-sabpred/sabpred/humab_results/20231124_0500659\n"
     ]
    },
    {
     "name": "stderr",
     "output_type": "stream",
     "text": [
      "15it [04:34, 18.20s/it]"
     ]
    },
    {
     "name": "stdout",
     "output_type": "stream",
     "text": [
      "[]\n",
      "[]\n",
      "https://opig.stats.ox.ac.uk/webapps/sabdab-sabpred/sabpred/humab_results/20231124_0924400\n"
     ]
    },
    {
     "name": "stderr",
     "output_type": "stream",
     "text": [
      "16it [04:54, 18.96s/it]"
     ]
    },
    {
     "name": "stdout",
     "output_type": "stream",
     "text": [
      "[]\n",
      "[]\n",
      "https://opig.stats.ox.ac.uk/webapps/sabdab-sabpred/sabpred/humab_results/20231124_0040262\n"
     ]
    },
    {
     "name": "stderr",
     "output_type": "stream",
     "text": [
      "17it [05:12, 18.67s/it]"
     ]
    },
    {
     "name": "stdout",
     "output_type": "stream",
     "text": [
      "[[['V-gene', 'Score', 'Threshold', 'Classification'], ['HV1', '0.020', '0.725', 'NOT HUMAN'], ['HV2', '0.000', '0.835', 'NOT HUMAN'], ['HV3', '0.920', '0.575', 'HUMAN'], ['HV4', '0.005', '0.565', 'NOT HUMAN'], ['HV5', '0.005', '0.520', 'NOT HUMAN'], ['HV6', '0.000', '0.930', 'NOT HUMAN'], ['HV7', '0.000', '0.720', 'NOT HUMAN']], [['V-gene', 'Score', 'Threshold', 'Classification'], ['KV1', '0.995', '0.720', 'HUMAN'], ['KV2', '0.005', '0.720', 'NOT HUMAN'], ['KV3', '0.000', '0.720', 'NOT HUMAN'], ['KV4', '0.005', '0.655', 'NOT HUMAN'], ['KV5', '0.000', '0.815', 'NOT HUMAN'], ['KV6', '0.000', '0.475', 'NOT HUMAN']]]\n",
      "['HV3', '0.920', '0.575', 'HUMAN', 'KV1', '0.995', '0.720', 'HUMAN']\n",
      "https://opig.stats.ox.ac.uk/webapps/sabdab-sabpred/sabpred/humab_results/20231124_0213420\n"
     ]
    },
    {
     "name": "stderr",
     "output_type": "stream",
     "text": [
      "18it [05:30, 18.35s/it]"
     ]
    },
    {
     "name": "stdout",
     "output_type": "stream",
     "text": [
      "[[['V-gene', 'Score', 'Threshold', 'Classification'], ['HV1', '0.005', '0.725', 'NOT HUMAN'], ['HV2', '0.000', '0.835', 'NOT HUMAN'], ['HV3', '0.955', '0.575', 'HUMAN'], ['HV4', '0.005', '0.565', 'NOT HUMAN'], ['HV5', '0.005', '0.520', 'NOT HUMAN'], ['HV6', '0.000', '0.930', 'NOT HUMAN'], ['HV7', '0.000', '0.720', 'NOT HUMAN']], [['V-gene', 'Score', 'Threshold', 'Classification'], ['KV1', '0.825', '0.720', 'HUMAN'], ['KV2', '0.000', '0.720', 'NOT HUMAN'], ['KV3', '0.015', '0.720', 'NOT HUMAN'], ['KV4', '0.000', '0.655', 'NOT HUMAN'], ['KV5', '0.000', '0.815', 'NOT HUMAN'], ['KV6', '0.010', '0.475', 'NOT HUMAN']]]\n",
      "['HV3', '0.955', '0.575', 'HUMAN', 'KV1', '0.825', '0.720', 'HUMAN']\n",
      "https://opig.stats.ox.ac.uk/webapps/sabdab-sabpred/sabpred/humab_results/20231124_0061047\n"
     ]
    },
    {
     "name": "stderr",
     "output_type": "stream",
     "text": [
      "19it [05:50, 18.93s/it]"
     ]
    },
    {
     "name": "stdout",
     "output_type": "stream",
     "text": [
      "[]\n",
      "[]\n",
      "https://opig.stats.ox.ac.uk/webapps/sabdab-sabpred/sabpred/humab_results/20231124_0946981\n"
     ]
    },
    {
     "name": "stderr",
     "output_type": "stream",
     "text": [
      "20it [06:09, 18.85s/it]"
     ]
    },
    {
     "name": "stdout",
     "output_type": "stream",
     "text": [
      "[]\n",
      "[]\n",
      "https://opig.stats.ox.ac.uk/webapps/sabdab-sabpred/sabpred/humab_results/20231124_0182447\n"
     ]
    },
    {
     "name": "stderr",
     "output_type": "stream",
     "text": [
      "21it [06:27, 18.52s/it]"
     ]
    },
    {
     "name": "stdout",
     "output_type": "stream",
     "text": [
      "[[['V-gene', 'Score', 'Threshold', 'Classification'], ['HV1', '0.540', '0.725', 'NOT HUMAN'], ['HV2', '0.000', '0.835', 'NOT HUMAN'], ['HV3', '0.245', '0.575', 'NOT HUMAN'], ['HV4', '0.070', '0.565', 'NOT HUMAN'], ['HV5', '0.985', '0.520', 'HUMAN'], ['HV6', '0.000', '0.930', 'NOT HUMAN'], ['HV7', '0.050', '0.720', 'NOT HUMAN']], [['V-gene', 'Score', 'Threshold', 'Classification'], ['KV1', '0.945', '0.720', 'HUMAN'], ['KV2', '0.010', '0.720', 'NOT HUMAN'], ['KV3', '0.210', '0.720', 'NOT HUMAN'], ['KV4', '0.030', '0.655', 'NOT HUMAN'], ['KV5', '0.005', '0.815', 'NOT HUMAN'], ['KV6', '0.030', '0.475', 'NOT HUMAN']]]\n",
      "['HV5', '0.985', '0.520', 'HUMAN', 'KV1', '0.945', '0.720', 'HUMAN']\n",
      "https://opig.stats.ox.ac.uk/webapps/sabdab-sabpred/sabpred/humab_results/20231124_0089914\n"
     ]
    },
    {
     "name": "stderr",
     "output_type": "stream",
     "text": [
      "22it [06:45, 18.31s/it]"
     ]
    },
    {
     "name": "stdout",
     "output_type": "stream",
     "text": [
      "[[['V-gene', 'Score', 'Threshold', 'Classification'], ['HV1', '0.010', '0.725', 'NOT HUMAN'], ['HV2', '0.000', '0.835', 'NOT HUMAN'], ['HV3', '0.990', '0.575', 'HUMAN'], ['HV4', '0.005', '0.565', 'NOT HUMAN'], ['HV5', '0.005', '0.520', 'NOT HUMAN'], ['HV6', '0.000', '0.930', 'NOT HUMAN'], ['HV7', '0.000', '0.720', 'NOT HUMAN']], [['V-gene', 'Score', 'Threshold', 'Classification'], ['KV1', '0.995', '0.720', 'HUMAN'], ['KV2', '0.005', '0.720', 'NOT HUMAN'], ['KV3', '0.095', '0.720', 'NOT HUMAN'], ['KV4', '0.000', '0.655', 'NOT HUMAN'], ['KV5', '0.000', '0.815', 'NOT HUMAN'], ['KV6', '0.000', '0.475', 'NOT HUMAN']]]\n",
      "['HV3', '0.990', '0.575', 'HUMAN', 'KV1', '0.995', '0.720', 'HUMAN']\n",
      "https://opig.stats.ox.ac.uk/webapps/sabdab-sabpred/sabpred/humab_results/20231124_0670919\n"
     ]
    },
    {
     "name": "stderr",
     "output_type": "stream",
     "text": [
      "23it [07:03, 18.36s/it]"
     ]
    },
    {
     "name": "stdout",
     "output_type": "stream",
     "text": [
      "[]\n",
      "[]\n",
      "https://opig.stats.ox.ac.uk/webapps/sabdab-sabpred/sabpred/humab_results/20231124_0318741\n"
     ]
    },
    {
     "name": "stderr",
     "output_type": "stream",
     "text": [
      "24it [07:22, 18.58s/it]"
     ]
    },
    {
     "name": "stdout",
     "output_type": "stream",
     "text": [
      "[]\n",
      "[]\n",
      "https://opig.stats.ox.ac.uk/webapps/sabdab-sabpred/sabpred/humab_results/20231124_0782438\n"
     ]
    },
    {
     "name": "stderr",
     "output_type": "stream",
     "text": [
      "25it [07:41, 18.62s/it]"
     ]
    },
    {
     "name": "stdout",
     "output_type": "stream",
     "text": [
      "[[['V-gene', 'Score', 'Threshold', 'Classification'], ['HV1', '0.995', '0.725', 'HUMAN'], ['HV2', '0.000', '0.835', 'NOT HUMAN'], ['HV3', '0.210', '0.575', 'NOT HUMAN'], ['HV4', '0.005', '0.565', 'NOT HUMAN'], ['HV5', '0.130', '0.520', 'NOT HUMAN'], ['HV6', '0.000', '0.930', 'NOT HUMAN'], ['HV7', '0.180', '0.720', 'NOT HUMAN']], [['V-gene', 'Score', 'Threshold', 'Classification'], ['KV1', '0.870', '0.720', 'HUMAN'], ['KV2', '0.000', '0.720', 'NOT HUMAN'], ['KV3', '0.010', '0.720', 'NOT HUMAN'], ['KV4', '0.000', '0.655', 'NOT HUMAN'], ['KV5', '0.000', '0.815', 'NOT HUMAN'], ['KV6', '0.000', '0.475', 'NOT HUMAN']]]\n",
      "['HV1', '0.995', '0.725', 'HUMAN', 'KV1', '0.870', '0.720', 'HUMAN']\n",
      "https://opig.stats.ox.ac.uk/webapps/sabdab-sabpred/sabpred/humab_results/20231124_0608408\n"
     ]
    },
    {
     "name": "stderr",
     "output_type": "stream",
     "text": [
      "26it [07:59, 18.34s/it]"
     ]
    },
    {
     "name": "stdout",
     "output_type": "stream",
     "text": [
      "[[['V-gene', 'Score', 'Threshold', 'Classification'], ['HV1', '1.000', '0.725', 'HUMAN'], ['HV2', '0.000', '0.835', 'NOT HUMAN'], ['HV3', '0.155', '0.575', 'NOT HUMAN'], ['HV4', '0.025', '0.565', 'NOT HUMAN'], ['HV5', '0.075', '0.520', 'NOT HUMAN'], ['HV6', '0.000', '0.930', 'NOT HUMAN'], ['HV7', '0.165', '0.720', 'NOT HUMAN']], [['V-gene', 'Score', 'Threshold', 'Classification'], ['KV1', '0.030', '0.720', 'NOT HUMAN'], ['KV2', '0.135', '0.720', 'NOT HUMAN'], ['KV3', '0.045', '0.720', 'NOT HUMAN'], ['KV4', '0.990', '0.655', 'HUMAN'], ['KV5', '0.000', '0.815', 'NOT HUMAN'], ['KV6', '0.005', '0.475', 'NOT HUMAN']]]\n",
      "['HV1', '1.000', '0.725', 'HUMAN', 'KV4', '0.990', '0.655', 'HUMAN']\n",
      "https://opig.stats.ox.ac.uk/webapps/sabdab-sabpred/sabpred/humab_results/20231124_0309437\n"
     ]
    },
    {
     "name": "stderr",
     "output_type": "stream",
     "text": [
      "27it [08:17, 18.30s/it]"
     ]
    },
    {
     "name": "stdout",
     "output_type": "stream",
     "text": [
      "[]\n",
      "[]\n",
      "https://opig.stats.ox.ac.uk/webapps/sabdab-sabpred/sabpred/humab_results/20231124_0889079\n"
     ]
    },
    {
     "name": "stderr",
     "output_type": "stream",
     "text": [
      "28it [08:34, 18.09s/it]"
     ]
    },
    {
     "name": "stdout",
     "output_type": "stream",
     "text": [
      "[]\n",
      "[]\n",
      "https://opig.stats.ox.ac.uk/webapps/sabdab-sabpred/sabpred/humab_results/20231124_0899773\n"
     ]
    },
    {
     "name": "stderr",
     "output_type": "stream",
     "text": [
      "29it [08:52, 17.97s/it]"
     ]
    },
    {
     "name": "stdout",
     "output_type": "stream",
     "text": [
      "[[['V-gene', 'Score', 'Threshold', 'Classification'], ['HV1', '0.985', '0.725', 'HUMAN'], ['HV2', '0.000', '0.835', 'NOT HUMAN'], ['HV3', '0.220', '0.575', 'NOT HUMAN'], ['HV4', '0.020', '0.565', 'NOT HUMAN'], ['HV5', '0.095', '0.520', 'NOT HUMAN'], ['HV6', '0.000', '0.930', 'NOT HUMAN'], ['HV7', '0.120', '0.720', 'NOT HUMAN']], [['V-gene', 'Score', 'Threshold', 'Classification'], ['KV1', '0.030', '0.720', 'NOT HUMAN'], ['KV2', '0.945', '0.720', 'HUMAN'], ['KV3', '0.030', '0.720', 'NOT HUMAN'], ['KV4', '0.075', '0.655', 'NOT HUMAN'], ['KV5', '0.000', '0.815', 'NOT HUMAN'], ['KV6', '0.005', '0.475', 'NOT HUMAN']]]\n",
      "['HV1', '0.985', '0.725', 'HUMAN', 'KV2', '0.945', '0.720', 'HUMAN']\n",
      "https://opig.stats.ox.ac.uk/webapps/sabdab-sabpred/sabpred/humab_results/20231124_0846810\n"
     ]
    },
    {
     "name": "stderr",
     "output_type": "stream",
     "text": [
      "30it [09:12, 18.65s/it]"
     ]
    },
    {
     "name": "stdout",
     "output_type": "stream",
     "text": [
      "[[['V-gene', 'Score', 'Threshold', 'Classification'], ['HV1', '0.985', '0.725', 'HUMAN'], ['HV2', '0.000', '0.835', 'NOT HUMAN'], ['HV3', '0.215', '0.575', 'NOT HUMAN'], ['HV4', '0.010', '0.565', 'NOT HUMAN'], ['HV5', '0.320', '0.520', 'NOT HUMAN'], ['HV6', '0.005', '0.930', 'NOT HUMAN'], ['HV7', '0.200', '0.720', 'NOT HUMAN']], [['V-gene', 'Score', 'Threshold', 'Classification'], ['KV1', '0.020', '0.720', 'NOT HUMAN'], ['KV2', '0.150', '0.720', 'NOT HUMAN'], ['KV3', '0.110', '0.720', 'NOT HUMAN'], ['KV4', '0.915', '0.655', 'HUMAN'], ['KV5', '0.000', '0.815', 'NOT HUMAN'], ['KV6', '0.005', '0.475', 'NOT HUMAN']]]\n",
      "['HV1', '0.985', '0.725', 'HUMAN', 'KV4', '0.915', '0.655', 'HUMAN']\n",
      "https://opig.stats.ox.ac.uk/webapps/sabdab-sabpred/sabpred/humab_results/20231124_0783788\n"
     ]
    },
    {
     "name": "stderr",
     "output_type": "stream",
     "text": [
      "31it [09:32, 18.82s/it]"
     ]
    },
    {
     "name": "stdout",
     "output_type": "stream",
     "text": [
      "[]\n",
      "[]\n",
      "https://opig.stats.ox.ac.uk/webapps/sabdab-sabpred/sabpred/humab_results/20231124_0617635\n"
     ]
    },
    {
     "name": "stderr",
     "output_type": "stream",
     "text": [
      "32it [09:49, 18.43s/it]"
     ]
    },
    {
     "name": "stdout",
     "output_type": "stream",
     "text": [
      "[]\n",
      "[]\n",
      "https://opig.stats.ox.ac.uk/webapps/sabdab-sabpred/sabpred/humab_results/20231124_0191103\n"
     ]
    },
    {
     "name": "stderr",
     "output_type": "stream",
     "text": [
      "33it [10:07, 18.20s/it]"
     ]
    },
    {
     "name": "stdout",
     "output_type": "stream",
     "text": [
      "[[['V-gene', 'Score', 'Threshold', 'Classification'], ['HV1', '1.000', '0.725', 'HUMAN'], ['HV2', '0.000', '0.835', 'NOT HUMAN'], ['HV3', '0.200', '0.575', 'NOT HUMAN'], ['HV4', '0.010', '0.565', 'NOT HUMAN'], ['HV5', '0.185', '0.520', 'NOT HUMAN'], ['HV6', '0.000', '0.930', 'NOT HUMAN'], ['HV7', '0.220', '0.720', 'NOT HUMAN']], [['V-gene', 'Score', 'Threshold', 'Classification'], ['KV1', '0.035', '0.720', 'NOT HUMAN'], ['KV2', '0.060', '0.720', 'NOT HUMAN'], ['KV3', '0.965', '0.720', 'HUMAN'], ['KV4', '0.075', '0.655', 'NOT HUMAN'], ['KV5', '0.000', '0.815', 'NOT HUMAN'], ['KV6', '0.005', '0.475', 'NOT HUMAN']]]\n",
      "['HV1', '1.000', '0.725', 'HUMAN', 'KV3', '0.965', '0.720', 'HUMAN']\n",
      "https://opig.stats.ox.ac.uk/webapps/sabdab-sabpred/sabpred/humab_results/20231124_0026848\n"
     ]
    },
    {
     "name": "stderr",
     "output_type": "stream",
     "text": [
      "34it [10:26, 18.42s/it]"
     ]
    },
    {
     "name": "stdout",
     "output_type": "stream",
     "text": [
      "[[['V-gene', 'Score', 'Threshold', 'Classification'], ['HV1', '1.000', '0.725', 'HUMAN'], ['HV2', '0.000', '0.835', 'NOT HUMAN'], ['HV3', '0.075', '0.575', 'NOT HUMAN'], ['HV4', '0.020', '0.565', 'NOT HUMAN'], ['HV5', '0.175', '0.520', 'NOT HUMAN'], ['HV6', '0.000', '0.930', 'NOT HUMAN'], ['HV7', '0.260', '0.720', 'NOT HUMAN']], [['V-gene', 'Score', 'Threshold', 'Classification'], ['KV1', '0.750', '0.720', 'HUMAN'], ['KV2', '0.000', '0.720', 'NOT HUMAN'], ['KV3', '0.015', '0.720', 'NOT HUMAN'], ['KV4', '0.000', '0.655', 'NOT HUMAN'], ['KV5', '0.000', '0.815', 'NOT HUMAN'], ['KV6', '0.005', '0.475', 'NOT HUMAN']]]\n",
      "['HV1', '1.000', '0.725', 'HUMAN', 'KV1', '0.750', '0.720', 'HUMAN']\n",
      "https://opig.stats.ox.ac.uk/webapps/sabdab-sabpred/sabpred/humab_results/20231124_0881918\n"
     ]
    },
    {
     "name": "stderr",
     "output_type": "stream",
     "text": [
      "35it [10:43, 18.20s/it]"
     ]
    },
    {
     "name": "stdout",
     "output_type": "stream",
     "text": [
      "[]\n",
      "[]\n",
      "https://opig.stats.ox.ac.uk/webapps/sabdab-sabpred/sabpred/humab_results/20231124_0143397\n"
     ]
    },
    {
     "name": "stderr",
     "output_type": "stream",
     "text": [
      "36it [11:02, 18.31s/it]"
     ]
    },
    {
     "name": "stdout",
     "output_type": "stream",
     "text": [
      "[]\n",
      "[]\n",
      "https://opig.stats.ox.ac.uk/webapps/sabdab-sabpred/sabpred/humab_results/20231124_0754852\n"
     ]
    },
    {
     "name": "stderr",
     "output_type": "stream",
     "text": [
      "37it [11:19, 18.09s/it]"
     ]
    },
    {
     "name": "stdout",
     "output_type": "stream",
     "text": [
      "[[['V-gene', 'Score', 'Threshold', 'Classification'], ['HV1', '0.980', '0.725', 'HUMAN'], ['HV2', '0.000', '0.835', 'NOT HUMAN'], ['HV3', '0.170', '0.575', 'NOT HUMAN'], ['HV4', '0.005', '0.565', 'NOT HUMAN'], ['HV5', '0.105', '0.520', 'NOT HUMAN'], ['HV6', '0.000', '0.930', 'NOT HUMAN'], ['HV7', '0.205', '0.720', 'NOT HUMAN']], [['V-gene', 'Score', 'Threshold', 'Classification'], ['KV1', '0.105', '0.720', 'NOT HUMAN'], ['KV2', '0.305', '0.720', 'NOT HUMAN'], ['KV3', '0.495', '0.720', 'NOT HUMAN'], ['KV4', '0.410', '0.655', 'NOT HUMAN'], ['KV5', '0.000', '0.815', 'NOT HUMAN'], ['KV6', '0.055', '0.475', 'NOT HUMAN']]]\n",
      "['HV1', '0.980', '0.725', 'HUMAN', None, None, None, None]\n",
      "https://opig.stats.ox.ac.uk/webapps/sabdab-sabpred/sabpred/humab_results/20231124_0565474\n"
     ]
    },
    {
     "name": "stderr",
     "output_type": "stream",
     "text": [
      "38it [11:37, 17.93s/it]"
     ]
    },
    {
     "name": "stdout",
     "output_type": "stream",
     "text": [
      "[[['V-gene', 'Score', 'Threshold', 'Classification'], ['HV1', '0.590', '0.725', 'NOT HUMAN'], ['HV2', '0.000', '0.835', 'NOT HUMAN'], ['HV3', '0.845', '0.575', 'HUMAN'], ['HV4', '0.005', '0.565', 'NOT HUMAN'], ['HV5', '0.035', '0.520', 'NOT HUMAN'], ['HV6', '0.000', '0.930', 'NOT HUMAN'], ['HV7', '0.035', '0.720', 'NOT HUMAN']], [['V-gene', 'Score', 'Threshold', 'Classification'], ['KV1', '0.090', '0.720', 'NOT HUMAN'], ['KV2', '0.245', '0.720', 'NOT HUMAN'], ['KV3', '0.150', '0.720', 'NOT HUMAN'], ['KV4', '0.970', '0.655', 'HUMAN'], ['KV5', '0.000', '0.815', 'NOT HUMAN'], ['KV6', '0.000', '0.475', 'NOT HUMAN']]]\n",
      "['HV3', '0.845', '0.575', 'HUMAN', 'KV4', '0.970', '0.655', 'HUMAN']\n",
      "https://opig.stats.ox.ac.uk/webapps/sabdab-sabpred/sabpred/humab_results/20231124_0035565\n"
     ]
    },
    {
     "name": "stderr",
     "output_type": "stream",
     "text": [
      "39it [11:55, 17.84s/it]"
     ]
    },
    {
     "name": "stdout",
     "output_type": "stream",
     "text": [
      "[]\n",
      "[]\n",
      "https://opig.stats.ox.ac.uk/webapps/sabdab-sabpred/sabpred/humab_results/20231124_0882593\n"
     ]
    },
    {
     "name": "stderr",
     "output_type": "stream",
     "text": [
      "40it [12:14, 18.31s/it]"
     ]
    },
    {
     "name": "stdout",
     "output_type": "stream",
     "text": [
      "[]\n",
      "[]\n",
      "https://opig.stats.ox.ac.uk/webapps/sabdab-sabpred/sabpred/humab_results/20231124_0218690\n"
     ]
    },
    {
     "name": "stderr",
     "output_type": "stream",
     "text": [
      "41it [12:32, 18.24s/it]"
     ]
    },
    {
     "name": "stdout",
     "output_type": "stream",
     "text": [
      "[[['V-gene', 'Score', 'Threshold', 'Classification'], ['HV1', '0.765', '0.725', 'HUMAN'], ['HV2', '0.015', '0.835', 'NOT HUMAN'], ['HV3', '0.255', '0.575', 'NOT HUMAN'], ['HV4', '0.160', '0.565', 'NOT HUMAN'], ['HV5', '0.095', '0.520', 'NOT HUMAN'], ['HV6', '0.000', '0.930', 'NOT HUMAN'], ['HV7', '0.120', '0.720', 'NOT HUMAN']], [['V-gene', 'Score', 'Threshold', 'Classification'], ['KV1', '0.035', '0.720', 'NOT HUMAN'], ['KV2', '0.135', '0.720', 'NOT HUMAN'], ['KV3', '0.050', '0.720', 'NOT HUMAN'], ['KV4', '0.995', '0.655', 'HUMAN'], ['KV5', '0.000', '0.815', 'NOT HUMAN'], ['KV6', '0.000', '0.475', 'NOT HUMAN']]]\n",
      "['HV1', '0.765', '0.725', 'HUMAN', 'KV4', '0.995', '0.655', 'HUMAN']\n",
      "https://opig.stats.ox.ac.uk/webapps/sabdab-sabpred/sabpred/humab_results/20231124_0782251\n"
     ]
    },
    {
     "name": "stderr",
     "output_type": "stream",
     "text": [
      "42it [12:50, 18.02s/it]"
     ]
    },
    {
     "name": "stdout",
     "output_type": "stream",
     "text": [
      "[[['V-gene', 'Score', 'Threshold', 'Classification'], ['HV1', '0.015', '0.725', 'NOT HUMAN'], ['HV2', '0.000', '0.835', 'NOT HUMAN'], ['HV3', '0.790', '0.575', 'HUMAN'], ['HV4', '0.000', '0.565', 'NOT HUMAN'], ['HV5', '0.005', '0.520', 'NOT HUMAN'], ['HV6', '0.000', '0.930', 'NOT HUMAN'], ['HV7', '0.000', '0.720', 'NOT HUMAN']], [['V-gene', 'Score', 'Threshold', 'Classification'], ['KV1', '0.010', '0.720', 'NOT HUMAN'], ['KV2', '0.725', '0.720', 'HUMAN'], ['KV3', '0.095', '0.720', 'NOT HUMAN'], ['KV4', '0.050', '0.655', 'NOT HUMAN'], ['KV5', '0.000', '0.815', 'NOT HUMAN'], ['KV6', '0.005', '0.475', 'NOT HUMAN']]]\n",
      "['HV3', '0.790', '0.575', 'HUMAN', 'KV2', '0.725', '0.720', 'HUMAN']\n",
      "https://opig.stats.ox.ac.uk/webapps/sabdab-sabpred/sabpred/humab_results/20231124_0519789\n"
     ]
    },
    {
     "name": "stderr",
     "output_type": "stream",
     "text": [
      "43it [13:07, 17.92s/it]"
     ]
    },
    {
     "name": "stdout",
     "output_type": "stream",
     "text": [
      "[]\n",
      "[]\n",
      "https://opig.stats.ox.ac.uk/webapps/sabdab-sabpred/sabpred/humab_results/20231124_0608767\n"
     ]
    },
    {
     "name": "stderr",
     "output_type": "stream",
     "text": [
      "44it [13:25, 17.87s/it]"
     ]
    },
    {
     "name": "stdout",
     "output_type": "stream",
     "text": [
      "[]\n",
      "[]\n",
      "https://opig.stats.ox.ac.uk/webapps/sabdab-sabpred/sabpred/humab_results/20231124_0743315\n"
     ]
    },
    {
     "name": "stderr",
     "output_type": "stream",
     "text": [
      "45it [13:43, 17.81s/it]"
     ]
    },
    {
     "name": "stdout",
     "output_type": "stream",
     "text": [
      "[[['V-gene', 'Score', 'Threshold', 'Classification'], ['HV1', '0.030', '0.725', 'NOT HUMAN'], ['HV2', '0.000', '0.835', 'NOT HUMAN'], ['HV3', '0.930', '0.575', 'HUMAN'], ['HV4', '0.000', '0.565', 'NOT HUMAN'], ['HV5', '0.000', '0.520', 'NOT HUMAN'], ['HV6', '0.000', '0.930', 'NOT HUMAN'], ['HV7', '0.000', '0.720', 'NOT HUMAN']], [['V-gene', 'Score', 'Threshold', 'Classification'], ['KV1', '0.715', '0.720', 'NOT HUMAN'], ['KV2', '0.025', '0.720', 'NOT HUMAN'], ['KV3', '0.010', '0.720', 'NOT HUMAN'], ['KV4', '0.000', '0.655', 'NOT HUMAN'], ['KV5', '0.010', '0.815', 'NOT HUMAN'], ['KV6', '0.010', '0.475', 'NOT HUMAN']]]\n",
      "['HV3', '0.930', '0.575', 'HUMAN', None, None, None, None]\n",
      "https://opig.stats.ox.ac.uk/webapps/sabdab-sabpred/sabpred/humab_results/20231124_0608336\n"
     ]
    },
    {
     "name": "stderr",
     "output_type": "stream",
     "text": [
      "46it [14:00, 17.75s/it]"
     ]
    },
    {
     "name": "stdout",
     "output_type": "stream",
     "text": [
      "[[['V-gene', 'Score', 'Threshold', 'Classification'], ['HV1', '1.000', '0.725', 'HUMAN'], ['HV2', '0.000', '0.835', 'NOT HUMAN'], ['HV3', '0.135', '0.575', 'NOT HUMAN'], ['HV4', '0.005', '0.565', 'NOT HUMAN'], ['HV5', '0.050', '0.520', 'NOT HUMAN'], ['HV6', '0.000', '0.930', 'NOT HUMAN'], ['HV7', '0.220', '0.720', 'NOT HUMAN']], [['V-gene', 'Score', 'Threshold', 'Classification'], ['KV1', '0.980', '0.720', 'HUMAN'], ['KV2', '0.015', '0.720', 'NOT HUMAN'], ['KV3', '0.195', '0.720', 'NOT HUMAN'], ['KV4', '0.020', '0.655', 'NOT HUMAN'], ['KV5', '0.000', '0.815', 'NOT HUMAN'], ['KV6', '0.015', '0.475', 'NOT HUMAN']]]\n",
      "['HV1', '1.000', '0.725', 'HUMAN', 'KV1', '0.980', '0.720', 'HUMAN']\n",
      "https://opig.stats.ox.ac.uk/webapps/sabdab-sabpred/sabpred/humab_results/20231124_0262044\n"
     ]
    },
    {
     "name": "stderr",
     "output_type": "stream",
     "text": [
      "47it [14:18, 17.70s/it]"
     ]
    },
    {
     "name": "stdout",
     "output_type": "stream",
     "text": [
      "[]\n",
      "[]\n",
      "https://opig.stats.ox.ac.uk/webapps/sabdab-sabpred/sabpred/humab_results/20231124_0250439\n"
     ]
    },
    {
     "name": "stderr",
     "output_type": "stream",
     "text": [
      "48it [14:38, 18.26s/it]"
     ]
    },
    {
     "name": "stdout",
     "output_type": "stream",
     "text": [
      "[]\n",
      "[]\n",
      "https://opig.stats.ox.ac.uk/webapps/sabdab-sabpred/sabpred/humab_results/20231124_0868951\n"
     ]
    },
    {
     "name": "stderr",
     "output_type": "stream",
     "text": [
      "49it [14:55, 18.07s/it]"
     ]
    },
    {
     "name": "stdout",
     "output_type": "stream",
     "text": [
      "[[['V-gene', 'Score', 'Threshold', 'Classification'], ['HV1', '0.070', '0.725', 'NOT HUMAN'], ['HV2', '0.000', '0.835', 'NOT HUMAN'], ['HV3', '0.970', '0.575', 'HUMAN'], ['HV4', '0.005', '0.565', 'NOT HUMAN'], ['HV5', '0.000', '0.520', 'NOT HUMAN'], ['HV6', '0.000', '0.930', 'NOT HUMAN'], ['HV7', '0.010', '0.720', 'NOT HUMAN']], [['V-gene', 'Score', 'Threshold', 'Classification'], ['KV1', '0.480', '0.720', 'NOT HUMAN'], ['KV2', '0.070', '0.720', 'NOT HUMAN'], ['KV3', '0.495', '0.720', 'NOT HUMAN'], ['KV4', '0.060', '0.655', 'NOT HUMAN'], ['KV5', '0.010', '0.815', 'NOT HUMAN'], ['KV6', '0.850', '0.475', 'HUMAN']]]\n",
      "['HV3', '0.970', '0.575', 'HUMAN', 'KV6', '0.850', '0.475', 'HUMAN']\n",
      "https://opig.stats.ox.ac.uk/webapps/sabdab-sabpred/sabpred/humab_results/20231124_0175841\n"
     ]
    },
    {
     "name": "stderr",
     "output_type": "stream",
     "text": [
      "50it [15:13, 17.94s/it]"
     ]
    },
    {
     "name": "stdout",
     "output_type": "stream",
     "text": [
      "[[['V-gene', 'Score', 'Threshold', 'Classification'], ['HV1', '0.000', '0.725', 'NOT HUMAN'], ['HV2', '0.000', '0.835', 'NOT HUMAN'], ['HV3', '0.990', '0.575', 'HUMAN'], ['HV4', '0.000', '0.565', 'NOT HUMAN'], ['HV5', '0.000', '0.520', 'NOT HUMAN'], ['HV6', '0.000', '0.930', 'NOT HUMAN'], ['HV7', '0.000', '0.720', 'NOT HUMAN']], [['V-gene', 'Score', 'Threshold', 'Classification'], ['KV1', '0.035', '0.720', 'NOT HUMAN'], ['KV2', '0.090', '0.720', 'NOT HUMAN'], ['KV3', '0.030', '0.720', 'NOT HUMAN'], ['KV4', '0.980', '0.655', 'HUMAN'], ['KV5', '0.000', '0.815', 'NOT HUMAN'], ['KV6', '0.000', '0.475', 'NOT HUMAN']]]\n",
      "['HV3', '0.990', '0.575', 'HUMAN', 'KV4', '0.980', '0.655', 'HUMAN']\n",
      "https://opig.stats.ox.ac.uk/webapps/sabdab-sabpred/sabpred/humab_results/20231124_0428464\n"
     ]
    },
    {
     "name": "stderr",
     "output_type": "stream",
     "text": [
      "51it [15:31, 18.17s/it]"
     ]
    },
    {
     "name": "stdout",
     "output_type": "stream",
     "text": [
      "[]\n",
      "[]\n",
      "https://opig.stats.ox.ac.uk/webapps/sabdab-sabpred/sabpred/humab_results/20231124_0220022\n"
     ]
    },
    {
     "name": "stderr",
     "output_type": "stream",
     "text": [
      "52it [15:54, 19.47s/it]"
     ]
    },
    {
     "name": "stdout",
     "output_type": "stream",
     "text": [
      "[]\n",
      "[]\n",
      "https://opig.stats.ox.ac.uk/webapps/sabdab-sabpred/sabpred/humab_results/20231124_0949716\n"
     ]
    },
    {
     "name": "stderr",
     "output_type": "stream",
     "text": [
      "53it [16:15, 19.87s/it]"
     ]
    },
    {
     "name": "stdout",
     "output_type": "stream",
     "text": [
      "[[['V-gene', 'Score', 'Threshold', 'Classification'], ['HV1', '0.965', '0.725', 'HUMAN'], ['HV2', '0.000', '0.835', 'NOT HUMAN'], ['HV3', '0.155', '0.575', 'NOT HUMAN'], ['HV4', '0.005', '0.565', 'NOT HUMAN'], ['HV5', '0.115', '0.520', 'NOT HUMAN'], ['HV6', '0.000', '0.930', 'NOT HUMAN'], ['HV7', '0.240', '0.720', 'NOT HUMAN']], [['V-gene', 'Score', 'Threshold', 'Classification'], ['KV1', '0.095', '0.720', 'NOT HUMAN'], ['KV2', '0.000', '0.720', 'NOT HUMAN'], ['KV3', '0.925', '0.720', 'HUMAN'], ['KV4', '0.040', '0.655', 'NOT HUMAN'], ['KV5', '0.000', '0.815', 'NOT HUMAN'], ['KV6', '0.005', '0.475', 'NOT HUMAN']]]\n",
      "['HV1', '0.965', '0.725', 'HUMAN', 'KV3', '0.925', '0.720', 'HUMAN']\n",
      "https://opig.stats.ox.ac.uk/webapps/sabdab-sabpred/sabpred/humab_results/20231124_0486876\n"
     ]
    },
    {
     "name": "stderr",
     "output_type": "stream",
     "text": [
      "54it [16:34, 19.55s/it]"
     ]
    },
    {
     "name": "stdout",
     "output_type": "stream",
     "text": [
      "[[['V-gene', 'Score', 'Threshold', 'Classification'], ['HV1', '0.050', '0.725', 'NOT HUMAN'], ['HV2', '0.000', '0.835', 'NOT HUMAN'], ['HV3', '0.995', '0.575', 'HUMAN'], ['HV4', '0.000', '0.565', 'NOT HUMAN'], ['HV5', '0.000', '0.520', 'NOT HUMAN'], ['HV6', '0.000', '0.930', 'NOT HUMAN'], ['HV7', '0.005', '0.720', 'NOT HUMAN']], [['V-gene', 'Score', 'Threshold', 'Classification'], ['KV1', '0.000', '0.720', 'NOT HUMAN'], ['KV2', '0.970', '0.720', 'HUMAN'], ['KV3', '0.005', '0.720', 'NOT HUMAN'], ['KV4', '0.005', '0.655', 'NOT HUMAN'], ['KV5', '0.000', '0.815', 'NOT HUMAN'], ['KV6', '0.000', '0.475', 'NOT HUMAN']]]\n",
      "['HV3', '0.995', '0.575', 'HUMAN', 'KV2', '0.970', '0.720', 'HUMAN']\n",
      "https://opig.stats.ox.ac.uk/webapps/sabdab-sabpred/sabpred/humab_results/20231124_0929266\n"
     ]
    },
    {
     "name": "stderr",
     "output_type": "stream",
     "text": [
      "55it [16:51, 19.01s/it]"
     ]
    },
    {
     "name": "stdout",
     "output_type": "stream",
     "text": [
      "[]\n",
      "[]\n",
      "https://opig.stats.ox.ac.uk/webapps/sabdab-sabpred/sabpred/humab_results/20231124_0819747\n"
     ]
    },
    {
     "name": "stderr",
     "output_type": "stream",
     "text": [
      "56it [17:09, 18.61s/it]"
     ]
    },
    {
     "name": "stdout",
     "output_type": "stream",
     "text": [
      "[]\n",
      "[]\n",
      "https://opig.stats.ox.ac.uk/webapps/sabdab-sabpred/sabpred/humab_results/20231124_0330815\n"
     ]
    },
    {
     "name": "stderr",
     "output_type": "stream",
     "text": [
      "57it [17:28, 18.64s/it]"
     ]
    },
    {
     "name": "stdout",
     "output_type": "stream",
     "text": [
      "[[['V-gene', 'Score', 'Threshold', 'Classification'], ['HV1', '0.990', '0.725', 'HUMAN'], ['HV2', '0.000', '0.835', 'NOT HUMAN'], ['HV3', '0.070', '0.575', 'NOT HUMAN'], ['HV4', '0.000', '0.565', 'NOT HUMAN'], ['HV5', '0.240', '0.520', 'NOT HUMAN'], ['HV6', '0.000', '0.930', 'NOT HUMAN'], ['HV7', '0.290', '0.720', 'NOT HUMAN']], [['V-gene', 'Score', 'Threshold', 'Classification'], ['KV1', '0.955', '0.720', 'HUMAN'], ['KV2', '0.010', '0.720', 'NOT HUMAN'], ['KV3', '0.145', '0.720', 'NOT HUMAN'], ['KV4', '0.010', '0.655', 'NOT HUMAN'], ['KV5', '0.000', '0.815', 'NOT HUMAN'], ['KV6', '0.010', '0.475', 'NOT HUMAN']]]\n",
      "['HV1', '0.990', '0.725', 'HUMAN', 'KV1', '0.955', '0.720', 'HUMAN']\n",
      "https://opig.stats.ox.ac.uk/webapps/sabdab-sabpred/sabpred/humab_results/20231124_0373594\n"
     ]
    },
    {
     "name": "stderr",
     "output_type": "stream",
     "text": [
      "58it [17:45, 18.35s/it]"
     ]
    },
    {
     "name": "stdout",
     "output_type": "stream",
     "text": [
      "[[['V-gene', 'Score', 'Threshold', 'Classification'], ['HV1', '0.010', '0.725', 'NOT HUMAN'], ['HV2', '0.000', '0.835', 'NOT HUMAN'], ['HV3', '0.995', '0.575', 'HUMAN'], ['HV4', '0.010', '0.565', 'NOT HUMAN'], ['HV5', '0.000', '0.520', 'NOT HUMAN'], ['HV6', '0.000', '0.930', 'NOT HUMAN'], ['HV7', '0.000', '0.720', 'NOT HUMAN']], [['V-gene', 'Score', 'Threshold', 'Classification'], ['KV1', '0.155', '0.720', 'NOT HUMAN'], ['KV2', '0.415', '0.720', 'NOT HUMAN'], ['KV3', '0.385', '0.720', 'NOT HUMAN'], ['KV4', '0.470', '0.655', 'NOT HUMAN'], ['KV5', '0.000', '0.815', 'NOT HUMAN'], ['KV6', '0.100', '0.475', 'NOT HUMAN']]]\n",
      "['HV3', '0.995', '0.575', 'HUMAN', None, None, None, None]\n",
      "https://opig.stats.ox.ac.uk/webapps/sabdab-sabpred/sabpred/humab_results/20231124_0588923\n"
     ]
    },
    {
     "name": "stderr",
     "output_type": "stream",
     "text": [
      "59it [18:03, 18.15s/it]"
     ]
    },
    {
     "name": "stdout",
     "output_type": "stream",
     "text": [
      "[]\n",
      "[]\n",
      "https://opig.stats.ox.ac.uk/webapps/sabdab-sabpred/sabpred/humab_results/20231124_0711959\n"
     ]
    },
    {
     "name": "stderr",
     "output_type": "stream",
     "text": [
      "60it [18:21, 17.99s/it]"
     ]
    },
    {
     "name": "stdout",
     "output_type": "stream",
     "text": [
      "[]\n",
      "[]\n",
      "https://opig.stats.ox.ac.uk/webapps/sabdab-sabpred/sabpred/humab_results/20231124_0963462\n"
     ]
    },
    {
     "name": "stderr",
     "output_type": "stream",
     "text": [
      "61it [18:38, 17.89s/it]"
     ]
    },
    {
     "name": "stdout",
     "output_type": "stream",
     "text": [
      "[[['V-gene', 'Score', 'Threshold', 'Classification'], ['HV1', '0.005', '0.725', 'NOT HUMAN'], ['HV2', '0.000', '0.835', 'NOT HUMAN'], ['HV3', '0.830', '0.575', 'HUMAN'], ['HV4', '0.000', '0.565', 'NOT HUMAN'], ['HV5', '0.000', '0.520', 'NOT HUMAN'], ['HV6', '0.005', '0.930', 'NOT HUMAN'], ['HV7', '0.000', '0.720', 'NOT HUMAN']], [['V-gene', 'Score', 'Threshold', 'Classification'], ['KV1', '0.870', '0.720', 'HUMAN'], ['KV2', '0.000', '0.720', 'NOT HUMAN'], ['KV3', '0.015', '0.720', 'NOT HUMAN'], ['KV4', '0.000', '0.655', 'NOT HUMAN'], ['KV5', '0.005', '0.815', 'NOT HUMAN'], ['KV6', '0.005', '0.475', 'NOT HUMAN']]]\n",
      "['HV3', '0.830', '0.575', 'HUMAN', 'KV1', '0.870', '0.720', 'HUMAN']\n",
      "https://opig.stats.ox.ac.uk/webapps/sabdab-sabpred/sabpred/humab_results/20231124_0988796\n"
     ]
    },
    {
     "name": "stderr",
     "output_type": "stream",
     "text": [
      "62it [18:57, 18.12s/it]"
     ]
    },
    {
     "name": "stdout",
     "output_type": "stream",
     "text": [
      "[[['V-gene', 'Score', 'Threshold', 'Classification'], ['HV1', '0.985', '0.725', 'HUMAN'], ['HV2', '0.000', '0.835', 'NOT HUMAN'], ['HV3', '0.125', '0.575', 'NOT HUMAN'], ['HV4', '0.000', '0.565', 'NOT HUMAN'], ['HV5', '0.065', '0.520', 'NOT HUMAN'], ['HV6', '0.000', '0.930', 'NOT HUMAN'], ['HV7', '0.305', '0.720', 'NOT HUMAN']], [['V-gene', 'Score', 'Threshold', 'Classification'], ['KV1', '0.760', '0.720', 'HUMAN'], ['KV2', '0.030', '0.720', 'NOT HUMAN'], ['KV3', '0.305', '0.720', 'NOT HUMAN'], ['KV4', '0.035', '0.655', 'NOT HUMAN'], ['KV5', '0.000', '0.815', 'NOT HUMAN'], ['KV6', '0.005', '0.475', 'NOT HUMAN']]]\n",
      "['HV1', '0.985', '0.725', 'HUMAN', 'KV1', '0.760', '0.720', 'HUMAN']\n",
      "https://opig.stats.ox.ac.uk/webapps/sabdab-sabpred/sabpred/humab_results/20231124_0311869\n"
     ]
    },
    {
     "name": "stderr",
     "output_type": "stream",
     "text": [
      "63it [19:17, 18.59s/it]"
     ]
    },
    {
     "name": "stdout",
     "output_type": "stream",
     "text": [
      "[]\n",
      "[]\n",
      "https://opig.stats.ox.ac.uk/webapps/sabdab-sabpred/sabpred/humab_results/20231124_0870455\n"
     ]
    },
    {
     "name": "stderr",
     "output_type": "stream",
     "text": [
      "64it [19:45, 21.57s/it]"
     ]
    },
    {
     "name": "stdout",
     "output_type": "stream",
     "text": [
      "[]\n",
      "[]\n",
      "https://opig.stats.ox.ac.uk/webapps/sabdab-sabpred/sabpred/humab_results/20231124_0276249\n"
     ]
    },
    {
     "name": "stderr",
     "output_type": "stream",
     "text": [
      "65it [20:05, 20.96s/it]"
     ]
    },
    {
     "name": "stdout",
     "output_type": "stream",
     "text": [
      "[[['V-gene', 'Score', 'Threshold', 'Classification'], ['HV1', '0.000', '0.725', 'NOT HUMAN'], ['HV2', '0.000', '0.835', 'NOT HUMAN'], ['HV3', '0.995', '0.575', 'HUMAN'], ['HV4', '0.005', '0.565', 'NOT HUMAN'], ['HV5', '0.000', '0.520', 'NOT HUMAN'], ['HV6', '0.000', '0.930', 'NOT HUMAN'], ['HV7', '0.000', '0.720', 'NOT HUMAN']], [['V-gene', 'Score', 'Threshold', 'Classification'], ['KV1', '0.235', '0.720', 'NOT HUMAN'], ['KV2', '0.000', '0.720', 'NOT HUMAN'], ['KV3', '0.975', '0.720', 'HUMAN'], ['KV4', '0.060', '0.655', 'NOT HUMAN'], ['KV5', '0.000', '0.815', 'NOT HUMAN'], ['KV6', '0.005', '0.475', 'NOT HUMAN']]]\n",
      "['HV3', '0.995', '0.575', 'HUMAN', 'KV3', '0.975', '0.720', 'HUMAN']\n",
      "https://opig.stats.ox.ac.uk/webapps/sabdab-sabpred/sabpred/humab_results/20231124_0477703\n"
     ]
    },
    {
     "name": "stderr",
     "output_type": "stream",
     "text": [
      "66it [20:22, 19.98s/it]"
     ]
    },
    {
     "name": "stdout",
     "output_type": "stream",
     "text": [
      "[[['V-gene', 'Score', 'Threshold', 'Classification'], ['HV1', '0.470', '0.725', 'NOT HUMAN'], ['HV2', '0.000', '0.835', 'NOT HUMAN'], ['HV3', '0.095', '0.575', 'NOT HUMAN'], ['HV4', '0.010', '0.565', 'NOT HUMAN'], ['HV5', '0.085', '0.520', 'NOT HUMAN'], ['HV6', '0.000', '0.930', 'NOT HUMAN'], ['HV7', '0.780', '0.720', 'HUMAN']], [['V-gene', 'Score', 'Threshold', 'Classification'], ['KV1', '0.090', '0.720', 'NOT HUMAN'], ['KV2', '0.225', '0.720', 'NOT HUMAN'], ['KV3', '0.135', '0.720', 'NOT HUMAN'], ['KV4', '0.930', '0.655', 'HUMAN'], ['KV5', '0.000', '0.815', 'NOT HUMAN'], ['KV6', '0.000', '0.475', 'NOT HUMAN']]]\n",
      "['HV7', '0.780', '0.720', 'HUMAN', 'KV4', '0.930', '0.655', 'HUMAN']\n",
      "https://opig.stats.ox.ac.uk/webapps/sabdab-sabpred/sabpred/humab_results/20231124_0330131\n"
     ]
    },
    {
     "name": "stderr",
     "output_type": "stream",
     "text": [
      "67it [20:41, 19.50s/it]"
     ]
    },
    {
     "name": "stdout",
     "output_type": "stream",
     "text": [
      "[]\n",
      "[]\n",
      "https://opig.stats.ox.ac.uk/webapps/sabdab-sabpred/sabpred/humab_results/20231124_0223743\n"
     ]
    },
    {
     "name": "stderr",
     "output_type": "stream",
     "text": [
      "68it [20:59, 19.05s/it]"
     ]
    },
    {
     "name": "stdout",
     "output_type": "stream",
     "text": [
      "[]\n",
      "[]\n",
      "https://opig.stats.ox.ac.uk/webapps/sabdab-sabpred/sabpred/humab_results/20231124_0723375\n"
     ]
    },
    {
     "name": "stderr",
     "output_type": "stream",
     "text": [
      "69it [21:19, 19.32s/it]"
     ]
    },
    {
     "name": "stdout",
     "output_type": "stream",
     "text": [
      "[[['V-gene', 'Score', 'Threshold', 'Classification'], ['HV1', '0.670', '0.725', 'NOT HUMAN'], ['HV2', '0.000', '0.835', 'NOT HUMAN'], ['HV3', '0.145', '0.575', 'NOT HUMAN'], ['HV4', '0.030', '0.565', 'NOT HUMAN'], ['HV5', '0.745', '0.520', 'HUMAN'], ['HV6', '0.000', '0.930', 'NOT HUMAN'], ['HV7', '0.110', '0.720', 'NOT HUMAN']], [['V-gene', 'Score', 'Threshold', 'Classification'], ['KV1', '0.020', '0.720', 'NOT HUMAN'], ['KV2', '0.060', '0.720', 'NOT HUMAN'], ['KV3', '0.030', '0.720', 'NOT HUMAN'], ['KV4', '1.000', '0.655', 'HUMAN'], ['KV5', '0.000', '0.815', 'NOT HUMAN'], ['KV6', '0.000', '0.475', 'NOT HUMAN']]]\n",
      "['HV5', '0.745', '0.520', 'HUMAN', 'KV4', '1.000', '0.655', 'HUMAN']\n",
      "https://opig.stats.ox.ac.uk/webapps/sabdab-sabpred/sabpred/humab_results/20231124_0107069\n"
     ]
    },
    {
     "name": "stderr",
     "output_type": "stream",
     "text": [
      "70it [21:38, 19.24s/it]"
     ]
    },
    {
     "name": "stdout",
     "output_type": "stream",
     "text": [
      "[[['V-gene', 'Score', 'Threshold', 'Classification'], ['HV1', '0.395', '0.725', 'NOT HUMAN'], ['HV2', '0.000', '0.835', 'NOT HUMAN'], ['HV3', '0.105', '0.575', 'NOT HUMAN'], ['HV4', '0.000', '0.565', 'NOT HUMAN'], ['HV5', '0.015', '0.520', 'NOT HUMAN'], ['HV6', '0.000', '0.930', 'NOT HUMAN'], ['HV7', '0.900', '0.720', 'HUMAN']], [['V-gene', 'Score', 'Threshold', 'Classification'], ['KV1', '0.005', '0.720', 'NOT HUMAN'], ['KV2', '0.885', '0.720', 'HUMAN'], ['KV3', '0.025', '0.720', 'NOT HUMAN'], ['KV4', '0.040', '0.655', 'NOT HUMAN'], ['KV5', '0.000', '0.815', 'NOT HUMAN'], ['KV6', '0.005', '0.475', 'NOT HUMAN']]]\n",
      "['HV7', '0.900', '0.720', 'HUMAN', 'KV2', '0.885', '0.720', 'HUMAN']\n",
      "https://opig.stats.ox.ac.uk/webapps/sabdab-sabpred/sabpred/humab_results/20231124_0615979\n"
     ]
    },
    {
     "name": "stderr",
     "output_type": "stream",
     "text": [
      "71it [21:58, 19.46s/it]"
     ]
    },
    {
     "name": "stdout",
     "output_type": "stream",
     "text": [
      "[]\n",
      "[]\n",
      "https://opig.stats.ox.ac.uk/webapps/sabdab-sabpred/sabpred/humab_results/20231124_0254001\n"
     ]
    },
    {
     "name": "stderr",
     "output_type": "stream",
     "text": [
      "72it [22:16, 19.22s/it]"
     ]
    },
    {
     "name": "stdout",
     "output_type": "stream",
     "text": [
      "[]\n",
      "[]\n",
      "https://opig.stats.ox.ac.uk/webapps/sabdab-sabpred/sabpred/humab_results/20231124_0648932\n"
     ]
    },
    {
     "name": "stderr",
     "output_type": "stream",
     "text": [
      "73it [22:34, 18.75s/it]"
     ]
    },
    {
     "name": "stdout",
     "output_type": "stream",
     "text": [
      "[[['V-gene', 'Score', 'Threshold', 'Classification'], ['HV1', '0.995', '0.725', 'HUMAN'], ['HV2', '0.000', '0.835', 'NOT HUMAN'], ['HV3', '0.240', '0.575', 'NOT HUMAN'], ['HV4', '0.035', '0.565', 'NOT HUMAN'], ['HV5', '0.185', '0.520', 'NOT HUMAN'], ['HV6', '0.000', '0.930', 'NOT HUMAN'], ['HV7', '0.215', '0.720', 'NOT HUMAN']], [['V-gene', 'Score', 'Threshold', 'Classification'], ['KV1', '0.020', '0.720', 'NOT HUMAN'], ['KV2', '0.005', '0.720', 'NOT HUMAN'], ['KV3', '0.995', '0.720', 'HUMAN'], ['KV4', '0.010', '0.655', 'NOT HUMAN'], ['KV5', '0.005', '0.815', 'NOT HUMAN'], ['KV6', '0.015', '0.475', 'NOT HUMAN']]]\n",
      "['HV1', '0.995', '0.725', 'HUMAN', 'KV3', '0.995', '0.720', 'HUMAN']\n",
      "https://opig.stats.ox.ac.uk/webapps/sabdab-sabpred/sabpred/humab_results/20231124_0710789\n"
     ]
    },
    {
     "name": "stderr",
     "output_type": "stream",
     "text": [
      "74it [22:52, 18.43s/it]"
     ]
    },
    {
     "name": "stdout",
     "output_type": "stream",
     "text": [
      "[[['V-gene', 'Score', 'Threshold', 'Classification'], ['HV1', '0.000', '0.725', 'NOT HUMAN'], ['HV2', '0.000', '0.835', 'NOT HUMAN'], ['HV3', '0.745', '0.575', 'HUMAN'], ['HV4', '0.000', '0.565', 'NOT HUMAN'], ['HV5', '0.000', '0.520', 'NOT HUMAN'], ['HV6', '0.000', '0.930', 'NOT HUMAN'], ['HV7', '0.000', '0.720', 'NOT HUMAN']], [['V-gene', 'Score', 'Threshold', 'Classification'], ['KV1', '0.765', '0.720', 'HUMAN'], ['KV2', '0.200', '0.720', 'NOT HUMAN'], ['KV3', '0.080', '0.720', 'NOT HUMAN'], ['KV4', '0.325', '0.655', 'NOT HUMAN'], ['KV5', '0.000', '0.815', 'NOT HUMAN'], ['KV6', '0.005', '0.475', 'NOT HUMAN']]]\n",
      "['HV3', '0.745', '0.575', 'HUMAN', 'KV1', '0.765', '0.720', 'HUMAN']\n",
      "https://opig.stats.ox.ac.uk/webapps/sabdab-sabpred/sabpred/humab_results/20231124_0416666\n"
     ]
    },
    {
     "name": "stderr",
     "output_type": "stream",
     "text": [
      "75it [23:10, 18.22s/it]"
     ]
    },
    {
     "name": "stdout",
     "output_type": "stream",
     "text": [
      "[]\n",
      "[]\n",
      "https://opig.stats.ox.ac.uk/webapps/sabdab-sabpred/sabpred/humab_results/20231124_0261629\n"
     ]
    },
    {
     "name": "stderr",
     "output_type": "stream",
     "text": [
      "76it [23:27, 18.06s/it]"
     ]
    },
    {
     "name": "stdout",
     "output_type": "stream",
     "text": [
      "[]\n",
      "[]\n",
      "https://opig.stats.ox.ac.uk/webapps/sabdab-sabpred/sabpred/humab_results/20231124_0987749\n"
     ]
    }
   ],
   "source": [
    "# Define a new dataframe for saving results.\n",
    "humab_df = pd.DataFrame(columns=['Raw_name', 'H-V-gene', 'H-Score', 'H-Threshold', 'H-Classification',\n",
    "                                 'L-V-gene', 'L-Score', 'L-Threshold', 'L-Classification', 'H_seq', 'L_seq'])\n",
    "# test_h = 'EVQLVESGGGLVQPGGSLRLSCAASGFTFSNFWMDWVRQAPGKGLEWIAGIRLKSYNYATHYAESVKGRFTISRDDSKSTVYLQMNSLRAEDTAVYYCTDWDGAYWGQGTLVTVSS'\n",
    "# test_l = 'DIVMTQSPSSLSASVGDRVTITCKASQDVSTDVAWYQQKPGKSPKLLIYSASYRYTGVPSRFSGSGSGTDFTLTISSLQPEDIATYYCQQHYSTPFTFGQGTKLEIK'\n",
    "Not_successful_index = []\n",
    "for i, line in tqdm(enumerate(sample_human_df.iterrows())):\n",
    "    h_seq = line[1]['hseq']\n",
    "    l_seq = line[1]['lseq']\n",
    "    name = [line[1]['name']]\n",
    "    # print(name)\n",
    "    job_name = line[1]['Specific'] + '_' + str(i)\n",
    "    data = get_predict_result(job_name, h_seq, l_seq)\n",
    "    # print(data)\n",
    "    if len(data) != 2:\n",
    "        new_data = name + data\n",
    "        new_line_df = pd.DataFrame([new_data], columns=humab_df.columns)\n",
    "        humab_df = pd.concat([humab_df, new_line_df], ignore_index=True)\n",
    "    else:\n",
    "        Not_successful_index.append(i)\n",
    "    \n",
    "    "
   ]
  },
  {
   "cell_type": "code",
   "execution_count": 94,
   "id": "88f37ad2-84c5-4090-988a-cc13712ba67a",
   "metadata": {},
   "outputs": [
    {
     "data": {
      "text/plain": [
       "0             mouse\n",
       "1      humanization\n",
       "2             mouse\n",
       "3      humanization\n",
       "4             mouse\n",
       "           ...     \n",
       "627    humanization\n",
       "628           mouse\n",
       "629    humanization\n",
       "630           mouse\n",
       "631    humanization\n",
       "Name: Specific, Length: 632, dtype: object"
      ]
     },
     "execution_count": 94,
     "metadata": {},
     "output_type": "execute_result"
    }
   ],
   "source": [
    "sample_human_df"
   ]
  },
  {
   "cell_type": "code",
   "execution_count": 83,
   "id": "6462a096-9ec0-45ed-b0c4-58fcda107888",
   "metadata": {},
   "outputs": [
    {
     "name": "stdout",
     "output_type": "stream",
     "text": [
      "None\n"
     ]
    }
   ],
   "source": [
    "print(data)"
   ]
  },
  {
   "cell_type": "code",
   "execution_count": 28,
   "id": "5c5cda66-aeea-47d5-8db3-d66f6e81fd81",
   "metadata": {},
   "outputs": [
    {
     "data": {
      "text/plain": [
       "'https://opig.stats.ox.ac.uk/webapps/sabdab-sabpred/sabpred/humab_results/20231123_0990646'"
      ]
     },
     "execution_count": 28,
     "metadata": {},
     "output_type": "execute_result"
    }
   ],
   "source": [
    "response.url"
   ]
  },
  {
   "cell_type": "code",
   "execution_count": 29,
   "id": "91eb34e5-d044-43f8-b99f-df6ea346c6b0",
   "metadata": {},
   "outputs": [],
   "source": [
    "result_test = requests.get(response.url)"
   ]
  },
  {
   "cell_type": "code",
   "execution_count": 31,
   "id": "480ef3a3-8485-499f-bd46-b3a2b618296b",
   "metadata": {},
   "outputs": [
    {
     "data": {
      "text/plain": [
       "'<!DOCTYPE html>\\n<html>\\n\\n<head>\\n  <meta charset=\"utf-8\">\\n  <meta name=\"viewport\" content=\"width=device-width, initial-scale=1\">\\n  \\n  <!-- PAGE settings -->\\n  <title>SAbPred: Hu-mAb Results\\n</title>\\n  <link href=\"/webapps/sabdab-sabpred/static/img/favicon.png\" rel=\"shortcut icon\" type=\"image/x-icon\" />\\n\\n  <!-- CSS dependencies -->\\n  <link rel=\"stylesheet\" href=\"/webapps/sabdab-sabpred/static/css/wireframe.css\">\\n  <link rel=\"stylesheet\" href=\"/webapps/sabdab-sabpred/static/css/google-fonts.css\">\\n  <!--<link href=\"https://fonts.googleapis.com/css?family=Comfortaa|Josefin+Slab:100,400|Source+Code+Pro\" rel=\"stylesheet\">-->\\n  \\n  <link href=\"/webapps/sabdab-sabpred/static/jsav/JSAVcustom.css\" rel=\"stylesheet\">\\n  <link href=\"/webapps/sabdab-sabpred/static/Welcome_files/jquery-ui.css\" rel=\"stylesheet\">\\n  <script src=\"/webapps/sabdab-sabpred/static/Welcome_files/jquery.js\"></script> <!-- Must be loaded before JSAV -->\\n  <script type=\"text/javascript\" src=\"/webapps/sabdab-sabpred/static/Welcome_files/jquery-ui-1.10.4.custom.min.js\"></script>\\n  <script type=\"text/javascript\" src=\"/webapps/sabdab-sabpred/static/jsav/JSAVcustom.js\"></script>\\n  \\n  <!--<link rel=\"stylesheet\" href=\"https://use.fontawesome.com/releases/v5.7.0/css/all.css\" integrity=\"sha384-lZN37f5QGtY3VHgisS14W3ExzMWZxybE1SJSEsQp9S+oqd12jhcu+A56Ebc1zFSJ\" crossorigin=\"anonymous\">-->\\n  <link rel=\"stylesheet\" href=\"/webapps/sabdab-sabpred/static/css/all.css\">\\n\\n  <script async src=\"https://www.googletagmanager.com/gtag/js?id=UA-142143190-1\"></script>\\n  <script>\\n    window.dataLayer = window.dataLayer || [];\\n    function gtag(){dataLayer.push(arguments);}\\n    gtag(\\'js\\', new Date());\\n\\n    gtag(\\'config\\', \\'UA-142143190-1\\');\\n  </script>\\n\\n</head>\\n\\n<body>\\n\\n  <nav class=\"navbar navbar-expand-md navbar-light bg-light\" style=\"border-bottom: 3px solid #002147;\">\\n    <div class=\"container\"> <a class=\"navbar-brand text-primary\" href=\"/webapps/sabdab-sabpred/sabpred\">\\n\\t<img class=\"img-fluid d-block\" src=\"/webapps/sabdab-sabpred/static/img/SAbPred_logo.png\" width=\"150\">\\n      </a> <button class=\"navbar-toggler navbar-toggler-right border-0\" type=\"button\" data-toggle=\"collapse\" data-target=\"#navbar4\">\\n        <span class=\"navbar-toggler-icon\"></span>\\n      </button>\\n      <div class=\"collapse navbar-collapse\" id=\"navbar4\">\\n        <ul class=\"navbar-nav ml-auto\">\\n          <li class=\"nav-item dropdown\">\\n            <a class=\"nav-link dropdown-toggle\" data-toggle=\"dropdown\" href=\"#\" role=\"button\" aria-haspopup=\"true\" aria-expanded=\"false\">Web Apps</a>\\n            <div class=\"dropdown-menu\">\\n              <a class=\"dropdown-item\" href=\"/webapps/sabdab-sabpred/sabpred/abodybuilder/\">ABodyBuilder-ML</a>\\n              <a class=\"dropdown-item\" href=\"/webapps/sabdab-sabpred/sabpred/abodybuilder2/\">ABodyBuilder2</a>\\n              <a class=\"dropdown-item\" href=\"/webapps/sabdab-sabpred/sabpred/tcrbuilder2/\">TCRBuilder2</a>\\n              <a class=\"dropdown-item\" href=\"/webapps/sabdab-sabpred/sabpred/nanobodybuilder2/\">NanoBodyBuilder2</a>\\n              <a class=\"dropdown-item\" href=\"/webapps/sabdab-sabpred/sabpred/pears\">PEARS</a>\\n              <a class=\"dropdown-item\" href=\"/webapps/sabdab-sabpred/sabpred/anarci/\">ANARCI</a>\\n              <a class=\"dropdown-item\" href=\"/webapps/sabdab-sabpred/sabpred/scalop\">SCALOP</a>\\n              <a class=\"dropdown-item\" href=\"/webapps/sabdab-sabpred/sabpred/tap\">TAP</a>\\n\\t            <a class=\"dropdown-item\" href=\"/webapps/sabdab-sabpred/sabpred/humab\">Hu-mAb</a>\\n            </div>\\n          </li>\\n          \\n          <li class=\"nav-item dropdown\">\\n            <a class=\"nav-link dropdown-toggle\" data-toggle=\"dropdown\" href=\"#\" role=\"button\" aria-haspopup=\"true\" aria-expanded=\"false\">Databases</a>\\n            <div class=\"dropdown-menu\">\\n              <a class=\"dropdown-item\" href=\"/webapps/sabdab-sabpred/sabdab\">SAbDab</a>\\n              <a class=\"dropdown-item\" href=\"/webapps/sabdab-sabpred/therasabdab\">Thera-SAbDab</a>\\n              <a class=\"dropdown-item\" href=\"https://opig.stats.ox.ac.uk/webapps/covabdab/\">CoV-AbDab</a>\\n              <a class=\"dropdown-item\" href=\"https://opig.stats.ox.ac.uk/webapps/oas/\" target=\"_blank\">OAS Database</a>\\n              <a class=\"dropdown-item\" href=\"https://opig.stats.ox.ac.uk/webapps/stcrdab/\" target=\"_blank\">STCRDab</a>\\n              <a class=\"dropdown-item\" href=\"https://opig.stats.ox.ac.uk/webapps/plabdab/\" target=\"_blank\">PLAbDab</a>\\n            </div>\\n          </li>\\n\\n          <li class=\"nav-item dropdown\">\\n            <a class=\"nav-link dropdown-toggle\" data-toggle=\"dropdown\" href=\"#\" role=\"button\" aria-haspopup=\"true\" aria-expanded=\"false\">GitHub</a>\\n            <div class=\"dropdown-menu\">\\n              <a class=\"dropdown-item\" href=\"https://github.com/oxpig/ImmuneBuilder\">ImmuneBuilder</a>\\n              <a class=\"dropdown-item\" href=\"https://github.com/oxpig/ABlooper\">ABlooper</a>\\n              <a class=\"dropdown-item\" href=\"https://github.com/oxpig/AbLang\">AbLang</a>\\n              <a class=\"dropdown-item\" href=\"https://github.com/oxpig/Paragraph\">Paragraph</a>\\n              <a class=\"dropdown-item\" href=\"https://github.com/oxpig/dlab-public\">DLAB</a>\\n              <a class=\"dropdown-item\" href=\"https://github.com/orgs/oxpig/repositories\">More OPIG Repos ...</a>\\n            </div>\\n          </li>\\n\\n          <li class=\"nav-item\"> <a class=\"nav-link\" href=\"/webapps/sabdab-sabpred/sabpred/more\">Downloads</a> </li>\\n          <li class=\"nav-item\"> <a class=\"nav-link\" href=\"/webapps/sabdab-sabpred/sabpred/jobqueue\">Job Queue</a> </li>\\n          <li class=\"nav-item\"> <a class=\"nav-link\" href=\"/webapps/sabdab-sabpred/sabpred/about\">About</a> </li>\\n\\n        </ul>\\n      </div>\\n    </div>\\n  </nav>\\n  \\n  <button onclick=\"topFunction()\" id=\"topBtn\" title=\"Go to top\">^</button>\\n  \\n\\n<style>\\n.table-humab { white-space:nowrap; border: none;}\\n.table-humab td { padding: 6px 2px; }\\n.res_cdr { color: white; background-color: #64CCF8; }\\n.res_fw { color: white; background-color: #002147; }\\n.fa-arrow-alt-circle-down { color: #ff5e5e; }\\n.mut { background-color: #ffde85; }\\n.no_mut {background-color: #f0f0f0; }\\n</style>\\n\\n<div style=\"background-image: url(/webapps/sabdab-sabpred/static/img/2hh0_2_bg_Fotor.png); background-position: center;    background-size: 100%;  background-repeat: repeat;      box-shadow: 0px 0px 4px  black; border: 3px solid #002147; border-top: 0px solid #002147; height:150px; position: relative;\">\\n      <div class=\"verticalcenter\" style=\"background-color: #002147; color: #ffffff; border-radius: 2rem; text-align:center;\">\\n          <h1 style=\"padding: 20px 50px;\">Hu-mAb - Results</h1>\\n      </div>\\n</div>\\n\\n<div class=\"container\">\\n    <div class=\"row\">\\n\\n        <div class=\"col-md-12 pt-4 pb-4\" id=\"sections\">\\n\\n            <div class=\"section mainsection\" id=\"search\" style=\"padding-top: 0px; margin-top: 0px;\">\\n                \\n                <div>\\n                </div>\\n                \\n                <div class=\"accordion section\" id=\"accordion1\">\\n                    <div class=\"accordion-group\" id = \"group1\">\\n                        <a class=\"accordion-toggle\" data-toggle=\"collapse\" data-parent=\"#accordion1\" href=\"#collapseOne\" style=\"color: #002147;\">\\n                            <div class=\"accordion-heading\" style=\"background-color: #002147; color: #ffffff;\">\\n                                <font color=\"#64CCF8\">></font>&nbsp;&nbsp; Job Status\\n                            </div>\\n                        </a>\\n                        \\n                        <div id=\"collapseOne\" class=\"accordion-body collapse show\">\\n                        \\n                            <div class=\"accordion-inner\">\\n                        \\n                                <div id=\"jobstatus\">\\n                                \\n                                    <table style=\"width:30%; min-width:250px;\">\\n                                        <tr>\\n                                            <td>Job ID:</td><td>20231123_0990646</td>\\n                                        </tr>\\n                                        <tr>\\n                                            <td>Job name:</td><td>test</td>\\n                                        </tr>\\n                                        <tr>\\n                                                <td>Job status:</td><td><font color=\"#64CCF8\">finished!</font></td>\\n                                        </tr>\\n                                        <tr>\\n                                            <td>Log file:</td><td></td>\\n                                        </tr>\\n                                    </table>\\n                                    \\n                                </div>\\n                                \\n                                <div class=\"log_file_box\" id=\"log_file_box\" style=\"height: 200px;\">\\n                                    <div style=\"font-family: Source Code Pro; font-size:8pt;\">\\n                                            Calculating&nbsp;humanness&nbsp;for&nbsp;input&nbsp;H&nbsp;chain.<br><br>Numbering&nbsp;input&nbsp;sequence&nbsp;with&nbsp;ANARCI...<br><br>Scoring&nbsp;humanness&nbsp;of&nbsp;sequence&nbsp;using&nbsp;V-genes&nbsp;hv1,&nbsp;hv2,&nbsp;hv3,&nbsp;hv4,&nbsp;hv5,&nbsp;hv6,&nbsp;hv7<br><br>hv1&nbsp;0.005<br>hv2&nbsp;0.0<br>hv3&nbsp;0.815<br>hv4&nbsp;0.0<br>hv5&nbsp;0.0<br>hv6&nbsp;0.0<br>hv7&nbsp;0.005<br>V-gene&nbsp;&nbsp;&nbsp;&nbsp;Score&nbsp;&nbsp;&nbsp;&nbsp;&nbsp;Threshold&nbsp;Classification<br>hv1&nbsp;&nbsp;&nbsp;&nbsp;&nbsp;&nbsp;&nbsp;0.005&nbsp;&nbsp;&nbsp;&nbsp;&nbsp;0.725&nbsp;&nbsp;&nbsp;&nbsp;&nbsp;NOT&nbsp;HUMAN<br>hv2&nbsp;&nbsp;&nbsp;&nbsp;&nbsp;&nbsp;&nbsp;0.000&nbsp;&nbsp;&nbsp;&nbsp;&nbsp;0.835&nbsp;&nbsp;&nbsp;&nbsp;&nbsp;NOT&nbsp;HUMAN<br>hv3&nbsp;&nbsp;&nbsp;&nbsp;&nbsp;&nbsp;&nbsp;0.815&nbsp;&nbsp;&nbsp;&nbsp;&nbsp;0.575&nbsp;&nbsp;&nbsp;&nbsp;&nbsp;HUMAN<br>hv4&nbsp;&nbsp;&nbsp;&nbsp;&nbsp;&nbsp;&nbsp;0.000&nbsp;&nbsp;&nbsp;&nbsp;&nbsp;0.565&nbsp;&nbsp;&nbsp;&nbsp;&nbsp;NOT&nbsp;HUMAN<br>hv5&nbsp;&nbsp;&nbsp;&nbsp;&nbsp;&nbsp;&nbsp;0.000&nbsp;&nbsp;&nbsp;&nbsp;&nbsp;0.520&nbsp;&nbsp;&nbsp;&nbsp;&nbsp;NOT&nbsp;HUMAN<br>hv6&nbsp;&nbsp;&nbsp;&nbsp;&nbsp;&nbsp;&nbsp;0.000&nbsp;&nbsp;&nbsp;&nbsp;&nbsp;0.930&nbsp;&nbsp;&nbsp;&nbsp;&nbsp;NOT&nbsp;HUMAN<br>hv7&nbsp;&nbsp;&nbsp;&nbsp;&nbsp;&nbsp;&nbsp;0.005&nbsp;&nbsp;&nbsp;&nbsp;&nbsp;0.720&nbsp;&nbsp;&nbsp;&nbsp;&nbsp;NOT&nbsp;HUMAN<br><br>Calculating&nbsp;humanness&nbsp;for&nbsp;input&nbsp;L&nbsp;chain.<br><br>Numbering&nbsp;input&nbsp;sequence&nbsp;with&nbsp;ANARCI...<br><br>Light&nbsp;chain&nbsp;sequence&nbsp;classified&nbsp;as&nbsp;kappa<br>Scoring&nbsp;humanness&nbsp;of&nbsp;sequence&nbsp;using&nbsp;V-genes&nbsp;kv1,&nbsp;kv2,&nbsp;kv3,&nbsp;kv4,&nbsp;kv5,&nbsp;kv6<br><br>kv1&nbsp;0.725<br>kv2&nbsp;0.0<br>kv3&nbsp;0.04<br>kv4&nbsp;0.04<br>kv5&nbsp;0.01<br>kv6&nbsp;0.0<br>V-gene&nbsp;&nbsp;&nbsp;&nbsp;Score&nbsp;&nbsp;&nbsp;&nbsp;&nbsp;Threshold&nbsp;Classification<br>kv1&nbsp;&nbsp;&nbsp;&nbsp;&nbsp;&nbsp;&nbsp;0.725&nbsp;&nbsp;&nbsp;&nbsp;&nbsp;0.720&nbsp;&nbsp;&nbsp;&nbsp;&nbsp;HUMAN<br>kv2&nbsp;&nbsp;&nbsp;&nbsp;&nbsp;&nbsp;&nbsp;0.000&nbsp;&nbsp;&nbsp;&nbsp;&nbsp;0.720&nbsp;&nbsp;&nbsp;&nbsp;&nbsp;NOT&nbsp;HUMAN<br>kv3&nbsp;&nbsp;&nbsp;&nbsp;&nbsp;&nbsp;&nbsp;0.040&nbsp;&nbsp;&nbsp;&nbsp;&nbsp;0.720&nbsp;&nbsp;&nbsp;&nbsp;&nbsp;NOT&nbsp;HUMAN<br>kv4&nbsp;&nbsp;&nbsp;&nbsp;&nbsp;&nbsp;&nbsp;0.040&nbsp;&nbsp;&nbsp;&nbsp;&nbsp;0.655&nbsp;&nbsp;&nbsp;&nbsp;&nbsp;NOT&nbsp;HUMAN<br>kv5&nbsp;&nbsp;&nbsp;&nbsp;&nbsp;&nbsp;&nbsp;0.010&nbsp;&nbsp;&nbsp;&nbsp;&nbsp;0.815&nbsp;&nbsp;&nbsp;&nbsp;&nbsp;NOT&nbsp;HUMAN<br>kv6&nbsp;&nbsp;&nbsp;&nbsp;&nbsp;&nbsp;&nbsp;0.000&nbsp;&nbsp;&nbsp;&nbsp;&nbsp;0.475&nbsp;&nbsp;&nbsp;&nbsp;&nbsp;NOT&nbsp;HUMAN<br><br>\\n                                    </div>\\n                                </div>\\n                            \\n                            </div>\\n                        </div>\\n                    </div>\\n                    \\n                    <div class=\"accordion-group\" id = \"group2\">\\n\\n\\n\\t\\t\\t<!-- ################# -->\\n\\t\\t\\t<!-- HUMANISATION JOBS -->\\n                        <a class=\"accordion-toggle\" data-toggle=\"collapse\" data-parent=\"#accordion1\" href=\"#collapseTwo\" style=\"color: #002147;\">\\n                            <div class=\"accordion-heading\" style=\"background-color: #002147; color: #ffffff;\">\\n                                <font color=\"#64CCF8\">></font>&nbsp;&nbsp; Results - Heavy Chain\\n                            </div>\\n                        </a>\\n\\n                        <div id=\"collapseTwo\" class=\"accordion-body collapse show\">\\n\\n                            <div class=\"accordion-inner\">\\n\\n                                <div id=\"results\">\\n\\n                                    <div style=\"padding-bottom: 40px;\">\\n\\n                                        <h6>Humanness scores + classifications</h6>\\n                                        <table class=\"table table-results\" style=\"text-align: center;\">\\n                                            <tr class=\"head\"><th>V-gene</th><th>Score</th><th>Threshold</th><th>Classification</th></tr>\\n\\t\\t\\t\\t\\t    <tr>\\n\\t\\t\\t\\t\\t\\t    <td>HV1</td>\\n\\t\\t\\t\\t\\t\\t    <td>0.005</td>\\n\\t\\t\\t\\t\\t\\t    <td>0.725</td>\\n\\n\\t\\t\\t\\t\\t\\t\\t<td style=\"background-color: #ed8282;\">NOT HUMAN</td>\\n\\t\\t\\t\\t\\t    </tr>\\n\\t\\t\\t\\t\\t    <tr>\\n\\t\\t\\t\\t\\t\\t    <td>HV2</td>\\n\\t\\t\\t\\t\\t\\t    <td>0.000</td>\\n\\t\\t\\t\\t\\t\\t    <td>0.835</td>\\n\\n\\t\\t\\t\\t\\t\\t\\t<td style=\"background-color: #ed8282;\">NOT HUMAN</td>\\n\\t\\t\\t\\t\\t    </tr>\\n\\t\\t\\t\\t\\t    <tr>\\n\\t\\t\\t\\t\\t\\t    <td>HV3</td>\\n\\t\\t\\t\\t\\t\\t    <td>0.815</td>\\n\\t\\t\\t\\t\\t\\t    <td>0.575</td>\\n\\n\\t\\t\\t\\t\\t\\t    \\t<td style=\"background-color: #52d9a1;\">HUMAN</td>\\n\\t\\t\\t\\t\\t    </tr>\\n\\t\\t\\t\\t\\t    <tr>\\n\\t\\t\\t\\t\\t\\t    <td>HV4</td>\\n\\t\\t\\t\\t\\t\\t    <td>0.000</td>\\n\\t\\t\\t\\t\\t\\t    <td>0.565</td>\\n\\n\\t\\t\\t\\t\\t\\t\\t<td style=\"background-color: #ed8282;\">NOT HUMAN</td>\\n\\t\\t\\t\\t\\t    </tr>\\n\\t\\t\\t\\t\\t    <tr>\\n\\t\\t\\t\\t\\t\\t    <td>HV5</td>\\n\\t\\t\\t\\t\\t\\t    <td>0.000</td>\\n\\t\\t\\t\\t\\t\\t    <td>0.520</td>\\n\\n\\t\\t\\t\\t\\t\\t\\t<td style=\"background-color: #ed8282;\">NOT HUMAN</td>\\n\\t\\t\\t\\t\\t    </tr>\\n\\t\\t\\t\\t\\t    <tr>\\n\\t\\t\\t\\t\\t\\t    <td>HV6</td>\\n\\t\\t\\t\\t\\t\\t    <td>0.000</td>\\n\\t\\t\\t\\t\\t\\t    <td>0.930</td>\\n\\n\\t\\t\\t\\t\\t\\t\\t<td style=\"background-color: #ed8282;\">NOT HUMAN</td>\\n\\t\\t\\t\\t\\t    </tr>\\n\\t\\t\\t\\t\\t    <tr>\\n\\t\\t\\t\\t\\t\\t    <td>HV7</td>\\n\\t\\t\\t\\t\\t\\t    <td>0.005</td>\\n\\t\\t\\t\\t\\t\\t    <td>0.720</td>\\n\\n\\t\\t\\t\\t\\t\\t\\t<td style=\"background-color: #ed8282;\">NOT HUMAN</td>\\n\\t\\t\\t\\t\\t    </tr>\\n                                        </table>\\n\\n                                    </div>\\n\\n                                </div>\\n\\n                            </div>\\n                        </div>\\n  <!-- end if h_present -->\\n\\n                        <a class=\"accordion-toggle\" data-toggle=\"collapse\" data-parent=\"#accordion1\" href=\"#collapseThree\" style=\"color: #002147;\">\\n                            <div class=\"accordion-heading\" style=\"background-color: #002147; color: #ffffff;\">\\n                                <font color=\"#64CCF8\">></font>&nbsp;&nbsp; Results - Light Chain\\n                            </div>\\n                        </a>\\n\\n                        <div id=\"collapseThree\" class=\"accordion-body collapse show\">\\n\\n                            <div class=\"accordion-inner\">\\n\\n                                <div id=\"results\">\\n\\n                                    <div style=\"padding-bottom: 40px;\">\\n\\n                                        <h6>Humanness scores + classifications</h6>\\n                                        <table class=\"table table-results\" style=\"text-align: center;\">\\n                                            <tr class=\"head\"><th>V-gene</th><th>Score</th><th>Threshold</th><th>Classification</th></tr>\\n                                            <tr>\\n                                                    <td>KV1</td>\\n                                                    <td>0.725</td>\\n\\t\\t\\t\\t\\t\\t                            <td>0.720</td>\\n\\n                                                        <td style=\"background-color: #52d9a1;\">HUMAN</td>\\n                                            </tr>\\n                                            <tr>\\n                                                    <td>KV2</td>\\n                                                    <td>0.000</td>\\n\\t\\t\\t\\t\\t\\t                            <td>0.720</td>\\n\\n                                                        <td style=\"background-color: #ed8282;\">NOT HUMAN</td>\\n                                            </tr>\\n                                            <tr>\\n                                                    <td>KV3</td>\\n                                                    <td>0.040</td>\\n\\t\\t\\t\\t\\t\\t                            <td>0.720</td>\\n\\n                                                        <td style=\"background-color: #ed8282;\">NOT HUMAN</td>\\n                                            </tr>\\n                                            <tr>\\n                                                    <td>KV4</td>\\n                                                    <td>0.040</td>\\n\\t\\t\\t\\t\\t\\t                            <td>0.655</td>\\n\\n                                                        <td style=\"background-color: #ed8282;\">NOT HUMAN</td>\\n                                            </tr>\\n                                            <tr>\\n                                                    <td>KV5</td>\\n                                                    <td>0.010</td>\\n\\t\\t\\t\\t\\t\\t                            <td>0.815</td>\\n\\n                                                        <td style=\"background-color: #ed8282;\">NOT HUMAN</td>\\n                                            </tr>\\n                                            <tr>\\n                                                    <td>KV6</td>\\n                                                    <td>0.000</td>\\n\\t\\t\\t\\t\\t\\t                            <td>0.475</td>\\n\\n                                                        <td style=\"background-color: #ed8282;\">NOT HUMAN</td>\\n                                            </tr>\\n                                        </table>\\n\\n                                    </div>\\n\\n                                </div>\\n\\n                            </div>\\n                        </div>\\n  <!-- end if l_present -->\\n\\n\\t\\t\\t<a class=\"accordion-toggle\" data-toggle=\"collapse\" data-parent=\"#accordion1\" href=\"#collapseFour\" style=\"color: #002147;\">\\n                            <div class=\"accordion-heading\" style=\"background-color: #002147; color: #ffffff;\">\\n                                <font color=\"#64CCF8\">></font>&nbsp;&nbsp; Downloads\\n                            </div>\\n                        </a>\\n\\n                        <div id=\"collapseFour\" class=\"accordion-body collapse show\">\\n\\n                            <div class=\"accordion-inner\">\\n\\n                                <div id=\"downloads\">\\n\\n                                    <div style=\"padding-bottom: 40px;\">\\n\\n                                        <table class=\"table table-results\">\\n                                            <tr>\\n                                                    <td style=\"width:30%;\"><a href=\"/webapps/sabdab-sabpred/sabpred/humab_results/20231123_0990646/test/heavy_scores/\" class=\"bluetoorangelink\"><i class=\\'fas fa-arrow-alt-circle-down\\'></i> Heavy chain results</a></td><td>File containing the humanness scores for your heavy chain.</td>\\n                                            </tr>\\n                                            <tr>\\n                                                    <td style=\"width:30%;\"><a href=\"/webapps/sabdab-sabpred/sabpred/humab_results/20231123_0990646/test/light_scores/\" class=\"bluetoorangelink\"><i class=\\'fas fa-arrow-alt-circle-down\\'></i> Light chain results</a></td><td>File containing the humanness scores for your light chain.</td>\\n                                            </tr>\\n                                            <!--<tr>\\n                                                    <td><a href=\"/webapps/sabdab-sabpred/sabpred/humab_results/20231123_0990646/test/log/\" class=\"bluetoorangelink\"><i class=\\'fas fa-arrow-alt-circle-down\\'></i> Log file</a></td><td>The log file for this Hu-mAb job.</td>\\n                                            </tr>-->\\n                                        </table>\\n                                    </div>\\n                                </div>\\n                            </div>\\n\\n                        </div>\\n <!-- end if jobtype is scoring -->\\n                    </div>\\n <!-- end if results --> \\n\\n                </div>\\n            </div>\\n        </div>\\n    </div>\\n</div>\\n\\n<script>\\nwindow.onscroll = function() {scrollFunction()};\\n\\nfunction scrollFunction() {\\n  if (document.body.scrollTop > 400 || document.documentElement.scrollTop > 400) {\\n    document.getElementById(\"topBtn\").style.display = \"block\";\\n  } else {\\n    document.getElementById(\"topBtn\").style.display = \"none\";\\n  }\\n}\\n\\n// When the user clicks on the button, scroll to the top of the document\\nfunction topFunction() {\\n  document.body.scrollTop = 0; // For Safari\\n  document.documentElement.scrollTop = 0; // For Chrome, Firefox, IE and Opera\\n}\\n</script>\\n\\n<script>\\n$(document).ready(function(){\\n  $(\\'[data-toggle=\"tooltip\"]\\').tooltip(); \\n});\\n</script>\\n\\n<script type=\"text/javascript\">\\n\\t$(document).ready(function(){\\n        $(\\'#log_file_box\\').scrollTop($(\\'#log_file_box\\')[0].scrollHeight);\\n    });\\n</script>\\n\\n  \\n  <div class=\"py-5\" style=\"background-color: #002147; color: #ffffff;\">\\n    <div class=\"container\">\\n      <div class=\"row\">\\n        <div class=\"col-md-8 txt-center\">\\n          <p>SAbPred paper: Dunbar, J. et al (2016). Nucleic Acids Res. 44. W474-W478 <a href=\"https://academic.oup.com/nar/article/44/W1/W474/2499346\">[link]</a></p>\\n        </div>\\n        <div class=\"col-md-4\"><a href=\"http://opig.stats.ox.ac.uk/\"><img class=\"img-fluid d-block img-flexipos\" src=\"/webapps/sabdab-sabpred/static/img/OPIG_logo_white.png\" width=\"60\"></a></div>\\n      </div>\\n    </div>\\n  </div>\\n\\n  <!--<script src=\"https://code.jquery.com/jquery-3.3.1.slim.min.js\" integrity=\"sha384-q8i/X+965DzO0rT7abK41JStQIAqVgRVzpbzo5smXKp4YfRvH+8abtTE1Pi6jizo\" crossorigin=\"anonymous\"></script>\\n  <script src=\"https://cdnjs.cloudflare.com/ajax/libs/popper.js/1.14.3/umd/popper.min.js\" integrity=\"sha384-ZMP7rVo3mIykV+2+9J3UJ46jBk0WLaUAdn689aCwoqbBJiSnjAK/l8WvCWPIPm49\" crossorigin=\"anonymous\"></script>\\n  <script src=\"https://stackpath.bootstrapcdn.com/bootstrap/4.1.3/js/bootstrap.min.js\" integrity=\"sha384-ChfqqxuZUCnJSK3+MXmPNIyE6ZbWh2IMqE241rYiqJxyMiZ6OW/JmZQ5stwEULTy\" crossorigin=\"anonymous\" style=\"\"></script>-->\\n\\n  <script src=\"/webapps/sabdab-sabpred/static/js/jquery-3.3.1.slim.min.js\"></script>\\n  <script src=\"/webapps/sabdab-sabpred/static/js/popper.min.js\"></script>\\n  <script src=\"/webapps/sabdab-sabpred/static/js/bootstrap.min.js\"></script>\\n\\n  <!-- cookie consent -->\\n<style>\\n    #cookie-notice {padding: 0.5rem 1rem; display: none; text-align: center; position: fixed; bottom: 0; width: calc(100% - 2rem); background: #222; color: rgba(255,255,255,0.8);}\\n    #cookie-notice a {display: inline-block; cursor: pointer; margin-left: 0.5rem;}\\n    @media (max-width: 767px) {\\n        #cookie-notice span {display: block; padding-top: 3px; margin-bottom: 1rem;}\\n        #cookie-notice a {position: relative; bottom: 4px;}\\n    }\\n</style>\\n<div id=\"cookie-notice\"><span>We use cookies to collect usage statistics for this website. By continuing to browse this site you agree to our use of cookies. For more details about cookies see our<a href=\"/webapps/sabdab-sabpred/sabdab/privacy\">privacy policy</a>.</span><a id=\"cookie-notice-accept\" class=\"btn btn-primary btn-sm\">Continue</a></div>\\n<script>\\n    function createCookie(name,value,days) {\\n        var expires = \"\";\\n        if (days) {\\n            var date = new Date();\\n            date.setTime(date.getTime() + (days*24*60*60*1000));\\n            expires = \"; expires=\" + date.toUTCString();\\n        }\\n        document.cookie = name + \"=\" + value + expires + \"; path=/; SameSite=Lax\"; \\n    }\\n    function readCookie(name) {\\n        var nameEQ = name + \"=\";\\n        var ca = document.cookie.split(\\';\\');\\n        for(var i=0;i < ca.length;i++) {\\n            var c = ca[i];\\n            while (c.charAt(0)==\\' \\') c = c.substring(1,c.length);\\n            if (c.indexOf(nameEQ) == 0) return c.substring(nameEQ.length,c.length);\\n        }\\n        return null;\\n    }\\n    function eraseCookie(name) {\\n        createCookie(name,\"\",-1);\\n    }\\n\\n    if(readCookie(\\'cookie-notice-dismissed\\')==\\'true\\') {\\n        /*This function will load script and call the callback once the script has loaded*/\\n        /*function loadScriptAsync(scriptSrc, callback) {\\n            if (typeof callback !== \\'function\\') {\\n                throw new Error(\\'Not a valid callback for async script load\\');\\n            }\\n            var script = document.createElement(\\'script\\');\\n            script.onload = callback;\\n            script.src = scriptSrc;\\n            document.head.appendChild(script);\\n        }*/\\n\\n        /* This is the part where you call the above defined function and \"call back\" your code which gets executed after the script has loaded */\\n        /*loadScriptAsync(\\'https://www.googletagmanager.com/gtag/js?id=UA-142143190-1\\', function(){\\n            window.dataLayer = window.dataLayer || [];\\n            function gtag(){dataLayer.push(arguments);}\\n            gtag(\\'js\\', new Date());\\n            // need to set samesite lax as it currently defaults to none, which will break firefox in the future\\n            gtag(\\'set\\', {cookie_flags: \\'SameSite=Lax\\'});\\n            gtag(\\'config\\', \\'UA-142143190-1\\', { \\'anonymize_ip\\': true });\\n        })*/\\n    } else {\\n        document.getElementById(\\'cookie-notice\\').style.display = \\'block\\';\\n    }\\n    document.getElementById(\\'cookie-notice-accept\\').addEventListener(\"click\",function() {\\n        createCookie(\\'cookie-notice-dismissed\\',\\'true\\',365);\\n        document.getElementById(\\'cookie-notice\\').style.display = \\'none\\';\\n        location.reload();\\n    });\\n\\n</script>\\n</body>\\n</html>'"
      ]
     },
     "execution_count": 31,
     "metadata": {},
     "output_type": "execute_result"
    }
   ],
   "source": [
    "result_test.text"
   ]
  },
  {
   "cell_type": "code",
   "execution_count": 33,
   "id": "aded7ab0-4c41-4538-92c0-5bf564c55cd9",
   "metadata": {},
   "outputs": [],
   "source": [
    "soup = BeautifulSoup(result_test.text, 'html.parser')"
   ]
  },
  {
   "cell_type": "code",
   "execution_count": 40,
   "id": "baafcd00-eb4f-4ab6-8f75-9e5516da6f8c",
   "metadata": {},
   "outputs": [],
   "source": [
    "tables = soup.find_all('table', {'class': 'table table-results'})\n",
    "all_table_data = []\n",
    "for table in tables:\n",
    "    table_data = []\n",
    "    for row in table.find_all('tr'):\n",
    "        row_data = []\n",
    "        for cell in row.find_all(['th', 'td']):\n",
    "            row_data.append(cell.text)\n",
    "        table_data.append(row_data)\n",
    "    all_table_data.append(table_data)\n",
    "# soup"
   ]
  },
  {
   "cell_type": "code",
   "execution_count": 53,
   "id": "9ca83610-0d17-4496-8d58-c854772ef233",
   "metadata": {},
   "outputs": [
    {
     "data": {
      "text/plain": [
       "[<table class=\"table table-results\" style=\"text-align: center;\">\n",
       " <tr class=\"head\"><th>V-gene</th><th>Score</th><th>Threshold</th><th>Classification</th></tr>\n",
       " <tr>\n",
       " <td>HV1</td>\n",
       " <td>0.005</td>\n",
       " <td>0.725</td>\n",
       " <td style=\"background-color: #ed8282;\">NOT HUMAN</td>\n",
       " </tr>\n",
       " <tr>\n",
       " <td>HV2</td>\n",
       " <td>0.000</td>\n",
       " <td>0.835</td>\n",
       " <td style=\"background-color: #ed8282;\">NOT HUMAN</td>\n",
       " </tr>\n",
       " <tr>\n",
       " <td>HV3</td>\n",
       " <td>0.815</td>\n",
       " <td>0.575</td>\n",
       " <td style=\"background-color: #52d9a1;\">HUMAN</td>\n",
       " </tr>\n",
       " <tr>\n",
       " <td>HV4</td>\n",
       " <td>0.000</td>\n",
       " <td>0.565</td>\n",
       " <td style=\"background-color: #ed8282;\">NOT HUMAN</td>\n",
       " </tr>\n",
       " <tr>\n",
       " <td>HV5</td>\n",
       " <td>0.000</td>\n",
       " <td>0.520</td>\n",
       " <td style=\"background-color: #ed8282;\">NOT HUMAN</td>\n",
       " </tr>\n",
       " <tr>\n",
       " <td>HV6</td>\n",
       " <td>0.000</td>\n",
       " <td>0.930</td>\n",
       " <td style=\"background-color: #ed8282;\">NOT HUMAN</td>\n",
       " </tr>\n",
       " <tr>\n",
       " <td>HV7</td>\n",
       " <td>0.005</td>\n",
       " <td>0.720</td>\n",
       " <td style=\"background-color: #ed8282;\">NOT HUMAN</td>\n",
       " </tr>\n",
       " </table>,\n",
       " <table class=\"table table-results\" style=\"text-align: center;\">\n",
       " <tr class=\"head\"><th>V-gene</th><th>Score</th><th>Threshold</th><th>Classification</th></tr>\n",
       " <tr>\n",
       " <td>KV1</td>\n",
       " <td>0.725</td>\n",
       " <td>0.720</td>\n",
       " <td style=\"background-color: #52d9a1;\">HUMAN</td>\n",
       " </tr>\n",
       " <tr>\n",
       " <td>KV2</td>\n",
       " <td>0.000</td>\n",
       " <td>0.720</td>\n",
       " <td style=\"background-color: #ed8282;\">NOT HUMAN</td>\n",
       " </tr>\n",
       " <tr>\n",
       " <td>KV3</td>\n",
       " <td>0.040</td>\n",
       " <td>0.720</td>\n",
       " <td style=\"background-color: #ed8282;\">NOT HUMAN</td>\n",
       " </tr>\n",
       " <tr>\n",
       " <td>KV4</td>\n",
       " <td>0.040</td>\n",
       " <td>0.655</td>\n",
       " <td style=\"background-color: #ed8282;\">NOT HUMAN</td>\n",
       " </tr>\n",
       " <tr>\n",
       " <td>KV5</td>\n",
       " <td>0.010</td>\n",
       " <td>0.815</td>\n",
       " <td style=\"background-color: #ed8282;\">NOT HUMAN</td>\n",
       " </tr>\n",
       " <tr>\n",
       " <td>KV6</td>\n",
       " <td>0.000</td>\n",
       " <td>0.475</td>\n",
       " <td style=\"background-color: #ed8282;\">NOT HUMAN</td>\n",
       " </tr>\n",
       " </table>,\n",
       " <table class=\"table table-results\">\n",
       " <tr>\n",
       " <td style=\"width:30%;\"><a class=\"bluetoorangelink\" href=\"/webapps/sabdab-sabpred/sabpred/humab_results/20231123_0990646/test/heavy_scores/\"><i class=\"fas fa-arrow-alt-circle-down\"></i> Heavy chain results</a></td><td>File containing the humanness scores for your heavy chain.</td>\n",
       " </tr>\n",
       " <tr>\n",
       " <td style=\"width:30%;\"><a class=\"bluetoorangelink\" href=\"/webapps/sabdab-sabpred/sabpred/humab_results/20231123_0990646/test/light_scores/\"><i class=\"fas fa-arrow-alt-circle-down\"></i> Light chain results</a></td><td>File containing the humanness scores for your light chain.</td>\n",
       " </tr>\n",
       " <!--<tr>\n",
       "                                                     <td><a href=\"/webapps/sabdab-sabpred/sabpred/humab_results/20231123_0990646/test/log/\" class=\"bluetoorangelink\"><i class='fas fa-arrow-alt-circle-down'></i> Log file</a></td><td>The log file for this Hu-mAb job.</td>\n",
       "                                             </tr>-->\n",
       " </table>]"
      ]
     },
     "execution_count": 53,
     "metadata": {},
     "output_type": "execute_result"
    }
   ],
   "source": [
    "tables"
   ]
  },
  {
   "cell_type": "code",
   "execution_count": 59,
   "id": "d7d74910-9ff6-4bd5-9e30-609b01e126b8",
   "metadata": {},
   "outputs": [
    {
     "data": {
      "text/plain": [
       "['HV3', '0.815', '0.575', 'HUMAN', 'KV1', '0.725', '0.720', 'HUMAN']"
      ]
     },
     "execution_count": 59,
     "metadata": {},
     "output_type": "execute_result"
    }
   ],
   "source": [
    "extract_human_data(all_table_data[:2])"
   ]
  },
  {
   "cell_type": "code",
   "execution_count": 43,
   "id": "8b6addd8-1382-4c10-bc3b-7bd65b5084d2",
   "metadata": {},
   "outputs": [],
   "source": [
    "extracted_data = []\n",
    "for table_data in all_table_data[:2]:\n",
    "    table_header = table_data[0]\n",
    "    human_rows = [row for row in table_data if row[-1] == 'HUMAN']\n",
    "    extracted_data.append((table_header, human_rows))"
   ]
  },
  {
   "cell_type": "code",
   "execution_count": 44,
   "id": "2cfbfe56-92fb-41cc-8e65-925c39ed5e76",
   "metadata": {},
   "outputs": [
    {
     "data": {
      "text/plain": [
       "[(['V-gene', 'Score', 'Threshold', 'Classification'],\n",
       "  [['HV3', '0.815', '0.575', 'HUMAN']]),\n",
       " (['V-gene', 'Score', 'Threshold', 'Classification'],\n",
       "  [['KV1', '0.725', '0.720', 'HUMAN']])]"
      ]
     },
     "execution_count": 44,
     "metadata": {},
     "output_type": "execute_result"
    }
   ],
   "source": [
    "extracted_data"
   ]
  },
  {
   "cell_type": "code",
   "execution_count": 55,
   "id": "bbb50a82-479e-4731-bb2d-4de40d3d66e6",
   "metadata": {},
   "outputs": [
    {
     "name": "stdout",
     "output_type": "stream",
     "text": [
      "  H-V-gene H-Score H-Threshold H-Classification L-V-gene L-Score L-Threshold  \\\n",
      "0      HV3   0.815       0.575            HUMAN      NaN     NaN         NaN   \n",
      "1      NaN     NaN         NaN              NaN      KV1   0.725       0.720   \n",
      "\n",
      "  L-Classification      Type  \n",
      "0              NaN  H-V-gene  \n",
      "1            HUMAN  L-V-gene  \n"
     ]
    }
   ],
   "source": [
    "import pandas as pd\n",
    "\n",
    "# 示例数据\n",
    "data = [\n",
    "    (['V-gene', 'Score', 'Threshold', 'Classification'], [['HV3', '0.815', '0.575', 'HUMAN']]),\n",
    "    (['V-gene', 'Score', 'Threshold', 'Classification'], [['KV1', '0.725', '0.720', 'HUMAN']])\n",
    "]\n",
    "\n",
    "# 创建空的DataFrame\n",
    "df = pd.DataFrame(columns=['H-V-gene', 'H-Score', 'H-Threshold', 'H-Classification',\n",
    "                           'L-V-gene', 'L-Score', 'L-Threshold', 'L-Classification', 'Type'])\n",
    "\n",
    "# 将数据添加到DataFrame中\n",
    "H_test_data = data[0][1]\n",
    "L_test_data = data[1][1]\n",
    "    for row in rows:\n",
    "        row_data = dict(zip(new_header, row))\n",
    "        row_data['Type'] = new_header[0]\n",
    "        new_row_df = pd.DataFrame(row_data, index=[0])\n",
    "        df = pd.concat([df, new_row_df], ignore_index=True)\n",
    "\n",
    "# 显示DataFrame\n",
    "print(df)"
   ]
  },
  {
   "cell_type": "code",
   "execution_count": null,
   "id": "b10b9f20-3dcf-496b-bf7b-5ad96148acf7",
   "metadata": {},
   "outputs": [],
   "source": []
  }
 ],
 "metadata": {
  "kernelspec": {
   "display_name": "Python 3 (ipykernel)",
   "language": "python",
   "name": "python3"
  },
  "language_info": {
   "codemirror_mode": {
    "name": "ipython",
    "version": 3
   },
   "file_extension": ".py",
   "mimetype": "text/x-python",
   "name": "python",
   "nbconvert_exporter": "python",
   "pygments_lexer": "ipython3",
   "version": "3.9.18"
  }
 },
 "nbformat": 4,
 "nbformat_minor": 5
}
