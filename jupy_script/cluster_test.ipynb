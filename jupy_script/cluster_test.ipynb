{
 "cells": [
  {
   "cell_type": "code",
   "execution_count": 1,
   "id": "2cf4c93f-a8dc-416c-a2f4-4adb8b9d338c",
   "metadata": {
    "jp-MarkdownHeadingCollapsed": true
   },
   "outputs": [],
   "source": [
    "import numpy as np\n",
    "from scipy.spatial.distance import pdist, squareform\n",
    "from sklearn.cluster import AgglomerativeClustering\n",
    "from sklearn.metrics import pairwise_distances"
   ]
  },
  {
   "cell_type": "code",
   "execution_count": 2,
   "id": "87c22d03-8995-4cce-a460-c92b1404e84f",
   "metadata": {},
   "outputs": [
    {
     "name": "stdout",
     "output_type": "stream",
     "text": [
      "Cluster labels: [0 0 0 0 1]\n"
     ]
    },
    {
     "name": "stderr",
     "output_type": "stream",
     "text": [
      "/data/home/waitma/anaconda3/envs/antidiff/lib/python3.9/site-packages/sklearn/cluster/_agglomerative.py:1006: FutureWarning: Attribute `affinity` was deprecated in version 1.2 and will be removed in 1.4. Use `metric` instead\n",
      "  warnings.warn(\n"
     ]
    }
   ],
   "source": [
    "# 准备序列数据\n",
    "sequences = [\n",
    "    [1, 2, 3, 4, 5],\n",
    "    [1, 2, 3, 4, 6],\n",
    "    [10, 11, 12, 13, 14],\n",
    "    [10, 11, 12, 13, 15],\n",
    "    [20, 21, 22, 23, 24]\n",
    "]\n",
    "\n",
    "# 计算相似度矩阵（这里使用欧氏距离）\n",
    "distance_matrix = pairwise_distances(sequences, metric='euclidean')\n",
    "\n",
    "# 设置聚类数量\n",
    "num_clusters = 2\n",
    "\n",
    "# 进行层次聚类\n",
    "clustering = AgglomerativeClustering(n_clusters=num_clusters, affinity='precomputed', linkage='average')\n",
    "labels = clustering.fit_predict(distance_matrix)\n",
    "\n",
    "# 输出聚类结果\n",
    "print(\"Cluster labels:\", labels)"
   ]
  },
  {
   "cell_type": "code",
   "execution_count": 3,
   "id": "7b9d2535-bf95-4dce-b991-2453160306df",
   "metadata": {},
   "outputs": [
    {
     "name": "stdout",
     "output_type": "stream",
     "text": [
      "QVQLVQSGAEVKKPGASV--------KVSCKASGYTFTSYDINWVRQATGQGLEWMGWMNPNSGNIGYAQKFQGRVTMTRNTSISTAYMELSSLRSED--------------------TAVYYCARGLSSSGWYYP----HYYYYGMDVWGQGTTVTV\n"
     ]
    }
   ],
   "source": [
    "def pad_sequence(sequence, regions, fixed_lengths, padding_char='-'):\n",
    "    padded_sequence = ''\n",
    "    start = 0\n",
    "    for i, length in enumerate(fixed_lengths):\n",
    "        region = sequence[start:start + len(regions[i])]\n",
    "        if len(region) < length:\n",
    "            region += padding_char * (length - len(region))\n",
    "        padded_sequence += region\n",
    "        start += len(regions[i])\n",
    "    return padded_sequence\n",
    "\n",
    "# 序列\n",
    "sequence = 'QVQLVQSGAEVKKPGASVKVSCKASGYTFTSYDINWVRQATGQGLEWMGWMNPNSGNIGYAQKFQGRVTMTRNTSISTAYMELSSLRSEDTAVYYCARGLSSSGWYYPHYYYYGMDVWGQGTTVTVSS'\n",
    "\n",
    "# 区域划分\n",
    "regions = [\n",
    "    'QVQLVQSGAEVKKPGASV',\n",
    "    'KVSCKASGYTFTSYDINW',\n",
    "    'VRQATGQGLEWMGWMNPN',\n",
    "    'SGNIGYAQKFQGRVTMTR',\n",
    "    'NTSISTAYMELSSLRSED',\n",
    "    'TAVYYCARGLSSSGWYYP',\n",
    "    'HYYYYGMDVWGQGTTVTV',\n",
    "    'SS'\n",
    "]\n",
    "\n",
    "# 固定区域长度\n",
    "fixed_lengths = [26, 12, 17, 10, 38, 22, 11]\n",
    "\n",
    "# 对序列进行padding\n",
    "padded_sequence = pad_sequence(sequence, regions, fixed_lengths)\n",
    "print(padded_sequence)"
   ]
  },
  {
   "cell_type": "code",
   "execution_count": null,
   "id": "a18f19c0-c930-4949-9be4-cbcd7dae9266",
   "metadata": {},
   "outputs": [],
   "source": []
  }
 ],
 "metadata": {
  "kernelspec": {
   "display_name": "Python 3 (ipykernel)",
   "language": "python",
   "name": "python3"
  },
  "language_info": {
   "codemirror_mode": {
    "name": "ipython",
    "version": 3
   },
   "file_extension": ".py",
   "mimetype": "text/x-python",
   "name": "python",
   "nbconvert_exporter": "python",
   "pygments_lexer": "ipython3",
   "version": "3.9.18"
  }
 },
 "nbformat": 4,
 "nbformat_minor": 5
}
