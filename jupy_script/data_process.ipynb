{
 "cells": [
  {
   "cell_type": "code",
   "execution_count": 1,
   "id": "2664ded5-34f7-45cc-8082-c101dbef355d",
   "metadata": {},
   "outputs": [],
   "source": [
    "import os\n",
    "import torch\n",
    "import pandas as pd\n",
    "import subprocess\n",
    "\n",
    "from utils.anti_numbering import get_regions"
   ]
  },
  {
   "cell_type": "code",
   "execution_count": null,
   "id": "9b10ff26-db31-45ef-a225-8c839ef6cd07",
   "metadata": {},
   "outputs": [],
   "source": []
  },
  {
   "cell_type": "code",
   "execution_count": 24,
   "id": "b3f4ef54-9770-4201-8e98-38b16a311ab4",
   "metadata": {},
   "outputs": [],
   "source": [
    "kernel_size = 3\n",
    "dilation = 1\n",
    "stride = 1\n",
    "input_size = 256\n",
    "\n",
    "padding = ((stride - 1) * (input_size - 1) - input_size + dilation * (kernel_size - 1) + 1) // 2"
   ]
  },
  {
   "cell_type": "code",
   "execution_count": 25,
   "id": "bda4f2ad-8eed-4f0e-b5e3-bcd4f97644b0",
   "metadata": {},
   "outputs": [
    {
     "data": {
      "text/plain": [
       "-127"
      ]
     },
     "execution_count": 25,
     "metadata": {},
     "output_type": "execute_result"
    }
   ],
   "source": [
    "padding"
   ]
  },
  {
   "cell_type": "code",
   "execution_count": 22,
   "id": "b7e4b02b-e086-437a-b1e6-3c5198ef4b13",
   "metadata": {},
   "outputs": [
    {
     "name": "stdout",
     "output_type": "stream",
     "text": [
      "tensor([[[False, False, False,  ...,  True,  True,  True],\n",
      "         [False, False, False,  ...,  True,  True,  True],\n",
      "         [False, False, False,  ...,  True,  True,  True],\n",
      "         ...,\n",
      "         [ True,  True,  True,  ...,  True,  True,  True],\n",
      "         [ True,  True,  True,  ...,  True,  True,  True],\n",
      "         [ True,  True,  True,  ...,  True,  True,  True]],\n",
      "\n",
      "        [[False, False, False,  ...,  True,  True,  True],\n",
      "         [False, False, False,  ...,  True,  True,  True],\n",
      "         [False, False, False,  ...,  True,  True,  True],\n",
      "         ...,\n",
      "         [ True,  True,  True,  ...,  True,  True,  True],\n",
      "         [ True,  True,  True,  ...,  True,  True,  True],\n",
      "         [ True,  True,  True,  ...,  True,  True,  True]],\n",
      "\n",
      "        [[False, False, False,  ...,  True,  True,  True],\n",
      "         [False, False, False,  ...,  True,  True,  True],\n",
      "         [False, False, False,  ...,  True,  True,  True],\n",
      "         ...,\n",
      "         [ True,  True,  True,  ...,  True,  True,  True],\n",
      "         [ True,  True,  True,  ...,  True,  True,  True],\n",
      "         [ True,  True,  True,  ...,  True,  True,  True]],\n",
      "\n",
      "        ...,\n",
      "\n",
      "        [[False, False, False,  ...,  True,  True,  True],\n",
      "         [False, False, False,  ...,  True,  True,  True],\n",
      "         [False, False, False,  ...,  True,  True,  True],\n",
      "         ...,\n",
      "         [ True,  True,  True,  ...,  True,  True,  True],\n",
      "         [ True,  True,  True,  ...,  True,  True,  True],\n",
      "         [ True,  True,  True,  ...,  True,  True,  True]],\n",
      "\n",
      "        [[False, False, False,  ...,  True,  True,  True],\n",
      "         [False, False, False,  ...,  True,  True,  True],\n",
      "         [False, False, False,  ...,  True,  True,  True],\n",
      "         ...,\n",
      "         [ True,  True,  True,  ...,  True,  True,  True],\n",
      "         [ True,  True,  True,  ...,  True,  True,  True],\n",
      "         [ True,  True,  True,  ...,  True,  True,  True]],\n",
      "\n",
      "        [[False, False, False,  ...,  True,  True,  True],\n",
      "         [False, False, False,  ...,  True,  True,  True],\n",
      "         [False, False, False,  ...,  True,  True,  True],\n",
      "         ...,\n",
      "         [ True,  True,  True,  ...,  True,  True,  True],\n",
      "         [ True,  True,  True,  ...,  True,  True,  True],\n",
      "         [ True,  True,  True,  ...,  True,  True,  True]]])\n",
      "Output shape: torch.Size([16, 10, 256])\n",
      "Attention weights shape: torch.Size([16, 10, 12])\n",
      "tensor([[[-0.3244,  0.0748,  0.0671,  ...,  0.2001,  0.2074, -0.2102],\n",
      "         [-0.2567,  0.0110, -0.1870,  ...,  0.0586, -0.0023, -0.1843],\n",
      "         [-0.3283, -0.0006, -0.0212,  ..., -0.0597,  0.1450, -0.0928],\n",
      "         ...,\n",
      "         [    nan,     nan,     nan,  ...,     nan,     nan,     nan],\n",
      "         [    nan,     nan,     nan,  ...,     nan,     nan,     nan],\n",
      "         [    nan,     nan,     nan,  ...,     nan,     nan,     nan]],\n",
      "\n",
      "        [[-0.1954,  0.1182, -0.0174,  ..., -0.0067,  0.0894, -0.2406],\n",
      "         [-0.2126,  0.1786,  0.0566,  ...,  0.0729, -0.1039, -0.2293],\n",
      "         [-0.3432,  0.0474,  0.1261,  ..., -0.0439, -0.0154, -0.2153],\n",
      "         ...,\n",
      "         [    nan,     nan,     nan,  ...,     nan,     nan,     nan],\n",
      "         [    nan,     nan,     nan,  ...,     nan,     nan,     nan],\n",
      "         [    nan,     nan,     nan,  ...,     nan,     nan,     nan]],\n",
      "\n",
      "        [[ 0.2777,  0.0944,  0.2727,  ...,  0.1107, -0.1072,  0.3355],\n",
      "         [ 0.2235,  0.0925,  0.1641,  ...,  0.1246, -0.1026,  0.2106],\n",
      "         [ 0.2679,  0.0686,  0.2598,  ..., -0.0057, -0.0397,  0.1851],\n",
      "         ...,\n",
      "         [    nan,     nan,     nan,  ...,     nan,     nan,     nan],\n",
      "         [    nan,     nan,     nan,  ...,     nan,     nan,     nan],\n",
      "         [    nan,     nan,     nan,  ...,     nan,     nan,     nan]],\n",
      "\n",
      "        ...,\n",
      "\n",
      "        [[ 0.0636,  0.2221, -0.3386,  ...,  0.0527,  0.0832, -0.2657],\n",
      "         [ 0.0091,  0.1240, -0.2015,  ...,  0.0725,  0.1115, -0.2824],\n",
      "         [ 0.1042,  0.1009, -0.2149,  ..., -0.1267, -0.0067, -0.2015],\n",
      "         ...,\n",
      "         [    nan,     nan,     nan,  ...,     nan,     nan,     nan],\n",
      "         [    nan,     nan,     nan,  ...,     nan,     nan,     nan],\n",
      "         [    nan,     nan,     nan,  ...,     nan,     nan,     nan]],\n",
      "\n",
      "        [[ 0.2012, -0.1957, -0.0429,  ..., -0.1880,  0.0287,  0.1988],\n",
      "         [ 0.1935, -0.2870, -0.1374,  ..., -0.0679,  0.0229,  0.3668],\n",
      "         [ 0.1055, -0.3423,  0.0062,  ..., -0.2082,  0.0919,  0.2631],\n",
      "         ...,\n",
      "         [    nan,     nan,     nan,  ...,     nan,     nan,     nan],\n",
      "         [    nan,     nan,     nan,  ...,     nan,     nan,     nan],\n",
      "         [    nan,     nan,     nan,  ...,     nan,     nan,     nan]],\n",
      "\n",
      "        [[-0.1348,  0.0088, -0.0653,  ..., -0.0601,  0.3653,  0.0638],\n",
      "         [-0.1507,  0.0519, -0.0912,  ..., -0.0748,  0.4612, -0.0244],\n",
      "         [-0.3609, -0.1025, -0.0242,  ...,  0.0241,  0.2833, -0.0646],\n",
      "         ...,\n",
      "         [    nan,     nan,     nan,  ...,     nan,     nan,     nan],\n",
      "         [    nan,     nan,     nan,  ...,     nan,     nan,     nan],\n",
      "         [    nan,     nan,     nan,  ...,     nan,     nan,     nan]]],\n",
      "       grad_fn=<TransposeBackward0>)\n"
     ]
    }
   ],
   "source": [
    "import torch\n",
    "import torch.nn as nn\n",
    "\n",
    "class CrossAttention(nn.Module):\n",
    "    def __init__(self, d_model, nhead, dropout=0.1):\n",
    "        super(CrossAttention, self).__init__()\n",
    "        self.attention = nn.MultiheadAttention(d_model, nhead, dropout=dropout)\n",
    "        self.nhead = nhead\n",
    "\n",
    "    def forward(self, x1, x2, mask1, mask2, need_weights=True):\n",
    "        x1 = x1.transpose(0, 1)\n",
    "        x2 = x2.transpose(0, 1)\n",
    "\n",
    "        # 将mask1和mask2组合成一个合适的注意力mask\n",
    "        attn_mask = mask1 * mask2.transpose(1, 2)\n",
    "        attn_mask = attn_mask.repeat(self.nhead, 1, 1)  # 重复mask以适应多头注意力的维度\n",
    "        attn_mask = attn_mask.eq(0)  # 将mask中的0转换为True，其他值转换为False\n",
    "\n",
    "        print(attn_mask)\n",
    "\n",
    "        # 更新key_padding_mask\n",
    "        key_padding_mask = mask2.squeeze(-1).eq(0)  # 将mask2中的0转换为True，其他值转换为False\n",
    "\n",
    "        attn_output, attn_weights = self.attention(x1, x2, x2, key_padding_mask=key_padding_mask, attn_mask=attn_mask, need_weights=need_weights)\n",
    "        attn_output = attn_output.transpose(0, 1)\n",
    "        return attn_output, attn_weights\n",
    "\n",
    "# 示例\n",
    "batch_size = 16\n",
    "seq_len1 = 10\n",
    "seq_len2 = 12\n",
    "d_model = 256\n",
    "nhead = 8\n",
    "\n",
    "x1 = torch.randn(batch_size, seq_len1, d_model)\n",
    "x2 = torch.randn(batch_size, seq_len2, d_model)\n",
    "\n",
    "mask1 = torch.ones(batch_size, seq_len1, 1)\n",
    "mask2 = torch.ones(batch_size, seq_len2, 1)\n",
    "\n",
    "# 将mask1和mask2的某些元素设置为0，表示这些位置应该被mask掉\n",
    "mask1[:, 5:] = 0\n",
    "mask2[:, 8:] = 0\n",
    "\n",
    "cross_attention = CrossAttention(d_model, nhead)\n",
    "output, attn_weights = cross_attention(x1, x2, mask1, mask2)\n",
    "\n",
    "print(\"Output shape:\", output.shape)\n",
    "print(\"Attention weights shape:\", attn_weights.shape)\n",
    "print(output)"
   ]
  },
  {
   "cell_type": "code",
   "execution_count": 12,
   "id": "ee9f19e0-fe67-4fdc-b8b3-43e2a93ab653",
   "metadata": {},
   "outputs": [
    {
     "name": "stdout",
     "output_type": "stream",
     "text": [
      "Output shape: torch.Size([16, 10, 256])\n",
      "Attention weights shape: torch.Size([16, 10, 12])\n"
     ]
    }
   ],
   "source": [
    "import torch\n",
    "import torch.nn as nn\n",
    "\n",
    "class CrossAttention(nn.Module):\n",
    "    def __init__(self, d_model, nhead, dropout=0.1):\n",
    "        super(CrossAttention, self).__init__()\n",
    "        self.attention = nn.MultiheadAttention(d_model, nhead, dropout=dropout)\n",
    "\n",
    "    def forward(self, x1, x2, need_weights=True):\n",
    "        # x1 shape: (batch_size, seq_len1, d_model)\n",
    "        # x2 shape: (batch_size, seq_len2, d_model)\n",
    "        x1 = x1.transpose(0, 1)  # 将x1转置为（seq_len1, batch_size, d_model）\n",
    "        x2 = x2.transpose(0, 1)  # 将x2转置为（seq_len2, batch_size, d_model）\n",
    "        attn_output, attn_weights = self.attention(x1, x2, x2, need_weights=need_weights)\n",
    "        attn_output = attn_output.transpose(0, 1)  # 将输出转置回（batch_size, seq_len1, d_model）\n",
    "        return attn_output, attn_weights\n",
    "\n",
    "# 示例\n",
    "batch_size = 16\n",
    "seq_len1 = 10\n",
    "seq_len2 = 12\n",
    "d_model = 256\n",
    "nhead = 8\n",
    "\n",
    "x1 = torch.randn(batch_size, seq_len1, d_model)  # 假设有16个样本，每个样本具有10个位置，每个位置的向量维度为256\n",
    "x2 = torch.randn(batch_size, seq_len2, d_model)  # 假设有16个样本，每个样本具有12个位置，每个位置的向量维度为256\n",
    "\n",
    "cross_attention = CrossAttention(d_model, nhead)\n",
    "output, attn_weights = cross_attention(x1, x2)\n",
    "\n",
    "print(\"Output shape:\", output.shape)  # 输出的形状应该与x1张量的形状相同\n",
    "print(\"Attention weights shape:\", attn_weights.shape)  # 注意力权重的形状应为（batch_size, seq_len1, seq_len2）"
   ]
  },
  {
   "cell_type": "code",
   "execution_count": 9,
   "id": "0f5348de-bb93-474c-a536-349da94a3e9f",
   "metadata": {},
   "outputs": [
    {
     "name": "stdout",
     "output_type": "stream",
     "text": [
      "[[1 0 0 0]\n",
      " [0 1 0 0]\n",
      " [0 0 1 0]\n",
      " [1 0 0 0]\n",
      " [0 1 0 0]\n",
      " [0 0 1 0]]\n"
     ]
    },
    {
     "ename": "ValueError",
     "evalue": "Only one class present in y_true. ROC AUC score is not defined in that case.",
     "output_type": "error",
     "traceback": [
      "\u001b[0;31m---------------------------------------------------------------------------\u001b[0m",
      "\u001b[0;31mValueError\u001b[0m                                Traceback (most recent call last)",
      "Cell \u001b[0;32mIn[9], line 19\u001b[0m\n\u001b[1;32m     17\u001b[0m \u001b[38;5;28mprint\u001b[39m(y_true_bin)\n\u001b[1;32m     18\u001b[0m \u001b[38;5;66;03m# 计算多分类ROC AUC\u001b[39;00m\n\u001b[0;32m---> 19\u001b[0m roc_auc \u001b[38;5;241m=\u001b[39m \u001b[43mroc_auc_score\u001b[49m\u001b[43m(\u001b[49m\u001b[43my_true_bin\u001b[49m\u001b[43m,\u001b[49m\u001b[43m \u001b[49m\u001b[43my_score\u001b[49m\u001b[43m,\u001b[49m\u001b[43m \u001b[49m\u001b[43mlabels\u001b[49m\u001b[38;5;241;43m=\u001b[39;49m\u001b[43mnp\u001b[49m\u001b[38;5;241;43m.\u001b[39;49m\u001b[43marange\u001b[49m\u001b[43m(\u001b[49m\u001b[43mn_classes\u001b[49m\u001b[43m)\u001b[49m\u001b[43m)\u001b[49m\n\u001b[1;32m     20\u001b[0m \u001b[38;5;28mprint\u001b[39m(\u001b[38;5;124m\"\u001b[39m\u001b[38;5;124mMulticlass ROC AUC:\u001b[39m\u001b[38;5;124m\"\u001b[39m, roc_auc)\n",
      "File \u001b[0;32m/data/home/waitma/anaconda3/envs/antidiff/lib/python3.9/site-packages/sklearn/utils/_param_validation.py:214\u001b[0m, in \u001b[0;36mvalidate_params.<locals>.decorator.<locals>.wrapper\u001b[0;34m(*args, **kwargs)\u001b[0m\n\u001b[1;32m    208\u001b[0m \u001b[38;5;28;01mtry\u001b[39;00m:\n\u001b[1;32m    209\u001b[0m     \u001b[38;5;28;01mwith\u001b[39;00m config_context(\n\u001b[1;32m    210\u001b[0m         skip_parameter_validation\u001b[38;5;241m=\u001b[39m(\n\u001b[1;32m    211\u001b[0m             prefer_skip_nested_validation \u001b[38;5;129;01mor\u001b[39;00m global_skip_validation\n\u001b[1;32m    212\u001b[0m         )\n\u001b[1;32m    213\u001b[0m     ):\n\u001b[0;32m--> 214\u001b[0m         \u001b[38;5;28;01mreturn\u001b[39;00m \u001b[43mfunc\u001b[49m\u001b[43m(\u001b[49m\u001b[38;5;241;43m*\u001b[39;49m\u001b[43margs\u001b[49m\u001b[43m,\u001b[49m\u001b[43m \u001b[49m\u001b[38;5;241;43m*\u001b[39;49m\u001b[38;5;241;43m*\u001b[39;49m\u001b[43mkwargs\u001b[49m\u001b[43m)\u001b[49m\n\u001b[1;32m    215\u001b[0m \u001b[38;5;28;01mexcept\u001b[39;00m InvalidParameterError \u001b[38;5;28;01mas\u001b[39;00m e:\n\u001b[1;32m    216\u001b[0m     \u001b[38;5;66;03m# When the function is just a wrapper around an estimator, we allow\u001b[39;00m\n\u001b[1;32m    217\u001b[0m     \u001b[38;5;66;03m# the function to delegate validation to the estimator, but we replace\u001b[39;00m\n\u001b[1;32m    218\u001b[0m     \u001b[38;5;66;03m# the name of the estimator by the name of the function in the error\u001b[39;00m\n\u001b[1;32m    219\u001b[0m     \u001b[38;5;66;03m# message to avoid confusion.\u001b[39;00m\n\u001b[1;32m    220\u001b[0m     msg \u001b[38;5;241m=\u001b[39m re\u001b[38;5;241m.\u001b[39msub(\n\u001b[1;32m    221\u001b[0m         \u001b[38;5;124mr\u001b[39m\u001b[38;5;124m\"\u001b[39m\u001b[38;5;124mparameter of \u001b[39m\u001b[38;5;124m\\\u001b[39m\u001b[38;5;124mw+ must be\u001b[39m\u001b[38;5;124m\"\u001b[39m,\n\u001b[1;32m    222\u001b[0m         \u001b[38;5;124mf\u001b[39m\u001b[38;5;124m\"\u001b[39m\u001b[38;5;124mparameter of \u001b[39m\u001b[38;5;132;01m{\u001b[39;00mfunc\u001b[38;5;241m.\u001b[39m\u001b[38;5;18m__qualname__\u001b[39m\u001b[38;5;132;01m}\u001b[39;00m\u001b[38;5;124m must be\u001b[39m\u001b[38;5;124m\"\u001b[39m,\n\u001b[1;32m    223\u001b[0m         \u001b[38;5;28mstr\u001b[39m(e),\n\u001b[1;32m    224\u001b[0m     )\n",
      "File \u001b[0;32m/data/home/waitma/anaconda3/envs/antidiff/lib/python3.9/site-packages/sklearn/metrics/_ranking.py:635\u001b[0m, in \u001b[0;36mroc_auc_score\u001b[0;34m(y_true, y_score, average, sample_weight, max_fpr, multi_class, labels)\u001b[0m\n\u001b[1;32m    627\u001b[0m     \u001b[38;5;28;01mreturn\u001b[39;00m _average_binary_score(\n\u001b[1;32m    628\u001b[0m         partial(_binary_roc_auc_score, max_fpr\u001b[38;5;241m=\u001b[39mmax_fpr),\n\u001b[1;32m    629\u001b[0m         y_true,\n\u001b[0;32m   (...)\u001b[0m\n\u001b[1;32m    632\u001b[0m         sample_weight\u001b[38;5;241m=\u001b[39msample_weight,\n\u001b[1;32m    633\u001b[0m     )\n\u001b[1;32m    634\u001b[0m \u001b[38;5;28;01melse\u001b[39;00m:  \u001b[38;5;66;03m# multilabel-indicator\u001b[39;00m\n\u001b[0;32m--> 635\u001b[0m     \u001b[38;5;28;01mreturn\u001b[39;00m \u001b[43m_average_binary_score\u001b[49m\u001b[43m(\u001b[49m\n\u001b[1;32m    636\u001b[0m \u001b[43m        \u001b[49m\u001b[43mpartial\u001b[49m\u001b[43m(\u001b[49m\u001b[43m_binary_roc_auc_score\u001b[49m\u001b[43m,\u001b[49m\u001b[43m \u001b[49m\u001b[43mmax_fpr\u001b[49m\u001b[38;5;241;43m=\u001b[39;49m\u001b[43mmax_fpr\u001b[49m\u001b[43m)\u001b[49m\u001b[43m,\u001b[49m\n\u001b[1;32m    637\u001b[0m \u001b[43m        \u001b[49m\u001b[43my_true\u001b[49m\u001b[43m,\u001b[49m\n\u001b[1;32m    638\u001b[0m \u001b[43m        \u001b[49m\u001b[43my_score\u001b[49m\u001b[43m,\u001b[49m\n\u001b[1;32m    639\u001b[0m \u001b[43m        \u001b[49m\u001b[43maverage\u001b[49m\u001b[43m,\u001b[49m\n\u001b[1;32m    640\u001b[0m \u001b[43m        \u001b[49m\u001b[43msample_weight\u001b[49m\u001b[38;5;241;43m=\u001b[39;49m\u001b[43msample_weight\u001b[49m\u001b[43m,\u001b[49m\n\u001b[1;32m    641\u001b[0m \u001b[43m    \u001b[49m\u001b[43m)\u001b[49m\n",
      "File \u001b[0;32m/data/home/waitma/anaconda3/envs/antidiff/lib/python3.9/site-packages/sklearn/metrics/_base.py:118\u001b[0m, in \u001b[0;36m_average_binary_score\u001b[0;34m(binary_metric, y_true, y_score, average, sample_weight)\u001b[0m\n\u001b[1;32m    116\u001b[0m     y_true_c \u001b[38;5;241m=\u001b[39m y_true\u001b[38;5;241m.\u001b[39mtake([c], axis\u001b[38;5;241m=\u001b[39mnot_average_axis)\u001b[38;5;241m.\u001b[39mravel()\n\u001b[1;32m    117\u001b[0m     y_score_c \u001b[38;5;241m=\u001b[39m y_score\u001b[38;5;241m.\u001b[39mtake([c], axis\u001b[38;5;241m=\u001b[39mnot_average_axis)\u001b[38;5;241m.\u001b[39mravel()\n\u001b[0;32m--> 118\u001b[0m     score[c] \u001b[38;5;241m=\u001b[39m \u001b[43mbinary_metric\u001b[49m\u001b[43m(\u001b[49m\u001b[43my_true_c\u001b[49m\u001b[43m,\u001b[49m\u001b[43m \u001b[49m\u001b[43my_score_c\u001b[49m\u001b[43m,\u001b[49m\u001b[43m \u001b[49m\u001b[43msample_weight\u001b[49m\u001b[38;5;241;43m=\u001b[39;49m\u001b[43mscore_weight\u001b[49m\u001b[43m)\u001b[49m\n\u001b[1;32m    120\u001b[0m \u001b[38;5;66;03m# Average the results\u001b[39;00m\n\u001b[1;32m    121\u001b[0m \u001b[38;5;28;01mif\u001b[39;00m average \u001b[38;5;129;01mis\u001b[39;00m \u001b[38;5;129;01mnot\u001b[39;00m \u001b[38;5;28;01mNone\u001b[39;00m:\n",
      "File \u001b[0;32m/data/home/waitma/anaconda3/envs/antidiff/lib/python3.9/site-packages/sklearn/metrics/_ranking.py:382\u001b[0m, in \u001b[0;36m_binary_roc_auc_score\u001b[0;34m(y_true, y_score, sample_weight, max_fpr)\u001b[0m\n\u001b[1;32m    380\u001b[0m \u001b[38;5;250m\u001b[39m\u001b[38;5;124;03m\"\"\"Binary roc auc score.\"\"\"\u001b[39;00m\n\u001b[1;32m    381\u001b[0m \u001b[38;5;28;01mif\u001b[39;00m \u001b[38;5;28mlen\u001b[39m(np\u001b[38;5;241m.\u001b[39munique(y_true)) \u001b[38;5;241m!=\u001b[39m \u001b[38;5;241m2\u001b[39m:\n\u001b[0;32m--> 382\u001b[0m     \u001b[38;5;28;01mraise\u001b[39;00m \u001b[38;5;167;01mValueError\u001b[39;00m(\n\u001b[1;32m    383\u001b[0m         \u001b[38;5;124m\"\u001b[39m\u001b[38;5;124mOnly one class present in y_true. ROC AUC score \u001b[39m\u001b[38;5;124m\"\u001b[39m\n\u001b[1;32m    384\u001b[0m         \u001b[38;5;124m\"\u001b[39m\u001b[38;5;124mis not defined in that case.\u001b[39m\u001b[38;5;124m\"\u001b[39m\n\u001b[1;32m    385\u001b[0m     )\n\u001b[1;32m    387\u001b[0m fpr, tpr, _ \u001b[38;5;241m=\u001b[39m roc_curve(y_true, y_score, sample_weight\u001b[38;5;241m=\u001b[39msample_weight)\n\u001b[1;32m    388\u001b[0m \u001b[38;5;28;01mif\u001b[39;00m max_fpr \u001b[38;5;129;01mis\u001b[39;00m \u001b[38;5;28;01mNone\u001b[39;00m \u001b[38;5;129;01mor\u001b[39;00m max_fpr \u001b[38;5;241m==\u001b[39m \u001b[38;5;241m1\u001b[39m:\n",
      "\u001b[0;31mValueError\u001b[0m: Only one class present in y_true. ROC AUC score is not defined in that case."
     ]
    }
   ],
   "source": [
    "import numpy as np\n",
    "from sklearn.metrics import roc_auc_score\n",
    "from sklearn.preprocessing import label_binarize\n",
    "\n",
    "# 示例数据\n",
    "y_true = np.array([0, 1, 2, 0, 1, 2])  # 注意这里没有类别3\n",
    "y_score = np.array([[0.9, 0.05, 0.03, 0.02],\n",
    "                    [0.1, 0.8, 0.05, 0.05],\n",
    "                    [0.0, 0.2, 0.8, 0.0],\n",
    "                    [0.9, 0.1, 0.0, 0.0],\n",
    "                    [0.1, 0.9, 0.0, 0.0],\n",
    "                    [0.1, 0.1, 0.8, 0.0]])\n",
    "\n",
    "# 将y_true转换为二进制矩阵\n",
    "n_classes = 4  # 明确指定类别数量\n",
    "y_true_bin = label_binarize(y_true, classes=np.arange(n_classes))\n",
    "print(y_true_bin)\n",
    "# 计算多分类ROC AUC\n",
    "roc_auc = roc_auc_score(y_true_bin, y_score, labels=np.arange(n_classes))\n",
    "print(\"Multiclass ROC AUC:\", roc_auc)"
   ]
  },
  {
   "cell_type": "code",
   "execution_count": 63,
   "id": "66c15f22-adc0-49a0-be6e-c74b3c360e2f",
   "metadata": {},
   "outputs": [],
   "source": [
    "# Get imgt sequence\n",
    "def trans_seq_to_imgt_type(aa_seq):\n",
    "    cmd_str = f'ANARCI --sequence {aa_seq}'\n",
    "    cmd_out = subprocess.check_output(cmd_str, shell=True)\n",
    "    # cmd_out = os.system(cmd_str)\n",
    "    line_strs = cmd_out.decode('utf-8').split('\\n')\n",
    "    sub_strs = line_strs[5].split('|')\n",
    "\n",
    "    chn_type = sub_strs[2]\n",
    "    if chn_type == 'K':\n",
    "        chn_type = 'L'\n",
    "    idx_resd_beg = int(sub_strs[5])  # inclusive\n",
    "    idx_resd_end = int(sub_strs[6])  # inclusive\n",
    "\n",
    "    idx_resd = idx_resd_beg\n",
    "    labl_vec = torch.zeros(len(aa_seq), dtype=torch.int8)  # 0: framework\n",
    "    reorder_seq = []\n",
    "    for line_str in line_strs:\n",
    "        if not line_str.startswith(chn_type):\n",
    "            continue\n",
    "        if line_str.endswith('-'):\n",
    "            reorder_seq.append('-')\n",
    "            continue\n",
    "        idx_resd_imgt = int(line_str.split()[1])\n",
    "        reorder_seq.append(line_str.split()[2])\n",
    "        if 27 <= idx_resd_imgt <= 38:\n",
    "            labl_vec[idx_resd] = 1  # CDR-1\n",
    "        elif 56 <= idx_resd_imgt <= 65:\n",
    "            labl_vec[idx_resd] = 2  # CDR-2\n",
    "        elif 105 <= idx_resd_imgt <= 117:\n",
    "            labl_vec[idx_resd] = 3  # CDR-3\n",
    "        idx_resd += 1\n",
    "    assert idx_resd == idx_resd_end + 1, f'{idx_resd} {idx_resd_beg} {idx_resd_end} {chn_type} {cmd_out}'\n",
    "\n",
    "    print(''.join(reorder_seq))\n",
    "    print(len(''.join(reorder_seq)))\n",
    "    print(len(labl_vec))\n",
    "    return labl_vec"
   ]
  },
  {
   "cell_type": "code",
   "execution_count": 66,
   "id": "01928e6d-0cf2-4efd-abfa-24ae64ef73ba",
   "metadata": {},
   "outputs": [],
   "source": [
    "def trans_batch(csv_path):\n",
    "    \"\"\"\n",
    "    :param csv_path: specific csv path\n",
    "    :return: the seq of the data frame\n",
    "    \"\"\"\n",
    "    pair_data = pd.read_csv(csv_path, header=0)\n",
    "    for idx, row_data in pair_data.iterrows():\n",
    "        H_seq = row_data['HSEQ']\n",
    "        L_seq = row_data['LSEQ']\n",
    "        if idx == 0:\n",
    "            print(H_seq)\n",
    "            imgt_H_seq = trans_seq_to_imgt_type(H_seq)\n",
    "            print(L_seq)\n",
    "            imgt_L_seq = trans_seq_to_imgt_type(L_seq)\n",
    "        elif idx == 0:\n",
    "            continue\n",
    "        else:\n",
    "            break"
   ]
  },
  {
   "cell_type": "code",
   "execution_count": 67,
   "id": "f2d5c51e-b76e-4942-b58f-b6bfc3e07e44",
   "metadata": {},
   "outputs": [
    {
     "name": "stdout",
     "output_type": "stream",
     "text": [
      "QVQLVQSGAEVKKPGASVKVSCKASGYTFTGYYMHWVRQAPGQGLEWMGWINPNSGGTNYAQKFQGRVTMTRDTSISTAYMELSRLRSDDTAVYYCARAGAVAASKGYYYYYYGMDVWGQGTTVTVSS\n",
      "QVQLVQSGA-EVKKPGASVKVSCKASGYTF----TGYYMHWVRQAPGQGLEWMGWINPN--SGGTNYAQKFQ-GRVTMTRDTSISTAYMELSRLRSDDTAVYYCARAGAVAABCDDCBAYYGMDVWGQGTTVTVSS\n",
      "136\n",
      "128\n",
      " QSVLTQPPSVSEAPRQRVTISCSGSSSNIGNNAVNWYQQLPGKAPKLLIYYDDLLPSGVSDRFSGSKSGTSASLAISGLQSEDEADYYCAAWDDSLNVVVFGGGTKLTVL\n",
      "QSVLTQPPS-VSEAPRQRVTISCSGSSSNI----GNNAVNWYQQLPGKAPKLLIYYD-------DLLPSGVS-DRFSGSK--SGTSASLAISGLQSEDEADYYCAAWDDS--LNVVVFGGGTKLTVL\n",
      "127\n",
      "111\n"
     ]
    }
   ],
   "source": [
    "paired_csv = '/data/home/waitma/antibody_proj/antidiff/data/oas_pair_human_data/oas_paired.csv'\n",
    "trans_batch(paired_csv)"
   ]
  },
  {
   "cell_type": "code",
   "execution_count": 22,
   "id": "3c90c39d-b14d-4f9e-a55b-f729f7e1f33d",
   "metadata": {},
   "outputs": [
    {
     "name": "stdout",
     "output_type": "stream",
     "text": [
      "QVQLVQSGAEVKKPGASVKVSCKASGYTFTGYYMHWVRQAPGQGLEWMGWINPNSGGTNYAQKFQGRVTMTRDTSISTAYMELSRLRSDDTAVYYCARAGAVAASKGYYYYYYGMDVWGQGTTVTVSS\n",
      "QVQLVQSGA-EVKKPGASVKVSCKASGYTF----TGYYMHWVRQAPGQGLEWMGWINPN--SGGTNYAQKFQ-GRVTMTRDTSISTAYMELSRLRSDDTAVYYCARAGAVAABCDDCBAYYGMDVWGQGTTVTVSS\n",
      " QSVLTQPPSVSEAPRQRVTISCSGSSSNIGNNAVNWYQQLPGKAPKLLIYYDDLLPSGVSDRFSGSKSGTSASLAISGLQSEDEADYYCAAWDDSLNVVVFGGGTKLTVL\n",
      "QSVLTQPPS-VSEAPRQRVTISCSGSSSNI----GNNAVNWYQQLPGKAPKLLIYYD-------DLLPSGVS-DRFSGSK--SGTSASLAISGLQSEDEADYYCAAWDDS--LNVVVFGGGTKLTVL\n"
     ]
    }
   ],
   "source": [
    "paired_csv = '/data/home/waitma/antibody_proj/antidiff/data/oas_pair_human_data/oas_paired.csv'\n",
    "trans_batch(paired_csv)"
   ]
  },
  {
   "cell_type": "markdown",
   "id": "cfd56172-2b46-4cdd-8dfd-e725397502e4",
   "metadata": {},
   "source": [
    "# change compare"
   ]
  },
  {
   "cell_type": "code",
   "execution_count": 24,
   "id": "47cd86e3-04a9-44d6-8ad8-271a53985ec3",
   "metadata": {},
   "outputs": [],
   "source": [
    "import abnumber\n",
    "from abnumber import Chain"
   ]
  },
  {
   "cell_type": "code",
   "execution_count": 32,
   "id": "72ad22c0-b54b-4287-b202-a44877b55f5c",
   "metadata": {},
   "outputs": [],
   "source": [
    "paired_csv = '/data/home/waitma/antibody_proj/antidiff/data/oas_pair_human_data/oas_paired.csv'\n",
    "\n",
    "pair_data = pd.read_csv(paired_csv, header=0)"
   ]
  },
  {
   "cell_type": "code",
   "execution_count": 39,
   "id": "ec515aac-47cf-4bfe-b01b-df6b999af7df",
   "metadata": {},
   "outputs": [],
   "source": [
    "seqs = pair_data.head(100)"
   ]
  },
  {
   "cell_type": "code",
   "execution_count": 40,
   "id": "45d30e07-b5e6-445c-8c7c-1185ad37cbb1",
   "metadata": {},
   "outputs": [
    {
     "data": {
      "text/html": [
       "<div>\n",
       "<style scoped>\n",
       "    .dataframe tbody tr th:only-of-type {\n",
       "        vertical-align: middle;\n",
       "    }\n",
       "\n",
       "    .dataframe tbody tr th {\n",
       "        vertical-align: top;\n",
       "    }\n",
       "\n",
       "    .dataframe thead th {\n",
       "        text-align: right;\n",
       "    }\n",
       "</style>\n",
       "<table border=\"1\" class=\"dataframe\">\n",
       "  <thead>\n",
       "    <tr style=\"text-align: right;\">\n",
       "      <th></th>\n",
       "      <th>ENTRY</th>\n",
       "      <th>HSEQ</th>\n",
       "      <th>LSEQ</th>\n",
       "    </tr>\n",
       "  </thead>\n",
       "  <tbody>\n",
       "    <tr>\n",
       "      <th>0</th>\n",
       "      <td>1279049_1_Paired_All_0_H|1279049_1_Paired_All_0_L</td>\n",
       "      <td>QVQLVQSGAEVKKPGASVKVSCKASGYTFTGYYMHWVRQAPGQGLE...</td>\n",
       "      <td>QSVLTQPPSVSEAPRQRVTISCSGSSSNIGNNAVNWYQQLPGKAP...</td>\n",
       "    </tr>\n",
       "    <tr>\n",
       "      <th>1</th>\n",
       "      <td>1279049_1_Paired_All_1_H|1279049_1_Paired_All_1_L</td>\n",
       "      <td>QVQLVQSGAEVKKPGASVKVSCKASGYTFTGYYMHWVRQAPGQGLE...</td>\n",
       "      <td>QSVLTQPPSASGTPGQRVTISCSGSSSNIGSNTVNWYQQLPGTAP...</td>\n",
       "    </tr>\n",
       "    <tr>\n",
       "      <th>2</th>\n",
       "      <td>1279049_1_Paired_All_2_H|1279049_1_Paired_All_2_L</td>\n",
       "      <td>QVQLVQSGAEVKKPGASVKVSCKASGYTFTSYAMHWVRQAPGQRLE...</td>\n",
       "      <td>SYELTQPPSVSVSPGQTARITCSGDALPKQYAYWYQQKPGQAPVL...</td>\n",
       "    </tr>\n",
       "    <tr>\n",
       "      <th>3</th>\n",
       "      <td>1279049_1_Paired_All_3_H|1279049_1_Paired_All_3_L</td>\n",
       "      <td>EVQLVESGGGLVKPGGSLRLSCAASGFTFSNAWMSWVRQAPGKGLE...</td>\n",
       "      <td>SYELTQPPSVSVSPGQTARITCSGDALPKKYAYWYQQKSGQAPVL...</td>\n",
       "    </tr>\n",
       "    <tr>\n",
       "      <th>4</th>\n",
       "      <td>1279049_1_Paired_All_4_H|1279049_1_Paired_All_4_L</td>\n",
       "      <td>EVQLLESGGGLVQPGGSLRLSCAASGFTFSSYAMSWVRQAPGKGLE...</td>\n",
       "      <td>DIQMTQSPSSLSASVGDRVTITCRASQSISSYLNWYQQKPGKAPK...</td>\n",
       "    </tr>\n",
       "    <tr>\n",
       "      <th>...</th>\n",
       "      <td>...</td>\n",
       "      <td>...</td>\n",
       "      <td>...</td>\n",
       "    </tr>\n",
       "    <tr>\n",
       "      <th>95</th>\n",
       "      <td>1279049_1_Paired_All_95_H|1279049_1_Paired_All...</td>\n",
       "      <td>EVQLVESGGGLVQPGGSLRLSCAASGFTFSSYEMNWVRQAPGKGLE...</td>\n",
       "      <td>DIQLTQSPSFLSASVGDRVTITCRASQGISSYLAWYQQKPGKAPK...</td>\n",
       "    </tr>\n",
       "    <tr>\n",
       "      <th>96</th>\n",
       "      <td>1279049_1_Paired_All_96_H|1279049_1_Paired_All...</td>\n",
       "      <td>QVQLQESGPGLVKPSETLSLTCTVSGGSISSYYWSWIRQPPGKGLE...</td>\n",
       "      <td>SYELTQPPSVSVSPGQTARITCSGDALPKQYAYWYQQKPGQAPVL...</td>\n",
       "    </tr>\n",
       "    <tr>\n",
       "      <th>97</th>\n",
       "      <td>1279049_1_Paired_All_97_H|1279049_1_Paired_All...</td>\n",
       "      <td>QLQLQESGPGLVKPSETLSLTCTVSGGSISSSSYYWGWIRQPPGKG...</td>\n",
       "      <td>QSVLTQPPSVSGAPGQRVTISCTGSSSNIGAGYDVHWYQQLPGTA...</td>\n",
       "    </tr>\n",
       "    <tr>\n",
       "      <th>98</th>\n",
       "      <td>1279049_1_Paired_All_98_H|1279049_1_Paired_All...</td>\n",
       "      <td>QLQLQESGPGLVKPSETLSLTCTVSGGSISSSSYYWGWIRQPPGKG...</td>\n",
       "      <td>EIVLTQSPATLSLSPGERATLSCRASQSVSSYLAWYQQKPGQAPR...</td>\n",
       "    </tr>\n",
       "    <tr>\n",
       "      <th>99</th>\n",
       "      <td>1279049_1_Paired_All_99_H|1279049_1_Paired_All...</td>\n",
       "      <td>EVQLVESGGGLVKPGGSLRLSCAASGFTFSSYSMNWVRQAPGKGLE...</td>\n",
       "      <td>DIQMTQSPSSLSASVGDRVTITCQASQDISNYLNWYQQKPGKAPK...</td>\n",
       "    </tr>\n",
       "  </tbody>\n",
       "</table>\n",
       "<p>100 rows × 3 columns</p>\n",
       "</div>"
      ],
      "text/plain": [
       "                                                ENTRY  \\\n",
       "0   1279049_1_Paired_All_0_H|1279049_1_Paired_All_0_L   \n",
       "1   1279049_1_Paired_All_1_H|1279049_1_Paired_All_1_L   \n",
       "2   1279049_1_Paired_All_2_H|1279049_1_Paired_All_2_L   \n",
       "3   1279049_1_Paired_All_3_H|1279049_1_Paired_All_3_L   \n",
       "4   1279049_1_Paired_All_4_H|1279049_1_Paired_All_4_L   \n",
       "..                                                ...   \n",
       "95  1279049_1_Paired_All_95_H|1279049_1_Paired_All...   \n",
       "96  1279049_1_Paired_All_96_H|1279049_1_Paired_All...   \n",
       "97  1279049_1_Paired_All_97_H|1279049_1_Paired_All...   \n",
       "98  1279049_1_Paired_All_98_H|1279049_1_Paired_All...   \n",
       "99  1279049_1_Paired_All_99_H|1279049_1_Paired_All...   \n",
       "\n",
       "                                                 HSEQ  \\\n",
       "0   QVQLVQSGAEVKKPGASVKVSCKASGYTFTGYYMHWVRQAPGQGLE...   \n",
       "1   QVQLVQSGAEVKKPGASVKVSCKASGYTFTGYYMHWVRQAPGQGLE...   \n",
       "2   QVQLVQSGAEVKKPGASVKVSCKASGYTFTSYAMHWVRQAPGQRLE...   \n",
       "3   EVQLVESGGGLVKPGGSLRLSCAASGFTFSNAWMSWVRQAPGKGLE...   \n",
       "4   EVQLLESGGGLVQPGGSLRLSCAASGFTFSSYAMSWVRQAPGKGLE...   \n",
       "..                                                ...   \n",
       "95  EVQLVESGGGLVQPGGSLRLSCAASGFTFSSYEMNWVRQAPGKGLE...   \n",
       "96  QVQLQESGPGLVKPSETLSLTCTVSGGSISSYYWSWIRQPPGKGLE...   \n",
       "97  QLQLQESGPGLVKPSETLSLTCTVSGGSISSSSYYWGWIRQPPGKG...   \n",
       "98  QLQLQESGPGLVKPSETLSLTCTVSGGSISSSSYYWGWIRQPPGKG...   \n",
       "99  EVQLVESGGGLVKPGGSLRLSCAASGFTFSSYSMNWVRQAPGKGLE...   \n",
       "\n",
       "                                                 LSEQ  \n",
       "0    QSVLTQPPSVSEAPRQRVTISCSGSSSNIGNNAVNWYQQLPGKAP...  \n",
       "1    QSVLTQPPSASGTPGQRVTISCSGSSSNIGSNTVNWYQQLPGTAP...  \n",
       "2    SYELTQPPSVSVSPGQTARITCSGDALPKQYAYWYQQKPGQAPVL...  \n",
       "3    SYELTQPPSVSVSPGQTARITCSGDALPKKYAYWYQQKSGQAPVL...  \n",
       "4    DIQMTQSPSSLSASVGDRVTITCRASQSISSYLNWYQQKPGKAPK...  \n",
       "..                                                ...  \n",
       "95   DIQLTQSPSFLSASVGDRVTITCRASQGISSYLAWYQQKPGKAPK...  \n",
       "96   SYELTQPPSVSVSPGQTARITCSGDALPKQYAYWYQQKPGQAPVL...  \n",
       "97   QSVLTQPPSVSGAPGQRVTISCTGSSSNIGAGYDVHWYQQLPGTA...  \n",
       "98   EIVLTQSPATLSLSPGERATLSCRASQSVSSYLAWYQQKPGQAPR...  \n",
       "99   DIQMTQSPSSLSASVGDRVTITCQASQDISNYLNWYQQKPGKAPK...  \n",
       "\n",
       "[100 rows x 3 columns]"
      ]
     },
     "execution_count": 40,
     "metadata": {},
     "output_type": "execute_result"
    }
   ],
   "source": [
    "seqs"
   ]
  },
  {
   "cell_type": "code",
   "execution_count": 41,
   "id": "c38c5c08-9d86-49ba-a581-3c08ad899275",
   "metadata": {},
   "outputs": [
    {
     "data": {
      "text/plain": [
       "100"
      ]
     },
     "execution_count": 41,
     "metadata": {},
     "output_type": "execute_result"
    }
   ],
   "source": [
    "len(seqs)"
   ]
  },
  {
   "cell_type": "code",
   "execution_count": 42,
   "id": "4f9434ca-2940-4dc6-b416-53dd59644ab5",
   "metadata": {
    "scrolled": true
   },
   "outputs": [],
   "source": [
    "heavy_chains = seqs.apply(lambda row: Chain(row['HSEQ'], name=row.name, scheme='imgt'), axis=1)"
   ]
  },
  {
   "cell_type": "code",
   "execution_count": 87,
   "id": "471e5048-9cde-4e39-a364-6cd74b61b36a",
   "metadata": {},
   "outputs": [
    {
     "data": {
      "text/plain": [
       "QVQLVQSGAEVKKPGASVKVSCKASGYTFTGYYMHWVRQAPGQGLEWMGWINPNSGGTNYAQKFQGRVTMTRDTSISTAYMELSRLRSDDTAVYYCARAGAVAASKGYYYYYYGMDVWGQGTTVTVSS\n",
       "                         ^^^^^^^^                 ^^^^^^^^                                      ^^^^^^^^^^^^^^^^^^^^^           "
      ]
     },
     "execution_count": 87,
     "metadata": {},
     "output_type": "execute_result"
    }
   ],
   "source": [
    "heavy_chains[0]"
   ]
  },
  {
   "cell_type": "code",
   "execution_count": 89,
   "id": "735b271f-950e-4024-a90f-7eed0f3e9747",
   "metadata": {},
   "outputs": [],
   "source": [
    "light_chains = seqs.apply(lambda row: Chain(row['LSEQ'], name=row.name, scheme='imgt'), axis=1)"
   ]
  },
  {
   "cell_type": "code",
   "execution_count": 90,
   "id": "b8d0991e-2d47-4345-ad33-5e82b773bd31",
   "metadata": {},
   "outputs": [
    {
     "data": {
      "text/plain": [
       "QSVLTQPPSVSEAPRQRVTISCSGSSSNIGNNAVNWYQQLPGKAPKLLIYYDDLLPSGVSDRFSGSKSGTSASLAISGLQSEDEADYYCAAWDDSLNVVVFGGGTKLTVL\n",
       "                         ^^^^^^^^                 ^^^                                    ^^^^^^^^^^^          "
      ]
     },
     "execution_count": 90,
     "metadata": {},
     "output_type": "execute_result"
    }
   ],
   "source": [
    "light_chains[0]"
   ]
  },
  {
   "cell_type": "code",
   "execution_count": null,
   "id": "317867f4-af04-45e8-9f69-c85f3ba6d87c",
   "metadata": {},
   "outputs": [],
   "source": [
    "QVQLVQSGAEVKKPGASVKVSCKASGYTFTGYYMHWVRQAPGQGLEWMGWINPNSGGTNYAQKFQGRVTMTRDTSISTAYMELSRLRSDDTAVYYCARAGAVAASKGYYYYYYGMDVWGQGTTVTVSS\n",
    "QVQLVQSGA-EVKKPGASVKVSCKASGYTF----TGYYMHWVRQAPGQGLEWMGWINPN--SGGTNYAQKFQ-GRVTMTRDTSISTAYMELSRLRSDDTAVYYCARAGAVAABCDDCBAYYGMDVWGQGTTVTVSS"
   ]
  },
  {
   "cell_type": "code",
   "execution_count": 46,
   "id": "ec1bdcdd-b6ce-4d76-bc1a-aec42cf3a2af",
   "metadata": {},
   "outputs": [
    {
     "data": {
      "text/plain": [
       "128"
      ]
     },
     "execution_count": 46,
     "metadata": {},
     "output_type": "execute_result"
    }
   ],
   "source": [
    "len('QVQLVQSGAEVKKPGASVKVSCKASGYTFTGYYMHWVRQAPGQGLEWMGWINPNSGGTNYAQKFQGRVTMTRDTSISTAYMELSRLRSDDTAVYYCARAGAVAASKGYYYYYYGMDVWGQGTTVTVSS')"
   ]
  },
  {
   "cell_type": "code",
   "execution_count": 47,
   "id": "6065e5e1-ac9e-4c8d-9695-7b178e427f7c",
   "metadata": {},
   "outputs": [
    {
     "data": {
      "text/plain": [
       "114"
      ]
     },
     "execution_count": 47,
     "metadata": {},
     "output_type": "execute_result"
    }
   ],
   "source": [
    "seq1 = 'QVQLVQSGAEVKKPGASVKVSCKASGYTFTGYYMHWVRQAPGQGLEWMGWINPNSGGTNYAQKFQGRVTMTRDTSISTAYMELSRLRSDDTAVYYCARDSLSAWGQGTLVTVSS'\n",
    "len(seq1)"
   ]
  },
  {
   "cell_type": "code",
   "execution_count": 48,
   "id": "af250f80-c045-4705-9518-0521c2c86127",
   "metadata": {},
   "outputs": [],
   "source": [
    "chain1 = Chain(seq1, scheme='imgt')"
   ]
  },
  {
   "cell_type": "code",
   "execution_count": 49,
   "id": "5e3b7115-2672-49db-afdc-a5e7187af115",
   "metadata": {},
   "outputs": [
    {
     "name": "stdout",
     "output_type": "stream",
     "text": [
      "       H1 Q          H25 A          H52 W          H78 M         H101 V\n",
      "       H2 V          H26 S          H53 M          H79 T         H102 Y\n",
      "       H3 Q     CDR1 H27 G          H54 G          H80 R         H103 Y\n",
      "       H4 L     CDR1 H28 Y          H55 W          H81 D         H104 C\n",
      "       H5 V     CDR1 H29 T     CDR2 H56 I          H82 T    CDR3 H105 A\n",
      "       H6 Q     CDR1 H30 F     CDR2 H57 N          H83 S    CDR3 H106 R\n",
      "       H7 S     CDR1 H35 T     CDR2 H58 P          H84 I    CDR3 H107 D\n",
      "       H8 G     CDR1 H36 G     CDR2 H59 N          H85 S    CDR3 H108 S\n",
      "       H9 A     CDR1 H37 Y     CDR2 H62 S          H86 T    CDR3 H115 L\n",
      "      H11 E     CDR1 H38 Y     CDR2 H63 G          H87 A    CDR3 H116 S\n",
      "      H12 V          H39 M     CDR2 H64 G          H88 Y    CDR3 H117 A\n",
      "      H13 K          H40 H     CDR2 H65 T          H89 M         H118 W\n",
      "      H14 K          H41 W          H66 N          H90 E         H119 G\n",
      "      H15 P          H42 V          H67 Y          H91 L         H120 Q\n",
      "      H16 G          H43 R          H68 A          H92 S         H121 G\n",
      "      H17 A          H44 Q          H69 Q          H93 R         H122 T\n",
      "      H18 S          H45 A          H70 K          H94 L         H123 L\n",
      "      H19 V          H46 P          H71 F          H95 R         H124 V\n",
      "      H20 K          H47 G          H72 Q          H96 S         H125 T\n",
      "      H21 V          H48 Q          H74 G          H97 D         H126 V\n",
      "      H22 S          H49 G          H75 R          H98 D         H127 S\n",
      "      H23 C          H50 L          H76 V          H99 T         H128 S\n",
      "      H24 K          H51 E          H77 T         H100 A\n"
     ]
    }
   ],
   "source": [
    "chain1.print_tall()\n"
   ]
  },
  {
   "cell_type": "code",
   "execution_count": 10,
   "id": "847a05bd-7dd5-437f-95bd-95a4334fa1a2",
   "metadata": {},
   "outputs": [
    {
     "data": {
      "text/plain": [
       "12"
      ]
     },
     "execution_count": 10,
     "metadata": {},
     "output_type": "execute_result"
    }
   ],
   "source": [
    "117-105\n"
   ]
  },
  {
   "cell_type": "code",
   "execution_count": 56,
   "id": "c5e09c79-4889-489b-ae94-b3e727bbbb73",
   "metadata": {},
   "outputs": [
    {
     "ename": "AttributeError",
     "evalue": "'str' object has no attribute 'print_tall'",
     "output_type": "error",
     "traceback": [
      "\u001b[0;31m---------------------------------------------------------------------------\u001b[0m",
      "\u001b[0;31mAttributeError\u001b[0m                            Traceback (most recent call last)",
      "Cell \u001b[0;32mIn[56], line 1\u001b[0m\n\u001b[0;32m----> 1\u001b[0m \u001b[43mchain1_\u001b[49m\u001b[38;5;241;43m.\u001b[39;49m\u001b[43mprint_tall\u001b[49m()\n",
      "\u001b[0;31mAttributeError\u001b[0m: 'str' object has no attribute 'print_tall'"
     ]
    }
   ],
   "source": []
  },
  {
   "cell_type": "code",
   "execution_count": 54,
   "id": "ccc9c94c-294d-4e92-9a5f-90fc9b57ff0e",
   "metadata": {},
   "outputs": [
    {
     "data": {
      "text/plain": [
       "QVQLVQSGAEVKKPGASVKVSCKASGYTFTGYYMHWVRQAPGQGLEWMGWINPNSGGTNYAQKFQGRVTMTRDTSISTAYMELSRLRSDDTAVYYCARDSLSAWGQGTLVTVSS\n",
       "                         ^^^^^^^^                 ^^^^^^^^                                      ^^^^^^^           "
      ]
     },
     "execution_count": 54,
     "metadata": {},
     "output_type": "execute_result"
    }
   ],
   "source": [
    "chain1"
   ]
  },
  {
   "cell_type": "code",
   "execution_count": 57,
   "id": "6e2c0397-c8ed-4569-92a5-679b3505b93e",
   "metadata": {},
   "outputs": [
    {
     "data": {
      "text/plain": [
       "114"
      ]
     },
     "execution_count": 57,
     "metadata": {},
     "output_type": "execute_result"
    }
   ],
   "source": [
    "len('QVQLVQSGAEVKKPGASVKVSCKASGYTFTGYYMHWVRQAPGQGLEWMGWINPNSGGTNYAQKFQGRVTMTRDTSISTAYMELSRLRSDDTAVYYCARDSLSAWGQGTLVTVSS')"
   ]
  },
  {
   "cell_type": "code",
   "execution_count": 68,
   "id": "f1002359-1735-449f-bb27-6a9a14ee0c7b",
   "metadata": {},
   "outputs": [
    {
     "data": {
      "text/plain": [
       "'QVQLVQSGAEVKKPGASVKVSCKASGYTFTGYYMHWVRQAPGQGLEWMGWINPNSGGTNYAQKFQGRVTMTRDTSISTAYMELSRLRSDDTAVYYCARDSLSAWGQGTLVTVSS'"
      ]
     },
     "execution_count": 68,
     "metadata": {},
     "output_type": "execute_result"
    }
   ],
   "source": [
    "seq1\n"
   ]
  },
  {
   "cell_type": "code",
   "execution_count": 69,
   "id": "15f301ba-d0c2-4d78-a773-ca5d98918bfb",
   "metadata": {},
   "outputs": [
    {
     "name": "stdout",
     "output_type": "stream",
     "text": [
      "Q\n",
      "V\n",
      "Q\n",
      "L\n",
      "V\n",
      "Q\n",
      "S\n",
      "G\n",
      "A\n",
      "E\n",
      "V\n",
      "K\n",
      "K\n",
      "P\n",
      "G\n",
      "A\n",
      "S\n",
      "V\n",
      "K\n",
      "V\n",
      "S\n",
      "C\n",
      "K\n",
      "A\n",
      "S\n",
      "G\n",
      "Y\n",
      "T\n",
      "F\n",
      "T\n",
      "G\n",
      "Y\n",
      "Y\n",
      "M\n",
      "H\n",
      "W\n",
      "V\n",
      "R\n",
      "Q\n",
      "A\n",
      "P\n",
      "G\n",
      "Q\n",
      "G\n",
      "L\n",
      "E\n",
      "W\n",
      "M\n",
      "G\n",
      "W\n",
      "I\n",
      "N\n",
      "P\n",
      "N\n",
      "S\n",
      "G\n",
      "G\n",
      "T\n",
      "N\n",
      "Y\n",
      "A\n",
      "Q\n",
      "K\n",
      "F\n",
      "Q\n",
      "G\n",
      "R\n",
      "V\n",
      "T\n",
      "M\n",
      "T\n",
      "R\n",
      "D\n",
      "T\n",
      "S\n",
      "I\n",
      "S\n",
      "T\n",
      "A\n",
      "Y\n",
      "M\n",
      "E\n",
      "L\n",
      "S\n",
      "R\n",
      "L\n",
      "R\n",
      "S\n",
      "D\n",
      "D\n",
      "T\n",
      "A\n",
      "V\n",
      "Y\n",
      "Y\n",
      "C\n",
      "A\n",
      "R\n",
      "D\n",
      "S\n",
      "L\n",
      "S\n",
      "A\n",
      "W\n",
      "G\n",
      "Q\n",
      "G\n",
      "T\n",
      "L\n",
      "V\n",
      "T\n",
      "V\n",
      "S\n",
      "S\n"
     ]
    }
   ],
   "source": [
    "for i in seq1:\n",
    "    print(i)\n"
   ]
  },
  {
   "cell_type": "code",
   "execution_count": 70,
   "id": "4aca574f-505c-429c-9ed8-f1ae6e808174",
   "metadata": {},
   "outputs": [],
   "source": [
    "a = {'c': 2, 'd': 3}"
   ]
  },
  {
   "cell_type": "code",
   "execution_count": 71,
   "id": "feee5596-cbbd-4588-b976-ca6a66b3b758",
   "metadata": {},
   "outputs": [
    {
     "data": {
      "text/plain": [
       "dict_keys(['c', 'd'])"
      ]
     },
     "execution_count": 71,
     "metadata": {},
     "output_type": "execute_result"
    }
   ],
   "source": [
    "a.keys()"
   ]
  },
  {
   "cell_type": "code",
   "execution_count": 73,
   "id": "3fa02358-5162-4764-93a3-36e7d8534417",
   "metadata": {},
   "outputs": [
    {
     "data": {
      "text/plain": [
       "True"
      ]
     },
     "execution_count": 73,
     "metadata": {},
     "output_type": "execute_result"
    }
   ],
   "source": [
    "'d' in a.keys()"
   ]
  },
  {
   "cell_type": "code",
   "execution_count": 86,
   "id": "66e64df9-bb78-4b6a-bb93-8dcc75ac16f7",
   "metadata": {},
   "outputs": [
    {
     "data": {
      "text/plain": [
       "20"
      ]
     },
     "execution_count": 86,
     "metadata": {},
     "output_type": "execute_result"
    }
   ],
   "source": [
    "red_list = ['Q', 'V', 'L', 'S', 'G', 'A', 'E', 'K', 'P', 'C', 'Y', 'T', 'F', 'M', 'H', 'W', 'R', 'I', 'N', 'D']\n",
    "len(red_list)"
   ]
  },
  {
   "cell_type": "code",
   "execution_count": null,
   "id": "804f281c-2484-4252-b2f2-0b113cca6c99",
   "metadata": {},
   "outputs": [],
   "source": []
  },
  {
   "cell_type": "code",
   "execution_count": 75,
   "id": "10414b40-d488-41e6-a07d-18af5f4beddf",
   "metadata": {},
   "outputs": [],
   "source": [
    "High_H = {'Q': 9943359, \n",
    "         'V': 16586989, \n",
    "         'L': 14587607, \n",
    "         'S': 27400373, \n",
    "         'G': 22067603, \n",
    "         'A': 12735476, \n",
    "         'E': 6586589, \n",
    "         'K': 7895777, \n",
    "         'P': 6166750, \n",
    "         'C': 3647638, \n",
    "         'Y': 13508200, \n",
    "         'T': 15424020, \n",
    "         'F': 5453165, \n",
    "         'M': 3637888, \n",
    "         'H': 1289489, \n",
    "         'W': 6699793, \n",
    "         'R': 9260831, \n",
    "         'I': 6144554, \n",
    "         'N': 5661022, \n",
    "         'D': 8427505}\n",
    "High_L = {'Q': 12722690, \n",
    "          'S': 27412177, \n",
    "          'V': 9593981, \n",
    "          'L': 13354920, \n",
    "          'T': 15532925, \n",
    "          'P': 10751101, \n",
    "          'E': 5382286, \n",
    "          'A': 10910077, \n",
    "          'R': 6685286, \n",
    "          'I': 8250769, \n",
    "          'C': 3473020, \n",
    "          'G': 17643109, \n",
    "          'N': 4115497, \n",
    "          'W': 2670343, \n",
    "          'Y': 9838025, \n",
    "          'K': 6728829, \n",
    "          'D': 7253657, \n",
    "          'F': 5683407, \n",
    "          'M': 1164497, \n",
    "          'H': 897210}\n"
   ]
  },
  {
   "cell_type": "code",
   "execution_count": 79,
   "id": "7c625baf-795f-4326-896b-12feacb0ab62",
   "metadata": {},
   "outputs": [],
   "source": [
    "sum = 0\n",
    "for v in High_H.values():\n",
    "    sum += v\n"
   ]
  },
  {
   "cell_type": "code",
   "execution_count": 81,
   "id": "ae495b49-af94-4b44-a5a7-2da95735f7bb",
   "metadata": {},
   "outputs": [],
   "source": [
    "sumH = sum"
   ]
  },
  {
   "cell_type": "code",
   "execution_count": 82,
   "id": "7d39745a-6133-4b2e-9256-432123044e2e",
   "metadata": {},
   "outputs": [],
   "source": [
    "sumV = 0\n",
    "for v in High_L.values():\n",
    "    sumV += v"
   ]
  },
  {
   "cell_type": "code",
   "execution_count": 83,
   "id": "04daa9eb-be8b-4f12-adf0-24d5565ebc50",
   "metadata": {},
   "outputs": [
    {
     "data": {
      "text/plain": [
       "180063806"
      ]
     },
     "execution_count": 83,
     "metadata": {},
     "output_type": "execute_result"
    }
   ],
   "source": [
    "sumV"
   ]
  },
  {
   "cell_type": "code",
   "execution_count": 85,
   "id": "bec716e0-7fbd-48e1-bf76-abe2a0357819",
   "metadata": {},
   "outputs": [
    {
     "name": "stdout",
     "output_type": "stream",
     "text": [
      "Q 0.04895201088072885\n",
      "V 0.08165917231858266\n",
      "L 0.0718160429074115\n",
      "S 0.13489439104351245\n",
      "G 0.10864070603984072\n",
      "A 0.06269784282386477\n",
      "E 0.03242634369279928\n",
      "K 0.03887158872729111\n",
      "P 0.03035944021519636\n",
      "C 0.017957635348875567\n",
      "Y 0.06650202948310138\n",
      "T 0.07593377598702605\n",
      "F 0.02684639993531459\n",
      "M 0.017909635260968945\n",
      "H 0.006348265164576696\n",
      "W 0.03298365671345377\n",
      "R 0.04559186688085898\n",
      "I 0.030250167399691188\n",
      "N 0.027869697809366573\n",
      "D 0.04148933136753855\n"
     ]
    }
   ],
   "source": [
    "for k in High_H.keys():\n",
    "    v = High_H[k]\n",
    "    p = v / sumH\n",
    "    print(k, p)"
   ]
  },
  {
   "cell_type": "code",
   "execution_count": null,
   "id": "a9ea5b4b-4dc1-4061-9254-69bd511b9f0d",
   "metadata": {},
   "outputs": [],
   "source": []
  }
 ],
 "metadata": {
  "kernelspec": {
   "display_name": "Python 3 (ipykernel)",
   "language": "python",
   "name": "python3"
  },
  "language_info": {
   "codemirror_mode": {
    "name": "ipython",
    "version": 3
   },
   "file_extension": ".py",
   "mimetype": "text/x-python",
   "name": "python",
   "nbconvert_exporter": "python",
   "pygments_lexer": "ipython3",
   "version": "3.9.18"
  }
 },
 "nbformat": 4,
 "nbformat_minor": 5
}
