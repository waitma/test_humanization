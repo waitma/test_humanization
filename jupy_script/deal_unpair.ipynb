{
 "cells": [
  {
   "cell_type": "code",
   "execution_count": 1,
   "id": "a1a12e50-406c-44ff-b047-ab415da812a9",
   "metadata": {},
   "outputs": [],
   "source": [
    "import os\n",
    "import pandas as pd\n",
    "import random\n",
    "import numpy\n",
    "import re\n",
    "from tqdm import tqdm\n",
    "import json\n",
    "import pickle\n",
    "from concurrent.futures import ProcessPoolExecutor\n",
    "\n",
    "from abnumber import Chain\n",
    "from anarci import anarci, number"
   ]
  },
  {
   "cell_type": "code",
   "execution_count": 15,
   "id": "363364eb-26fd-4e21-8f07-050dbb004324",
   "metadata": {},
   "outputs": [],
   "source": [
    "HEAVY_POSITIONS = ['1', '2', '3', '4', '5', '6', '7', '8', '9', '10', '11', '12',\n",
    "       '13', '14', '15', '16', '17', '18', '19', '20', '21', '22', '23',\n",
    "       '24', '25', '26', '27', '28', '29', '30', '31', '32', '33', '34',\n",
    "       '35', '36', '37', '38', '39', '40', '41', '42', '43', '44', '45',\n",
    "       '46', '47', '48', '49', '50', '51', '52', '53', '54', '55', '56',\n",
    "       '57', '58', '59', '60', '61', '62', '63', '64', '65', '66', '67',\n",
    "       '68', '69', '70', '71', '72', '73', '74', '75', '76', '77', '78',\n",
    "       '79', '80', '81', '82', '83', '84', '85', '86', '87', '88', '89',\n",
    "       '90', '91', '92', '93', '94', '95', '96', '97', '98', '99', '100',\n",
    "       '101', '102', '103', '104', '105', '106', '107', '108', '109',\n",
    "       '110', '111', '111A', '111B', '111C', '111D', '111E', '111F',\n",
    "       '111G', '111H', '111I', '111J', '111K', '111L', '112L', '112K',\n",
    "       '112J', '112I', '112H', '112G', '112F', '112E', '112D', '112C',\n",
    "       '112B', '112A', '112', '113', '114', '115', '116', '117', '118',\n",
    "       '119', '120', '121', '122', '123', '124', '125', '126', '127',\n",
    "       '128']\n",
    "\n",
    "HEAVY_CDR_INDEX = [0, 0, 0, 0, 0, 0, 0, 0, 0, 0, 0, 0, 0, 0, 0, 0, 0, 0, \n",
    "                   0, 0, 0, 0, 0, 0, 0, 0, \n",
    "                   1, 1, 1, 1, 1, 1, 1, 1, 1, 1, 1, 1, \n",
    "                   0, 0, 0, 0, 0, 0, 0, 0, 0, 0, 0, 0, 0, 0, 0, 0, 0, \n",
    "                   2, 2, 2, 2, 2, 2, 2, 2, 2, 2, 0, \n",
    "                   0, 0, 0, 0, 0, 0, 0, 0, 0, 0, 0, 0, 0, 0, 0, 0, 0, 0, 0, \n",
    "                   0, 0, 0, 0, 0, 0, 0, 0, 0, 0, 0, 0, 0, 0, 0, 0, 0, 0, 0, \n",
    "                   3, 3, 3, 3, 3, 3, 3, 3, 3, 3, 3, 3, 3, 3, 3, 3, 3, 3, 3, \n",
    "                   3, 3, 3, 3, 3, 3, 3, 3, 3, 3, 3, 3, 3, 3, 3, 3, 3, 3, \n",
    "                   0, 0, 0, 0, 0, 0, 0, 0, 0, 0, 0]\n",
    "\n",
    "LIGHT_POSITIONS = ['1', '2', '3', '4', '5', '6', '7', '8', '9', '10', '11', '12',\n",
    "       '13', '14', '15', '16', '17', '18', '19', '20', '21', '22', '23',\n",
    "       '24', '25', '26', '27', '28', '29', '30', '31', '32', '33', '34',\n",
    "       '35', '36', '37', '38', '39', '40', '41', '42', '43', '44', '45',\n",
    "       '46', '47', '48', '49', '50', '51', '52', '53', '54', '55', '56',\n",
    "       '57', '58', '59', '60', '61', '62', '63', '64', '65', '66', '67',\n",
    "       '68', '69', '70', '71', '72', '73', '74', '75', '76', '77', '78',\n",
    "       '79', '80', '81', '82', '83', '84', '85', '86', '87', '88', '89',\n",
    "       '90', '91', '92', '93', '94', '95', '96', '97', '98', '99', '100',\n",
    "       '101', '102', '103', '104', '105', '106', '107', '108', '109',\n",
    "       '110', '111', '111A', '111B', '111C', '111D', '111E', '111F',\n",
    "       '112F', '112E', '112D', '112C', '112B', '112A', '112', '113',\n",
    "       '114', '115', '116', '117', '118', '119', '120', '121', '122',\n",
    "       '123', '124', '125', '126', '127']\n",
    "\n",
    "LIGHT_CDR_INDEX = [0, 0, 0, 0, 0, 0, 0, 0, 0, 0, 0, 0, 0, 0, 0, 0, 0, 0, \n",
    "                   0, 0, 0, 0, 0, 0, 0, 0, \n",
    "                   1, 1, 1, 1, 1, 1, 1, 1, 1, 1, 1, 1,\n",
    "                   0, 0, 0, 0, 0, 0, 0, 0, 0, 0, 0, 0, 0, 0, 0, 0, 0, \n",
    "                   2, 2, 2, 2, 2, 2, 2, 2, 2, 2, \n",
    "                   0, 0, 0, 0, 0, 0, 0, 0, 0, 0, 0, 0, 0, 0, 0, 0, 0, 0, 0, 0, \n",
    "                   0, 0, 0, 0, 0, 0, 0, 0, 0, 0, 0, 0, 0, 0, 0, 0, 0, 0, 0, \n",
    "                   3, 3, 3, 3, 3, 3, 3, 3, 3, 3, 3, 3, 3, 3, 3, 3, \n",
    "                   3, 3, 3, 3, 3, 3, 3, 3, 3, \n",
    "                   0, 0, 0, 0, 0, 0, 0, 0, 0, 0]"
   ]
  },
  {
   "cell_type": "code",
   "execution_count": 23,
   "id": "558c22b2-34f3-4abe-afac-796327744028",
   "metadata": {},
   "outputs": [
    {
     "name": "stdout",
     "output_type": "stream",
     "text": [
      "{'1': 0, '2': 1, '3': 2, '4': 3, '5': 4, '6': 5, '7': 6, '8': 7, '9': 8, '10': 9, '11': 10, '12': 11, '13': 12, '14': 13, '15': 14, '16': 15, '17': 16, '18': 17, '19': 18, '20': 19, '21': 20, '22': 21, '23': 22, '24': 23, '25': 24, '26': 25, '27': 26, '28': 27, '29': 28, '30': 29, '31': 30, '32': 31, '33': 32, '34': 33, '35': 34, '36': 35, '37': 36, '38': 37, '39': 38, '40': 39, '41': 40, '42': 41, '43': 42, '44': 43, '45': 44, '46': 45, '47': 46, '48': 47, '49': 48, '50': 49, '51': 50, '52': 51, '53': 52, '54': 53, '55': 54, '56': 55, '57': 56, '58': 57, '59': 58, '60': 59, '61': 60, '62': 61, '63': 62, '64': 63, '65': 64, '66': 65, '67': 66, '68': 67, '69': 68, '70': 69, '71': 70, '72': 71, '73': 72, '74': 73, '75': 74, '76': 75, '77': 76, '78': 77, '79': 78, '80': 79, '81': 80, '82': 81, '83': 82, '84': 83, '85': 84, '86': 85, '87': 86, '88': 87, '89': 88, '90': 89, '91': 90, '92': 91, '93': 92, '94': 93, '95': 94, '96': 95, '97': 96, '98': 97, '99': 98, '100': 99, '101': 100, '102': 101, '103': 102, '104': 103, '105': 104, '106': 105, '107': 106, '108': 107, '109': 108, '110': 109, '111': 110, '111A': 111, '111B': 112, '111C': 113, '111D': 114, '111E': 115, '111F': 116, '111G': 117, '111H': 118, '111I': 119, '111J': 120, '111K': 121, '111L': 122, '112L': 123, '112K': 124, '112J': 125, '112I': 126, '112H': 127, '112G': 128, '112F': 129, '112E': 130, '112D': 131, '112C': 132, '112B': 133, '112A': 134, '112': 135, '113': 136, '114': 137, '115': 138, '116': 139, '117': 140, '118': 141, '119': 142, '120': 143, '121': 144, '122': 145, '123': 146, '124': 147, '125': 148, '126': 149, '127': 150, '128': 151}\n"
     ]
    }
   ],
   "source": [
    "def extract_number(s):\n",
    "    return int(re.findall(r'\\d+', s)[0])\n",
    "# numbers = [extract_number(s) for s in LIGHT_POSITIONS]\n",
    "# cdr_index = [\n",
    "#     1 if 27 <= idx <= 38 else\n",
    "#     2 if 56 <= idx <= 65 else\n",
    "#     3 if 105 <= idx <= 117 else\n",
    "#     0\n",
    "#     for idx in numbers\n",
    "# ]\n",
    "tmp = []\n",
    "for i in range(len(HEAVY_CDR_INDEX)):\n",
    "    tmp.append(i)\n",
    "\n",
    "tmp_dict = {}\n",
    "\n",
    "for v, idx in zip(HEAVY_POSITIONS, tmp):\n",
    "    tmp_dict[v] = idx\n",
    "print(tmp_dict)"
   ]
  },
  {
   "cell_type": "code",
   "execution_count": 10,
   "id": "02523c24-c2d3-4782-8d3e-f063d9ffce52",
   "metadata": {},
   "outputs": [
    {
     "name": "stdout",
     "output_type": "stream",
     "text": [
      "[0, 0, 0, 0, 0, 0, 0, 0, 0, 0, 0, 0, 0, 0, 0, 0, 0, 0, 0, 0, 0, 0, 0, 0, 0, 0, 1, 1, 1, 1, 1, 1, 1, 1, 1, 1, 1, 1, 0, 0, 0, 0, 0, 0, 0, 0, 0, 0, 0, 0, 0, 0, 0, 0, 0, 2, 2, 2, 2, 2, 2, 2, 2, 2, 2, 0, 0, 0, 0, 0, 0, 0, 0, 0, 0, 0, 0, 0, 0, 0, 0, 0, 0, 0, 0, 0, 0, 0, 0, 0, 0, 0, 0, 0, 0, 0, 0, 0, 0, 0, 0, 0, 0, 0, 3, 3, 3, 3, 3, 3, 3, 3, 3, 3, 3, 3, 3, 3, 3, 3, 3, 3, 3, 3, 3, 3, 3, 3, 3, 0, 0, 0, 0, 0, 0, 0, 0, 0, 0]\n"
     ]
    }
   ],
   "source": [
    "print(cdr_index)"
   ]
  },
  {
   "cell_type": "code",
   "execution_count": 8,
   "id": "f5d1a2ca-1c84-4c23-a91e-b7cc0bdd77d4",
   "metadata": {},
   "outputs": [],
   "source": [
    "Chn_seqs = set()"
   ]
  },
  {
   "cell_type": "code",
   "execution_count": 9,
   "id": "6050cd47-a9d9-42a8-ac92-9026cf98d4e9",
   "metadata": {},
   "outputs": [],
   "source": [
    "def parse_unpair_cgz_file(path, length=149):\n",
    "    \"\"\"Parse the GZ-compressed CSV file.\"\"\"\n",
    "\n",
    "    # configurations\n",
    "    seg_names_dict = {\n",
    "        'H': ['fwh1', 'cdrh1', 'fwh2', 'cdrh2', 'fwh3', 'cdrh3', 'fwh4'],\n",
    "        'K': ['fwk1', 'cdrk1', 'fwk2', 'cdrk2', 'fwk3', 'cdrk3', 'fwk4'],\n",
    "        'L': ['fwl1', 'cdrl1', 'fwl2', 'cdrl2', 'fwl3', 'cdrl3', 'fwl4'],\n",
    "    }\n",
    "\n",
    "    # region_length = (26, 12, 17, 10, 38, 30, 11)\n",
    "\n",
    "    # parse the GZ-compressed CSV file\n",
    "    try:\n",
    "        data_frame = pd.read_csv(path, header=1, compression='gzip')\n",
    "    except EOFError:\n",
    "        logging.warning('corrupted GZ-compressed CSV file: %s', path)\n",
    "        return []\n",
    "\n",
    "    # obtain a list of (CSV file name, record index, heavy chain seq., light chain seq.)-tuples\n",
    "    seq_list = []\n",
    "    # chn_seqs = set()  # to remove duplicated sequences\n",
    "    name = os.path.basename(path).replace('.csv.gz', '')\n",
    "    for idx, row_data in tqdm(data_frame.iterrows(), total=len(data_frame)):\n",
    "        chain_type = row_data['locus']\n",
    "        try:\n",
    "            seg_names = seg_names_dict[row_data['locus']]\n",
    "            chn_seq = row_data['sequence_alignment_aa']\n",
    "            anarci_outputs = json.loads(row_data['ANARCI_numbering'].replace('\\'', '\"'))\n",
    "            seg_seqs_c = [''.join(anarci_outputs[x].values()) for x in seg_names]\n",
    "            assert ''.join(seg_seqs_c) in chn_seq\n",
    "            if chn_seq not in Chn_seqs:\n",
    "                # print(chn_seq)\n",
    "                Chn_seqs.add(chn_seq)\n",
    "                if '1' in [i.strip() for i in anarci_outputs[seg_names[0]].keys()]:\n",
    "                    results = number(chn_seq, scheme='imgt')\n",
    "                    data = results[0]\n",
    "                    seq = ''.join([item[1] for item in data])\n",
    "                    pattern = re.compile(r'\\d+')\n",
    "                    seq_index = [int(pattern.search(str(item)).group()) for item in data]\n",
    "                    cdr_index = [\n",
    "                        1 if 27 <= idx <= 38 else\n",
    "                        2 if 56 <= idx <= 65 else\n",
    "                        3 if 105 <= idx <= 117 else\n",
    "                        0\n",
    "                        for idx in seq_index\n",
    "                    ]\n",
    "                    \n",
    "                    if len(seq) < length:\n",
    "                        seq = seq + '-'*(length - len(seq))\n",
    "                        cdr_index.extend([0]*(length-len(cdr_index)))\n",
    "                    else:\n",
    "                        raise AttributeError(f'Chain length more than threshold.')\n",
    "    \n",
    "                    # Append seq for training.\n",
    "                    seq_list.append((name, seq, cdr_index, chain_type))\n",
    "                    \n",
    "                else:\n",
    "                    raise AttributeError(f'Chain {chain_type} Length is special.')\n",
    "\n",
    "        except AttributeError as e:\n",
    "            print(f'Caught an error: {e.args[0]}')\n",
    "            # print(f'Chain {chain_type} Length is special.')\n",
    "            continue\n",
    "\n",
    "    return seq_list\n"
   ]
  },
  {
   "cell_type": "code",
   "execution_count": 10,
   "id": "d9050583-ef73-4c7d-b5b9-30c9bdc39400",
   "metadata": {},
   "outputs": [],
   "source": [
    "def main(chain_type='Light', num_processes=8):\n",
    "    \"\"\"Main entry.\"\"\"\n",
    "\n",
    "    # configurations\n",
    "    root_dir = '/data/home/waitma/antibody_proj/antidiff/data/oas_unpair_human_data/'\n",
    "    cgz_dpath = os.path.join(root_dir, 'unpair_select_cgzdata_200')\n",
    "    save_path = os.path.join(cgz_dpath, f'{chain_type}_pad_data.pkl')\n",
    "    # initialization\n",
    "    # tfold_init()\n",
    "\n",
    "    # parse all the GZ-compressed CSV files\n",
    "    seq_list = []\n",
    "    cgz_names = sorted(os.listdir(cgz_dpath))[:1]\n",
    "    print(cgz_names)\n",
    "    with ProcessPoolExecutor(max_workers=num_processes) as executor:\n",
    "        results = list(tqdm(executor.map(parse_unpair_cgz_file, \n",
    "            [os.path.join(cgz_dpath, name) for name in cgz_names if chain_type in name]), total=len(cgz_names), desc=f'{chain_type}parsing GZ-compressed CSV files'))\n",
    "\n",
    "    seq_list = []\n",
    "    for result in results:\n",
    "        seq_list.extend(result) \n",
    "\n",
    "    # Save path.\n",
    "    with open(save_path, 'wb') as f:\n",
    "        pickle.dump(seq_list, f)\n",
    "        f.close()"
   ]
  },
  {
   "cell_type": "code",
   "execution_count": null,
   "id": "57ea5103-9287-4079-aa2c-77f08d0dac66",
   "metadata": {},
   "outputs": [],
   "source": []
  },
  {
   "cell_type": "code",
   "execution_count": null,
   "id": "b3c43514-ece0-4769-998f-c92fb2842473",
   "metadata": {},
   "outputs": [],
   "source": []
  },
  {
   "cell_type": "code",
   "execution_count": 9,
   "id": "49c13a60-636f-4ef8-9c75-084bb99d89a5",
   "metadata": {},
   "outputs": [],
   "source": [
    "test_save_path = './test_save.pkl'\n",
    "with open(test_save_path, 'wb') as f:\n",
    "    pickle.dump(seq_list, f)\n",
    "    f.close()\n",
    "    "
   ]
  },
  {
   "cell_type": "code",
   "execution_count": 10,
   "id": "233ee825-0675-41dc-93af-ed79c15bec40",
   "metadata": {},
   "outputs": [],
   "source": [
    "with open(test_save_path, 'rb') as f:\n",
    "    file_list = pickle.load(f)\n",
    "    f.close()\n"
   ]
  },
  {
   "cell_type": "code",
   "execution_count": 11,
   "id": "f136ae31-a757-49cc-a55a-1a885cac0ffa",
   "metadata": {},
   "outputs": [],
   "source": [
    "test_seq = 'AAQPADIVLTQTPSSLPVSVGEKVTMTCKSSQTLLYSNNQKNYLAWYQQKPGQSPKLLISWAFTRKSGVPDRFTGSGSGTDFTLTIGSVKAEDLAVYYCQQYSNYPWTFGGGTRLEIKRGGGGSGGGGSGGGGSGGGGSEVQLQQSGPEVVKTGASVKISCKASGYSFTGYFINWVKKNSGKSPEWIGHISSSYATSTYNQKFKNKAAFTVDTSSSTAFMQLNSLTSEDSAVYYCVRSGNYEEYAMDYWGQGTSVTVSS'\n",
    "result = number(test_seq, scheme='imgt')"
   ]
  },
  {
   "cell_type": "code",
   "execution_count": 14,
   "id": "eab67993-2b32-4f1f-af60-a9d8e90995ca",
   "metadata": {},
   "outputs": [],
   "source": [
    "data = result[0]\n",
    "\n",
    "# seq = ''.join([item[1] for item in data])\n",
    "# pattern = re.compile(r'\\d+')\n",
    "# seq_index = [int(pattern.search(str(item)).group()) for item in data]\n",
    "# cdr_index = [\n",
    "#     1 if 27 <= idx <= 38 else\n",
    "#     2 if 56 <= idx <= 65 else\n",
    "#     3 if 105 <= idx <= 117 else\n",
    "#     0\n",
    "#     for idx in seq_index\n",
    "# ]\n",
    "\n",
    "# if len(seq) < 149:\n",
    "#     seq = seq + '-'*(149 - len(seq))\n",
    "#     cdr_index.extend([0]*(149-len(cdr_index)))"
   ]
  },
  {
   "cell_type": "code",
   "execution_count": 18,
   "id": "c42c0d37-d521-4cd1-aaa5-e8241bf328f6",
   "metadata": {},
   "outputs": [
    {
     "data": {
      "text/plain": [
       "'L'"
      ]
     },
     "execution_count": 18,
     "metadata": {},
     "output_type": "execute_result"
    }
   ],
   "source": [
    "result[1]"
   ]
  },
  {
   "cell_type": "code",
   "execution_count": 20,
   "id": "9e9c3438-f7a1-4937-990a-f953499b6a71",
   "metadata": {},
   "outputs": [
    {
     "ename": "ChainParseError",
     "evalue": "Found 2 antibody domains in sequence: \"AAQPADIVLTQTPSSLPVSVGEKVTMTCKSSQTLLYSNNQKNYLAWYQQKPGQSPKLLISWAFTRKSGVPDRFTGSGSGTDFTLTIGSVKAEDLAVYYCQQYSNYPWTFGGGTRLEIKRGGGGSGGGGSGGGGSGGGGSEVQLQQSGPEVVKTGASVKISCKASGYSFTGYFINWVKKNSGKSPEWIGHISSSYATSTYNQKFKNKAAFTVDTSSSTAFMQLNSLTSEDSAVYYCVRSGNYEEYAMDYWGQGTSVTVSS\"",
     "output_type": "error",
     "traceback": [
      "\u001b[0;31m---------------------------------------------------------------------------\u001b[0m",
      "\u001b[0;31mChainParseError\u001b[0m                           Traceback (most recent call last)",
      "Cell \u001b[0;32mIn[20], line 1\u001b[0m\n\u001b[0;32m----> 1\u001b[0m chain \u001b[38;5;241m=\u001b[39m \u001b[43mChain\u001b[49m\u001b[43m(\u001b[49m\u001b[43mtest_seq\u001b[49m\u001b[43m,\u001b[49m\u001b[43m \u001b[49m\u001b[43mscheme\u001b[49m\u001b[38;5;241;43m=\u001b[39;49m\u001b[38;5;124;43m'\u001b[39;49m\u001b[38;5;124;43mimgt\u001b[39;49m\u001b[38;5;124;43m'\u001b[39;49m\u001b[43m)\u001b[49m\n",
      "File \u001b[0;32m~/anaconda3/envs/antidiff/lib/python3.9/site-packages/abnumber/chain.py:98\u001b[0m, in \u001b[0;36mChain.__init__\u001b[0;34m(self, sequence, scheme, cdr_definition, name, assign_germline, allowed_species, **kwargs)\u001b[0m\n\u001b[1;32m     96\u001b[0m     results \u001b[38;5;241m=\u001b[39m _anarci_align(sequence, scheme\u001b[38;5;241m=\u001b[39mscheme, allowed_species\u001b[38;5;241m=\u001b[39mallowed_species, assign_germline\u001b[38;5;241m=\u001b[39massign_germline)\n\u001b[1;32m     97\u001b[0m     \u001b[38;5;28;01mif\u001b[39;00m \u001b[38;5;28mlen\u001b[39m(results) \u001b[38;5;241m>\u001b[39m \u001b[38;5;241m1\u001b[39m:\n\u001b[0;32m---> 98\u001b[0m         \u001b[38;5;28;01mraise\u001b[39;00m ChainParseError(\u001b[38;5;124mf\u001b[39m\u001b[38;5;124m'\u001b[39m\u001b[38;5;124mFound \u001b[39m\u001b[38;5;132;01m{\u001b[39;00m\u001b[38;5;28mlen\u001b[39m(results)\u001b[38;5;132;01m}\u001b[39;00m\u001b[38;5;124m antibody domains in sequence: \u001b[39m\u001b[38;5;124m\"\u001b[39m\u001b[38;5;132;01m{\u001b[39;00msequence\u001b[38;5;132;01m}\u001b[39;00m\u001b[38;5;124m\"\u001b[39m\u001b[38;5;124m'\u001b[39m)\n\u001b[1;32m     99\u001b[0m     aa_dict, chain_type, tail, species, v_gene, j_gene \u001b[38;5;241m=\u001b[39m results[\u001b[38;5;241m0\u001b[39m]\n\u001b[1;32m    101\u001b[0m _validate_chain_type(chain_type)\n",
      "\u001b[0;31mChainParseError\u001b[0m: Found 2 antibody domains in sequence: \"AAQPADIVLTQTPSSLPVSVGEKVTMTCKSSQTLLYSNNQKNYLAWYQQKPGQSPKLLISWAFTRKSGVPDRFTGSGSGTDFTLTIGSVKAEDLAVYYCQQYSNYPWTFGGGTRLEIKRGGGGSGGGGSGGGGSGGGGSEVQLQQSGPEVVKTGASVKISCKASGYSFTGYFINWVKKNSGKSPEWIGHISSSYATSTYNQKFKNKAAFTVDTSSSTAFMQLNSLTSEDSAVYYCVRSGNYEEYAMDYWGQGTSVTVSS\""
     ]
    }
   ],
   "source": [
    "chain = Chain(test_seq, scheme='imgt')"
   ]
  },
  {
   "cell_type": "markdown",
   "id": "7ad26118-3b1d-492a-8ac7-a6e59acc92ca",
   "metadata": {
    "scrolled": true
   },
   "source": [
    "# Need to deal the download sh file. it is impossible download all."
   ]
  },
  {
   "cell_type": "code",
   "execution_count": 101,
   "id": "24d87d0a-d6cb-4c76-a1f8-df98d4e02084",
   "metadata": {},
   "outputs": [],
   "source": [
    "sh_fpath = '/data/home/waitma/antibody_proj/antidiff/data/oas_unpair_human_data/cgz_part_data/unpair_download_add.sh'\n",
    "with open(sh_fpath, 'r') as f:\n",
    "    files_list = f.readlines()"
   ]
  },
  {
   "cell_type": "code",
   "execution_count": 102,
   "id": "231c79f4-c00c-4398-88f2-c6ee80cd0d73",
   "metadata": {},
   "outputs": [],
   "source": [
    "# 6: 1 (H:L). Select 1000 index for download.\n",
    "\n",
    "light_index_list = []\n",
    "heavy_index_list = []\n",
    "non_type_index_list = []\n",
    "for idx, file in enumerate(files_list):\n",
    "    if 'Heavy' in file:\n",
    "        heavy_index_list.append(idx)\n",
    "    elif 'Light' in file:\n",
    "        light_index_list.append(idx)\n",
    "    else:\n",
    "        non_type_index_list.append(idx)"
   ]
  },
  {
   "cell_type": "code",
   "execution_count": 103,
   "id": "134fa85a-db70-4ad7-be8a-79ca92c6fac4",
   "metadata": {},
   "outputs": [],
   "source": [
    "sample_num = 200\n",
    "random.seed(0)\n",
    "\n",
    "light_selected_list = random.sample(light_index_list, sample_num)\n",
    "heavy_selected_list = random.sample(heavy_index_list, sample_num)"
   ]
  },
  {
   "cell_type": "code",
   "execution_count": 108,
   "id": "e9aca5a5-ed58-4a79-94ba-44dae786d2de",
   "metadata": {},
   "outputs": [],
   "source": [
    "new_download_sh_list = [files_list[i] for i in light_selected_list] + [files_list[i] for i in heavy_selected_list]\n",
    "numpy.random.shuffle(new_download_sh_list)"
   ]
  },
  {
   "cell_type": "code",
   "execution_count": 109,
   "id": "73a3866f-3cac-49c0-8890-3e842680d216",
   "metadata": {},
   "outputs": [],
   "source": [
    "sh_save_fpath = '/data/home/waitma/antibody_proj/antidiff/data/oas_unpair_human_data/cgz_part_data/unpair_download_selected_200.sh'\n",
    "with open(sh_save_fpath, 'w') as f:\n",
    "    for line in new_download_sh_list:\n",
    "        f.write(line)"
   ]
  },
  {
   "cell_type": "code",
   "execution_count": 80,
   "id": "26ef6441-8720-4d5d-bf2c-3a94ee1d927b",
   "metadata": {},
   "outputs": [
    {
     "data": {
      "text/plain": [
       "100"
      ]
     },
     "execution_count": 80,
     "metadata": {},
     "output_type": "execute_result"
    }
   ],
   "source": [
    "light_index_list[0]"
   ]
  },
  {
   "cell_type": "code",
   "execution_count": 81,
   "id": "cfab7425-0731-4bae-af25-a07a528050a6",
   "metadata": {},
   "outputs": [
    {
     "data": {
      "text/plain": [
       "'wget --no-check-certificate https://opig.stats.ox.ac.uk/webapps/ngsdb/unpaired/Bender_2020/csv/ERR3664744_Light_Bulk.csv.gz\\n'"
      ]
     },
     "execution_count": 81,
     "metadata": {},
     "output_type": "execute_result"
    }
   ],
   "source": [
    "files_list[100]"
   ]
  }
 ],
 "metadata": {
  "kernelspec": {
   "display_name": "Python 3 (ipykernel)",
   "language": "python",
   "name": "python3"
  },
  "language_info": {
   "codemirror_mode": {
    "name": "ipython",
    "version": 3
   },
   "file_extension": ".py",
   "mimetype": "text/x-python",
   "name": "python",
   "nbconvert_exporter": "python",
   "pygments_lexer": "ipython3",
   "version": "3.9.18"
  }
 },
 "nbformat": 4,
 "nbformat_minor": 5
}
