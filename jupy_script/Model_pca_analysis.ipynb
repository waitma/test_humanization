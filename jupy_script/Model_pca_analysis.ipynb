{
 "cells": [
  {
   "cell_type": "code",
   "execution_count": 6,
   "id": "a78f9695-3b45-4f6d-8faa-2485c3ef6b81",
   "metadata": {},
   "outputs": [],
   "source": [
    "import numpy as np\n",
    "from sklearn.decomposition import PCA\n",
    "import matplotlib.pyplot as plt\n",
    "import torch\n",
    "\n",
    "import os\n",
    "import sys\n",
    "sys.path.append('..')\n",
    "\n",
    "from utils.train_utils import model_selected\n",
    "from multi_train import convert_multi_gpu_checkpoint_to_single_gpu"
   ]
  },
  {
   "cell_type": "code",
   "execution_count": 7,
   "id": "cbf06e09-1806-4072-aead-8895636ed6c0",
   "metadata": {},
   "outputs": [
    {
     "data": {
      "text/plain": [
       "<All keys matched successfully>"
      ]
     },
     "execution_count": 7,
     "metadata": {},
     "output_type": "execute_result"
    }
   ],
   "source": [
    "# Initial Model.\n",
    "ckpt_fpath = '/data/home/waitma/antibody_proj/antidiff/checkpoints/390.pt'\n",
    "ckpt = torch.load(ckpt_fpath, map_location='cpu')\n",
    "config = ckpt['config']\n",
    "model = model_selected(config)\n",
    "ckpt_model = convert_multi_gpu_checkpoint_to_single_gpu(ckpt)\n",
    "model.load_state_dict(ckpt_model)"
   ]
  },
  {
   "cell_type": "code",
   "execution_count": 16,
   "id": "d15cc55e-75f3-4ad7-84f5-7b3eb8127125",
   "metadata": {},
   "outputs": [
    {
     "data": {
      "text/plain": [
       "Parameter containing:\n",
       "tensor([[ 3.6836e-01, -2.5873e-01,  4.9195e-01,  7.7984e-01, -4.4613e-01,\n",
       "          1.2917e+00,  2.2990e-01, -6.2819e-01],\n",
       "        [ 7.5263e-01,  1.1619e+00, -1.7571e+00,  5.0869e-01, -7.2351e-01,\n",
       "         -2.0333e+00,  5.6417e-01, -3.2476e-01],\n",
       "        [ 4.4466e-01, -1.0329e+00, -1.9187e-01,  2.2211e-01, -1.1189e+00,\n",
       "          2.1631e-01, -7.0630e-01, -5.8163e-01],\n",
       "        [ 9.5000e-03, -1.7276e+00, -6.9517e-01,  1.2848e-01,  9.5866e-01,\n",
       "         -7.7851e-01, -3.5585e-02, -1.2159e-01],\n",
       "        [-7.1358e-01,  1.0571e+00,  2.0701e-01, -2.5293e-01,  2.6436e-01,\n",
       "          6.4196e-01, -3.8035e-01, -1.0518e+00],\n",
       "        [-6.6675e-01, -1.9409e-01,  1.7017e-01, -1.1059e+00,  4.3616e-02,\n",
       "         -5.7126e-02,  1.7714e-02, -7.8183e-01],\n",
       "        [ 1.7231e-01, -1.2169e+00,  1.2501e-01,  2.1643e+00, -6.6780e-01,\n",
       "         -1.8561e+00, -2.1384e-01, -1.5026e+00],\n",
       "        [-2.2359e-01, -4.9567e-01,  1.2165e+00, -4.2836e-01, -5.6979e-01,\n",
       "         -2.7466e-02,  2.5317e-01,  1.3439e+00],\n",
       "        [-1.2426e+00,  9.6215e-01,  9.8676e-01,  9.2346e-01,  3.2932e-01,\n",
       "          4.2981e-01, -2.2565e-01,  7.9926e-01],\n",
       "        [-1.4617e-01,  1.2388e+00,  6.8323e-01, -1.8341e+00, -7.6908e-01,\n",
       "          3.7032e-01, -3.1033e-01,  1.5254e+00],\n",
       "        [ 7.8987e-01, -2.3933e-01,  1.2349e+00,  6.7384e-02, -3.1697e-01,\n",
       "         -6.5087e-01, -7.8607e-02, -3.7300e-01],\n",
       "        [ 1.6113e+00,  7.4217e-01, -8.2556e-01,  4.8108e-01,  1.1220e+00,\n",
       "          8.5961e-01, -3.5035e-01, -7.0178e-01],\n",
       "        [ 1.5223e+00, -4.6804e-01, -2.8600e-01,  2.2115e+00,  9.3607e-01,\n",
       "         -1.2162e-01, -6.7842e-01, -4.7301e-01],\n",
       "        [ 5.4813e-03,  9.3500e-02,  1.4398e+00, -9.5722e-01,  1.4539e+00,\n",
       "         -4.7517e-01, -1.1977e+00,  1.5890e-02],\n",
       "        [ 6.4480e-01,  1.4124e+00,  7.0957e-01,  8.0364e-01, -2.4684e+00,\n",
       "          1.1802e+00,  5.7545e-02,  8.9629e-02],\n",
       "        [ 1.6333e-01, -4.5511e-01,  1.0575e+00, -3.3241e-01,  1.6409e-01,\n",
       "          2.6482e-01, -1.5357e-01, -2.3572e-01],\n",
       "        [-1.7737e+00,  9.4249e-02,  5.5263e-01,  3.5294e-01, -9.6328e-01,\n",
       "          3.4083e-01, -1.6930e+00,  3.7709e-01],\n",
       "        [-1.8981e+00, -3.9045e-01, -4.6984e-01, -6.2619e-01, -1.2893e+00,\n",
       "         -1.8106e+00, -2.6470e-01, -2.0668e+00],\n",
       "        [-1.1719e-01, -5.9963e-01, -7.8114e-01,  1.5334e+00,  1.7786e+00,\n",
       "          1.5461e+00,  5.1482e-01, -1.6276e+00],\n",
       "        [-8.4848e-01,  6.2724e-01,  9.6469e-02,  7.4610e-01, -3.0554e-01,\n",
       "          4.2510e-01,  2.2734e-02, -9.7047e-01],\n",
       "        [ 6.1773e-01,  7.1318e-01, -1.2189e+00, -4.9865e-01, -3.3257e-01,\n",
       "         -5.7336e-01, -1.6006e+00,  3.9114e-02],\n",
       "        [-1.5498e+00,  6.4364e-04, -2.2164e-01, -1.4697e+00, -1.4846e+00,\n",
       "         -2.3094e-01, -8.8604e-01, -8.3791e-01],\n",
       "        [-6.0799e-01,  7.7962e-01, -2.9319e-01, -1.5385e+00, -7.7177e-02,\n",
       "         -6.6964e-02, -6.2291e-01, -4.9591e-01]], requires_grad=True)"
      ]
     },
     "execution_count": 16,
     "metadata": {},
     "output_type": "execute_result"
    }
   ],
   "source": [
    "emb_param = [param for param in model.aa_encoder.embedder.parameters()][0]\n",
    "emb_param"
   ]
  },
  {
   "cell_type": "code",
   "execution_count": 17,
   "id": "b3d6d25f-3d76-4997-863d-8209a9b4fbee",
   "metadata": {},
   "outputs": [],
   "source": [
    "# Convert PyTorch tensor to numpy array if necessary\n",
    "if isinstance(emb_param, torch.Tensor):\n",
    "    hidden_features = emb_param.detach().numpy()"
   ]
  },
  {
   "cell_type": "code",
   "execution_count": 25,
   "id": "decefd51-f51a-4c51-8190-483eb11069ed",
   "metadata": {},
   "outputs": [],
   "source": [
    "RESD_MAP_1TO3 = {\n",
    "    'A': 'ALA',\n",
    "    'R': 'ARG',\n",
    "    'N': 'ASN',\n",
    "    'D': 'ASP',\n",
    "    'C': 'CYS',\n",
    "    'Q': 'GLN',\n",
    "    'E': 'GLU',\n",
    "    'G': 'GLY',\n",
    "    'H': 'HIS',\n",
    "    'I': 'ILE',\n",
    "    'L': 'LEU',\n",
    "    'K': 'LYS',\n",
    "    'M': 'MET',\n",
    "    'F': 'PHE',\n",
    "    'P': 'PRO',\n",
    "    'S': 'SER',\n",
    "    'T': 'THR',\n",
    "    'W': 'TRP',\n",
    "    'Y': 'TYR',\n",
    "    'V': 'VAL',\n",
    "}\n",
    "RESD_NAMES_1C = sorted(list(RESD_MAP_1TO3.keys()))\n",
    "RESD_WITH_X = RESD_NAMES_1C + ['X']\n",
    "RESD_TOKEN = RESD_WITH_X + ['-', '<msk>']"
   ]
  },
  {
   "cell_type": "code",
   "execution_count": 28,
   "id": "9cc17f00-1c62-4156-b3cf-d79975718b1e",
   "metadata": {},
   "outputs": [
    {
     "data": {
      "text/plain": [
       "(23, 2)"
      ]
     },
     "execution_count": 28,
     "metadata": {},
     "output_type": "execute_result"
    }
   ],
   "source": [
    "hidden_features_2d.shape"
   ]
  },
  {
   "cell_type": "code",
   "execution_count": 31,
   "id": "cb783049-15a2-45f9-96b5-ce0e0aa18ac1",
   "metadata": {},
   "outputs": [
    {
     "data": {
      "image/png": "[encoded data removed]",
      "text/plain": [
       "<Figure size 640x480 with 1 Axes>"
      ]
     },
     "metadata": {},
     "output_type": "display_data"
    }
   ],
   "source": [
    "pca = PCA(n_components=2)\n",
    "hidden_features_2d = pca.fit_transform(hidden_features)\n",
    "plt.scatter(hidden_features_2d[:, 0], hidden_features_2d[:, 1])\n",
    "for i, category in enumerate(RESD_TOKEN):\n",
    "    plt.annotate(category, (hidden_features_2d[i, 0], hidden_features_2d[i, 1]))\n",
    "plt.show()"
   ]
  },
  {
   "cell_type": "code",
   "execution_count": null,
   "id": "ea923bc8-5731-422f-851c-5dfd6d6e227c",
   "metadata": {},
   "outputs": [],
   "source": []
  }
 ],
 "metadata": {
  "kernelspec": {
   "display_name": "Python 3 (ipykernel)",
   "language": "python",
   "name": "python3"
  },
  "language_info": {
   "codemirror_mode": {
    "name": "ipython",
    "version": 3
   },
   "file_extension": ".py",
   "mimetype": "text/x-python",
   "name": "python",
   "nbconvert_exporter": "python",
   "pygments_lexer": "ipython3",
   "version": "3.9.18"
  }
 },
 "nbformat": 4,
 "nbformat_minor": 5
}
