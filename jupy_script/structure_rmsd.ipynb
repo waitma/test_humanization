{
 "cells": [
  {
   "cell_type": "code",
   "execution_count": 162,
   "id": "7f177957-9f21-4556-b73e-90b089578375",
   "metadata": {},
   "outputs": [],
   "source": [
    "from abnumber import Chain\n",
    "import os\n",
    "import pandas as pd\n",
    "# import pymol\n",
    "from Bio import SeqIO\n",
    "\n",
    "from anarci import anarci, number\n",
    "from tqdm import tqdm"
   ]
  },
  {
   "cell_type": "code",
   "execution_count": 3,
   "id": "95441734-dd9c-427c-acf8-789af3f87461",
   "metadata": {},
   "outputs": [],
   "source": [
    "# Deal sample data\n",
    "sample_fpath = '/data/home/waitma/antibody_proj/antidiff/checkpoints/batch_one_sample_2023_11_16__22_44_23/sample_humanization_result.csv'\n",
    "sample_df = pd.read_csv(sample_fpath)\n",
    "\n",
    "new_columns_name = {\n",
    "    'Specific': 'Specific',\n",
    "    'name': 'name',\n",
    "    'HSEQ': 'hseq',\n",
    "    'LSEQ': 'lseq'\n",
    "}\n",
    "\n",
    "sample_df = sample_df.rename(columns=new_columns_name)"
   ]
  },
  {
   "cell_type": "code",
   "execution_count": 3,
   "id": "6928f506-3a48-4451-b742-12c7e1a7e1e8",
   "metadata": {},
   "outputs": [
    {
     "data": {
      "text/html": [
       "<div>\n",
       "<style scoped>\n",
       "    .dataframe tbody tr th:only-of-type {\n",
       "        vertical-align: middle;\n",
       "    }\n",
       "\n",
       "    .dataframe tbody tr th {\n",
       "        vertical-align: top;\n",
       "    }\n",
       "\n",
       "    .dataframe thead th {\n",
       "        text-align: right;\n",
       "    }\n",
       "</style>\n",
       "<table border=\"1\" class=\"dataframe\">\n",
       "  <thead>\n",
       "    <tr style=\"text-align: right;\">\n",
       "      <th></th>\n",
       "      <th>Specific</th>\n",
       "      <th>name</th>\n",
       "      <th>hseq</th>\n",
       "      <th>lseq</th>\n",
       "      <th>Unnamed: 4</th>\n",
       "    </tr>\n",
       "  </thead>\n",
       "  <tbody>\n",
       "    <tr>\n",
       "      <th>0</th>\n",
       "      <td>mouse</td>\n",
       "      <td>3A3</td>\n",
       "      <td>EVKLEESGGGLVQPGGSMKLSCVASGFTFSNFWMDWVRQSPEKGLE...</td>\n",
       "      <td>DIVMTQSHKFMSTSVGDRVSITCKASQDVSTDVAWYQQKPGQSPKL...</td>\n",
       "      <td>NaN</td>\n",
       "    </tr>\n",
       "    <tr>\n",
       "      <th>1</th>\n",
       "      <td>humanization</td>\n",
       "      <td>3A3human_0</td>\n",
       "      <td>EVQLVESGGGLVQPGGSLRLSCVASGFTFSNFWMNWVRQAPGKGLE...</td>\n",
       "      <td>DIQMTQSPSPLSASVGDRANITCRASQDVSTDLGWYQQKPGKAPKV...</td>\n",
       "      <td>NaN</td>\n",
       "    </tr>\n",
       "    <tr>\n",
       "      <th>2</th>\n",
       "      <td>mouse</td>\n",
       "      <td>MAK195</td>\n",
       "      <td>QVQLKESGPGLVAPSQSLSITCTVSGFSLTDYGVNWVRQPPGKGLE...</td>\n",
       "      <td>DIVMTQSHKFMSTTVGDRVSITCKASQAVSSAVAWYQQKPGQSPKL...</td>\n",
       "      <td>NaN</td>\n",
       "    </tr>\n",
       "    <tr>\n",
       "      <th>3</th>\n",
       "      <td>humanization</td>\n",
       "      <td>MAK195human_0</td>\n",
       "      <td>QVQLVESGGGVVQPGGSLRLSCAASGFSLTDYGVAWVRQPPGKGLE...</td>\n",
       "      <td>DIQMAQSPSSLSASVGDRVTITCRASQAVSSALTWYQQIPGKSPKL...</td>\n",
       "      <td>NaN</td>\n",
       "    </tr>\n",
       "    <tr>\n",
       "      <th>4</th>\n",
       "      <td>mouse</td>\n",
       "      <td>31#</td>\n",
       "      <td>EVQLQQPGADLVRPGASVKLSCKASGYTFTDYWMNWVKLRPGQGLE...</td>\n",
       "      <td>DVVITQSPSSLAMSVGQKVTMSCKSSQSLLNTNSQKNYLAWYQQKP...</td>\n",
       "      <td>NaN</td>\n",
       "    </tr>\n",
       "  </tbody>\n",
       "</table>\n",
       "</div>"
      ],
      "text/plain": [
       "       Specific           name  \\\n",
       "0         mouse            3A3   \n",
       "1  humanization     3A3human_0   \n",
       "2         mouse         MAK195   \n",
       "3  humanization  MAK195human_0   \n",
       "4         mouse            31#   \n",
       "\n",
       "                                                hseq  \\\n",
       "0  EVKLEESGGGLVQPGGSMKLSCVASGFTFSNFWMDWVRQSPEKGLE...   \n",
       "1  EVQLVESGGGLVQPGGSLRLSCVASGFTFSNFWMNWVRQAPGKGLE...   \n",
       "2  QVQLKESGPGLVAPSQSLSITCTVSGFSLTDYGVNWVRQPPGKGLE...   \n",
       "3  QVQLVESGGGVVQPGGSLRLSCAASGFSLTDYGVAWVRQPPGKGLE...   \n",
       "4  EVQLQQPGADLVRPGASVKLSCKASGYTFTDYWMNWVKLRPGQGLE...   \n",
       "\n",
       "                                                lseq  Unnamed: 4  \n",
       "0  DIVMTQSHKFMSTSVGDRVSITCKASQDVSTDVAWYQQKPGQSPKL...         NaN  \n",
       "1  DIQMTQSPSPLSASVGDRANITCRASQDVSTDLGWYQQKPGKAPKV...         NaN  \n",
       "2  DIVMTQSHKFMSTTVGDRVSITCKASQAVSSAVAWYQQKPGQSPKL...         NaN  \n",
       "3  DIQMAQSPSSLSASVGDRVTITCRASQAVSSALTWYQQIPGKSPKL...         NaN  \n",
       "4  DVVITQSPSSLAMSVGQKVTMSCKSSQSLLNTNSQKNYLAWYQQKP...         NaN  "
      ]
     },
     "execution_count": 3,
     "metadata": {},
     "output_type": "execute_result"
    }
   ],
   "source": [
    "sample_df.head()"
   ]
  },
  {
   "cell_type": "code",
   "execution_count": null,
   "id": "d4ca0ee0-9260-4355-8143-deb7d6763b5f",
   "metadata": {},
   "outputs": [],
   "source": [
    "# idx_mouse.fasta idx_human.fasta\n",
    "root_path = '/data/home/waitma/antibody_proj/antidiff/tFold-Ab-release/test'\n",
    "sample_mouse_df = sample_df[sample_df['Specific'] == 'mouse'].reset_index(drop=True)\n",
    "for idx, line in sample_mouse_df.iterrows():\n",
    "    hseq = line['hseq']\n",
    "    lseq = line['lseq']\n",
    "    h_chain = Chain(hseq, scheme='imgt')\n",
    "    l_chain = Chain(lseq, scheme='imgt')\n",
    "    h_chain.name = f'{idx}_mouse_H'\n",
    "    l_chain.name = f'{idx}_mouse_L'\n",
    "    save_path = os.path.join(root_path, f'{idx}_mouse.fasta')\n",
    "    with open(save_path, 'w') as f:\n",
    "        Chain.to_fasta(h_chain, f, description='VH')\n",
    "        Chain.to_fasta(l_chain, f, description='VL')"
   ]
  },
  {
   "cell_type": "code",
   "execution_count": 20,
   "id": "d9ef93bf-fa0d-4406-ad82-63e5492fa0ec",
   "metadata": {},
   "outputs": [],
   "source": [
    "# idx_mouse.fasta idx_human.fasta\n",
    "root_path = '/data/home/waitma/antibody_proj/antidiff/tFold-Ab-release/test'\n",
    "sample_human_df = sample_df[sample_df['Specific'] != 'mouse'].reset_index(drop=True)\n",
    "for idx, line in sample_human_df.iterrows():\n",
    "    hseq = line['hseq']\n",
    "    lseq = line['lseq']\n",
    "    h_chain = Chain(hseq, scheme='imgt')\n",
    "    l_chain = Chain(lseq, scheme='imgt')\n",
    "    h_chain.name = f'{idx}_human_H'\n",
    "    l_chain.name = f'{idx}_human_L'\n",
    "    save_path = os.path.join(root_path, f'{idx}_human.fasta')\n",
    "    with open(save_path, 'w') as f:\n",
    "        Chain.to_fasta(h_chain, f, description='VH')\n",
    "        Chain.to_fasta(l_chain, f, description='VL')"
   ]
  },
  {
   "cell_type": "code",
   "execution_count": 21,
   "id": "4763aa97-5b48-4288-af4f-acefd8d36820",
   "metadata": {},
   "outputs": [
    {
     "data": {
      "text/plain": [
       "True"
      ]
     },
     "execution_count": 21,
     "metadata": {},
     "output_type": "execute_result"
    }
   ],
   "source": [
    "len(sample_human_df) == len(sample_mouse_df)"
   ]
  },
  {
   "cell_type": "code",
   "execution_count": 6,
   "id": "cd77eb19-72e3-4b31-a4ba-a0b84bca3410",
   "metadata": {},
   "outputs": [],
   "source": [
    "test_seq = sample_df['hseq'][0]\n",
    "test_chain = Chain(test_seq, scheme='imgt')\n",
    "\n"
   ]
  },
  {
   "cell_type": "code",
   "execution_count": 4,
   "id": "2b6846e6-f3cc-42f5-aafb-8ac0f8f3c1d5",
   "metadata": {},
   "outputs": [],
   "source": [
    "# lab deal.\n",
    "lab_data_dpath = '/data/home/waitma/antibody_proj/antidiff/tFold-Ab-release/lab_data'\n",
    "humanization_fapth = '/data/home/waitma/antibody_proj/antidiff/data/lab_data/humanization_pair_data.xlsx'\n",
    "\n",
    "lab_df = pd.read_excel(humanization_fapth)\n",
    "lab_humanized_df = lab_df[lab_df['Origin/Engineering'] != 'mouse']\n",
    "lab_mouse_df = lab_df[lab_df['Origin/Engineering'] == 'mouse']"
   ]
  },
  {
   "cell_type": "code",
   "execution_count": 5,
   "id": "c269cd09-2a6e-4a82-88a0-41163edd94ff",
   "metadata": {},
   "outputs": [
    {
     "data": {
      "text/html": [
       "<div>\n",
       "<style scoped>\n",
       "    .dataframe tbody tr th:only-of-type {\n",
       "        vertical-align: middle;\n",
       "    }\n",
       "\n",
       "    .dataframe tbody tr th {\n",
       "        vertical-align: top;\n",
       "    }\n",
       "\n",
       "    .dataframe thead th {\n",
       "        text-align: right;\n",
       "    }\n",
       "</style>\n",
       "<table border=\"1\" class=\"dataframe\">\n",
       "  <thead>\n",
       "    <tr style=\"text-align: right;\">\n",
       "      <th></th>\n",
       "      <th>Origin/Engineering</th>\n",
       "      <th>name</th>\n",
       "      <th>HC sequence source</th>\n",
       "      <th>HC sequence</th>\n",
       "      <th>LC sequence source</th>\n",
       "      <th>LC sequence</th>\n",
       "      <th>Source</th>\n",
       "      <th>Target sequence</th>\n",
       "      <th>Target sequence source</th>\n",
       "      <th>note</th>\n",
       "    </tr>\n",
       "  </thead>\n",
       "  <tbody>\n",
       "    <tr>\n",
       "      <th>0</th>\n",
       "      <td>mouse</td>\n",
       "      <td>3A3</td>\n",
       "      <td>WO2011112566_20</td>\n",
       "      <td>EVKLEESGGGLVQPGGSMKLSCVASGFTFSNFWMDWVRQSPEKGLE...</td>\n",
       "      <td>WO2011112566_22</td>\n",
       "      <td>DIVMTQSHKFMSTSVGDRVSITCKASQDVSTDVAWYQQKPGQSPKL...</td>\n",
       "      <td>WO2011112566</td>\n",
       "      <td>MAAALFVLLGFALLGTHGASGAAGTVFTTVEDLGSKILLTCSLNDS...</td>\n",
       "      <td>WO2011112566_1</td>\n",
       "      <td>Sample</td>\n",
       "    </tr>\n",
       "    <tr>\n",
       "      <th>6</th>\n",
       "      <td>mouse</td>\n",
       "      <td>MAK195</td>\n",
       "      <td>WO2011127141_22</td>\n",
       "      <td>QVQLKESGPGLVAPSQSLSITCTVSGFSLTDYGVNWVRQPPGKGLE...</td>\n",
       "      <td>WO2011127141_23</td>\n",
       "      <td>DIVMTQSHKFMSTTVGDRVSITCKASQAVSSAVAWYQQKPGQSPKL...</td>\n",
       "      <td>WO2011127141</td>\n",
       "      <td>MSTESMIRDVELAEEALPKKTGGPQGSRRCLFLSLFSFLIVAGATT...</td>\n",
       "      <td>Uniprot:P01375</td>\n",
       "      <td>Sample</td>\n",
       "    </tr>\n",
       "    <tr>\n",
       "      <th>12</th>\n",
       "      <td>mouse</td>\n",
       "      <td>31#</td>\n",
       "      <td>WO2022057651_1</td>\n",
       "      <td>EVQLQQPGADLVRPGASVKLSCKASGYTFTDYWMNWVKLRPGQGLE...</td>\n",
       "      <td>WO2022057651_2</td>\n",
       "      <td>DVVITQSPSSLAMSVGQKVTMSCKSSQSLLNTNSQKNYLAWYQQKP...</td>\n",
       "      <td>WO2022057651A1</td>\n",
       "      <td>MPLSLGAEMWGPEAWLLLLLLLASFTGRCPAGELETSDVVTVVLGQ...</td>\n",
       "      <td>Uniprot:Q96NY8</td>\n",
       "      <td>Sample</td>\n",
       "    </tr>\n",
       "    <tr>\n",
       "      <th>14</th>\n",
       "      <td>mouse</td>\n",
       "      <td>56#</td>\n",
       "      <td>WO2022057651_19</td>\n",
       "      <td>QVQLKESGPGLVKPSQSLSLTCTVTGYSITSDYDWHWIRHFPGNML...</td>\n",
       "      <td>WO2022057651_20</td>\n",
       "      <td>DIQLTQSPAILSVSPGERVSFSCRASQNIGTSIHWYQHRTNGSPRL...</td>\n",
       "      <td>NaN</td>\n",
       "      <td>MPLSLGAEMWGPEAWLLLLLLLASFTGRCPAGELETSDVVTVVLGQ...</td>\n",
       "      <td>Uniprot:Q96NY8</td>\n",
       "      <td>Sample</td>\n",
       "    </tr>\n",
       "    <tr>\n",
       "      <th>16</th>\n",
       "      <td>mouse</td>\n",
       "      <td>74#</td>\n",
       "      <td>WO2022057651_37</td>\n",
       "      <td>EVQLQQPGAELVRPGASVKLSCKASGYTFINYWMNWVKQRPGQGLE...</td>\n",
       "      <td>WO2022057651_38</td>\n",
       "      <td>DIVITQSPSSLAMSVGQKVTMSCKSSQTLLNSNTQKNYLAWYQQKP...</td>\n",
       "      <td>NaN</td>\n",
       "      <td>MPLSLGAEMWGPEAWLLLLLLLASFTGRCPAGELETSDVVTVVLGQ...</td>\n",
       "      <td>Uniprot:Q96NY8</td>\n",
       "      <td>Sample</td>\n",
       "    </tr>\n",
       "    <tr>\n",
       "      <th>...</th>\n",
       "      <td>...</td>\n",
       "      <td>...</td>\n",
       "      <td>...</td>\n",
       "      <td>...</td>\n",
       "      <td>...</td>\n",
       "      <td>...</td>\n",
       "      <td>...</td>\n",
       "      <td>...</td>\n",
       "      <td>...</td>\n",
       "      <td>...</td>\n",
       "    </tr>\n",
       "    <tr>\n",
       "      <th>989</th>\n",
       "      <td>mouse</td>\n",
       "      <td>muA1</td>\n",
       "      <td>US20070231333A1_2</td>\n",
       "      <td>MDWLWNLLFLMAAAQSIQAQIQLVQSGPELKKPGETVKISCKASGY...</td>\n",
       "      <td>US20070231333A1_4</td>\n",
       "      <td>MKSQTQVFVFLLLCVSGAHGSIVMTQTPKFLLVSAGDRVTITCKAS...</td>\n",
       "      <td>US20070231333A1</td>\n",
       "      <td>MPGGCSRGPAAGDGRLRLARLALVLLGWVSSSSPTSSASSFSSSAP...</td>\n",
       "      <td>Uniprot:Q13641</td>\n",
       "      <td>NaN</td>\n",
       "    </tr>\n",
       "    <tr>\n",
       "      <th>992</th>\n",
       "      <td>mouse</td>\n",
       "      <td>mu515H7</td>\n",
       "      <td>US9090686B2_8</td>\n",
       "      <td>EVNLVESGGGLVQPGGSLRLSCATSGFTFTDNYMSWVRQPPGKALE...</td>\n",
       "      <td>US9090686B2_7</td>\n",
       "      <td>DIVMSQSPSSLAVSAGEKVTMSCKSSQSLFNSRTRKNYLAWYQQKP...</td>\n",
       "      <td>US9090686B2</td>\n",
       "      <td>MEGISIYTSDNYTEEMGSGDYDSMKEPCFREENANFNKIFLPTIYS...</td>\n",
       "      <td>Uniprot:P61073</td>\n",
       "      <td>NaN</td>\n",
       "    </tr>\n",
       "    <tr>\n",
       "      <th>996</th>\n",
       "      <td>mouse</td>\n",
       "      <td>mu16B5</td>\n",
       "      <td>US20170233487A1_29</td>\n",
       "      <td>EVQLQQSGAELVKPGASVRLSCTTSGFNIKDIYMHWVKQRPEQGLE...</td>\n",
       "      <td>US20170233487A1_25</td>\n",
       "      <td>DIVMSQSPSSLAVSAGEKVTMSCKSSQSLLNSRTRKNYLAWYQQKP...</td>\n",
       "      <td>US20170233487A1</td>\n",
       "      <td>MMKTLLLFVGLLLTWESGQVLGDQTVSDNELQEMSNQGSKYVNKEI...</td>\n",
       "      <td>Uniprot:P10909</td>\n",
       "      <td>NaN</td>\n",
       "    </tr>\n",
       "    <tr>\n",
       "      <th>998</th>\n",
       "      <td>mouse</td>\n",
       "      <td>21B12</td>\n",
       "      <td>US20170233487A1_37</td>\n",
       "      <td>QIQLVQSGPELKKPGETVKISCKASGYTFTNYGMHWVKQAPGKGLK...</td>\n",
       "      <td>US20170233487A1_33</td>\n",
       "      <td>DIVMSQSPSSLAVSVGEKVTMSCKSSQSLLYSSNQKNYLAWYQQRP...</td>\n",
       "      <td>US20170233487A1</td>\n",
       "      <td>MMKTLLLFVGLLLTWESGQVLGDQTVSDNELQEMSNQGSKYVNKEI...</td>\n",
       "      <td>Uniprot:P10909</td>\n",
       "      <td>NaN</td>\n",
       "    </tr>\n",
       "    <tr>\n",
       "      <th>1000</th>\n",
       "      <td>mouse</td>\n",
       "      <td>mu19F6</td>\n",
       "      <td>US20200024362A1_90</td>\n",
       "      <td>EVQLVESGGGLVQPGRSLRLSCTASGFTFSKYVMAWVRQAPTKGLE...</td>\n",
       "      <td>US20200024362A1_89</td>\n",
       "      <td>QFTLTQPKSVSGSLRSTITIPCERSSGDIGDSYVSWYQQHLGRPPI...</td>\n",
       "      <td>US20200024362A1</td>\n",
       "      <td>MIFLYQVVHFILFTSVSGECVTQLLKDTCFEGGDITTVFTPSAKYC...</td>\n",
       "      <td>Uniprot:P03951</td>\n",
       "      <td>NaN</td>\n",
       "    </tr>\n",
       "  </tbody>\n",
       "</table>\n",
       "<p>356 rows × 10 columns</p>\n",
       "</div>"
      ],
      "text/plain": [
       "     Origin/Engineering     name  HC sequence source  \\\n",
       "0                 mouse      3A3     WO2011112566_20   \n",
       "6                 mouse   MAK195     WO2011127141_22   \n",
       "12                mouse      31#      WO2022057651_1   \n",
       "14                mouse      56#     WO2022057651_19   \n",
       "16                mouse      74#     WO2022057651_37   \n",
       "...                 ...      ...                 ...   \n",
       "989               mouse     muA1   US20070231333A1_2   \n",
       "992               mouse  mu515H7       US9090686B2_8   \n",
       "996               mouse   mu16B5  US20170233487A1_29   \n",
       "998               mouse    21B12  US20170233487A1_37   \n",
       "1000              mouse   mu19F6  US20200024362A1_90   \n",
       "\n",
       "                                            HC sequence  LC sequence source  \\\n",
       "0     EVKLEESGGGLVQPGGSMKLSCVASGFTFSNFWMDWVRQSPEKGLE...     WO2011112566_22   \n",
       "6     QVQLKESGPGLVAPSQSLSITCTVSGFSLTDYGVNWVRQPPGKGLE...     WO2011127141_23   \n",
       "12    EVQLQQPGADLVRPGASVKLSCKASGYTFTDYWMNWVKLRPGQGLE...      WO2022057651_2   \n",
       "14    QVQLKESGPGLVKPSQSLSLTCTVTGYSITSDYDWHWIRHFPGNML...     WO2022057651_20   \n",
       "16    EVQLQQPGAELVRPGASVKLSCKASGYTFINYWMNWVKQRPGQGLE...     WO2022057651_38   \n",
       "...                                                 ...                 ...   \n",
       "989   MDWLWNLLFLMAAAQSIQAQIQLVQSGPELKKPGETVKISCKASGY...   US20070231333A1_4   \n",
       "992   EVNLVESGGGLVQPGGSLRLSCATSGFTFTDNYMSWVRQPPGKALE...       US9090686B2_7   \n",
       "996   EVQLQQSGAELVKPGASVRLSCTTSGFNIKDIYMHWVKQRPEQGLE...  US20170233487A1_25   \n",
       "998   QIQLVQSGPELKKPGETVKISCKASGYTFTNYGMHWVKQAPGKGLK...  US20170233487A1_33   \n",
       "1000  EVQLVESGGGLVQPGRSLRLSCTASGFTFSKYVMAWVRQAPTKGLE...  US20200024362A1_89   \n",
       "\n",
       "                                            LC sequence           Source  \\\n",
       "0     DIVMTQSHKFMSTSVGDRVSITCKASQDVSTDVAWYQQKPGQSPKL...     WO2011112566   \n",
       "6     DIVMTQSHKFMSTTVGDRVSITCKASQAVSSAVAWYQQKPGQSPKL...     WO2011127141   \n",
       "12    DVVITQSPSSLAMSVGQKVTMSCKSSQSLLNTNSQKNYLAWYQQKP...   WO2022057651A1   \n",
       "14    DIQLTQSPAILSVSPGERVSFSCRASQNIGTSIHWYQHRTNGSPRL...              NaN   \n",
       "16    DIVITQSPSSLAMSVGQKVTMSCKSSQTLLNSNTQKNYLAWYQQKP...              NaN   \n",
       "...                                                 ...              ...   \n",
       "989   MKSQTQVFVFLLLCVSGAHGSIVMTQTPKFLLVSAGDRVTITCKAS...  US20070231333A1   \n",
       "992   DIVMSQSPSSLAVSAGEKVTMSCKSSQSLFNSRTRKNYLAWYQQKP...      US9090686B2   \n",
       "996   DIVMSQSPSSLAVSAGEKVTMSCKSSQSLLNSRTRKNYLAWYQQKP...  US20170233487A1   \n",
       "998   DIVMSQSPSSLAVSVGEKVTMSCKSSQSLLYSSNQKNYLAWYQQRP...  US20170233487A1   \n",
       "1000  QFTLTQPKSVSGSLRSTITIPCERSSGDIGDSYVSWYQQHLGRPPI...  US20200024362A1   \n",
       "\n",
       "                                        Target sequence  \\\n",
       "0     MAAALFVLLGFALLGTHGASGAAGTVFTTVEDLGSKILLTCSLNDS...   \n",
       "6     MSTESMIRDVELAEEALPKKTGGPQGSRRCLFLSLFSFLIVAGATT...   \n",
       "12    MPLSLGAEMWGPEAWLLLLLLLASFTGRCPAGELETSDVVTVVLGQ...   \n",
       "14    MPLSLGAEMWGPEAWLLLLLLLASFTGRCPAGELETSDVVTVVLGQ...   \n",
       "16    MPLSLGAEMWGPEAWLLLLLLLASFTGRCPAGELETSDVVTVVLGQ...   \n",
       "...                                                 ...   \n",
       "989   MPGGCSRGPAAGDGRLRLARLALVLLGWVSSSSPTSSASSFSSSAP...   \n",
       "992   MEGISIYTSDNYTEEMGSGDYDSMKEPCFREENANFNKIFLPTIYS...   \n",
       "996   MMKTLLLFVGLLLTWESGQVLGDQTVSDNELQEMSNQGSKYVNKEI...   \n",
       "998   MMKTLLLFVGLLLTWESGQVLGDQTVSDNELQEMSNQGSKYVNKEI...   \n",
       "1000  MIFLYQVVHFILFTSVSGECVTQLLKDTCFEGGDITTVFTPSAKYC...   \n",
       "\n",
       "     Target sequence source    note  \n",
       "0            WO2011112566_1  Sample  \n",
       "6            Uniprot:P01375  Sample  \n",
       "12           Uniprot:Q96NY8  Sample  \n",
       "14           Uniprot:Q96NY8  Sample  \n",
       "16           Uniprot:Q96NY8  Sample  \n",
       "...                     ...     ...  \n",
       "989          Uniprot:Q13641     NaN  \n",
       "992          Uniprot:P61073     NaN  \n",
       "996          Uniprot:P10909     NaN  \n",
       "998          Uniprot:P10909     NaN  \n",
       "1000         Uniprot:P03951     NaN  \n",
       "\n",
       "[356 rows x 10 columns]"
      ]
     },
     "execution_count": 5,
     "metadata": {},
     "output_type": "execute_result"
    }
   ],
   "source": [
    "lab_mouse_df"
   ]
  },
  {
   "cell_type": "code",
   "execution_count": 132,
   "id": "5c7602ad-e1d1-4b45-a0a1-0c2357fe4490",
   "metadata": {},
   "outputs": [
    {
     "name": "stdout",
     "output_type": "stream",
     "text": [
      "Mouse idx: 0, Human idx: 1\n",
      "Mouse idx: 6, Human idx: 7\n",
      "Mouse idx: 12, Human idx: 13\n",
      "Mouse idx: 14, Human idx: 15\n",
      "Mouse idx: 16, Human idx: 17\n",
      "Mouse idx: 18, Human idx: 19\n",
      "Mouse idx: 24, Human idx: 25\n",
      "Mouse idx: 26, Human idx: 27\n",
      "Mouse idx: 28, Human idx: 29\n",
      "Mouse idx: 30, Human idx: 31\n",
      "Mouse idx: 33, Human idx: 34\n",
      "Mouse idx: 35, Human idx: 36\n",
      "Mouse idx: 37, Human idx: 38\n",
      "Mouse idx: 39, Human idx: 40\n",
      "Mouse idx: 41, Human idx: 42\n",
      "Mouse idx: 47, Human idx: 48\n",
      "Mouse idx: 49, Human idx: 50\n",
      "Mouse idx: 51, Human idx: 52\n",
      "Mouse idx: 53, Human idx: 54\n",
      "Mouse idx: 55, Human idx: 56\n",
      "Mouse idx: 59, Human idx: 60\n",
      "Mouse idx: 61, Human idx: 62\n",
      "Mouse idx: 63, Human idx: 64\n",
      "Mouse idx: 65, Human idx: 66\n",
      "Mouse idx: 67, Human idx: 68\n",
      "Mouse idx: 70, Human idx: 71\n",
      "Mouse idx: 72, Human idx: 73\n",
      "Mouse idx: 74, Human idx: 75\n",
      "Mouse idx: 76, Human idx: 77\n",
      "Mouse idx: 81, Human idx: 82\n",
      "Mouse idx: 83, Human idx: 84\n",
      "Mouse idx: 89, Human idx: 90\n",
      "Mouse idx: 95, Human idx: 96\n",
      "Mouse idx: 101, Human idx: 102\n",
      "Mouse idx: 103, Human idx: 104\n",
      "Mouse idx: 105, Human idx: 106\n",
      "Mouse idx: 108, Human idx: 109\n",
      "Mouse idx: 111, Human idx: 112\n",
      "Mouse idx: 114, Human idx: 115\n",
      "Mouse idx: 117, Human idx: 118\n",
      "Mouse idx: 119, Human idx: 120\n",
      "Mouse idx: 122, Human idx: 123\n",
      "Mouse idx: 125, Human idx: 126\n",
      "Mouse idx: 128, Human idx: 129\n",
      "Mouse idx: 131, Human idx: 132\n",
      "Mouse idx: 134, Human idx: 135\n",
      "Mouse idx: 137, Human idx: 138\n",
      "Mouse idx: 140, Human idx: 141\n",
      "Mouse idx: 143, Human idx: 144\n",
      "Mouse idx: 146, Human idx: 147\n",
      "Mouse idx: 149, Human idx: 150\n",
      "Mouse idx: 152, Human idx: 153\n",
      "Mouse idx: 155, Human idx: 156\n",
      "Mouse idx: 158, Human idx: 159\n",
      "Mouse idx: 161, Human idx: 162\n",
      "Mouse idx: 164, Human idx: 165\n",
      "Mouse idx: 167, Human idx: 168\n",
      "Mouse idx: 170, Human idx: 171\n",
      "Mouse idx: 172, Human idx: 173\n",
      "Mouse idx: 175, Human idx: 176\n",
      "Mouse idx: 178, Human idx: 179\n",
      "Mouse idx: 181, Human idx: 182\n",
      "Mouse idx: 184, Human idx: 185\n",
      "Mouse idx: 187, Human idx: 188\n",
      "Mouse idx: 190, Human idx: 191\n",
      "Mouse idx: 193, Human idx: 194\n",
      "Mouse idx: 196, Human idx: 197\n",
      "Mouse idx: 199, Human idx: 200\n",
      "Mouse idx: 202, Human idx: 203\n",
      "Mouse idx: 205, Human idx: 206\n",
      "Mouse idx: 207, Human idx: 208\n",
      "Mouse idx: 209, Human idx: 210\n",
      "Mouse idx: 211, Human idx: 212\n",
      "Mouse idx: 213, Human idx: 214\n",
      "Mouse idx: 216, Human idx: 217\n",
      "Mouse idx: 220, Human idx: 221\n",
      "Mouse idx: 223, Human idx: 224\n",
      "Mouse idx: 226, Human idx: 227\n",
      "Mouse idx: 230, Human idx: 231\n",
      "Mouse idx: 233, Human idx: 234\n",
      "Mouse idx: 236, Human idx: 237\n",
      "Mouse idx: 239, Human idx: 240\n",
      "Mouse idx: 242, Human idx: 243\n",
      "Mouse idx: 245, Human idx: 246\n",
      "Mouse idx: 248, Human idx: 249\n",
      "Mouse idx: 251, Human idx: 252\n",
      "Mouse idx: 254, Human idx: 255\n",
      "Mouse idx: 257, Human idx: 258\n",
      "Mouse idx: 260, Human idx: 261\n",
      "Mouse idx: 262, Human idx: 263\n",
      "Mouse idx: 265, Human idx: 266\n",
      "Mouse idx: 268, Human idx: 269\n",
      "Mouse idx: 271, Human idx: 272\n",
      "Mouse idx: 275, Human idx: 276\n",
      "Mouse idx: 278, Human idx: 279\n",
      "Mouse idx: 280, Human idx: 281\n",
      "Mouse idx: 282, Human idx: 283\n",
      "Mouse idx: 284, Human idx: 285\n",
      "Mouse idx: 287, Human idx: 288\n",
      "Mouse idx: 289, Human idx: 290\n",
      "Mouse idx: 292, Human idx: 293\n",
      "Mouse idx: 295, Human idx: 296\n",
      "Mouse idx: 298, Human idx: 299\n",
      "Mouse idx: 301, Human idx: 302\n",
      "Mouse idx: 303, Human idx: 304\n",
      "Mouse idx: 306, Human idx: 307\n",
      "Mouse idx: 309, Human idx: 310\n",
      "Mouse idx: 311, Human idx: 312\n",
      "Mouse idx: 314, Human idx: 315\n",
      "Mouse idx: 317, Human idx: 318\n",
      "Mouse idx: 320, Human idx: 321\n",
      "Mouse idx: 323, Human idx: 324\n",
      "Mouse idx: 326, Human idx: 327\n",
      "Mouse idx: 329, Human idx: 330\n",
      "Mouse idx: 332, Human idx: 333\n",
      "Mouse idx: 335, Human idx: 336\n",
      "Mouse idx: 338, Human idx: 339\n",
      "Mouse idx: 341, Human idx: 342\n",
      "Mouse idx: 344, Human idx: 345\n",
      "Mouse idx: 347, Human idx: 348\n",
      "Mouse idx: 350, Human idx: 351\n",
      "Mouse idx: 354, Human idx: 355\n",
      "Mouse idx: 358, Human idx: 359\n",
      "Mouse idx: 361, Human idx: 362\n",
      "Mouse idx: 364, Human idx: 365\n",
      "Mouse idx: 367, Human idx: 368\n",
      "Mouse idx: 371, Human idx: 372\n",
      "Mouse idx: 375, Human idx: 376\n",
      "Mouse idx: 377, Human idx: 378\n",
      "Mouse idx: 380, Human idx: 381\n",
      "Mouse idx: 383, Human idx: 384\n",
      "Mouse idx: 386, Human idx: 387\n",
      "Mouse idx: 389, Human idx: 390\n",
      "Mouse idx: 392, Human idx: 393\n",
      "Mouse idx: 395, Human idx: 396\n",
      "Mouse idx: 398, Human idx: 399\n",
      "Mouse idx: 401, Human idx: 402\n",
      "Mouse idx: 403, Human idx: 404\n",
      "Mouse idx: 406, Human idx: 407\n",
      "Mouse idx: 408, Human idx: 409\n",
      "Mouse idx: 410, Human idx: 411\n",
      "Mouse idx: 413, Human idx: 414\n",
      "Mouse idx: 416, Human idx: 417\n",
      "Mouse idx: 418, Human idx: 419\n",
      "Mouse idx: 420, Human idx: 421\n",
      "Mouse idx: 422, Human idx: 423\n",
      "Mouse idx: 425, Human idx: 426\n",
      "Mouse idx: 428, Human idx: 429\n",
      "Mouse idx: 431, Human idx: 432\n",
      "Mouse idx: 433, Human idx: 434\n",
      "Mouse idx: 436, Human idx: 437\n",
      "Mouse idx: 438, Human idx: 439\n",
      "Mouse idx: 441, Human idx: 442\n",
      "Mouse idx: 443, Human idx: 444\n",
      "Mouse idx: 448, Human idx: 449\n",
      "Mouse idx: 451, Human idx: 452\n",
      "Mouse idx: 454, Human idx: 455\n",
      "Mouse idx: 458, Human idx: 459\n",
      "Mouse idx: 461, Human idx: 462\n",
      "Mouse idx: 463, Human idx: 464\n",
      "Mouse idx: 466, Human idx: 467\n",
      "Mouse idx: 469, Human idx: 470\n",
      "Mouse idx: 471, Human idx: 472\n",
      "Mouse idx: 473, Human idx: 474\n",
      "Mouse idx: 475, Human idx: 476\n",
      "Mouse idx: 477, Human idx: 478\n",
      "Mouse idx: 479, Human idx: 480\n",
      "Mouse idx: 481, Human idx: 482\n",
      "Mouse idx: 483, Human idx: 484\n",
      "Mouse idx: 487, Human idx: 488\n",
      "Mouse idx: 491, Human idx: 492\n",
      "Mouse idx: 495, Human idx: 496\n",
      "Mouse idx: 498, Human idx: 499\n",
      "Mouse idx: 500, Human idx: 501\n",
      "Mouse idx: 503, Human idx: 504\n",
      "Mouse idx: 505, Human idx: 506\n",
      "Mouse idx: 507, Human idx: 508\n",
      "Mouse idx: 510, Human idx: 511\n",
      "Mouse idx: 513, Human idx: 514\n",
      "Mouse idx: 516, Human idx: 517\n",
      "Mouse idx: 519, Human idx: 520\n",
      "Mouse idx: 521, Human idx: 522\n",
      "Mouse idx: 524, Human idx: 525\n",
      "Mouse idx: 527, Human idx: 528\n",
      "Mouse idx: 530, Human idx: 531\n",
      "Mouse idx: 533, Human idx: 534\n",
      "Mouse idx: 536, Human idx: 537\n",
      "Mouse idx: 539, Human idx: 540\n",
      "Mouse idx: 542, Human idx: 543\n",
      "Mouse idx: 545, Human idx: 546\n",
      "Mouse idx: 548, Human idx: 549\n",
      "Mouse idx: 551, Human idx: 552\n",
      "Mouse idx: 553, Human idx: 554\n",
      "Mouse idx: 556, Human idx: 557\n",
      "Mouse idx: 559, Human idx: 560\n",
      "Mouse idx: 562, Human idx: 563\n",
      "Mouse idx: 564, Human idx: 565\n",
      "Mouse idx: 567, Human idx: 568\n",
      "Mouse idx: 569, Human idx: 570\n",
      "572\n",
      "Mouse idx: 574, Human idx: 575\n",
      "Mouse idx: 577, Human idx: 578\n",
      "Mouse idx: 579, Human idx: 580\n",
      "Mouse idx: 581, Human idx: 582\n",
      "Mouse idx: 584, Human idx: 585\n",
      "Mouse idx: 586, Human idx: 587\n",
      "Mouse idx: 588, Human idx: 589\n",
      "Mouse idx: 590, Human idx: 591\n",
      "Mouse idx: 592, Human idx: 593\n",
      "Mouse idx: 594, Human idx: 595\n",
      "Mouse idx: 597, Human idx: 598\n",
      "Mouse idx: 600, Human idx: 601\n",
      "Mouse idx: 603, Human idx: 604\n",
      "Mouse idx: 606, Human idx: 607\n",
      "Mouse idx: 608, Human idx: 609\n",
      "Mouse idx: 612, Human idx: 613\n",
      "Mouse idx: 615, Human idx: 616\n",
      "Mouse idx: 617, Human idx: 618\n",
      "Mouse idx: 623, Human idx: 624\n",
      "Mouse idx: 627, Human idx: 628\n",
      "Mouse idx: 630, Human idx: 631\n",
      "Mouse idx: 633, Human idx: 634\n",
      "Mouse idx: 636, Human idx: 637\n",
      "Mouse idx: 641, Human idx: 642\n",
      "Mouse idx: 643, Human idx: 644\n",
      "Mouse idx: 646, Human idx: 647\n",
      "Mouse idx: 649, Human idx: 650\n",
      "Mouse idx: 651, Human idx: 652\n",
      "Mouse idx: 654, Human idx: 655\n",
      "Mouse idx: 662, Human idx: 663\n",
      "Mouse idx: 665, Human idx: 666\n",
      "Mouse idx: 668, Human idx: 669\n",
      "Mouse idx: 671, Human idx: 672\n",
      "Mouse idx: 674, Human idx: 675\n",
      "Mouse idx: 677, Human idx: 678\n",
      "Mouse idx: 680, Human idx: 681\n",
      "Mouse idx: 683, Human idx: 684\n",
      "Mouse idx: 687, Human idx: 688\n",
      "Mouse idx: 690, Human idx: 691\n",
      "Mouse idx: 693, Human idx: 694\n",
      "Mouse idx: 696, Human idx: 697\n",
      "Mouse idx: 699, Human idx: 700\n",
      "Mouse idx: 702, Human idx: 703\n",
      "Mouse idx: 705, Human idx: 706\n",
      "Mouse idx: 708, Human idx: 709\n",
      "Mouse idx: 710, Human idx: 711\n",
      "Mouse idx: 713, Human idx: 714\n",
      "Mouse idx: 716, Human idx: 717\n",
      "Mouse idx: 719, Human idx: 720\n",
      "Mouse idx: 722, Human idx: 723\n",
      "Mouse idx: 725, Human idx: 726\n",
      "Mouse idx: 728, Human idx: 729\n",
      "Mouse idx: 731, Human idx: 732\n",
      "Mouse idx: 734, Human idx: 735\n",
      "Mouse idx: 737, Human idx: 738\n",
      "Mouse idx: 740, Human idx: 741\n",
      "Mouse idx: 743, Human idx: 744\n",
      "Mouse idx: 746, Human idx: 747\n",
      "Mouse idx: 749, Human idx: 750\n",
      "Mouse idx: 752, Human idx: 753\n",
      "Mouse idx: 754, Human idx: 755\n",
      "Mouse idx: 757, Human idx: 758\n",
      "Mouse idx: 760, Human idx: 761\n",
      "Mouse idx: 763, Human idx: 764\n",
      "Mouse idx: 765, Human idx: 766\n",
      "Mouse idx: 768, Human idx: 769\n",
      "Mouse idx: 770, Human idx: 771\n",
      "Mouse idx: 773, Human idx: 774\n",
      "Mouse idx: 776, Human idx: 777\n",
      "Mouse idx: 779, Human idx: 780\n",
      "Mouse idx: 782, Human idx: 783\n",
      "Mouse idx: 784, Human idx: 785\n",
      "Mouse idx: 786, Human idx: 787\n",
      "Mouse idx: 788, Human idx: 789\n",
      "Mouse idx: 790, Human idx: 791\n",
      "Mouse idx: 792, Human idx: 793\n",
      "Mouse idx: 795, Human idx: 796\n",
      "Mouse idx: 798, Human idx: 799\n",
      "Mouse idx: 801, Human idx: 802\n",
      "Mouse idx: 804, Human idx: 805\n",
      "Mouse idx: 807, Human idx: 808\n",
      "Mouse idx: 810, Human idx: 811\n",
      "Mouse idx: 812, Human idx: 813\n",
      "Mouse idx: 814, Human idx: 815\n",
      "Mouse idx: 816, Human idx: 817\n",
      "Mouse idx: 819, Human idx: 820\n",
      "Mouse idx: 822, Human idx: 823\n",
      "Mouse idx: 825, Human idx: 826\n",
      "Mouse idx: 827, Human idx: 828\n",
      "Mouse idx: 829, Human idx: 830\n",
      "Mouse idx: 832, Human idx: 833\n",
      "Mouse idx: 835, Human idx: 836\n",
      "Mouse idx: 838, Human idx: 839\n",
      "Mouse idx: 841, Human idx: 842\n",
      "Mouse idx: 844, Human idx: 845\n",
      "Mouse idx: 847, Human idx: 848\n",
      "Mouse idx: 849, Human idx: 850\n",
      "Mouse idx: 851, Human idx: 852\n",
      "Mouse idx: 853, Human idx: 854\n",
      "Mouse idx: 855, Human idx: 856\n",
      "Mouse idx: 858, Human idx: 859\n",
      "Mouse idx: 860, Human idx: 861\n",
      "Mouse idx: 862, Human idx: 863\n",
      "Mouse idx: 864, Human idx: 865\n",
      "Mouse idx: 867, Human idx: 868\n",
      "870\n",
      "873\n",
      "Mouse idx: 876, Human idx: 877\n",
      "Mouse idx: 878, Human idx: 879\n",
      "Mouse idx: 880, Human idx: 881\n",
      "Mouse idx: 883, Human idx: 884\n",
      "Mouse idx: 886, Human idx: 887\n",
      "Mouse idx: 889, Human idx: 890\n",
      "Mouse idx: 891, Human idx: 892\n",
      "Mouse idx: 893, Human idx: 894\n",
      "Mouse idx: 896, Human idx: 897\n",
      "Mouse idx: 898, Human idx: 899\n",
      "Mouse idx: 900, Human idx: 901\n",
      "Mouse idx: 903, Human idx: 904\n",
      "Mouse idx: 906, Human idx: 907\n",
      "Mouse idx: 908, Human idx: 909\n",
      "Mouse idx: 910, Human idx: 911\n",
      "Mouse idx: 914, Human idx: 915\n",
      "Mouse idx: 917, Human idx: 918\n",
      "Mouse idx: 920, Human idx: 921\n",
      "Mouse idx: 923, Human idx: 924\n",
      "Mouse idx: 925, Human idx: 926\n",
      "Mouse idx: 928, Human idx: 929\n",
      "Mouse idx: 931, Human idx: 932\n",
      "Mouse idx: 934, Human idx: 935\n",
      "Mouse idx: 937, Human idx: 938\n",
      "Mouse idx: 939, Human idx: 940\n",
      "Mouse idx: 942, Human idx: 943\n",
      "Mouse idx: 944, Human idx: 945\n",
      "Mouse idx: 947, Human idx: 948\n",
      "Mouse idx: 950, Human idx: 951\n",
      "Mouse idx: 953, Human idx: 954\n",
      "Mouse idx: 956, Human idx: 957\n",
      "Mouse idx: 958, Human idx: 959\n",
      "Mouse idx: 961, Human idx: 962\n",
      "Mouse idx: 963, Human idx: 964\n",
      "Mouse idx: 965, Human idx: 966\n",
      "Mouse idx: 968, Human idx: 969\n",
      "Mouse idx: 971, Human idx: 972\n",
      "Mouse idx: 974, Human idx: 975\n",
      "Mouse idx: 977, Human idx: 978\n",
      "Mouse idx: 981, Human idx: 982\n",
      "Mouse idx: 985, Human idx: 986\n",
      "Mouse idx: 992, Human idx: 993\n",
      "Mouse idx: 996, Human idx: 997\n",
      "Mouse idx: 998, Human idx: 999\n",
      "Mouse idx: 1000, Human idx: 1001\n"
     ]
    }
   ],
   "source": [
    "# Get the fasta file (one vs one).\n",
    "root_path = '/data/home/waitma/antibody_proj/antidiff/tFold-Ab-release/lab_data'\n",
    "mouse_idx = lab_mouse_df.index\n",
    "human_idx = lab_humanized_df.index\n",
    "equal_count = 0\n",
    "no_equal_count = 0\n",
    "for idx, m_idx in enumerate(mouse_idx):\n",
    "    # if idx == 309:\n",
    "    #     next_m_idx = mouse_idx[idx+1]\n",
    "    #     hu_index = [h_idx for h_idx in human_idx if m_idx < h_idx < next_m_idx][0]\n",
    "    #     print(m_idx)\n",
    "    #     print(hu_index)\n",
    "    if idx+1 < len(mouse_idx):\n",
    "        mouse_h = Chain(lab_df.iloc[m_idx]['HC sequence'], scheme='imgt')\n",
    "        mouse_l = Chain(lab_df.iloc[m_idx]['LC sequence'], scheme='imgt')\n",
    "\n",
    "\n",
    "        next_m_idx = mouse_idx[idx+1]\n",
    "        hu_index_list = [h_idx for h_idx in human_idx if m_idx < h_idx < next_m_idx]\n",
    "        # print(f'Mouse idx: {m_idx}, Human idx list: {hu_index_list}')\n",
    "        for hu_index in hu_index_list:\n",
    "            humanized_h = Chain(lab_df.iloc[hu_index]['HC sequence'], scheme='imgt')\n",
    "            humanized_l = Chain(lab_df.iloc[hu_index]['LC sequence'], scheme='imgt')\n",
    "            if humanized_h.seq == mouse_h.seq and humanized_l.seq == mouse_l.seq:\n",
    "                humanized_h = None\n",
    "                humanized_l = None\n",
    "            else:\n",
    "                break\n",
    "        if humanized_h is not None and humanized_l is not None:\n",
    "            if 'X' in humanized_h.seq or 'X' in humanized_l.seq or 'X' in mouse_h.seq or 'X' in mouse_l.seq:\n",
    "                continue\n",
    "            else:\n",
    "                # Save mouse fasta.\n",
    "                print(f'Mouse idx: {m_idx}, Human idx: {hu_index}')\n",
    "                mouse_h.name = f'{m_idx}_mouse_H'\n",
    "                mouse_l.name = f'{m_idx}_mouse_L'\n",
    "                save_path = os.path.join(root_path, f'{idx}_mouse.fasta')\n",
    "                with open(save_path, 'w') as m_f:\n",
    "                    Chain.to_fasta(mouse_h, m_f, description='VH')\n",
    "                    Chain.to_fasta(mouse_l, m_f, description='VL')\n",
    "                # Save humanized fasta.\n",
    "                humanized_h.name = f'{hu_index}_humanized_H'\n",
    "                humanized_l.name = f'{hu_index}_humanized_L'\n",
    "                save_path = os.path.join(root_path, f'{idx}_humanized.fasta')\n",
    "                with open(save_path, 'w') as h_f:\n",
    "                    Chain.to_fasta(humanized_h, h_f, description='VH')\n",
    "                    Chain.to_fasta(humanized_l, h_f, description='VL')\n",
    "        else:\n",
    "            print(m_idx)\n",
    "    else:\n",
    "        mouse_h = Chain(lab_df.iloc[m_idx]['HC sequence'], scheme='imgt')\n",
    "        mouse_l = Chain(lab_df.iloc[m_idx]['LC sequence'], scheme='imgt')\n",
    "        \n",
    "        hu_index_list = [h_idx for h_idx in human_idx if m_idx < h_idx]\n",
    "        # print(f'Mouse idx: {m_idx}, Human idx list: {hu_index_list}')\n",
    "        for hu_index in hu_index_list:\n",
    "            \n",
    "            humanized_h = Chain(lab_df.iloc[hu_index]['HC sequence'], scheme='imgt')\n",
    "            humanized_l = Chain(lab_df.iloc[hu_index]['LC sequence'], scheme='imgt')\n",
    "            if humanized_h.seq == mouse_h.seq or humanized_l.seq == mouse_l.seq:\n",
    "                humanized_h = None\n",
    "                humanized_l = None\n",
    "            else:\n",
    "                break\n",
    "        if humanized_h is not None and humanized_l is not None:\n",
    "            if 'X' in humanized_h.seq or 'X' in humanized_l.seq or 'X' in mouse_h.seq or 'X' in mouse_l.seq:\n",
    "                continue\n",
    "            else:\n",
    "                # Save mouse fasta.\n",
    "                print(f'Mouse idx: {m_idx}, Human idx: {hu_index}')\n",
    "                mouse_h.name = f'{m_idx}_mouse_H'\n",
    "                mouse_l.name = f'{m_idx}_mouse_L'\n",
    "                save_path = os.path.join(root_path, f'{idx}_mouse.fasta')\n",
    "                with open(save_path, 'w') as m_f:\n",
    "                    Chain.to_fasta(mouse_h, m_f, description='VH')\n",
    "                    Chain.to_fasta(mouse_l, m_f, description='VL')\n",
    "                # Save humanized fasta.\n",
    "                humanized_h.name = f'{hu_index}_humanized_H'\n",
    "                humanized_l.name = f'{hu_index}_humanized_L'\n",
    "                save_path = os.path.join(root_path, f'{idx}_humanized.fasta')\n",
    "                with open(save_path, 'w') as h_f:\n",
    "                    Chain.to_fasta(humanized_h, h_f, description='VH')\n",
    "                    Chain.to_fasta(humanized_l, h_f, description='VL')\n",
    "        else:\n",
    "            print(m_idx)"
   ]
  },
  {
   "cell_type": "code",
   "execution_count": 134,
   "id": "cf8936d1-1e29-4a60-932f-8796188b65ce",
   "metadata": {},
   "outputs": [],
   "source": [
    "# Get Save idx.\n",
    "files_name = os.listdir(root_path)\n",
    "idx_set = set()\n",
    "for f_name in files_name:\n",
    "    idx = int(f_name.split('_')[0])\n",
    "    idx_set.add(idx)"
   ]
  },
  {
   "cell_type": "code",
   "execution_count": 135,
   "id": "c5ceb38e-73ac-4e90-a040-54e3e020ce47",
   "metadata": {},
   "outputs": [
    {
     "data": {
      "text/plain": [
       "349"
      ]
     },
     "execution_count": 135,
     "metadata": {},
     "output_type": "execute_result"
    }
   ],
   "source": [
    "len(idx_set)"
   ]
  },
  {
   "cell_type": "code",
   "execution_count": 136,
   "id": "b366ec8e-f23e-4600-aa1e-3ad19df6b69e",
   "metadata": {},
   "outputs": [],
   "source": [
    "def read_fasta_file(file_path):\n",
    "    sequences = []\n",
    "    raw_idx = None\n",
    "    for record in SeqIO.parse(file_path, \"fasta\"):\n",
    "        raw_idx = record.name\n",
    "        sequences.append(str(record.seq))\n",
    "    raw_idx = raw_idx.split('_')[0]\n",
    "    # print(raw_idx)\n",
    "    return raw_idx, sequences[0], sequences[1]\n",
    "    "
   ]
  },
  {
   "cell_type": "code",
   "execution_count": 137,
   "id": "60c23627-7296-44af-89db-1bc4c9d5b4e3",
   "metadata": {},
   "outputs": [
    {
     "data": {
      "text/plain": [
       "('1',\n",
       " 'EVQLVESGGGLVQPGGSLRLSCAASGFTFSNFWMDWVRQAPGKGLEWVGGIRLKSYNYATHYAESVKGRFTISRDDSKNTAYLQMNSLRAEDTAVYYCTRWDGAYWGQGTLVTVSS',\n",
       " 'DIQMTQSPSSLSASVGDRVTITCKASQDVSTDVAWYQQKPGKAPKLLIYSASYRYTGVPSRFSGSGSGTDFTLTISSLQPEDIATYYCQQHYSTPFTFGQGTKLEIK')"
      ]
     },
     "execution_count": 137,
     "metadata": {},
     "output_type": "execute_result"
    }
   ],
   "source": [
    "load_hum_fpath = os.path.join(root_path, f'{0}_humanized.fasta')\n",
    "read_fasta_file(load_hum_fpath)"
   ]
  },
  {
   "cell_type": "code",
   "execution_count": 138,
   "id": "eabf33f1-f47c-4aa2-bd57-faa65642fa86",
   "metadata": {},
   "outputs": [],
   "source": [
    "# Make sure save file is right.\n",
    "for idx in idx_set:\n",
    "\n",
    "    load_hum_fpath = os.path.join(root_path, f'{idx}_humanized.fasta')\n",
    "    load_mou_fpath = os.path.join(root_path, f'{idx}_mouse.fasta')\n",
    "\n",
    "    raw_hum_idx, load_hum_h_seq, load_hum_l_seq = read_fasta_file(load_hum_fpath)\n",
    "    raw_mou_idx, load_mou_h_seq, load_mou_l_seq = read_fasta_file(load_mou_fpath)\n",
    "    \n",
    "    \n",
    "    mou_idx = mouse_idx[idx]\n",
    "    assert int(raw_mou_idx) == int(mou_idx), print('Wrong idx problem.', raw_mou_idx, mou_idx)\n",
    "    raw_hum_idx = int(raw_hum_idx)\n",
    "    \n",
    "    mouse_h_seq = Chain(lab_df.iloc[mou_idx]['HC sequence'], scheme='imgt').seq\n",
    "    mouse_l_seq = Chain(lab_df.iloc[mou_idx]['LC sequence'], scheme='imgt').seq\n",
    "\n",
    "    human_h_seq = Chain(lab_df.iloc[raw_hum_idx]['HC sequence'], scheme='imgt').seq\n",
    "    human_l_seq = Chain(lab_df.iloc[raw_hum_idx]['LC sequence'], scheme='imgt').seq\n",
    "\n",
    "\n",
    "    assert load_hum_h_seq == human_h_seq\n",
    "    assert load_hum_l_seq == human_l_seq\n",
    "\n",
    "    assert load_mou_h_seq == mouse_h_seq\n",
    "    assert load_mou_l_seq == mouse_l_seq    "
   ]
  },
  {
   "cell_type": "code",
   "execution_count": 139,
   "id": "74b5a644-c663-433f-877e-434468e97848",
   "metadata": {},
   "outputs": [
    {
     "name": "stdout",
     "output_type": "stream",
     "text": [
      "wrong L 30\n",
      "wrong H 95\n",
      "wrong H 110\n",
      "wrong L 115\n",
      "wrong L 116\n",
      "wrong H 131\n",
      "wrong L 180\n",
      "wrong H 210\n",
      "wrong L 220\n",
      "wrong L 234\n",
      "wrong H 322\n",
      "wrong H 323\n"
     ]
    }
   ],
   "source": [
    "# Check the similar between the humanized and mouse.\n",
    "# columns = ['type', 'name', 'h_seq', 'l_seq']\n",
    "# new_df = pd.DataFrame(columns=columns)\n",
    "\n",
    "for idx in idx_set:\n",
    "    load_hum_fpath = os.path.join(root_path, f'{idx}_humanized.fasta')\n",
    "    load_mou_fpath = os.path.join(root_path, f'{idx}_mouse.fasta')\n",
    "\n",
    "    raw_hum_idx, load_hum_h_seq, load_hum_l_seq = read_fasta_file(load_hum_fpath)\n",
    "    raw_mou_idx, load_mou_h_seq, load_mou_l_seq = read_fasta_file(load_mou_fpath)\n",
    "    \n",
    "    mou_idx = mouse_idx[idx]\n",
    "    # hum_idx = mou_idx + 1\n",
    "    # print(mou_idx)\n",
    "    # print(hum_idx)\n",
    "    hum_idx = int(raw_hum_idx)\n",
    "\n",
    "    mouse_h_seq = Chain(lab_df.iloc[mou_idx]['HC sequence'], scheme='imgt').seq\n",
    "    mouse_l_seq = Chain(lab_df.iloc[mou_idx]['LC sequence'], scheme='imgt').seq\n",
    "\n",
    "    human_h_seq = Chain(lab_df.iloc[hum_idx]['HC sequence'], scheme='imgt').seq\n",
    "    human_l_seq = Chain(lab_df.iloc[hum_idx]['LC sequence'], scheme='imgt').seq\n",
    "\n",
    "    # if mouse_l_seq == None:\n",
    "    #     print(idx)\n",
    "\n",
    "    if mouse_h_seq == human_h_seq:\n",
    "        print(f'wrong H {idx}')\n",
    "\n",
    "    if mouse_l_seq == human_l_seq:\n",
    "        print(f'wrong L {idx}')\n",
    "        \n"
   ]
  },
  {
   "cell_type": "code",
   "execution_count": 85,
   "id": "30008f91-b3b2-4625-b1ed-a557f5a3d14e",
   "metadata": {},
   "outputs": [],
   "source": [
    "h_871_seq, l_871_seq = lab_df.iloc[871]['HC sequence'], lab_df.iloc[871]['LC sequence']\n",
    "h_872_seq, l_872_seq = lab_df.iloc[872]['HC sequence'], lab_df.iloc[872]['LC sequence']"
   ]
  },
  {
   "cell_type": "code",
   "execution_count": 133,
   "id": "f706c100-0a76-4b3a-9eb9-aa5f96ae72ec",
   "metadata": {},
   "outputs": [
    {
     "data": {
      "text/plain": [
       "False"
      ]
     },
     "execution_count": 133,
     "metadata": {},
     "output_type": "execute_result"
    }
   ],
   "source": [
    "h_871_seq == h_872_seq"
   ]
  },
  {
   "cell_type": "code",
   "execution_count": 82,
   "id": "14c6b37a-88a8-48cd-bf55-407eff05c0a9",
   "metadata": {},
   "outputs": [
    {
     "data": {
      "text/plain": [
       "Origin/Engineering                                                humanized\n",
       "name                                                              H2-C8-A-2\n",
       "HC sequence source                                          WO2022153195_60\n",
       "HC sequence               EVQLVESGGGLVQPGGSQRLSCAASGFTFSSYWMNWVRQAPGKGLE...\n",
       "LC sequence source                                          WO2022153195_62\n",
       "LC sequence               DIQMSQSPSSLSASVGDRVTITCRASQGISNYLAWFQQKPGKAPKS...\n",
       "Source                                                         WO2022153195\n",
       "Target sequence           MVSPRMSGLLSQTVILALIFLPQTRPAGVFELQIHSFGPGPGPGAP...\n",
       "Target sequence source                                       Uniprot:Q9NYJ7\n",
       "note                                                                    NaN\n",
       "Name: 872, dtype: object"
      ]
     },
     "execution_count": 82,
     "metadata": {},
     "output_type": "execute_result"
    }
   ],
   "source": [
    "lab_df.iloc[572]\n",
    "lab_df.iloc[573]\n",
    "lab_df.iloc[870]\n",
    "lab_df.iloc[871]\n",
    "lab_df.iloc[872]"
   ]
  },
  {
   "cell_type": "code",
   "execution_count": 83,
   "id": "c15d969b-02b2-48b7-bd52-9d6cd7acda19",
   "metadata": {},
   "outputs": [
    {
     "data": {
      "text/plain": [
       "873"
      ]
     },
     "execution_count": 83,
     "metadata": {},
     "output_type": "execute_result"
    }
   ],
   "source": [
    "mouse_idx[309]"
   ]
  },
  {
   "cell_type": "code",
   "execution_count": 53,
   "id": "6bd0be2e-4fad-43a5-800d-a47bb757c530",
   "metadata": {},
   "outputs": [],
   "source": [
    "mouse_h_seq = lab_df.iloc[83]['HC sequence']\n",
    "mouse_l_seq = lab_df.iloc[83]['LC sequence']"
   ]
  },
  {
   "cell_type": "code",
   "execution_count": 54,
   "id": "b4c159b5-af5e-4ef3-a48d-0c2309fb9d28",
   "metadata": {},
   "outputs": [],
   "source": [
    "human_h_seq = lab_df.iloc[84]['HC sequence']\n",
    "human_l_seq = lab_df.iloc[84]['LC sequence']"
   ]
  },
  {
   "cell_type": "code",
   "execution_count": 55,
   "id": "1d60cff6-a2c6-4c40-84d6-ccd281755894",
   "metadata": {},
   "outputs": [
    {
     "name": "stdout",
     "output_type": "stream",
     "text": [
      "QVQLQQSDAELVKPGSSVKISCKASGYTFTDHAIHWVKQKPEQGLEWIGHFSPGNTDIKYNDKFKGKATLTVDRSSSTAYMQLNSLTSEDSAVYFCKTSTFFFDYWGQGTTLTVSS\n",
      "QVQLVQSGAEVKKTGSSVKVSCKASGYTFTDHAIHWVRQAPGQALEWMGHFSPGNTDIKYNDKFKGRVTITRDRSMSTAYMELSSLRSEDTAMYYCATSTFFFDYWGQGTMVTVSS\n"
     ]
    }
   ],
   "source": [
    "print(mouse_h_seq)\n",
    "print(human_h_seq)"
   ]
  },
  {
   "cell_type": "code",
   "execution_count": 56,
   "id": "1082e34e-feb3-4cab-8d64-eb7618407944",
   "metadata": {},
   "outputs": [
    {
     "name": "stdout",
     "output_type": "stream",
     "text": [
      "DIVMTQSPSSLTVTAGEKVTMICKSSQSLLNSGDQKNYLTWYQQKPGQPPKLLIFWASTRESGVPDRFTGSGSGTDFTLTISSVQAEDLAVYYCQNDYSYPLTFGAGTKLELK\n",
      "DIVMTQSPSSLTVTAGEKVTMICKSSQSLLNSGDQKNYLTWYQQKPGQPPKLLIFWASTRESGVPDRFTGSGSGTDFTLTISSVQAEDLAVYYCQNDYSYPLTFGAGTKLELK\n"
     ]
    }
   ],
   "source": [
    "print(mouse_l_seq)\n",
    "print(human_l_seq)"
   ]
  },
  {
   "cell_type": "code",
   "execution_count": 57,
   "id": "b0cfb00e-10f2-43f5-8cc8-83aff32a96a9",
   "metadata": {},
   "outputs": [],
   "source": [
    "test_h_seq = lab_df.iloc[85]['HC sequence']\n",
    "test_l_seq = lab_df.iloc[85]['LC sequence']"
   ]
  },
  {
   "cell_type": "code",
   "execution_count": 58,
   "id": "70de8acf-d7d4-4cd6-89d9-5eeceffd0640",
   "metadata": {},
   "outputs": [
    {
     "name": "stdout",
     "output_type": "stream",
     "text": [
      "QVQLQQSDAELVKPGSSVKISCKASGYTFTDHAIHWVKQKPEQGLEWIGHFSPGNTDIKYNDKFKGKATLTVDRSSSTAYMQLNSLTSEDSAVYFCKTSTFFFDYWGQGTTLTVSS\n",
      "QVQLVQSGAEVKKTGSSVKVSCKASGYTFTDHAIHWVRQAPGQALEWMGHFSPGNTDIKYNDKFKGRVTITRDRSMSTAYMELSSLRSEDTAMYYCATSTFFFDYWGQGTMVTVSS\n",
      "QVQLVQSGAEVKKTGSSVKVSCKASGYTFTDHAIHWVRQAPGQALEWIGHFSPGNTDIKYNDKFKGRATLTVDRSMSTAYMELSSLRSEDTAMYYCKTSTFFFDYWGQGTMVTVSS\n"
     ]
    }
   ],
   "source": [
    "print(mouse_h_seq)\n",
    "print(human_h_seq)\n",
    "print(test_h_seq)"
   ]
  },
  {
   "cell_type": "code",
   "execution_count": 59,
   "id": "1155077f-442c-4c91-ae7b-b2eece16b950",
   "metadata": {},
   "outputs": [
    {
     "name": "stdout",
     "output_type": "stream",
     "text": [
      "DIVMTQSPSSLTVTAGEKVTMICKSSQSLLNSGDQKNYLTWYQQKPGQPPKLLIFWASTRESGVPDRFTGSGSGTDFTLTISSVQAEDLAVYYCQNDYSYPLTFGAGTKLELK\n",
      "DIVMTQSPSSLTVTAGEKVTMICKSSQSLLNSGDQKNYLTWYQQKPGQPPKLLIFWASTRESGVPDRFTGSGSGTDFTLTISSVQAEDLAVYYCQNDYSYPLTFGAGTKLELK\n",
      "DIVMTQSPSSLTVTAGEKVTMICKSSQSLLNSGDQKNYLTWYQQKPGQPPKLLIFWASTRESGVPDRFTGSGSGTDFTLTISSVQAEDLAVYYCQNDYSYPLTFGAGTKLELK\n"
     ]
    }
   ],
   "source": [
    "print(mouse_l_seq)\n",
    "print(human_l_seq)\n",
    "print(test_l_seq)"
   ]
  },
  {
   "cell_type": "code",
   "execution_count": 60,
   "id": "50946998-0c1a-4f40-9461-257f29826a31",
   "metadata": {},
   "outputs": [
    {
     "data": {
      "text/plain": [
       "True"
      ]
     },
     "execution_count": 60,
     "metadata": {},
     "output_type": "execute_result"
    }
   ],
   "source": [
    "mouse_l_seq == human_l_seq == test_l_seq"
   ]
  },
  {
   "cell_type": "code",
   "execution_count": 61,
   "id": "e6d04dca-e31f-4676-846d-9807a16bf052",
   "metadata": {},
   "outputs": [
    {
     "data": {
      "text/html": [
       "<div>\n",
       "<style scoped>\n",
       "    .dataframe tbody tr th:only-of-type {\n",
       "        vertical-align: middle;\n",
       "    }\n",
       "\n",
       "    .dataframe tbody tr th {\n",
       "        vertical-align: top;\n",
       "    }\n",
       "\n",
       "    .dataframe thead th {\n",
       "        text-align: right;\n",
       "    }\n",
       "</style>\n",
       "<table border=\"1\" class=\"dataframe\">\n",
       "  <thead>\n",
       "    <tr style=\"text-align: right;\">\n",
       "      <th></th>\n",
       "      <th>Origin/Engineering</th>\n",
       "      <th>name</th>\n",
       "      <th>HC sequence source</th>\n",
       "      <th>HC sequence</th>\n",
       "      <th>LC sequence source</th>\n",
       "      <th>LC sequence</th>\n",
       "      <th>Source</th>\n",
       "      <th>Target sequence</th>\n",
       "      <th>Target sequence source</th>\n",
       "      <th>note</th>\n",
       "    </tr>\n",
       "  </thead>\n",
       "  <tbody>\n",
       "    <tr>\n",
       "      <th>0</th>\n",
       "      <td>mouse</td>\n",
       "      <td>3A3</td>\n",
       "      <td>WO2011112566_20</td>\n",
       "      <td>EVKLEESGGGLVQPGGSMKLSCVASGFTFSNFWMDWVRQSPEKGLE...</td>\n",
       "      <td>WO2011112566_22</td>\n",
       "      <td>DIVMTQSHKFMSTSVGDRVSITCKASQDVSTDVAWYQQKPGQSPKL...</td>\n",
       "      <td>WO2011112566</td>\n",
       "      <td>MAAALFVLLGFALLGTHGASGAAGTVFTTVEDLGSKILLTCSLNDS...</td>\n",
       "      <td>WO2011112566_1</td>\n",
       "      <td>Sample</td>\n",
       "    </tr>\n",
       "    <tr>\n",
       "      <th>1</th>\n",
       "      <td>humanized</td>\n",
       "      <td>h3A3-5</td>\n",
       "      <td>WO2011112566_27</td>\n",
       "      <td>EVQLVESGGGLVQPGGSLRLSCAASGFTFSNFWMDWVRQAPGKGLE...</td>\n",
       "      <td>WO2011112566_33</td>\n",
       "      <td>DIQMTQSPSSLSASVGDRVTITCKASQDVSTDVAWYQQKPGKAPKL...</td>\n",
       "      <td>NaN</td>\n",
       "      <td>MAAALFVLLGFALLGTHGASGAAGTVFTTVEDLGSKILLTCSLNDS...</td>\n",
       "      <td>WO2011112566_1</td>\n",
       "      <td>Sample</td>\n",
       "    </tr>\n",
       "    <tr>\n",
       "      <th>2</th>\n",
       "      <td>NaN</td>\n",
       "      <td>h3A3-6</td>\n",
       "      <td>WO2011112566_28</td>\n",
       "      <td>EVQLVESGGGLVQPGGSLRLSCAASGFTFSNFWMDWVRQAPGKGLE...</td>\n",
       "      <td>WO2011112566_33</td>\n",
       "      <td>DIQMTQSPSSLSASVGDRVTITCKASQDVSTDVAWYQQKPGKAPKL...</td>\n",
       "      <td>NaN</td>\n",
       "      <td>MAAALFVLLGFALLGTHGASGAAGTVFTTVEDLGSKILLTCSLNDS...</td>\n",
       "      <td>WO2011112566_1</td>\n",
       "      <td>Sample</td>\n",
       "    </tr>\n",
       "    <tr>\n",
       "      <th>3</th>\n",
       "      <td>NaN</td>\n",
       "      <td>h3A3-8</td>\n",
       "      <td>WO2011112566_27</td>\n",
       "      <td>EVQLVESGGGLVQPGGSLRLSCAASGFTFSNFWMDWVRQAPGKGLE...</td>\n",
       "      <td>WO2011112566_34</td>\n",
       "      <td>DIQMTQSPSSLSASVGDRVTITCKASQDVSTDVAWYQQKPGKSPKL...</td>\n",
       "      <td>NaN</td>\n",
       "      <td>MAAALFVLLGFALLGTHGASGAAGTVFTTVEDLGSKILLTCSLNDS...</td>\n",
       "      <td>WO2011112566_1</td>\n",
       "      <td>Sample</td>\n",
       "    </tr>\n",
       "    <tr>\n",
       "      <th>4</th>\n",
       "      <td>NaN</td>\n",
       "      <td>h3A3-9</td>\n",
       "      <td>WO2011112566_28</td>\n",
       "      <td>EVQLVESGGGLVQPGGSLRLSCAASGFTFSNFWMDWVRQAPGKGLE...</td>\n",
       "      <td>WO2011112566_34</td>\n",
       "      <td>DIQMTQSPSSLSASVGDRVTITCKASQDVSTDVAWYQQKPGKSPKL...</td>\n",
       "      <td>NaN</td>\n",
       "      <td>MAAALFVLLGFALLGTHGASGAAGTVFTTVEDLGSKILLTCSLNDS...</td>\n",
       "      <td>WO2011112566_1</td>\n",
       "      <td>Sample</td>\n",
       "    </tr>\n",
       "  </tbody>\n",
       "</table>\n",
       "</div>"
      ],
      "text/plain": [
       "  Origin/Engineering    name HC sequence source  \\\n",
       "0              mouse     3A3    WO2011112566_20   \n",
       "1          humanized  h3A3-5    WO2011112566_27   \n",
       "2                NaN  h3A3-6    WO2011112566_28   \n",
       "3                NaN  h3A3-8    WO2011112566_27   \n",
       "4                NaN  h3A3-9    WO2011112566_28   \n",
       "\n",
       "                                         HC sequence LC sequence source  \\\n",
       "0  EVKLEESGGGLVQPGGSMKLSCVASGFTFSNFWMDWVRQSPEKGLE...    WO2011112566_22   \n",
       "1  EVQLVESGGGLVQPGGSLRLSCAASGFTFSNFWMDWVRQAPGKGLE...    WO2011112566_33   \n",
       "2  EVQLVESGGGLVQPGGSLRLSCAASGFTFSNFWMDWVRQAPGKGLE...    WO2011112566_33   \n",
       "3  EVQLVESGGGLVQPGGSLRLSCAASGFTFSNFWMDWVRQAPGKGLE...    WO2011112566_34   \n",
       "4  EVQLVESGGGLVQPGGSLRLSCAASGFTFSNFWMDWVRQAPGKGLE...    WO2011112566_34   \n",
       "\n",
       "                                         LC sequence        Source  \\\n",
       "0  DIVMTQSHKFMSTSVGDRVSITCKASQDVSTDVAWYQQKPGQSPKL...  WO2011112566   \n",
       "1  DIQMTQSPSSLSASVGDRVTITCKASQDVSTDVAWYQQKPGKAPKL...           NaN   \n",
       "2  DIQMTQSPSSLSASVGDRVTITCKASQDVSTDVAWYQQKPGKAPKL...           NaN   \n",
       "3  DIQMTQSPSSLSASVGDRVTITCKASQDVSTDVAWYQQKPGKSPKL...           NaN   \n",
       "4  DIQMTQSPSSLSASVGDRVTITCKASQDVSTDVAWYQQKPGKSPKL...           NaN   \n",
       "\n",
       "                                     Target sequence Target sequence source  \\\n",
       "0  MAAALFVLLGFALLGTHGASGAAGTVFTTVEDLGSKILLTCSLNDS...         WO2011112566_1   \n",
       "1  MAAALFVLLGFALLGTHGASGAAGTVFTTVEDLGSKILLTCSLNDS...         WO2011112566_1   \n",
       "2  MAAALFVLLGFALLGTHGASGAAGTVFTTVEDLGSKILLTCSLNDS...         WO2011112566_1   \n",
       "3  MAAALFVLLGFALLGTHGASGAAGTVFTTVEDLGSKILLTCSLNDS...         WO2011112566_1   \n",
       "4  MAAALFVLLGFALLGTHGASGAAGTVFTTVEDLGSKILLTCSLNDS...         WO2011112566_1   \n",
       "\n",
       "     note  \n",
       "0  Sample  \n",
       "1  Sample  \n",
       "2  Sample  \n",
       "3  Sample  \n",
       "4  Sample  "
      ]
     },
     "execution_count": 61,
     "metadata": {},
     "output_type": "execute_result"
    }
   ],
   "source": [
    "lab_df.head()"
   ]
  },
  {
   "cell_type": "code",
   "execution_count": 140,
   "id": "98ce0695-1182-4e52-ae21-0fb5c4aa8065",
   "metadata": {},
   "outputs": [],
   "source": [
    "# Save as a new pair data for generate.\n",
    "columns = ['type', 'name', 'order_name', 'h_seq', 'l_seq']\n",
    "new_df = pd.DataFrame(columns=columns)\n",
    "for idx in idx_set:\n",
    "    mou_idx = mouse_idx[idx]\n",
    "    hum_idx = mou_idx + 1\n",
    "    # print(mou_idx)\n",
    "    # print(hum_idx)\n",
    "\n",
    "    mouse_h_seq = Chain(lab_df.iloc[mou_idx]['HC sequence'], scheme='imgt').seq\n",
    "    mouse_l_seq = Chain(lab_df.iloc[mou_idx]['LC sequence'], scheme='imgt').seq\n",
    "\n",
    "    human_h_seq = Chain(lab_df.iloc[hum_idx]['HC sequence'], scheme='imgt').seq\n",
    "    human_l_seq = Chain(lab_df.iloc[hum_idx]['LC sequence'], scheme='imgt').seq\n",
    "\n",
    "    mouse_row = {\n",
    "        'type': 'mouse',\n",
    "        'name': lab_df.iloc[mou_idx]['name'],\n",
    "        'order_name': f'{idx}_mouse',\n",
    "        'h_seq': mouse_h_seq,\n",
    "        'l_seq': mouse_l_seq\n",
    "    }\n",
    "\n",
    "    human_row = {\n",
    "        'type': 'humanized',\n",
    "        'name': lab_df.iloc[hum_idx]['name'],\n",
    "        'order_name': f'{idx}_humanized',\n",
    "        'h_seq': human_h_seq,\n",
    "        'l_seq': human_l_seq\n",
    "    }\n",
    "\n",
    "    tmp_mouse_df = pd.DataFrame(mouse_row, index=[0])\n",
    "    tmp_human_df = pd.DataFrame(human_row, index=[0])\n",
    "    new_df = pd.concat([new_df, tmp_mouse_df], ignore_index=True)\n",
    "    new_df = pd.concat([new_df, tmp_human_df], ignore_index=True)"
   ]
  },
  {
   "cell_type": "code",
   "execution_count": 141,
   "id": "999cd972-3f1e-4a5b-88f1-c53d3af37513",
   "metadata": {},
   "outputs": [],
   "source": [
    "# Save.\n",
    "filter_lab_save_fpath = '/data/home/waitma/antibody_proj/antidiff/data/lab_data/humanization_pair_data_filter.csv'\n",
    "new_df.to_csv(filter_lab_save_fpath, index=False)"
   ]
  },
  {
   "cell_type": "code",
   "execution_count": 142,
   "id": "e846e01a-c247-4bca-a48b-1ae5ab4c4072",
   "metadata": {},
   "outputs": [
    {
     "data": {
      "text/html": [
       "<div>\n",
       "<style scoped>\n",
       "    .dataframe tbody tr th:only-of-type {\n",
       "        vertical-align: middle;\n",
       "    }\n",
       "\n",
       "    .dataframe tbody tr th {\n",
       "        vertical-align: top;\n",
       "    }\n",
       "\n",
       "    .dataframe thead th {\n",
       "        text-align: right;\n",
       "    }\n",
       "</style>\n",
       "<table border=\"1\" class=\"dataframe\">\n",
       "  <thead>\n",
       "    <tr style=\"text-align: right;\">\n",
       "      <th></th>\n",
       "      <th>Origin/Engineering</th>\n",
       "      <th>name</th>\n",
       "      <th>HC sequence source</th>\n",
       "      <th>HC sequence</th>\n",
       "      <th>LC sequence source</th>\n",
       "      <th>LC sequence</th>\n",
       "      <th>Source</th>\n",
       "      <th>Target sequence</th>\n",
       "      <th>Target sequence source</th>\n",
       "      <th>note</th>\n",
       "    </tr>\n",
       "  </thead>\n",
       "  <tbody>\n",
       "    <tr>\n",
       "      <th>0</th>\n",
       "      <td>mouse</td>\n",
       "      <td>3A3</td>\n",
       "      <td>WO2011112566_20</td>\n",
       "      <td>EVKLEESGGGLVQPGGSMKLSCVASGFTFSNFWMDWVRQSPEKGLE...</td>\n",
       "      <td>WO2011112566_22</td>\n",
       "      <td>DIVMTQSHKFMSTSVGDRVSITCKASQDVSTDVAWYQQKPGQSPKL...</td>\n",
       "      <td>WO2011112566</td>\n",
       "      <td>MAAALFVLLGFALLGTHGASGAAGTVFTTVEDLGSKILLTCSLNDS...</td>\n",
       "      <td>WO2011112566_1</td>\n",
       "      <td>Sample</td>\n",
       "    </tr>\n",
       "    <tr>\n",
       "      <th>1</th>\n",
       "      <td>humanized</td>\n",
       "      <td>h3A3-5</td>\n",
       "      <td>WO2011112566_27</td>\n",
       "      <td>EVQLVESGGGLVQPGGSLRLSCAASGFTFSNFWMDWVRQAPGKGLE...</td>\n",
       "      <td>WO2011112566_33</td>\n",
       "      <td>DIQMTQSPSSLSASVGDRVTITCKASQDVSTDVAWYQQKPGKAPKL...</td>\n",
       "      <td>NaN</td>\n",
       "      <td>MAAALFVLLGFALLGTHGASGAAGTVFTTVEDLGSKILLTCSLNDS...</td>\n",
       "      <td>WO2011112566_1</td>\n",
       "      <td>Sample</td>\n",
       "    </tr>\n",
       "    <tr>\n",
       "      <th>2</th>\n",
       "      <td>NaN</td>\n",
       "      <td>h3A3-6</td>\n",
       "      <td>WO2011112566_28</td>\n",
       "      <td>EVQLVESGGGLVQPGGSLRLSCAASGFTFSNFWMDWVRQAPGKGLE...</td>\n",
       "      <td>WO2011112566_33</td>\n",
       "      <td>DIQMTQSPSSLSASVGDRVTITCKASQDVSTDVAWYQQKPGKAPKL...</td>\n",
       "      <td>NaN</td>\n",
       "      <td>MAAALFVLLGFALLGTHGASGAAGTVFTTVEDLGSKILLTCSLNDS...</td>\n",
       "      <td>WO2011112566_1</td>\n",
       "      <td>Sample</td>\n",
       "    </tr>\n",
       "    <tr>\n",
       "      <th>3</th>\n",
       "      <td>NaN</td>\n",
       "      <td>h3A3-8</td>\n",
       "      <td>WO2011112566_27</td>\n",
       "      <td>EVQLVESGGGLVQPGGSLRLSCAASGFTFSNFWMDWVRQAPGKGLE...</td>\n",
       "      <td>WO2011112566_34</td>\n",
       "      <td>DIQMTQSPSSLSASVGDRVTITCKASQDVSTDVAWYQQKPGKSPKL...</td>\n",
       "      <td>NaN</td>\n",
       "      <td>MAAALFVLLGFALLGTHGASGAAGTVFTTVEDLGSKILLTCSLNDS...</td>\n",
       "      <td>WO2011112566_1</td>\n",
       "      <td>Sample</td>\n",
       "    </tr>\n",
       "    <tr>\n",
       "      <th>4</th>\n",
       "      <td>NaN</td>\n",
       "      <td>h3A3-9</td>\n",
       "      <td>WO2011112566_28</td>\n",
       "      <td>EVQLVESGGGLVQPGGSLRLSCAASGFTFSNFWMDWVRQAPGKGLE...</td>\n",
       "      <td>WO2011112566_34</td>\n",
       "      <td>DIQMTQSPSSLSASVGDRVTITCKASQDVSTDVAWYQQKPGKSPKL...</td>\n",
       "      <td>NaN</td>\n",
       "      <td>MAAALFVLLGFALLGTHGASGAAGTVFTTVEDLGSKILLTCSLNDS...</td>\n",
       "      <td>WO2011112566_1</td>\n",
       "      <td>Sample</td>\n",
       "    </tr>\n",
       "    <tr>\n",
       "      <th>5</th>\n",
       "      <td>NaN</td>\n",
       "      <td>h3A3-12</td>\n",
       "      <td>WO2011112566_28</td>\n",
       "      <td>EVQLVESGGGLVQPGGSLRLSCAASGFTFSNFWMDWVRQAPGKGLE...</td>\n",
       "      <td>WO2011112566_35</td>\n",
       "      <td>DIVMTQSPSSLSASVGDRVTITCKASQDVSTDVAWYQQKPGKSPKL...</td>\n",
       "      <td>NaN</td>\n",
       "      <td>MAAALFVLLGFALLGTHGASGAAGTVFTTVEDLGSKILLTCSLNDS...</td>\n",
       "      <td>WO2011112566_1</td>\n",
       "      <td>Sample</td>\n",
       "    </tr>\n",
       "    <tr>\n",
       "      <th>6</th>\n",
       "      <td>mouse</td>\n",
       "      <td>MAK195</td>\n",
       "      <td>WO2011127141_22</td>\n",
       "      <td>QVQLKESGPGLVAPSQSLSITCTVSGFSLTDYGVNWVRQPPGKGLE...</td>\n",
       "      <td>WO2011127141_23</td>\n",
       "      <td>DIVMTQSHKFMSTTVGDRVSITCKASQAVSSAVAWYQQKPGQSPKL...</td>\n",
       "      <td>WO2011127141</td>\n",
       "      <td>MSTESMIRDVELAEEALPKKTGGPQGSRRCLFLSLFSFLIVAGATT...</td>\n",
       "      <td>Uniprot:P01375</td>\n",
       "      <td>Sample</td>\n",
       "    </tr>\n",
       "    <tr>\n",
       "      <th>7</th>\n",
       "      <td>humanized</td>\n",
       "      <td>AB240</td>\n",
       "      <td>WO2011127141_28</td>\n",
       "      <td>EVQLQESGPGLVKPSETLSLTCTVSGGSISDYGVNWIRQPPGKGLE...</td>\n",
       "      <td>WO2011127141_26</td>\n",
       "      <td>DIQMTQSPSSLSASVGDRVTITCKASQAVSSAVAWYQQKPGKAPKL...</td>\n",
       "      <td>NaN</td>\n",
       "      <td>MSTESMIRDVELAEEALPKKTGGPQGSRRCLFLSLFSFLIVAGATT...</td>\n",
       "      <td>Uniprot:P01375</td>\n",
       "      <td>Sample</td>\n",
       "    </tr>\n",
       "    <tr>\n",
       "      <th>8</th>\n",
       "      <td>NaN</td>\n",
       "      <td>AB241</td>\n",
       "      <td>WO2011127141_28</td>\n",
       "      <td>EVQLQESGPGLVKPSETLSLTCTVSGGSISDYGVNWIRQPPGKGLE...</td>\n",
       "      <td>WO2011127141_34</td>\n",
       "      <td>DIQMTQSPSSLSASVGDRVTITCKASQAVSSAVAWYQQKPGKSPKL...</td>\n",
       "      <td>NaN</td>\n",
       "      <td>MSTESMIRDVELAEEALPKKTGGPQGSRRCLFLSLFSFLIVAGATT...</td>\n",
       "      <td>Uniprot:P01375</td>\n",
       "      <td>Sample</td>\n",
       "    </tr>\n",
       "    <tr>\n",
       "      <th>9</th>\n",
       "      <td>NaN</td>\n",
       "      <td>AB242</td>\n",
       "      <td>WO2011127141_28</td>\n",
       "      <td>EVQLQESGPGLVKPSETLSLTCTVSGGSISDYGVNWIRQPPGKGLE...</td>\n",
       "      <td>WO2011127141_35</td>\n",
       "      <td>EIVMTQSPATLSLSPGERATLSCKASQAVSSAVAWYQQKPGQAPRL...</td>\n",
       "      <td>NaN</td>\n",
       "      <td>MSTESMIRDVELAEEALPKKTGGPQGSRRCLFLSLFSFLIVAGATT...</td>\n",
       "      <td>Uniprot:P01375</td>\n",
       "      <td>Sample</td>\n",
       "    </tr>\n",
       "  </tbody>\n",
       "</table>\n",
       "</div>"
      ],
      "text/plain": [
       "  Origin/Engineering     name HC sequence source  \\\n",
       "0              mouse      3A3    WO2011112566_20   \n",
       "1          humanized   h3A3-5    WO2011112566_27   \n",
       "2                NaN   h3A3-6    WO2011112566_28   \n",
       "3                NaN   h3A3-8    WO2011112566_27   \n",
       "4                NaN   h3A3-9    WO2011112566_28   \n",
       "5                NaN  h3A3-12    WO2011112566_28   \n",
       "6              mouse   MAK195    WO2011127141_22   \n",
       "7          humanized    AB240    WO2011127141_28   \n",
       "8                NaN    AB241    WO2011127141_28   \n",
       "9                NaN    AB242    WO2011127141_28   \n",
       "\n",
       "                                         HC sequence LC sequence source  \\\n",
       "0  EVKLEESGGGLVQPGGSMKLSCVASGFTFSNFWMDWVRQSPEKGLE...    WO2011112566_22   \n",
       "1  EVQLVESGGGLVQPGGSLRLSCAASGFTFSNFWMDWVRQAPGKGLE...    WO2011112566_33   \n",
       "2  EVQLVESGGGLVQPGGSLRLSCAASGFTFSNFWMDWVRQAPGKGLE...    WO2011112566_33   \n",
       "3  EVQLVESGGGLVQPGGSLRLSCAASGFTFSNFWMDWVRQAPGKGLE...    WO2011112566_34   \n",
       "4  EVQLVESGGGLVQPGGSLRLSCAASGFTFSNFWMDWVRQAPGKGLE...    WO2011112566_34   \n",
       "5  EVQLVESGGGLVQPGGSLRLSCAASGFTFSNFWMDWVRQAPGKGLE...    WO2011112566_35   \n",
       "6  QVQLKESGPGLVAPSQSLSITCTVSGFSLTDYGVNWVRQPPGKGLE...    WO2011127141_23   \n",
       "7  EVQLQESGPGLVKPSETLSLTCTVSGGSISDYGVNWIRQPPGKGLE...    WO2011127141_26   \n",
       "8  EVQLQESGPGLVKPSETLSLTCTVSGGSISDYGVNWIRQPPGKGLE...    WO2011127141_34   \n",
       "9  EVQLQESGPGLVKPSETLSLTCTVSGGSISDYGVNWIRQPPGKGLE...    WO2011127141_35   \n",
       "\n",
       "                                         LC sequence        Source  \\\n",
       "0  DIVMTQSHKFMSTSVGDRVSITCKASQDVSTDVAWYQQKPGQSPKL...  WO2011112566   \n",
       "1  DIQMTQSPSSLSASVGDRVTITCKASQDVSTDVAWYQQKPGKAPKL...           NaN   \n",
       "2  DIQMTQSPSSLSASVGDRVTITCKASQDVSTDVAWYQQKPGKAPKL...           NaN   \n",
       "3  DIQMTQSPSSLSASVGDRVTITCKASQDVSTDVAWYQQKPGKSPKL...           NaN   \n",
       "4  DIQMTQSPSSLSASVGDRVTITCKASQDVSTDVAWYQQKPGKSPKL...           NaN   \n",
       "5  DIVMTQSPSSLSASVGDRVTITCKASQDVSTDVAWYQQKPGKSPKL...           NaN   \n",
       "6  DIVMTQSHKFMSTTVGDRVSITCKASQAVSSAVAWYQQKPGQSPKL...  WO2011127141   \n",
       "7  DIQMTQSPSSLSASVGDRVTITCKASQAVSSAVAWYQQKPGKAPKL...           NaN   \n",
       "8  DIQMTQSPSSLSASVGDRVTITCKASQAVSSAVAWYQQKPGKSPKL...           NaN   \n",
       "9  EIVMTQSPATLSLSPGERATLSCKASQAVSSAVAWYQQKPGQAPRL...           NaN   \n",
       "\n",
       "                                     Target sequence Target sequence source  \\\n",
       "0  MAAALFVLLGFALLGTHGASGAAGTVFTTVEDLGSKILLTCSLNDS...         WO2011112566_1   \n",
       "1  MAAALFVLLGFALLGTHGASGAAGTVFTTVEDLGSKILLTCSLNDS...         WO2011112566_1   \n",
       "2  MAAALFVLLGFALLGTHGASGAAGTVFTTVEDLGSKILLTCSLNDS...         WO2011112566_1   \n",
       "3  MAAALFVLLGFALLGTHGASGAAGTVFTTVEDLGSKILLTCSLNDS...         WO2011112566_1   \n",
       "4  MAAALFVLLGFALLGTHGASGAAGTVFTTVEDLGSKILLTCSLNDS...         WO2011112566_1   \n",
       "5  MAAALFVLLGFALLGTHGASGAAGTVFTTVEDLGSKILLTCSLNDS...         WO2011112566_1   \n",
       "6  MSTESMIRDVELAEEALPKKTGGPQGSRRCLFLSLFSFLIVAGATT...         Uniprot:P01375   \n",
       "7  MSTESMIRDVELAEEALPKKTGGPQGSRRCLFLSLFSFLIVAGATT...         Uniprot:P01375   \n",
       "8  MSTESMIRDVELAEEALPKKTGGPQGSRRCLFLSLFSFLIVAGATT...         Uniprot:P01375   \n",
       "9  MSTESMIRDVELAEEALPKKTGGPQGSRRCLFLSLFSFLIVAGATT...         Uniprot:P01375   \n",
       "\n",
       "     note  \n",
       "0  Sample  \n",
       "1  Sample  \n",
       "2  Sample  \n",
       "3  Sample  \n",
       "4  Sample  \n",
       "5  Sample  \n",
       "6  Sample  \n",
       "7  Sample  \n",
       "8  Sample  \n",
       "9  Sample  "
      ]
     },
     "execution_count": 142,
     "metadata": {},
     "output_type": "execute_result"
    }
   ],
   "source": [
    "lab_df.head(10)"
   ]
  },
  {
   "cell_type": "code",
   "execution_count": 186,
   "id": "8adc422e-1f61-40ef-b152-c4e8c2ac9293",
   "metadata": {},
   "outputs": [
    {
     "data": {
      "text/html": [
       "<div>\n",
       "<style scoped>\n",
       "    .dataframe tbody tr th:only-of-type {\n",
       "        vertical-align: middle;\n",
       "    }\n",
       "\n",
       "    .dataframe tbody tr th {\n",
       "        vertical-align: top;\n",
       "    }\n",
       "\n",
       "    .dataframe thead th {\n",
       "        text-align: right;\n",
       "    }\n",
       "</style>\n",
       "<table border=\"1\" class=\"dataframe\">\n",
       "  <thead>\n",
       "    <tr style=\"text-align: right;\">\n",
       "      <th></th>\n",
       "      <th>type</th>\n",
       "      <th>name</th>\n",
       "      <th>order_name</th>\n",
       "      <th>h_seq</th>\n",
       "      <th>l_seq</th>\n",
       "    </tr>\n",
       "  </thead>\n",
       "  <tbody>\n",
       "    <tr>\n",
       "      <th>0</th>\n",
       "      <td>mouse</td>\n",
       "      <td>3A3</td>\n",
       "      <td>0_mouse</td>\n",
       "      <td>EVKLEESGGGLVQPGGSMKLSCVASGFTFSNFWMDWVRQSPEKGLE...</td>\n",
       "      <td>DIVMTQSHKFMSTSVGDRVSITCKASQDVSTDVAWYQQKPGQSPKL...</td>\n",
       "    </tr>\n",
       "    <tr>\n",
       "      <th>1</th>\n",
       "      <td>humanized</td>\n",
       "      <td>h3A3-5</td>\n",
       "      <td>0_humanized</td>\n",
       "      <td>EVQLVESGGGLVQPGGSLRLSCAASGFTFSNFWMDWVRQAPGKGLE...</td>\n",
       "      <td>DIQMTQSPSSLSASVGDRVTITCKASQDVSTDVAWYQQKPGKAPKL...</td>\n",
       "    </tr>\n",
       "    <tr>\n",
       "      <th>2</th>\n",
       "      <td>mouse</td>\n",
       "      <td>MAK195</td>\n",
       "      <td>1_mouse</td>\n",
       "      <td>QVQLKESGPGLVAPSQSLSITCTVSGFSLTDYGVNWVRQPPGKGLE...</td>\n",
       "      <td>DIVMTQSHKFMSTTVGDRVSITCKASQAVSSAVAWYQQKPGQSPKL...</td>\n",
       "    </tr>\n",
       "    <tr>\n",
       "      <th>3</th>\n",
       "      <td>humanized</td>\n",
       "      <td>AB240</td>\n",
       "      <td>1_humanized</td>\n",
       "      <td>EVQLQESGPGLVKPSETLSLTCTVSGGSISDYGVNWIRQPPGKGLE...</td>\n",
       "      <td>DIQMTQSPSSLSASVGDRVTITCKASQAVSSAVAWYQQKPGKAPKL...</td>\n",
       "    </tr>\n",
       "    <tr>\n",
       "      <th>4</th>\n",
       "      <td>mouse</td>\n",
       "      <td>31#</td>\n",
       "      <td>2_mouse</td>\n",
       "      <td>EVQLQQPGADLVRPGASVKLSCKASGYTFTDYWMNWVKLRPGQGLE...</td>\n",
       "      <td>DVVITQSPSSLAMSVGQKVTMSCKSSQSLLNTNSQKNYLAWYQQKP...</td>\n",
       "    </tr>\n",
       "    <tr>\n",
       "      <th>...</th>\n",
       "      <td>...</td>\n",
       "      <td>...</td>\n",
       "      <td>...</td>\n",
       "      <td>...</td>\n",
       "      <td>...</td>\n",
       "    </tr>\n",
       "    <tr>\n",
       "      <th>693</th>\n",
       "      <td>humanized</td>\n",
       "      <td>hu16B5</td>\n",
       "      <td>353_humanized</td>\n",
       "      <td>QVQLVQSGAEVKKPGATVKISCKVSGFNIKDIYMHWVQQAPGKGLE...</td>\n",
       "      <td>DIVMTQSPDSLAVSLGERATINCKSSQSLLNSRTRKNYLAWYQQKP...</td>\n",
       "    </tr>\n",
       "    <tr>\n",
       "      <th>694</th>\n",
       "      <td>mouse</td>\n",
       "      <td>21B12</td>\n",
       "      <td>354_mouse</td>\n",
       "      <td>QIQLVQSGPELKKPGETVKISCKASGYTFTNYGMHWVKQAPGKGLK...</td>\n",
       "      <td>DIVMSQSPSSLAVSVGEKVTMSCKSSQSLLYSSNQKNYLAWYQQRP...</td>\n",
       "    </tr>\n",
       "    <tr>\n",
       "      <th>695</th>\n",
       "      <td>humanized</td>\n",
       "      <td>hu21B12</td>\n",
       "      <td>354_humanized</td>\n",
       "      <td>QVQLVQSGSELKKPGASVKVSCKASGYTFTNYGMHWVRQAPGQGLE...</td>\n",
       "      <td>DIVMTQSPDSLAVSLGERATINCKSSQSLLYSSNQKNYLAWYQQKP...</td>\n",
       "    </tr>\n",
       "    <tr>\n",
       "      <th>696</th>\n",
       "      <td>mouse</td>\n",
       "      <td>mu19F6</td>\n",
       "      <td>355_mouse</td>\n",
       "      <td>EVQLVESGGGLVQPGRSLRLSCTASGFTFSKYVMAWVRQAPTKGLE...</td>\n",
       "      <td>QFTLTQPKSVSGSLRSTITIPCERSSGDIGDSYVSWYQQHLGRPPI...</td>\n",
       "    </tr>\n",
       "    <tr>\n",
       "      <th>697</th>\n",
       "      <td>humanized</td>\n",
       "      <td>h-19F6</td>\n",
       "      <td>355_humanized</td>\n",
       "      <td>EVQLVESGGGLVQPGRSLRLSCTASGFTFSKYAMSWVRQAPGKGLE...</td>\n",
       "      <td>QFQLTQPSSVSASVGDRVTITCERSSGDIGDSYVSWYQQKPGQPPK...</td>\n",
       "    </tr>\n",
       "  </tbody>\n",
       "</table>\n",
       "<p>698 rows × 5 columns</p>\n",
       "</div>"
      ],
      "text/plain": [
       "          type     name     order_name  \\\n",
       "0        mouse      3A3        0_mouse   \n",
       "1    humanized   h3A3-5    0_humanized   \n",
       "2        mouse   MAK195        1_mouse   \n",
       "3    humanized    AB240    1_humanized   \n",
       "4        mouse      31#        2_mouse   \n",
       "..         ...      ...            ...   \n",
       "693  humanized   hu16B5  353_humanized   \n",
       "694      mouse    21B12      354_mouse   \n",
       "695  humanized  hu21B12  354_humanized   \n",
       "696      mouse   mu19F6      355_mouse   \n",
       "697  humanized   h-19F6  355_humanized   \n",
       "\n",
       "                                                 h_seq  \\\n",
       "0    EVKLEESGGGLVQPGGSMKLSCVASGFTFSNFWMDWVRQSPEKGLE...   \n",
       "1    EVQLVESGGGLVQPGGSLRLSCAASGFTFSNFWMDWVRQAPGKGLE...   \n",
       "2    QVQLKESGPGLVAPSQSLSITCTVSGFSLTDYGVNWVRQPPGKGLE...   \n",
       "3    EVQLQESGPGLVKPSETLSLTCTVSGGSISDYGVNWIRQPPGKGLE...   \n",
       "4    EVQLQQPGADLVRPGASVKLSCKASGYTFTDYWMNWVKLRPGQGLE...   \n",
       "..                                                 ...   \n",
       "693  QVQLVQSGAEVKKPGATVKISCKVSGFNIKDIYMHWVQQAPGKGLE...   \n",
       "694  QIQLVQSGPELKKPGETVKISCKASGYTFTNYGMHWVKQAPGKGLK...   \n",
       "695  QVQLVQSGSELKKPGASVKVSCKASGYTFTNYGMHWVRQAPGQGLE...   \n",
       "696  EVQLVESGGGLVQPGRSLRLSCTASGFTFSKYVMAWVRQAPTKGLE...   \n",
       "697  EVQLVESGGGLVQPGRSLRLSCTASGFTFSKYAMSWVRQAPGKGLE...   \n",
       "\n",
       "                                                 l_seq  \n",
       "0    DIVMTQSHKFMSTSVGDRVSITCKASQDVSTDVAWYQQKPGQSPKL...  \n",
       "1    DIQMTQSPSSLSASVGDRVTITCKASQDVSTDVAWYQQKPGKAPKL...  \n",
       "2    DIVMTQSHKFMSTTVGDRVSITCKASQAVSSAVAWYQQKPGQSPKL...  \n",
       "3    DIQMTQSPSSLSASVGDRVTITCKASQAVSSAVAWYQQKPGKAPKL...  \n",
       "4    DVVITQSPSSLAMSVGQKVTMSCKSSQSLLNTNSQKNYLAWYQQKP...  \n",
       "..                                                 ...  \n",
       "693  DIVMTQSPDSLAVSLGERATINCKSSQSLLNSRTRKNYLAWYQQKP...  \n",
       "694  DIVMSQSPSSLAVSVGEKVTMSCKSSQSLLYSSNQKNYLAWYQQRP...  \n",
       "695  DIVMTQSPDSLAVSLGERATINCKSSQSLLYSSNQKNYLAWYQQKP...  \n",
       "696  QFTLTQPKSVSGSLRSTITIPCERSSGDIGDSYVSWYQQHLGRPPI...  \n",
       "697  QFQLTQPSSVSASVGDRVTITCERSSGDIGDSYVSWYQQKPGQPPK...  \n",
       "\n",
       "[698 rows x 5 columns]"
      ]
     },
     "execution_count": 186,
     "metadata": {},
     "output_type": "execute_result"
    }
   ],
   "source": [
    "new_df"
   ]
  },
  {
   "cell_type": "code",
   "execution_count": 159,
   "id": "7066f56e-9232-469f-8e08-cf529d898489",
   "metadata": {},
   "outputs": [],
   "source": [
    "new_mouse_df = new_df[new_df['type'] == 'mouse'].reset_index(drop=True)\n",
    "new_human_df = new_df[new_df['type'] == 'humanized'].reset_index(drop=True)\n"
   ]
  },
  {
   "cell_type": "code",
   "execution_count": 176,
   "id": "24bd6265-fbde-4135-820d-f9e31cf3477f",
   "metadata": {},
   "outputs": [
    {
     "name": "stderr",
     "output_type": "stream",
     "text": [
      "2it [00:00, 11.70it/s]"
     ]
    },
    {
     "name": "stdout",
     "output_type": "stream",
     "text": [
      "mouse chain type K, human chain type K\n",
      "mouse chain type K, human chain type K\n",
      "mouse chain type K, human chain type K\n"
     ]
    },
    {
     "name": "stderr",
     "output_type": "stream",
     "text": [
      "6it [00:00, 11.88it/s]"
     ]
    },
    {
     "name": "stdout",
     "output_type": "stream",
     "text": [
      "mouse chain type K, human chain type K\n",
      "mouse chain type K, human chain type K\n",
      "mouse chain type K, human chain type K\n"
     ]
    },
    {
     "name": "stderr",
     "output_type": "stream",
     "text": [
      "8it [00:00, 11.78it/s]"
     ]
    },
    {
     "name": "stdout",
     "output_type": "stream",
     "text": [
      "mouse chain type K, human chain type K\n",
      "mouse chain type K, human chain type K\n",
      "mouse chain type K, human chain type K\n"
     ]
    },
    {
     "name": "stderr",
     "output_type": "stream",
     "text": [
      "12it [00:01, 11.78it/s]"
     ]
    },
    {
     "name": "stdout",
     "output_type": "stream",
     "text": [
      "mouse chain type K, human chain type K\n",
      "mouse chain type K, human chain type K\n",
      "mouse chain type K, human chain type K\n"
     ]
    },
    {
     "name": "stderr",
     "output_type": "stream",
     "text": [
      "14it [00:01, 12.05it/s]"
     ]
    },
    {
     "name": "stdout",
     "output_type": "stream",
     "text": [
      "mouse chain type K, human chain type K\n",
      "mouse chain type K, human chain type K\n",
      "mouse chain type K, human chain type K\n"
     ]
    },
    {
     "name": "stderr",
     "output_type": "stream",
     "text": [
      "18it [00:01, 12.37it/s]"
     ]
    },
    {
     "name": "stdout",
     "output_type": "stream",
     "text": [
      "mouse chain type K, human chain type K\n",
      "mouse chain type K, human chain type K\n",
      "mouse chain type K, human chain type K\n"
     ]
    },
    {
     "name": "stderr",
     "output_type": "stream",
     "text": [
      "20it [00:01, 12.27it/s]"
     ]
    },
    {
     "name": "stdout",
     "output_type": "stream",
     "text": [
      "mouse chain type K, human chain type K\n",
      "mouse chain type K, human chain type K\n",
      "mouse chain type K, human chain type K\n"
     ]
    },
    {
     "name": "stderr",
     "output_type": "stream",
     "text": [
      "24it [00:01, 12.12it/s]"
     ]
    },
    {
     "name": "stdout",
     "output_type": "stream",
     "text": [
      "mouse chain type K, human chain type K\n",
      "mouse chain type K, human chain type K\n",
      "mouse chain type K, human chain type K\n"
     ]
    },
    {
     "name": "stderr",
     "output_type": "stream",
     "text": [
      "26it [00:02, 12.31it/s]"
     ]
    },
    {
     "name": "stdout",
     "output_type": "stream",
     "text": [
      "mouse chain type K, human chain type K\n",
      "mouse chain type K, human chain type K\n",
      "mouse chain type K, human chain type K\n"
     ]
    },
    {
     "name": "stderr",
     "output_type": "stream",
     "text": [
      "30it [00:02, 12.52it/s]"
     ]
    },
    {
     "name": "stdout",
     "output_type": "stream",
     "text": [
      "mouse chain type K, human chain type K\n",
      "mouse chain type K, human chain type K\n",
      "mouse chain type K, human chain type K\n"
     ]
    },
    {
     "name": "stderr",
     "output_type": "stream",
     "text": [
      "32it [00:02, 12.62it/s]"
     ]
    },
    {
     "name": "stdout",
     "output_type": "stream",
     "text": [
      "mouse chain type K, human chain type K\n",
      "mouse chain type K, human chain type K\n",
      "mouse chain type K, human chain type K\n"
     ]
    },
    {
     "name": "stderr",
     "output_type": "stream",
     "text": [
      "36it [00:02, 12.82it/s]"
     ]
    },
    {
     "name": "stdout",
     "output_type": "stream",
     "text": [
      "mouse chain type K, human chain type K\n",
      "mouse chain type K, human chain type K\n",
      "mouse chain type K, human chain type K\n"
     ]
    },
    {
     "name": "stderr",
     "output_type": "stream",
     "text": [
      "38it [00:03, 12.13it/s]"
     ]
    },
    {
     "name": "stdout",
     "output_type": "stream",
     "text": [
      "mouse chain type K, human chain type K\n",
      "mouse chain type K, human chain type K\n",
      "mouse chain type K, human chain type K\n"
     ]
    },
    {
     "name": "stderr",
     "output_type": "stream",
     "text": [
      "42it [00:03, 12.22it/s]"
     ]
    },
    {
     "name": "stdout",
     "output_type": "stream",
     "text": [
      "mouse chain type K, human chain type K\n",
      "mouse chain type K, human chain type K\n",
      "mouse chain type K, human chain type K\n"
     ]
    },
    {
     "name": "stderr",
     "output_type": "stream",
     "text": [
      "44it [00:03, 11.87it/s]"
     ]
    },
    {
     "name": "stdout",
     "output_type": "stream",
     "text": [
      "mouse chain type K, human chain type K\n",
      "mouse chain type K, human chain type K\n",
      "mouse chain type K, human chain type K\n"
     ]
    },
    {
     "name": "stderr",
     "output_type": "stream",
     "text": [
      "48it [00:03, 11.64it/s]"
     ]
    },
    {
     "name": "stdout",
     "output_type": "stream",
     "text": [
      "mouse chain type K, human chain type K\n",
      "mouse chain type K, human chain type K\n",
      "mouse chain type K, human chain type K\n"
     ]
    },
    {
     "name": "stderr",
     "output_type": "stream",
     "text": [
      "50it [00:04, 11.98it/s]"
     ]
    },
    {
     "name": "stdout",
     "output_type": "stream",
     "text": [
      "mouse chain type K, human chain type K\n",
      "mouse chain type K, human chain type K\n",
      "mouse chain type K, human chain type K\n"
     ]
    },
    {
     "name": "stderr",
     "output_type": "stream",
     "text": [
      "54it [00:04, 12.30it/s]"
     ]
    },
    {
     "name": "stdout",
     "output_type": "stream",
     "text": [
      "mouse chain type K, human chain type K\n",
      "mouse chain type K, human chain type K\n",
      "mouse chain type K, human chain type K\n"
     ]
    },
    {
     "name": "stderr",
     "output_type": "stream",
     "text": [
      "56it [00:04, 12.13it/s]"
     ]
    },
    {
     "name": "stdout",
     "output_type": "stream",
     "text": [
      "mouse chain type K, human chain type K\n",
      "mouse chain type K, human chain type K\n",
      "mouse chain type K, human chain type K\n"
     ]
    },
    {
     "name": "stderr",
     "output_type": "stream",
     "text": [
      "60it [00:04, 12.34it/s]"
     ]
    },
    {
     "name": "stdout",
     "output_type": "stream",
     "text": [
      "mouse chain type K, human chain type K\n",
      "mouse chain type K, human chain type K\n",
      "mouse chain type K, human chain type K\n"
     ]
    },
    {
     "name": "stderr",
     "output_type": "stream",
     "text": [
      "62it [00:05, 12.30it/s]"
     ]
    },
    {
     "name": "stdout",
     "output_type": "stream",
     "text": [
      "mouse chain type K, human chain type K\n",
      "mouse chain type K, human chain type K\n",
      "mouse chain type K, human chain type K\n"
     ]
    },
    {
     "name": "stderr",
     "output_type": "stream",
     "text": [
      "66it [00:05, 12.73it/s]"
     ]
    },
    {
     "name": "stdout",
     "output_type": "stream",
     "text": [
      "mouse chain type K, human chain type K\n",
      "mouse chain type K, human chain type K\n",
      "mouse chain type K, human chain type K\n"
     ]
    },
    {
     "name": "stderr",
     "output_type": "stream",
     "text": [
      "68it [00:05, 12.33it/s]"
     ]
    },
    {
     "name": "stdout",
     "output_type": "stream",
     "text": [
      "mouse chain type K, human chain type K\n",
      "mouse chain type K, human chain type K\n",
      "mouse chain type K, human chain type K\n"
     ]
    },
    {
     "name": "stderr",
     "output_type": "stream",
     "text": [
      "72it [00:05, 11.96it/s]"
     ]
    },
    {
     "name": "stdout",
     "output_type": "stream",
     "text": [
      "mouse chain type K, human chain type K\n",
      "mouse chain type K, human chain type K\n",
      "mouse chain type K, human chain type K\n"
     ]
    },
    {
     "name": "stderr",
     "output_type": "stream",
     "text": [
      "74it [00:06, 11.87it/s]"
     ]
    },
    {
     "name": "stdout",
     "output_type": "stream",
     "text": [
      "mouse chain type K, human chain type K\n",
      "mouse chain type K, human chain type K\n",
      "mouse chain type K, human chain type K\n"
     ]
    },
    {
     "name": "stderr",
     "output_type": "stream",
     "text": [
      "78it [00:06, 12.14it/s]"
     ]
    },
    {
     "name": "stdout",
     "output_type": "stream",
     "text": [
      "mouse chain type K, human chain type K\n",
      "mouse chain type K, human chain type K\n",
      "mouse chain type K, human chain type K\n"
     ]
    },
    {
     "name": "stderr",
     "output_type": "stream",
     "text": [
      "80it [00:06, 11.00it/s]"
     ]
    },
    {
     "name": "stdout",
     "output_type": "stream",
     "text": [
      "mouse chain type K, human chain type K\n",
      "mouse chain type K, human chain type K\n"
     ]
    },
    {
     "name": "stderr",
     "output_type": "stream",
     "text": [
      "82it [00:06, 11.27it/s]"
     ]
    },
    {
     "name": "stdout",
     "output_type": "stream",
     "text": [
      "mouse chain type K, human chain type K\n",
      "mouse chain type K, human chain type K\n",
      "mouse chain type K, human chain type K\n"
     ]
    },
    {
     "name": "stderr",
     "output_type": "stream",
     "text": [
      "86it [00:07, 11.56it/s]"
     ]
    },
    {
     "name": "stdout",
     "output_type": "stream",
     "text": [
      "mouse chain type K, human chain type K\n",
      "mouse chain type K, human chain type K\n",
      "mouse chain type K, human chain type K\n"
     ]
    },
    {
     "name": "stderr",
     "output_type": "stream",
     "text": [
      "88it [00:07, 11.99it/s]"
     ]
    },
    {
     "name": "stdout",
     "output_type": "stream",
     "text": [
      "mouse chain type K, human chain type K\n",
      "mouse chain type K, human chain type K\n",
      "mouse chain type K, human chain type K\n"
     ]
    },
    {
     "name": "stderr",
     "output_type": "stream",
     "text": [
      "92it [00:07, 11.80it/s]"
     ]
    },
    {
     "name": "stdout",
     "output_type": "stream",
     "text": [
      "mouse chain type K, human chain type K\n",
      "mouse chain type K, human chain type K\n",
      "mouse chain type K, human chain type K\n"
     ]
    },
    {
     "name": "stderr",
     "output_type": "stream",
     "text": [
      "94it [00:07, 11.94it/s]"
     ]
    },
    {
     "name": "stdout",
     "output_type": "stream",
     "text": [
      "mouse chain type K, human chain type K\n",
      "mouse chain type K, human chain type K\n",
      "mouse chain type K, human chain type K\n"
     ]
    },
    {
     "name": "stderr",
     "output_type": "stream",
     "text": [
      "98it [00:08, 11.91it/s]"
     ]
    },
    {
     "name": "stdout",
     "output_type": "stream",
     "text": [
      "mouse chain type K, human chain type K\n",
      "mouse chain type K, human chain type K\n",
      "mouse chain type K, human chain type K\n"
     ]
    },
    {
     "name": "stderr",
     "output_type": "stream",
     "text": [
      "100it [00:08, 11.87it/s]"
     ]
    },
    {
     "name": "stdout",
     "output_type": "stream",
     "text": [
      "mouse chain type K, human chain type K\n",
      "mouse chain type K, human chain type K\n",
      "mouse chain type K, human chain type K\n"
     ]
    },
    {
     "name": "stderr",
     "output_type": "stream",
     "text": [
      "104it [00:08, 12.02it/s]"
     ]
    },
    {
     "name": "stdout",
     "output_type": "stream",
     "text": [
      "mouse chain type K, human chain type K\n",
      "mouse chain type K, human chain type K\n",
      "mouse chain type K, human chain type K\n"
     ]
    },
    {
     "name": "stderr",
     "output_type": "stream",
     "text": [
      "106it [00:08, 12.05it/s]"
     ]
    },
    {
     "name": "stdout",
     "output_type": "stream",
     "text": [
      "mouse chain type K, human chain type K\n",
      "mouse chain type K, human chain type K\n",
      "mouse chain type K, human chain type K\n"
     ]
    },
    {
     "name": "stderr",
     "output_type": "stream",
     "text": [
      "110it [00:09, 12.32it/s]"
     ]
    },
    {
     "name": "stdout",
     "output_type": "stream",
     "text": [
      "mouse chain type K, human chain type K\n",
      "mouse chain type K, human chain type K\n",
      "mouse chain type K, human chain type K\n"
     ]
    },
    {
     "name": "stderr",
     "output_type": "stream",
     "text": [
      "112it [00:09, 11.48it/s]"
     ]
    },
    {
     "name": "stdout",
     "output_type": "stream",
     "text": [
      "mouse chain type K, human chain type K\n",
      "mouse chain type K, human chain type K\n",
      "mouse chain type L, human chain type L\n"
     ]
    },
    {
     "name": "stderr",
     "output_type": "stream",
     "text": [
      "116it [00:09, 11.43it/s]"
     ]
    },
    {
     "name": "stdout",
     "output_type": "stream",
     "text": [
      "mouse chain type K, human chain type K\n",
      "mouse chain type K, human chain type K\n",
      "mouse chain type K, human chain type K\n"
     ]
    },
    {
     "name": "stderr",
     "output_type": "stream",
     "text": [
      "118it [00:09, 11.55it/s]"
     ]
    },
    {
     "name": "stdout",
     "output_type": "stream",
     "text": [
      "mouse chain type K, human chain type K\n",
      "mouse chain type K, human chain type K\n",
      "mouse chain type K, human chain type K\n"
     ]
    },
    {
     "name": "stderr",
     "output_type": "stream",
     "text": [
      "122it [00:10, 11.86it/s]"
     ]
    },
    {
     "name": "stdout",
     "output_type": "stream",
     "text": [
      "mouse chain type K, human chain type K\n",
      "mouse chain type K, human chain type K\n",
      "mouse chain type K, human chain type K\n"
     ]
    },
    {
     "name": "stderr",
     "output_type": "stream",
     "text": [
      "124it [00:10, 11.85it/s]"
     ]
    },
    {
     "name": "stdout",
     "output_type": "stream",
     "text": [
      "mouse chain type K, human chain type K\n",
      "mouse chain type K, human chain type K\n",
      "mouse chain type K, human chain type K\n"
     ]
    },
    {
     "name": "stderr",
     "output_type": "stream",
     "text": [
      "128it [00:10, 12.07it/s]"
     ]
    },
    {
     "name": "stdout",
     "output_type": "stream",
     "text": [
      "mouse chain type K, human chain type K\n",
      "mouse chain type K, human chain type K\n",
      "mouse chain type K, human chain type K\n"
     ]
    },
    {
     "name": "stderr",
     "output_type": "stream",
     "text": [
      "130it [00:10, 12.40it/s]"
     ]
    },
    {
     "name": "stdout",
     "output_type": "stream",
     "text": [
      "mouse chain type K, human chain type K\n",
      "mouse chain type K, human chain type K\n",
      "mouse chain type K, human chain type K\n"
     ]
    },
    {
     "name": "stderr",
     "output_type": "stream",
     "text": [
      "134it [00:11, 12.19it/s]"
     ]
    },
    {
     "name": "stdout",
     "output_type": "stream",
     "text": [
      "mouse chain type K, human chain type K\n",
      "mouse chain type K, human chain type K\n",
      "mouse chain type K, human chain type K\n"
     ]
    },
    {
     "name": "stderr",
     "output_type": "stream",
     "text": [
      "136it [00:11, 12.20it/s]"
     ]
    },
    {
     "name": "stdout",
     "output_type": "stream",
     "text": [
      "mouse chain type K, human chain type K\n",
      "mouse chain type K, human chain type K\n",
      "mouse chain type K, human chain type K\n"
     ]
    },
    {
     "name": "stderr",
     "output_type": "stream",
     "text": [
      "140it [00:11, 12.44it/s]"
     ]
    },
    {
     "name": "stdout",
     "output_type": "stream",
     "text": [
      "mouse chain type K, human chain type K\n",
      "mouse chain type K, human chain type K\n",
      "mouse chain type K, human chain type K\n"
     ]
    },
    {
     "name": "stderr",
     "output_type": "stream",
     "text": [
      "142it [00:11, 12.40it/s]"
     ]
    },
    {
     "name": "stdout",
     "output_type": "stream",
     "text": [
      "mouse chain type K, human chain type K\n",
      "mouse chain type K, human chain type K\n",
      "mouse chain type K, human chain type K\n"
     ]
    },
    {
     "name": "stderr",
     "output_type": "stream",
     "text": [
      "146it [00:12, 12.40it/s]"
     ]
    },
    {
     "name": "stdout",
     "output_type": "stream",
     "text": [
      "mouse chain type K, human chain type K\n",
      "mouse chain type K, human chain type K\n",
      "mouse chain type K, human chain type K\n"
     ]
    },
    {
     "name": "stderr",
     "output_type": "stream",
     "text": [
      "148it [00:12, 12.39it/s]"
     ]
    },
    {
     "name": "stdout",
     "output_type": "stream",
     "text": [
      "mouse chain type K, human chain type K\n",
      "mouse chain type K, human chain type K\n",
      "mouse chain type K, human chain type K\n"
     ]
    },
    {
     "name": "stderr",
     "output_type": "stream",
     "text": [
      "152it [00:12, 12.05it/s]"
     ]
    },
    {
     "name": "stdout",
     "output_type": "stream",
     "text": [
      "mouse chain type K, human chain type K\n",
      "mouse chain type K, human chain type K\n",
      "mouse chain type K, human chain type K\n"
     ]
    },
    {
     "name": "stderr",
     "output_type": "stream",
     "text": [
      "154it [00:12, 12.26it/s]"
     ]
    },
    {
     "name": "stdout",
     "output_type": "stream",
     "text": [
      "mouse chain type K, human chain type K\n",
      "mouse chain type K, human chain type K\n",
      "mouse chain type K, human chain type K\n"
     ]
    },
    {
     "name": "stderr",
     "output_type": "stream",
     "text": [
      "158it [00:13, 12.04it/s]"
     ]
    },
    {
     "name": "stdout",
     "output_type": "stream",
     "text": [
      "mouse chain type K, human chain type K\n",
      "mouse chain type K, human chain type K\n",
      "mouse chain type K, human chain type K\n"
     ]
    },
    {
     "name": "stderr",
     "output_type": "stream",
     "text": [
      "160it [00:13, 12.00it/s]"
     ]
    },
    {
     "name": "stdout",
     "output_type": "stream",
     "text": [
      "mouse chain type K, human chain type K\n",
      "mouse chain type K, human chain type K\n",
      "mouse chain type K, human chain type K\n"
     ]
    },
    {
     "name": "stderr",
     "output_type": "stream",
     "text": [
      "164it [00:13, 11.83it/s]"
     ]
    },
    {
     "name": "stdout",
     "output_type": "stream",
     "text": [
      "mouse chain type K, human chain type K\n",
      "mouse chain type K, human chain type K\n",
      "mouse chain type K, human chain type K\n"
     ]
    },
    {
     "name": "stderr",
     "output_type": "stream",
     "text": [
      "166it [00:13, 11.81it/s]"
     ]
    },
    {
     "name": "stdout",
     "output_type": "stream",
     "text": [
      "mouse chain type K, human chain type K\n",
      "mouse chain type K, human chain type K\n",
      "mouse chain type K, human chain type K\n"
     ]
    },
    {
     "name": "stderr",
     "output_type": "stream",
     "text": [
      "170it [00:14, 12.22it/s]"
     ]
    },
    {
     "name": "stdout",
     "output_type": "stream",
     "text": [
      "mouse chain type K, human chain type K\n",
      "mouse chain type K, human chain type K\n",
      "mouse chain type K, human chain type K\n"
     ]
    },
    {
     "name": "stderr",
     "output_type": "stream",
     "text": [
      "172it [00:14, 12.19it/s]"
     ]
    },
    {
     "name": "stdout",
     "output_type": "stream",
     "text": [
      "mouse chain type K, human chain type K\n",
      "mouse chain type K, human chain type K\n",
      "mouse chain type K, human chain type K\n"
     ]
    },
    {
     "name": "stderr",
     "output_type": "stream",
     "text": [
      "176it [00:14, 12.14it/s]"
     ]
    },
    {
     "name": "stdout",
     "output_type": "stream",
     "text": [
      "mouse chain type K, human chain type K\n",
      "mouse chain type K, human chain type K\n",
      "mouse chain type K, human chain type K\n"
     ]
    },
    {
     "name": "stderr",
     "output_type": "stream",
     "text": [
      "178it [00:14, 12.24it/s]"
     ]
    },
    {
     "name": "stdout",
     "output_type": "stream",
     "text": [
      "mouse chain type K, human chain type K\n",
      "mouse chain type K, human chain type K\n",
      "mouse chain type K, human chain type K\n"
     ]
    },
    {
     "name": "stderr",
     "output_type": "stream",
     "text": [
      "182it [00:15, 12.66it/s]"
     ]
    },
    {
     "name": "stdout",
     "output_type": "stream",
     "text": [
      "mouse chain type K, human chain type K\n",
      "mouse chain type K, human chain type K\n",
      "mouse chain type K, human chain type K\n"
     ]
    },
    {
     "name": "stderr",
     "output_type": "stream",
     "text": [
      "184it [00:15, 12.66it/s]"
     ]
    },
    {
     "name": "stdout",
     "output_type": "stream",
     "text": [
      "mouse chain type K, human chain type K\n",
      "mouse chain type K, human chain type K\n",
      "mouse chain type K, human chain type K\n"
     ]
    },
    {
     "name": "stderr",
     "output_type": "stream",
     "text": [
      "188it [00:15, 12.49it/s]"
     ]
    },
    {
     "name": "stdout",
     "output_type": "stream",
     "text": [
      "mouse chain type K, human chain type K\n",
      "mouse chain type K, human chain type K\n",
      "mouse chain type K, human chain type K\n"
     ]
    },
    {
     "name": "stderr",
     "output_type": "stream",
     "text": [
      "190it [00:15, 12.31it/s]"
     ]
    },
    {
     "name": "stdout",
     "output_type": "stream",
     "text": [
      "mouse chain type K, human chain type K\n",
      "mouse chain type K, human chain type K\n",
      "mouse chain type K, human chain type K\n"
     ]
    },
    {
     "name": "stderr",
     "output_type": "stream",
     "text": [
      "194it [00:16, 12.28it/s]"
     ]
    },
    {
     "name": "stdout",
     "output_type": "stream",
     "text": [
      "mouse chain type K, human chain type K\n",
      "mouse chain type K, human chain type K\n",
      "mouse chain type K, human chain type K\n"
     ]
    },
    {
     "name": "stderr",
     "output_type": "stream",
     "text": [
      "196it [00:16, 12.44it/s]"
     ]
    },
    {
     "name": "stdout",
     "output_type": "stream",
     "text": [
      "mouse chain type K, human chain type K\n",
      "mouse chain type K, human chain type K\n",
      "mouse chain type K, human chain type K\n"
     ]
    },
    {
     "name": "stderr",
     "output_type": "stream",
     "text": [
      "200it [00:16, 12.61it/s]"
     ]
    },
    {
     "name": "stdout",
     "output_type": "stream",
     "text": [
      "mouse chain type K, human chain type K\n",
      "mouse chain type K, human chain type K\n",
      "mouse chain type K, human chain type K\n"
     ]
    },
    {
     "name": "stderr",
     "output_type": "stream",
     "text": [
      "202it [00:16, 12.43it/s]"
     ]
    },
    {
     "name": "stdout",
     "output_type": "stream",
     "text": [
      "mouse chain type K, human chain type K\n",
      "mouse chain type K, human chain type K\n",
      "mouse chain type K, human chain type K\n"
     ]
    },
    {
     "name": "stderr",
     "output_type": "stream",
     "text": [
      "206it [00:17, 12.21it/s]"
     ]
    },
    {
     "name": "stdout",
     "output_type": "stream",
     "text": [
      "mouse chain type K, human chain type K\n",
      "mouse chain type K, human chain type K\n",
      "mouse chain type K, human chain type K\n"
     ]
    },
    {
     "name": "stderr",
     "output_type": "stream",
     "text": [
      "208it [00:17, 12.16it/s]"
     ]
    },
    {
     "name": "stdout",
     "output_type": "stream",
     "text": [
      "mouse chain type K, human chain type K\n",
      "mouse chain type K, human chain type K\n",
      "mouse chain type K, human chain type K\n"
     ]
    },
    {
     "name": "stderr",
     "output_type": "stream",
     "text": [
      "212it [00:17, 12.15it/s]"
     ]
    },
    {
     "name": "stdout",
     "output_type": "stream",
     "text": [
      "mouse chain type K, human chain type K\n",
      "mouse chain type K, human chain type K\n",
      "mouse chain type K, human chain type K\n"
     ]
    },
    {
     "name": "stderr",
     "output_type": "stream",
     "text": [
      "214it [00:17, 12.29it/s]"
     ]
    },
    {
     "name": "stdout",
     "output_type": "stream",
     "text": [
      "mouse chain type K, human chain type K\n",
      "mouse chain type K, human chain type K\n",
      "mouse chain type K, human chain type K\n"
     ]
    },
    {
     "name": "stderr",
     "output_type": "stream",
     "text": [
      "218it [00:17, 12.19it/s]"
     ]
    },
    {
     "name": "stdout",
     "output_type": "stream",
     "text": [
      "mouse chain type K, human chain type K\n",
      "mouse chain type K, human chain type K\n",
      "mouse chain type K, human chain type K\n"
     ]
    },
    {
     "name": "stderr",
     "output_type": "stream",
     "text": [
      "220it [00:18, 12.12it/s]"
     ]
    },
    {
     "name": "stdout",
     "output_type": "stream",
     "text": [
      "mouse chain type K, human chain type K\n",
      "mouse chain type K, human chain type K\n",
      "mouse chain type K, human chain type K\n"
     ]
    },
    {
     "name": "stderr",
     "output_type": "stream",
     "text": [
      "224it [00:18, 12.01it/s]"
     ]
    },
    {
     "name": "stdout",
     "output_type": "stream",
     "text": [
      "mouse chain type K, human chain type K\n",
      "mouse chain type K, human chain type K\n",
      "mouse chain type K, human chain type K\n"
     ]
    },
    {
     "name": "stderr",
     "output_type": "stream",
     "text": [
      "226it [00:18, 11.98it/s]"
     ]
    },
    {
     "name": "stdout",
     "output_type": "stream",
     "text": [
      "mouse chain type K, human chain type K\n",
      "mouse chain type K, human chain type K\n",
      "mouse chain type K, human chain type K\n"
     ]
    },
    {
     "name": "stderr",
     "output_type": "stream",
     "text": [
      "230it [00:18, 12.01it/s]"
     ]
    },
    {
     "name": "stdout",
     "output_type": "stream",
     "text": [
      "mouse chain type K, human chain type K\n",
      "mouse chain type K, human chain type K\n",
      "mouse chain type K, human chain type K\n"
     ]
    },
    {
     "name": "stderr",
     "output_type": "stream",
     "text": [
      "232it [00:19, 12.17it/s]"
     ]
    },
    {
     "name": "stdout",
     "output_type": "stream",
     "text": [
      "mouse chain type K, human chain type K\n",
      "mouse chain type K, human chain type K\n",
      "mouse chain type K, human chain type K\n"
     ]
    },
    {
     "name": "stderr",
     "output_type": "stream",
     "text": [
      "236it [00:19, 12.40it/s]"
     ]
    },
    {
     "name": "stdout",
     "output_type": "stream",
     "text": [
      "mouse chain type K, human chain type K\n",
      "mouse chain type K, human chain type K\n",
      "mouse chain type K, human chain type K\n"
     ]
    },
    {
     "name": "stderr",
     "output_type": "stream",
     "text": [
      "238it [00:19, 12.03it/s]"
     ]
    },
    {
     "name": "stdout",
     "output_type": "stream",
     "text": [
      "mouse chain type K, human chain type K\n",
      "mouse chain type K, human chain type K\n",
      "mouse chain type K, human chain type K\n"
     ]
    },
    {
     "name": "stderr",
     "output_type": "stream",
     "text": [
      "242it [00:19, 12.31it/s]"
     ]
    },
    {
     "name": "stdout",
     "output_type": "stream",
     "text": [
      "mouse chain type K, human chain type K\n",
      "mouse chain type K, human chain type K\n",
      "mouse chain type K, human chain type K\n"
     ]
    },
    {
     "name": "stderr",
     "output_type": "stream",
     "text": [
      "244it [00:20, 12.12it/s]"
     ]
    },
    {
     "name": "stdout",
     "output_type": "stream",
     "text": [
      "mouse chain type K, human chain type K\n",
      "mouse chain type K, human chain type K\n",
      "mouse chain type K, human chain type K\n"
     ]
    },
    {
     "name": "stderr",
     "output_type": "stream",
     "text": [
      "248it [00:20, 11.80it/s]"
     ]
    },
    {
     "name": "stdout",
     "output_type": "stream",
     "text": [
      "mouse chain type K, human chain type K\n",
      "mouse chain type K, human chain type K\n",
      "mouse chain type K, human chain type K\n"
     ]
    },
    {
     "name": "stderr",
     "output_type": "stream",
     "text": [
      "250it [00:20, 11.76it/s]"
     ]
    },
    {
     "name": "stdout",
     "output_type": "stream",
     "text": [
      "mouse chain type K, human chain type K\n",
      "mouse chain type K, human chain type K\n",
      "mouse chain type K, human chain type K\n"
     ]
    },
    {
     "name": "stderr",
     "output_type": "stream",
     "text": [
      "254it [00:20, 11.99it/s]"
     ]
    },
    {
     "name": "stdout",
     "output_type": "stream",
     "text": [
      "mouse chain type K, human chain type K\n",
      "mouse chain type K, human chain type K\n",
      "mouse chain type K, human chain type K\n"
     ]
    },
    {
     "name": "stderr",
     "output_type": "stream",
     "text": [
      "256it [00:21, 11.96it/s]"
     ]
    },
    {
     "name": "stdout",
     "output_type": "stream",
     "text": [
      "mouse chain type K, human chain type K\n",
      "mouse chain type K, human chain type K\n",
      "mouse chain type K, human chain type K\n"
     ]
    },
    {
     "name": "stderr",
     "output_type": "stream",
     "text": [
      "260it [00:21, 12.03it/s]"
     ]
    },
    {
     "name": "stdout",
     "output_type": "stream",
     "text": [
      "mouse chain type K, human chain type K\n",
      "mouse chain type K, human chain type K\n",
      "mouse chain type K, human chain type K\n"
     ]
    },
    {
     "name": "stderr",
     "output_type": "stream",
     "text": [
      "262it [00:21, 12.23it/s]"
     ]
    },
    {
     "name": "stdout",
     "output_type": "stream",
     "text": [
      "mouse chain type K, human chain type K\n",
      "mouse chain type K, human chain type K\n",
      "mouse chain type K, human chain type K\n"
     ]
    },
    {
     "name": "stderr",
     "output_type": "stream",
     "text": [
      "266it [00:21, 12.55it/s]"
     ]
    },
    {
     "name": "stdout",
     "output_type": "stream",
     "text": [
      "mouse chain type K, human chain type K\n",
      "mouse chain type K, human chain type K\n",
      "mouse chain type K, human chain type K\n"
     ]
    },
    {
     "name": "stderr",
     "output_type": "stream",
     "text": [
      "268it [00:22, 12.53it/s]"
     ]
    },
    {
     "name": "stdout",
     "output_type": "stream",
     "text": [
      "mouse chain type K, human chain type K\n",
      "mouse chain type K, human chain type K\n",
      "mouse chain type K, human chain type K\n"
     ]
    },
    {
     "name": "stderr",
     "output_type": "stream",
     "text": [
      "272it [00:22, 12.37it/s]"
     ]
    },
    {
     "name": "stdout",
     "output_type": "stream",
     "text": [
      "mouse chain type K, human chain type K\n",
      "mouse chain type K, human chain type K\n",
      "mouse chain type K, human chain type K\n"
     ]
    },
    {
     "name": "stderr",
     "output_type": "stream",
     "text": [
      "274it [00:22, 12.07it/s]"
     ]
    },
    {
     "name": "stdout",
     "output_type": "stream",
     "text": [
      "mouse chain type K, human chain type K\n",
      "mouse chain type L, human chain type L\n",
      "mouse chain type K, human chain type K\n"
     ]
    },
    {
     "name": "stderr",
     "output_type": "stream",
     "text": [
      "278it [00:22, 13.17it/s]"
     ]
    },
    {
     "name": "stdout",
     "output_type": "stream",
     "text": [
      "mouse chain type K, human chain type K\n",
      "mouse chain type K, human chain type K\n",
      "mouse chain type L, human chain type L\n"
     ]
    },
    {
     "name": "stderr",
     "output_type": "stream",
     "text": [
      "280it [00:23, 12.62it/s]"
     ]
    },
    {
     "name": "stdout",
     "output_type": "stream",
     "text": [
      "mouse chain type K, human chain type K\n",
      "mouse chain type K, human chain type K\n",
      "mouse chain type K, human chain type K\n"
     ]
    },
    {
     "name": "stderr",
     "output_type": "stream",
     "text": [
      "284it [00:23, 12.37it/s]"
     ]
    },
    {
     "name": "stdout",
     "output_type": "stream",
     "text": [
      "mouse chain type K, human chain type K\n",
      "mouse chain type K, human chain type K\n",
      "mouse chain type K, human chain type K\n"
     ]
    },
    {
     "name": "stderr",
     "output_type": "stream",
     "text": [
      "286it [00:23, 12.30it/s]"
     ]
    },
    {
     "name": "stdout",
     "output_type": "stream",
     "text": [
      "mouse chain type K, human chain type K\n",
      "mouse chain type K, human chain type K\n",
      "mouse chain type L, human chain type L\n"
     ]
    },
    {
     "name": "stderr",
     "output_type": "stream",
     "text": [
      "290it [00:23, 11.77it/s]"
     ]
    },
    {
     "name": "stdout",
     "output_type": "stream",
     "text": [
      "mouse chain type K, human chain type K\n",
      "mouse chain type K, human chain type K\n",
      "mouse chain type K, human chain type K\n"
     ]
    },
    {
     "name": "stderr",
     "output_type": "stream",
     "text": [
      "292it [00:24, 11.58it/s]"
     ]
    },
    {
     "name": "stdout",
     "output_type": "stream",
     "text": [
      "mouse chain type K, human chain type K\n",
      "mouse chain type L, human chain type L\n",
      "mouse chain type K, human chain type K\n"
     ]
    },
    {
     "name": "stderr",
     "output_type": "stream",
     "text": [
      "296it [00:24, 11.86it/s]"
     ]
    },
    {
     "name": "stdout",
     "output_type": "stream",
     "text": [
      "mouse chain type K, human chain type K\n",
      "mouse chain type K, human chain type K\n",
      "mouse chain type K, human chain type K\n"
     ]
    },
    {
     "name": "stderr",
     "output_type": "stream",
     "text": [
      "298it [00:24, 12.07it/s]"
     ]
    },
    {
     "name": "stdout",
     "output_type": "stream",
     "text": [
      "mouse chain type K, human chain type K\n",
      "mouse chain type K, human chain type K\n",
      "mouse chain type K, human chain type K\n"
     ]
    },
    {
     "name": "stderr",
     "output_type": "stream",
     "text": [
      "302it [00:24, 12.66it/s]"
     ]
    },
    {
     "name": "stdout",
     "output_type": "stream",
     "text": [
      "mouse chain type K, human chain type K\n",
      "mouse chain type K, human chain type K\n",
      "mouse chain type K, human chain type K\n"
     ]
    },
    {
     "name": "stderr",
     "output_type": "stream",
     "text": [
      "304it [00:25, 12.69it/s]"
     ]
    },
    {
     "name": "stdout",
     "output_type": "stream",
     "text": [
      "mouse chain type K, human chain type K\n",
      "mouse chain type K, human chain type K\n",
      "mouse chain type K, human chain type K\n"
     ]
    },
    {
     "name": "stderr",
     "output_type": "stream",
     "text": [
      "308it [00:25, 12.40it/s]"
     ]
    },
    {
     "name": "stdout",
     "output_type": "stream",
     "text": [
      "mouse chain type K, human chain type K\n",
      "mouse chain type K, human chain type K\n",
      "mouse chain type K, human chain type K\n"
     ]
    },
    {
     "name": "stderr",
     "output_type": "stream",
     "text": [
      "310it [00:25, 12.09it/s]"
     ]
    },
    {
     "name": "stdout",
     "output_type": "stream",
     "text": [
      "mouse chain type K, human chain type K\n",
      "mouse chain type K, human chain type K\n",
      "mouse chain type K, human chain type K\n"
     ]
    },
    {
     "name": "stderr",
     "output_type": "stream",
     "text": [
      "314it [00:25, 12.17it/s]"
     ]
    },
    {
     "name": "stdout",
     "output_type": "stream",
     "text": [
      "mouse chain type K, human chain type K\n",
      "mouse chain type K, human chain type K\n",
      "mouse chain type K, human chain type K\n"
     ]
    },
    {
     "name": "stderr",
     "output_type": "stream",
     "text": [
      "316it [00:26, 12.16it/s]"
     ]
    },
    {
     "name": "stdout",
     "output_type": "stream",
     "text": [
      "mouse chain type K, human chain type K\n",
      "mouse chain type K, human chain type K\n",
      "mouse chain type K, human chain type K\n"
     ]
    },
    {
     "name": "stderr",
     "output_type": "stream",
     "text": [
      "320it [00:26, 12.58it/s]"
     ]
    },
    {
     "name": "stdout",
     "output_type": "stream",
     "text": [
      "mouse chain type K, human chain type K\n",
      "mouse chain type K, human chain type K\n",
      "mouse chain type K, human chain type K\n"
     ]
    },
    {
     "name": "stderr",
     "output_type": "stream",
     "text": [
      "322it [00:26, 12.34it/s]"
     ]
    },
    {
     "name": "stdout",
     "output_type": "stream",
     "text": [
      "mouse chain type K, human chain type K\n",
      "mouse chain type K, human chain type K\n",
      "mouse chain type K, human chain type K\n"
     ]
    },
    {
     "name": "stderr",
     "output_type": "stream",
     "text": [
      "326it [00:26, 12.41it/s]"
     ]
    },
    {
     "name": "stdout",
     "output_type": "stream",
     "text": [
      "mouse chain type K, human chain type K\n",
      "mouse chain type K, human chain type K\n",
      "mouse chain type K, human chain type K\n"
     ]
    },
    {
     "name": "stderr",
     "output_type": "stream",
     "text": [
      "328it [00:27, 12.02it/s]"
     ]
    },
    {
     "name": "stdout",
     "output_type": "stream",
     "text": [
      "mouse chain type K, human chain type K\n",
      "mouse chain type K, human chain type K\n",
      "mouse chain type K, human chain type K\n"
     ]
    },
    {
     "name": "stderr",
     "output_type": "stream",
     "text": [
      "332it [00:27, 11.87it/s]"
     ]
    },
    {
     "name": "stdout",
     "output_type": "stream",
     "text": [
      "mouse chain type K, human chain type K\n",
      "mouse chain type K, human chain type K\n",
      "mouse chain type K, human chain type K\n"
     ]
    },
    {
     "name": "stderr",
     "output_type": "stream",
     "text": [
      "334it [00:27, 11.93it/s]"
     ]
    },
    {
     "name": "stdout",
     "output_type": "stream",
     "text": [
      "mouse chain type K, human chain type K\n",
      "mouse chain type K, human chain type K\n",
      "mouse chain type K, human chain type K\n"
     ]
    },
    {
     "name": "stderr",
     "output_type": "stream",
     "text": [
      "338it [00:27, 11.99it/s]"
     ]
    },
    {
     "name": "stdout",
     "output_type": "stream",
     "text": [
      "mouse chain type K, human chain type K\n",
      "mouse chain type K, human chain type K\n",
      "mouse chain type K, human chain type K\n"
     ]
    },
    {
     "name": "stderr",
     "output_type": "stream",
     "text": [
      "340it [00:28, 12.31it/s]"
     ]
    },
    {
     "name": "stdout",
     "output_type": "stream",
     "text": [
      "mouse chain type K, human chain type K\n",
      "mouse chain type K, human chain type K\n",
      "mouse chain type K, human chain type K\n"
     ]
    },
    {
     "name": "stderr",
     "output_type": "stream",
     "text": [
      "344it [00:28, 12.15it/s]"
     ]
    },
    {
     "name": "stdout",
     "output_type": "stream",
     "text": [
      "mouse chain type L, human chain type L\n",
      "mouse chain type K, human chain type K\n",
      "mouse chain type K, human chain type K\n"
     ]
    },
    {
     "name": "stderr",
     "output_type": "stream",
     "text": [
      "346it [00:28, 12.28it/s]"
     ]
    },
    {
     "name": "stdout",
     "output_type": "stream",
     "text": [
      "mouse chain type K, human chain type K\n",
      "mouse chain type K, human chain type K\n",
      "mouse chain type K, human chain type K\n"
     ]
    },
    {
     "name": "stderr",
     "output_type": "stream",
     "text": [
      "349it [00:28, 12.14it/s]"
     ]
    },
    {
     "name": "stdout",
     "output_type": "stream",
     "text": [
      "mouse chain type K, human chain type K\n",
      "mouse chain type L, human chain type L\n"
     ]
    },
    {
     "name": "stderr",
     "output_type": "stream",
     "text": [
      "\n"
     ]
    }
   ],
   "source": [
    "no_equal_count = 0\n",
    "equal_count = 0\n",
    "type_k = 0\n",
    "type_l = 0\n",
    "for m_l, h_l in tqdm(zip(new_mouse_df['l_seq'], new_human_df['l_seq'])):\n",
    "    # m_rest = number(m_l, scheme='imgt')[1]\n",
    "    # h_rest = number(h_l, scheme='imgt')[1]\n",
    "    m_chain_type = Chain(m_l, scheme='imgt').chain_type\n",
    "    h_chain_type = Chain(h_l, scheme='imgt').chain_type\n",
    "    print(f'mouse chain type {m_chain_type}, human chain type {h_chain_type}')\n",
    "    if m_chain_type == h_chain_type:\n",
    "        equal_count += 1\n",
    "        if m_chain_type == 'K':\n",
    "            type_k += 1\n",
    "        if m_chain_type == 'L':\n",
    "            type_l += 1\n",
    "    else:\n",
    "        no_equal_count += 1"
   ]
  },
  {
   "cell_type": "code",
   "execution_count": 180,
   "id": "bdbb51d2-938c-4996-9c4a-c28317aa4c0a",
   "metadata": {},
   "outputs": [],
   "source": [
    "test_seq_mouse = new_mouse_df['h_seq'][0]"
   ]
  },
  {
   "cell_type": "code",
   "execution_count": 181,
   "id": "0c3b5db3-5b8f-4ec5-9d57-c7d59f32ff15",
   "metadata": {},
   "outputs": [
    {
     "data": {
      "text/plain": [
       "'EVKLEESGGGLVQPGGSMKLSCVASGFTFSNFWMDWVRQSPEKGLEWIAGIRLKSYNYATHYAESVKGRFTISRDDSKSSVYLQMNNLRAEDTGIYYCTDWDGAYWGQGTLVTVSA'"
      ]
     },
     "execution_count": 181,
     "metadata": {},
     "output_type": "execute_result"
    }
   ],
   "source": [
    "test_seq_mouse"
   ]
  },
  {
   "cell_type": "code",
   "execution_count": 182,
   "id": "e5c4f141-8652-4699-bbf1-4fdaae32ee9e",
   "metadata": {},
   "outputs": [],
   "source": [
    "results = number(test_seq_mouse, scheme='imgt')"
   ]
  },
  {
   "cell_type": "code",
   "execution_count": 185,
   "id": "bb17a95c-5611-4b2f-b049-3656d8abe571",
   "metadata": {},
   "outputs": [
    {
     "name": "stdout",
     "output_type": "stream",
     "text": [
      "1 \n",
      "E\n",
      "2 \n",
      "V\n",
      "3 \n",
      "K\n",
      "4 \n",
      "L\n",
      "5 \n",
      "E\n",
      "6 \n",
      "E\n",
      "7 \n",
      "S\n",
      "8 \n",
      "G\n",
      "9 \n",
      "G\n",
      "10 \n",
      "-\n",
      "11 \n",
      "G\n",
      "12 \n",
      "L\n",
      "13 \n",
      "V\n",
      "14 \n",
      "Q\n",
      "15 \n",
      "P\n",
      "16 \n",
      "G\n",
      "17 \n",
      "G\n",
      "18 \n",
      "S\n",
      "19 \n",
      "M\n",
      "20 \n",
      "K\n",
      "21 \n",
      "L\n",
      "22 \n",
      "S\n",
      "23 \n",
      "C\n",
      "24 \n",
      "V\n",
      "25 \n",
      "A\n",
      "26 \n",
      "S\n",
      "27 \n",
      "G\n",
      "28 \n",
      "F\n",
      "29 \n",
      "T\n",
      "30 \n",
      "F\n",
      "31 \n",
      "-\n",
      "32 \n",
      "-\n",
      "33 \n",
      "-\n",
      "34 \n",
      "-\n",
      "35 \n",
      "S\n",
      "36 \n",
      "N\n",
      "37 \n",
      "F\n",
      "38 \n",
      "W\n",
      "39 \n",
      "M\n",
      "40 \n",
      "D\n",
      "41 \n",
      "W\n",
      "42 \n",
      "V\n",
      "43 \n",
      "R\n",
      "44 \n",
      "Q\n",
      "45 \n",
      "S\n",
      "46 \n",
      "P\n",
      "47 \n",
      "E\n",
      "48 \n",
      "K\n",
      "49 \n",
      "G\n",
      "50 \n",
      "L\n",
      "51 \n",
      "E\n",
      "52 \n",
      "W\n",
      "53 \n",
      "I\n",
      "54 \n",
      "A\n",
      "55 \n",
      "G\n",
      "56 \n",
      "I\n",
      "57 \n",
      "R\n",
      "58 \n",
      "L\n",
      "59 \n",
      "K\n",
      "60 \n",
      "S\n",
      "61 \n",
      "Y\n",
      "62 \n",
      "N\n",
      "63 \n",
      "Y\n",
      "64 \n",
      "A\n",
      "65 \n",
      "T\n",
      "66 \n",
      "H\n",
      "67 \n",
      "Y\n",
      "68 \n",
      "A\n",
      "69 \n",
      "E\n",
      "70 \n",
      "S\n",
      "71 \n",
      "V\n",
      "72 \n",
      "K\n",
      "73 \n",
      "-\n",
      "74 \n",
      "G\n",
      "75 \n",
      "R\n",
      "76 \n",
      "F\n",
      "77 \n",
      "T\n",
      "78 \n",
      "I\n",
      "79 \n",
      "S\n",
      "80 \n",
      "R\n",
      "81 \n",
      "D\n",
      "82 \n",
      "D\n",
      "83 \n",
      "S\n",
      "84 \n",
      "K\n",
      "85 \n",
      "S\n",
      "86 \n",
      "S\n",
      "87 \n",
      "V\n",
      "88 \n",
      "Y\n",
      "89 \n",
      "L\n",
      "90 \n",
      "Q\n",
      "91 \n",
      "M\n",
      "92 \n",
      "N\n",
      "93 \n",
      "N\n",
      "94 \n",
      "L\n",
      "95 \n",
      "R\n",
      "96 \n",
      "A\n",
      "97 \n",
      "E\n",
      "98 \n",
      "D\n",
      "99 \n",
      "T\n",
      "100 \n",
      "G\n",
      "101 \n",
      "I\n",
      "102 \n",
      "Y\n",
      "103 \n",
      "Y\n",
      "104 \n",
      "C\n",
      "105 \n",
      "T\n",
      "106 \n",
      "D\n",
      "107 \n",
      "W\n",
      "108 \n",
      "D\n",
      "109 \n",
      "-\n",
      "110 \n",
      "-\n",
      "111 \n",
      "-\n",
      "112 \n",
      "-\n",
      "113 \n",
      "-\n",
      "114 \n",
      "-\n",
      "115 \n",
      "G\n",
      "116 \n",
      "A\n",
      "117 \n",
      "Y\n",
      "118 \n",
      "W\n",
      "119 \n",
      "G\n",
      "120 \n",
      "Q\n",
      "121 \n",
      "G\n",
      "122 \n",
      "T\n",
      "123 \n",
      "L\n",
      "124 \n",
      "V\n",
      "125 \n",
      "T\n",
      "126 \n",
      "V\n",
      "127 \n",
      "S\n",
      "128 \n",
      "A\n"
     ]
    }
   ],
   "source": [
    "for key, value in results[0]:\n",
    "    str_key = str(key[0]) + key[1]\n",
    "    print(str_key)\n",
    "    print(value)"
   ]
  },
  {
   "cell_type": "code",
   "execution_count": 179,
   "id": "23c26d05-104e-4b96-a939-fd3870e251b6",
   "metadata": {},
   "outputs": [
    {
     "data": {
      "text/plain": [
       "7"
      ]
     },
     "execution_count": 179,
     "metadata": {},
     "output_type": "execute_result"
    }
   ],
   "source": [
    "type_l"
   ]
  },
  {
   "cell_type": "code",
   "execution_count": null,
   "id": "0431a2d4-418f-4ce9-ae41-87b1c9b7da53",
   "metadata": {},
   "outputs": [],
   "source": []
  }
 ],
 "metadata": {
  "kernelspec": {
   "display_name": "Python 3 (ipykernel)",
   "language": "python",
   "name": "python3"
  },
  "language_info": {
   "codemirror_mode": {
    "name": "ipython",
    "version": 3
   },
   "file_extension": ".py",
   "mimetype": "text/x-python",
   "name": "python",
   "nbconvert_exporter": "python",
   "pygments_lexer": "ipython3",
   "version": "3.9.18"
  }
 },
 "nbformat": 4,
 "nbformat_minor": 5
}
