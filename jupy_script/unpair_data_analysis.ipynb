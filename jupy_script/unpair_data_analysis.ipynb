{
 "cells": [
  {
   "cell_type": "code",
   "execution_count": 25,
   "id": "1c62ec4d-8ef2-4d97-91a8-d37ff9555f21",
   "metadata": {},
   "outputs": [],
   "source": [
    "import os\n",
    "import pickle\n",
    "from tqdm import tqdm\n",
    "\n",
    "import torch\n",
    "import random"
   ]
  },
  {
   "cell_type": "code",
   "execution_count": 3,
   "id": "9cd3d47f-9091-4e17-b699-dec6266c6058",
   "metadata": {},
   "outputs": [],
   "source": [
    "# Read the Heavy data.\n",
    "\n",
    "h_fpath = '/data/home/waitma/antibody_proj/antidiff/data/oas_unpair_human_data/heavy_unpair_limit.pkl'\n",
    "\n",
    "with open(h_fpath, 'rb') as f:\n",
    "    h_list = pickle.load(f)\n"
   ]
  },
  {
   "cell_type": "code",
   "execution_count": 8,
   "id": "692fe51c-cff2-46b9-9152-93c4ec1dd1d9",
   "metadata": {},
   "outputs": [
    {
     "name": "stderr",
     "output_type": "stream",
     "text": [
      "100%|████████████████████████████████████████████████████████████████████████████████████████████████████| 5000000/5000000 [00:02<00:00, 2042519.11it/s]\n"
     ]
    }
   ],
   "source": [
    "# Analysis Heavy gene dataditribution.\n",
    "h_gene_dict = {}\n",
    "for line in tqdm(h_list):\n",
    "    gene_type = line[-1]\n",
    "    assert line[-2] == 'H', print('Not heavy chain.')\n",
    "    if gene_type not in h_gene_dict.keys():\n",
    "        h_gene_dict[gene_type] = 1\n",
    "    else:\n",
    "        h_gene_dict[gene_type] += 1\n",
    "\n"
   ]
  },
  {
   "cell_type": "code",
   "execution_count": 20,
   "id": "b6aed257-538e-4c8f-ba33-5edf03f9dddf",
   "metadata": {},
   "outputs": [
    {
     "data": {
      "text/plain": [
       "{'IGHV3': 2229047,\n",
       " 'IGHV4': 1152315,\n",
       " 'IGHV2': 321905,\n",
       " 'IGHV1': 1197310,\n",
       " 'IGHV5': 57239,\n",
       " 'IGHV6': 26141,\n",
       " 'IGHV7': 15981,\n",
       " 'IGHV4/OR15': 23,\n",
       " 'IGHV3/OR16': 23,\n",
       " 'IGHV1/OR15': 16}"
      ]
     },
     "execution_count": 20,
     "metadata": {},
     "output_type": "execute_result"
    }
   ],
   "source": [
    "h_gene_dict"
   ]
  },
  {
   "cell_type": "code",
   "execution_count": 35,
   "id": "4d8c9ac1-78a9-4d88-b1ae-861c654395ea",
   "metadata": {},
   "outputs": [
    {
     "name": "stderr",
     "output_type": "stream",
     "text": [
      "100%|████████████████████████████████████████████████████████████████████████████████████████████████████| 5000000/5000000 [00:01<00:00, 2982919.08it/s]\n"
     ]
    }
   ],
   "source": [
    "# Filter dataset\n",
    "data_save_fpath = '/data/home/waitma/antibody_proj/antidiff/data/oas_unpair_human_data/heavy_unpair_order.pkl'\n",
    "idx_save_fpath = '/data/home/waitma/antibody_proj/antidiff/data/oas_unpair_human_data/heavy_idx.pt'\n",
    "\n",
    "h_gene_dict_idx = {\n",
    "    'IGHV3': [],\n",
    "    'IGHV4': [],\n",
    "    'IGHV2': [],\n",
    "    'IGHV1': [],\n",
    "    'IGHV5': [],\n",
    "    'IGHV6': [],\n",
    "    'IGHV7': [],\n",
    "    'IGHV4/OR15': [],\n",
    "    'IGHV3/OR16': [],\n",
    "    'IGHV1/OR15': [] \n",
    "}\n",
    "for line in tqdm(h_list):\n",
    "    gene_type = line[-1]\n",
    "    h_gene_dict_idx[gene_type].append(line)\n",
    "\n",
    "# Split the idx for train and val.\n",
    "train_h_list = []\n",
    "val_h_list = []\n",
    "split_ratio = 0.9\n",
    "for keys in h_gene_dict_idx.keys():\n",
    "    need_split_line = h_gene_dict_idx[keys]\n",
    "    split = int(len(need_split_line) * split_ratio)\n",
    "    train_line = need_split_line[:split]\n",
    "    val_line = need_split_line[split:]\n",
    "    train_h_list.extend(train_line)\n",
    "    val_h_list.extend(val_line)\n",
    "\n",
    "\n",
    "\n",
    "random.shuffle(train_h_list)\n",
    "random.shuffle(val_h_list)\n",
    "new_h_list = train_h_list + val_h_list\n",
    "assert len(new_h_list) == len((h_list))\n",
    "\n",
    "all_split = int(len(new_h_list) * split_ratio)\n",
    "idx_list = [i for i in range(len(new_h_list))]\n",
    "train_list = idx_list[:all_split]\n",
    "val_list = idx_list[all_split:]\n",
    "assert len(train_list) + len(val_list) == len(new_h_list)\n",
    "idx_dict = {'train': train_list, 'val': val_list}\n",
    "torch.save(idx_dict, idx_save_fpath)\n",
    "\n",
    "with open(data_save_fpath, 'wb') as f:\n",
    "    pickle.dump(new_h_list, f)\n",
    "    f.close()\n",
    "                              "
   ]
  },
  {
   "cell_type": "code",
   "execution_count": 40,
   "id": "6743fbf8-211a-41a6-8806-78753ee957f9",
   "metadata": {},
   "outputs": [
    {
     "data": {
      "text/plain": [
       "4499999"
      ]
     },
     "execution_count": 40,
     "metadata": {},
     "output_type": "execute_result"
    }
   ],
   "source": []
  },
  {
   "cell_type": "code",
   "execution_count": 10,
   "id": "74fa33ea-cb34-4154-911b-f6f721f52d8f",
   "metadata": {},
   "outputs": [],
   "source": [
    "# Read the Light data.\n",
    "l_fpath = '/data/home/waitma/antibody_proj/antidiff/data/oas_unpair_human_data/light_unpair_limit.pkl'\n",
    "\n",
    "with open(l_fpath, 'rb') as f:\n",
    "    l_list = pickle.load(f)\n"
   ]
  },
  {
   "cell_type": "code",
   "execution_count": 12,
   "id": "23079ab5-9dc3-4b8e-97e3-f9050dbd3033",
   "metadata": {},
   "outputs": [],
   "source": [
    "b = 'B'\n",
    "assert b == 'S' or 'B'"
   ]
  },
  {
   "cell_type": "code",
   "execution_count": 15,
   "id": "9f93b184-c48a-41aa-a34c-a9456b461a59",
   "metadata": {},
   "outputs": [
    {
     "name": "stderr",
     "output_type": "stream",
     "text": [
      "100%|████████████████████████████████████████████████████████████████████████████████████████████████████| 5000000/5000000 [00:02<00:00, 2063546.73it/s]\n"
     ]
    }
   ],
   "source": [
    "# Analysis Heavy gene dataditribution.\n",
    "l_gene_dict = {}\n",
    "for line in tqdm(l_list):\n",
    "    gene_type = line[-1]\n",
    "    assert line[-2] == 'K' or 'L', print('Not light chain.')\n",
    "    if gene_type not in l_gene_dict.keys():\n",
    "        l_gene_dict[gene_type] = 1\n",
    "    else:\n",
    "        l_gene_dict[gene_type] += 1"
   ]
  },
  {
   "cell_type": "code",
   "execution_count": 16,
   "id": "94c7da2b-6944-49ba-86de-c4d54acd1870",
   "metadata": {},
   "outputs": [
    {
     "data": {
      "text/plain": [
       "{'IGLV3': 562419,\n",
       " 'IGKV3': 1038205,\n",
       " 'IGKV1': 1020619,\n",
       " 'IGLV2': 872384,\n",
       " 'IGKV3D': 30553,\n",
       " 'IGLV1': 578378,\n",
       " 'IGKV4': 325320,\n",
       " 'IGKV2': 255993,\n",
       " 'IGKV1D': 33532,\n",
       " 'IGKV2D': 21705,\n",
       " 'IGLV7': 58657,\n",
       " 'IGLV4': 55484,\n",
       " 'IGKV6': 5822,\n",
       " 'IGLV5': 23740,\n",
       " 'IGLV8': 28836,\n",
       " 'IGLV6': 48770,\n",
       " 'IGLV9': 7599,\n",
       " 'IGKV5': 3648,\n",
       " 'IGLV10': 26690,\n",
       " 'IGKV6D': 1643,\n",
       " 'IGKV7': 2,\n",
       " 'IGKV1/OR': 1}"
      ]
     },
     "execution_count": 16,
     "metadata": {},
     "output_type": "execute_result"
    }
   ],
   "source": [
    "l_gene_dict"
   ]
  },
  {
   "cell_type": "code",
   "execution_count": 46,
   "id": "251ef73e-6cfe-45d4-b6bd-eab9de031bd1",
   "metadata": {},
   "outputs": [
    {
     "data": {
      "text/plain": [
       "{'IGLV3': [],\n",
       " 'IGKV3': [],\n",
       " 'IGKV1': [],\n",
       " 'IGLV2': [],\n",
       " 'IGKV3D': [],\n",
       " 'IGLV1': [],\n",
       " 'IGKV4': [],\n",
       " 'IGKV2': [],\n",
       " 'IGKV1D': [],\n",
       " 'IGKV2D': [],\n",
       " 'IGLV7': [],\n",
       " 'IGLV4': [],\n",
       " 'IGKV6': [],\n",
       " 'IGLV5': [],\n",
       " 'IGLV8': [],\n",
       " 'IGLV6': [],\n",
       " 'IGLV9': [],\n",
       " 'IGKV5': [],\n",
       " 'IGLV10': [],\n",
       " 'IGKV6D': [],\n",
       " 'IGKV7': [],\n",
       " 'IGKV1/OR': []}"
      ]
     },
     "execution_count": 46,
     "metadata": {},
     "output_type": "execute_result"
    }
   ],
   "source": [
    "# new_dict = {}\n",
    "# for keys in l_gene_dict.keys():\n",
    "#     if keys not in new_dict.keys():\n",
    "#         new_dict[keys] = []\n",
    "# for keys, dict in new_dict.items():\n",
    "#     print(f'{str(keys)}: {dict}')\n",
    "new_dict"
   ]
  },
  {
   "cell_type": "code",
   "execution_count": 47,
   "id": "a755b2e6-128b-4d49-8482-c02a467521ac",
   "metadata": {},
   "outputs": [
    {
     "name": "stderr",
     "output_type": "stream",
     "text": [
      "100%|████████████████████████████████████████████████████████████████████████████████████████████████████| 5000000/5000000 [00:01<00:00, 3065142.34it/s]\n"
     ]
    }
   ],
   "source": [
    "data_save_fpath = '/data/home/waitma/antibody_proj/antidiff/data/oas_unpair_human_data/light_unpair_order.pkl'\n",
    "idx_save_fpath = '/data/home/waitma/antibody_proj/antidiff/data/oas_unpair_human_data/light_idx.pt'\n",
    "\n",
    "l_gene_dict_idx = {\n",
    "    'IGLV3': [],\n",
    "    'IGKV3': [],\n",
    "    'IGKV1': [],\n",
    "    'IGLV2': [],\n",
    "    'IGKV3D': [],\n",
    "    'IGLV1': [],\n",
    "    'IGKV4': [],\n",
    "    'IGKV2': [],\n",
    "    'IGKV1D': [],\n",
    "    'IGKV2D': [],\n",
    "    'IGLV7': [],\n",
    "    'IGLV4': [],\n",
    "    'IGKV6': [],\n",
    "    'IGLV5': [],\n",
    "    'IGLV8': [],\n",
    "    'IGLV6': [],\n",
    "    'IGLV9': [],\n",
    "    'IGKV5': [],\n",
    "    'IGLV10': [],\n",
    "    'IGKV6D': [],\n",
    "    'IGKV7': [],\n",
    "    'IGKV1/OR': []\n",
    "}\n",
    "\n",
    "for line in tqdm(l_list):\n",
    "    gene_type = line[-1]\n",
    "    l_gene_dict_idx[gene_type].append(line)\n",
    "\n",
    "# Split the idx for train and val.\n",
    "train_l_list = []\n",
    "val_l_list = []\n",
    "split_ratio = 0.9\n",
    "for keys in l_gene_dict_idx.keys():\n",
    "    need_split_line = l_gene_dict_idx[keys]\n",
    "    split = int(len(need_split_line) * split_ratio)\n",
    "    train_line = need_split_line[:split]\n",
    "    val_line = need_split_line[split:]\n",
    "    train_l_list.extend(train_line)\n",
    "    val_l_list.extend(val_line)\n",
    "\n",
    "\n",
    "\n",
    "random.shuffle(train_l_list)\n",
    "random.shuffle(val_l_list)\n",
    "new_l_list = train_l_list + val_l_list\n",
    "assert len(new_l_list) == len((l_list))\n",
    "\n",
    "all_split = int(len(new_l_list) * split_ratio)\n",
    "idx_list = [i for i in range(len(new_l_list))]\n",
    "train_list = idx_list[:all_split]\n",
    "val_list = idx_list[all_split:]\n",
    "assert len(train_list) + len(val_list) == len(new_h_list)\n",
    "idx_dict = {'train': train_list, 'val': val_list}\n",
    "torch.save(idx_dict, idx_save_fpath)\n",
    "\n",
    "with open(data_save_fpath, 'wb') as f:\n",
    "    pickle.dump(new_l_list, f)\n",
    "    f.close()\n",
    "               "
   ]
  },
  {
   "cell_type": "code",
   "execution_count": 48,
   "id": "2e932591-84d7-427e-844f-d5b936339e6e",
   "metadata": {},
   "outputs": [
    {
     "data": {
      "text/plain": [
       "('SRR4431792_1_Light_Bulk',\n",
       " 'SSELTQDPAVSVALGQTVRITCQGDSLRNSYASGYQQKPGQAPVLVIYAKNLRPPGIPDRFSGSSSGNTASLTITGAQAEDEADYYCNSRDSTDNHQAVFGGGTKLTVL',\n",
       " 'SSELTQDPA-VSVALGQTVRITCQGDSLR------NSYASGYQQKPGQAPVLVIYAK-------NLRPPGIP-DRFSGSS--SGNTASLTITGAQAEDEADYYCNSRDST-------------DNHQAVFGGGTKLTVL',\n",
       " 'L',\n",
       " 'IGLV3')"
      ]
     },
     "execution_count": 48,
     "metadata": {},
     "output_type": "execute_result"
    }
   ],
   "source": [
    "new_l_list[0]"
   ]
  },
  {
   "cell_type": "code",
   "execution_count": null,
   "id": "b5341209-6c56-4d3e-8f3b-247021f36fdd",
   "metadata": {},
   "outputs": [],
   "source": []
  }
 ],
 "metadata": {
  "kernelspec": {
   "display_name": "Python 3 (ipykernel)",
   "language": "python",
   "name": "python3"
  },
  "language_info": {
   "codemirror_mode": {
    "name": "ipython",
    "version": 3
   },
   "file_extension": ".py",
   "mimetype": "text/x-python",
   "name": "python",
   "nbconvert_exporter": "python",
   "pygments_lexer": "ipython3",
   "version": "3.9.18"
  }
 },
 "nbformat": 4,
 "nbformat_minor": 5
}
